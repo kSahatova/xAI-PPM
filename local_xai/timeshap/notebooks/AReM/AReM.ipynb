{
 "cells": [
  {
   "cell_type": "markdown",
   "id": "582a4e34",
   "metadata": {},
   "source": [
    "<h1 style=\"color:#3da1da;font-size: 300%;\" id=\"timeshap tutorial\" align=\"center\"  >TimeSHAP Tutorial - Pytorch - AReM dataset</h1><p>&nbsp;\n",
    "\n",
    "<a id='top_cell'></a>\n",
    "\n",
    "## Table of contents\n",
    "1. [Data Processing](#1.-Data-Processing)\n",
    "  1. [Data Loading](#1.1-Data-Loading)\n",
    "  2. [Data Treatment](#1.2-Data-Treatment)\n",
    "2. [Model](#2.-Model)\n",
    "  1. [Model Definition](#2.1-Model-Definition)\n",
    "  2. [Model Training](#2.2-Model-Training)\n",
    "3. [TimeSHAP](#3.-TimeSHAP)\n",
    "  1. [Local Explanations](#3.1-Local-Explanations)\n",
    "  2. [Global Explanations](#3.2-Global-Explanations)\n",
    "  3. [Individual Plots](#3.3-Individual-Plots)\n",
    "    \n",
    "\n",
    "# TimeSHAP\n",
    "\n",
    "TimeSHAP is a model-agnostic, recurrent explainer that builds upon KernelSHAP and extends it to the sequential domain. \n",
    "\n",
    "TimeSHAP computes local event/timestamp- feature-, and cell-level attributions. \n",
    "    \n",
    "Aditionally TimeSHAP also computes global event- and feature-level explanations.\n",
    "    \n",
    "As sequences can be arbitrarily long, TimeSHAP also implements a pruning algorithm based on Shapley Values, \n",
    "that finds a subset of consecutive, recent events that contribute the most to the decision."
   ]
  },
  {
   "cell_type": "markdown",
   "id": "98a9cadd",
   "metadata": {},
   "source": [
    "---\n",
    "# 1. Data-Processing\n",
    "---"
   ]
  },
  {
   "cell_type": "code",
   "execution_count": 1,
   "id": "9e963ff1",
   "metadata": {},
   "outputs": [],
   "source": [
    "import pandas as pd\n",
    "import numpy as np\n",
    "\n",
    "np.random.seed(42)\n",
    "\n",
    "import warnings\n",
    "warnings.filterwarnings('ignore')"
   ]
  },
  {
   "cell_type": "code",
   "execution_count": 2,
   "id": "7dd4a8e3",
   "metadata": {},
   "outputs": [
    {
     "data": {
      "text/plain": [
       "'1.0.2'"
      ]
     },
     "execution_count": 2,
     "metadata": {},
     "output_type": "execute_result"
    }
   ],
   "source": [
    "from timeshap import __version__\n",
    "__version__"
   ]
  },
  {
   "cell_type": "code",
   "execution_count": 3,
   "id": "ca57e8fc",
   "metadata": {},
   "outputs": [
    {
     "data": {
      "text/html": [
       "<style>.container { width:100% !important; }</style>"
      ],
      "text/plain": [
       "<IPython.core.display.HTML object>"
      ]
     },
     "metadata": {},
     "output_type": "display_data"
    }
   ],
   "source": [
    "from IPython.core.display import display, HTML\n",
    "display(HTML(\"<style>.container { width:100% !important; }</style>\"))"
   ]
  },
  {
   "cell_type": "markdown",
   "id": "2aea2406",
   "metadata": {},
   "source": [
    "## 1.1 Data-Loading"
   ]
  },
  {
   "cell_type": "code",
   "execution_count": 4,
   "id": "cdff7185",
   "metadata": {},
   "outputs": [
    {
     "name": "stdout",
     "output_type": "stream",
     "text": [
      "sitting/dataset5.csv ------ (480, 7)\n",
      "sitting/dataset11.csv ------ (480, 7)\n",
      "sitting/dataset3.csv ------ (480, 7)\n",
      "sitting/dataset10.csv ------ (480, 7)\n",
      "sitting/dataset12.csv ------ (480, 7)\n",
      "sitting/dataset4.csv ------ (480, 7)\n",
      "sitting/dataset13.csv ------ (480, 7)\n",
      "sitting/dataset9.csv ------ (480, 7)\n",
      "sitting/dataset2.csv ------ (480, 7)\n",
      "sitting/dataset15.csv ------ (480, 7)\n",
      "sitting/dataset1.csv ------ (480, 7)\n",
      "sitting/dataset14.csv ------ (480, 7)\n",
      "sitting/dataset6.csv ------ (480, 7)\n",
      "sitting/dataset7.csv ------ (480, 7)\n",
      "standing/dataset5.csv ------ (480, 7)\n",
      "standing/dataset11.csv ------ (480, 7)\n",
      "standing/dataset3.csv ------ (480, 7)\n",
      "standing/dataset8.csv ------ (480, 7)\n",
      "standing/dataset10.csv ------ (480, 7)\n",
      "standing/dataset12.csv ------ (480, 7)\n",
      "standing/dataset4.csv ------ (480, 7)\n",
      "standing/dataset13.csv ------ (480, 7)\n",
      "standing/dataset9.csv ------ (480, 7)\n",
      "standing/dataset2.csv ------ (480, 7)\n",
      "standing/dataset15.csv ------ (480, 7)\n",
      "standing/dataset1.csv ------ (480, 7)\n",
      "standing/dataset14.csv ------ (480, 7)\n",
      "standing/dataset6.csv ------ (480, 7)\n",
      "standing/dataset7.csv ------ (480, 7)\n",
      "walking/dataset5.csv ------ (480, 7)\n",
      "walking/dataset11.csv ------ (480, 7)\n",
      "walking/dataset3.csv ------ (480, 7)\n",
      "walking/dataset8.csv ------ (480, 7)\n",
      "walking/dataset10.csv ------ (480, 7)\n",
      "walking/dataset12.csv ------ (480, 7)\n",
      "walking/dataset4.csv ------ (480, 7)\n",
      "walking/dataset13.csv ------ (480, 7)\n",
      "walking/dataset9.csv ------ (480, 7)\n",
      "walking/dataset2.csv ------ (480, 7)\n",
      "walking/dataset15.csv ------ (480, 7)\n",
      "walking/dataset1.csv ------ (480, 7)\n",
      "walking/dataset14.csv ------ (480, 7)\n",
      "walking/dataset6.csv ------ (480, 7)\n",
      "walking/dataset7.csv ------ (480, 7)\n",
      "cycling/dataset5.csv ------ (480, 7)\n",
      "cycling/dataset11.csv ------ (480, 7)\n",
      "cycling/dataset3.csv ------ (480, 7)\n",
      "cycling/dataset8.csv ------ (480, 7)\n",
      "cycling/dataset10.csv ------ (480, 7)\n",
      "cycling/dataset12.csv ------ (480, 7)\n",
      "cycling/dataset4.csv ------ (480, 7)\n",
      "cycling/dataset13.csv ------ (480, 7)\n",
      "cycling/dataset9.csv ------ (480, 7)\n",
      "cycling/dataset2.csv ------ (480, 7)\n",
      "cycling/dataset15.csv ------ (480, 7)\n",
      "cycling/dataset1.csv ------ (480, 7)\n",
      "cycling/dataset14.csv ------ (480, 7)\n",
      "cycling/dataset6.csv ------ (480, 7)\n",
      "cycling/dataset7.csv ------ (480, 7)\n",
      "lying/dataset5.csv ------ (480, 7)\n",
      "lying/dataset11.csv ------ (480, 7)\n",
      "lying/dataset3.csv ------ (480, 7)\n",
      "lying/dataset8.csv ------ (480, 7)\n",
      "lying/dataset10.csv ------ (480, 7)\n",
      "lying/dataset12.csv ------ (480, 7)\n",
      "lying/dataset4.csv ------ (480, 7)\n",
      "lying/dataset13.csv ------ (480, 7)\n",
      "lying/dataset9.csv ------ (480, 7)\n",
      "lying/dataset2.csv ------ (480, 7)\n",
      "lying/dataset15.csv ------ (480, 7)\n",
      "lying/dataset1.csv ------ (480, 7)\n",
      "lying/dataset14.csv ------ (480, 7)\n",
      "lying/dataset6.csv ------ (480, 7)\n",
      "lying/dataset7.csv ------ (480, 7)\n"
     ]
    }
   ],
   "source": [
    "import os\n",
    "import re\n",
    "\n",
    "data_directories = next(os.walk(\"./AReM\"))[1]\n",
    "\n",
    "all_csvs = []\n",
    "for folder in data_directories:\n",
    "    if folder in ['bending1', 'bending2']:\n",
    "        continue\n",
    "    folder_csvs = next(os.walk(f\"./AReM/{folder}\"))[2]\n",
    "    for data_csv in folder_csvs:\n",
    "        if data_csv == 'dataset8.csv' and folder == 'sitting':\n",
    "            # this dataset only has 479 instances\n",
    "            # it is possible to use it, but would require padding logic\n",
    "            continue\n",
    "        loaded_data = pd.read_csv(f\"./AReM/{folder}/{data_csv}\", skiprows=4)\n",
    "        print(f\"{folder}/{data_csv} ------ {loaded_data.shape}\")\n",
    "        \n",
    "        csv_id = re.findall(r'\\d+', data_csv)[0]\n",
    "        loaded_data['id'] = csv_id\n",
    "        loaded_data['all_id'] = f\"{folder}_{csv_id}\"\n",
    "        loaded_data['activity'] = folder\n",
    "        all_csvs.append(loaded_data)\n",
    "\n",
    "all_data = pd.concat(all_csvs)\n",
    "raw_model_features = ['avg_rss12', 'var_rss12', 'avg_rss13', 'var_rss13', 'avg_rss23', 'var_rss23']\n",
    "all_data.columns = ['timestamp', 'avg_rss12', 'var_rss12', 'avg_rss13', 'var_rss13', 'avg_rss23', 'var_rss23', 'id', 'all_id', 'activity']"
   ]
  },
  {
   "cell_type": "markdown",
   "id": "6d7ca22d",
   "metadata": {},
   "source": [
    "## 1.2 Data Treatment"
   ]
  },
  {
   "cell_type": "markdown",
   "id": "1c801cff",
   "metadata": {},
   "source": [
    "### Separate in train and test"
   ]
  },
  {
   "cell_type": "code",
   "execution_count": 5,
   "id": "d627aeda",
   "metadata": {},
   "outputs": [],
   "source": [
    "# choose ids to use for test\n",
    "ids_for_test = np.random.choice(all_data['id'].unique(), size=4, replace=False)\n",
    "\n",
    "d_train =  all_data[~all_data['id'].isin(ids_for_test)]\n",
    "d_test = all_data[all_data['id'].isin(ids_for_test)]"
   ]
  },
  {
   "cell_type": "markdown",
   "id": "b9e08290",
   "metadata": {},
   "source": [
    "###  Normalize Features"
   ]
  },
  {
   "cell_type": "code",
   "execution_count": 6,
   "id": "f1cba387",
   "metadata": {},
   "outputs": [],
   "source": [
    "class NumericalNormalizer:\n",
    "    def __init__(self, fields: list):\n",
    "        self.metrics = {}\n",
    "        self.fields = fields\n",
    "\n",
    "    def fit(self, df: pd.DataFrame ) -> list:\n",
    "        means = df[self.fields].mean()\n",
    "        std = df[self.fields].std()\n",
    "        for field in self.fields:\n",
    "            field_mean = means[field]\n",
    "            field_stddev = std[field]\n",
    "            self.metrics[field] = {'mean': field_mean, 'std': field_stddev}\n",
    "\n",
    "    def transform(self, df: pd.DataFrame) -> pd.DataFrame:\n",
    "        # Transform to zero-mean and unit variance.\n",
    "        for field in self.fields:\n",
    "            f_mean = self.metrics[field]['mean']\n",
    "            f_stddev = self.metrics[field]['std']\n",
    "            # OUTLIER CLIPPING to [avg-3*std, avg+3*avg]\n",
    "            df[field] = df[field].apply(lambda x: f_mean - 3 * f_stddev if x < f_mean - 3 * f_stddev else x)\n",
    "            df[field] = df[field].apply(lambda x: f_mean + 3 * f_stddev if x > f_mean + 3 * f_stddev else x)\n",
    "            if f_stddev > 1e-5:\n",
    "                df[f'p_{field}_normalized'] = df[field].apply(lambda x: ((x - f_mean)/f_stddev))\n",
    "            else:\n",
    "                df[f'p_{field}_normalized'] = df[field].apply(lambda x: x * 0)\n",
    "        return df"
   ]
  },
  {
   "cell_type": "code",
   "execution_count": 7,
   "id": "35cf4835",
   "metadata": {},
   "outputs": [],
   "source": [
    "#all features are numerical\n",
    "normalizor = NumericalNormalizer(raw_model_features)\n",
    "normalizor.fit(d_train)\n",
    "d_train_normalized = normalizor.transform(d_train)\n",
    "d_test_normalized = normalizor.transform(d_test)"
   ]
  },
  {
   "cell_type": "markdown",
   "id": "e17805d8",
   "metadata": {},
   "source": [
    "### Features"
   ]
  },
  {
   "cell_type": "code",
   "execution_count": 8,
   "id": "2b7b9cb5",
   "metadata": {},
   "outputs": [],
   "source": [
    "model_features = [f\"p_{x}_normalized\" for x in raw_model_features]\n",
    "time_feat = 'timestamp'\n",
    "label_feat = 'activity'\n",
    "sequence_id_feat = 'all_id'\n",
    "\n",
    "plot_feats = {\n",
    "    'p_avg_rss12_normalized': \"Mean Chest <-> Right Ankle\",\n",
    "    'p_var_rss12_normalized': \"STD Chest <-> Right Ankle\",\n",
    "    'p_avg_rss13_normalized': \"Mean Chest <-> Left Ankle\",\n",
    "    'p_var_rss13_normalized': \"STD Chest <-> Left Ankle\",\n",
    "    'p_avg_rss23_normalized': \"Mean Right Ankle <-> Left Ankle\",\n",
    "    'p_var_rss23_normalized': \"STD Right Ankle <-> Left Ankle\",\n",
    "}"
   ]
  },
  {
   "cell_type": "markdown",
   "id": "992d6c20",
   "metadata": {},
   "source": [
    "### Transform the dataset from multi-label to binary classification"
   ]
  },
  {
   "cell_type": "code",
   "execution_count": 9,
   "id": "005ef0cb",
   "metadata": {},
   "outputs": [],
   "source": [
    "# possible activities ['cycling', 'lying', 'sitting', 'standing', 'walking']\n",
    "#Select the activity to predict\n",
    "chosen_activity = 'cycling'\n",
    "\n",
    "d_train_normalized['label'] = d_train_normalized['activity'].apply(lambda x: int(x == chosen_activity))\n",
    "d_test_normalized['label'] = d_test_normalized['activity'].apply(lambda x: int(x == chosen_activity))"
   ]
  },
  {
   "cell_type": "markdown",
   "id": "ab91386d",
   "metadata": {},
   "source": [
    "This example notebook requires PyTorch!\n",
    "\n",
    "Install it if you haven't already:\n",
    "```\n",
    "!pip install torch\n",
    "```"
   ]
  },
  {
   "cell_type": "code",
   "execution_count": 10,
   "id": "3dbe7176",
   "metadata": {},
   "outputs": [],
   "source": [
    "import torch\n",
    "\n",
    "def df_to_Tensor(df, model_feats, label_feat, group_by_feat, timestamp_Feat):\n",
    "    sequence_length = len(df[timestamp_Feat].unique())\n",
    "    \n",
    "    data_tensor = np.zeros((len(df[group_by_feat].unique()), sequence_length, len(model_feats)))\n",
    "    labels_tensor = np.zeros((len(df[group_by_feat].unique()), 1))\n",
    "    \n",
    "    for i, name in enumerate(df[group_by_feat].unique()):\n",
    "        name_data = df[df[group_by_feat] == name]\n",
    "        sorted_data = name_data.sort_values(timestamp_Feat)\n",
    "        \n",
    "        data_x = sorted_data[model_feats].values\n",
    "        labels = sorted_data[label_feat].values\n",
    "        assert labels.sum() == 0 or labels.sum() == len(labels)\n",
    "        data_tensor[i, :, :] = data_x\n",
    "        labels_tensor[i, :] = labels[0]\n",
    "    data_tensor = torch.from_numpy(data_tensor).type(torch.FloatTensor)\n",
    "    labels_tensor = torch.from_numpy(labels_tensor).type(torch.FloatTensor)\n",
    "    \n",
    "    return data_tensor, labels_tensor"
   ]
  },
  {
   "cell_type": "code",
   "execution_count": 11,
   "id": "cd2da61a",
   "metadata": {},
   "outputs": [],
   "source": [
    "train_data, train_labels = df_to_Tensor(d_train_normalized, model_features, 'label', sequence_id_feat, time_feat)\n",
    "\n",
    "test_data, test_labels = df_to_Tensor(d_test_normalized, model_features, 'label', sequence_id_feat, time_feat)"
   ]
  },
  {
   "cell_type": "markdown",
   "id": "378d4aeb",
   "metadata": {},
   "source": [
    "___\n",
    "# 2. Model\n"
   ]
  },
  {
   "cell_type": "markdown",
   "id": "d2c39214",
   "metadata": {},
   "source": [
    "## 2.1 Model Definition"
   ]
  },
  {
   "cell_type": "code",
   "execution_count": 12,
   "id": "6b197afe",
   "metadata": {},
   "outputs": [],
   "source": [
    "import torch.nn as nn\n",
    "\n",
    "class ExplainedRNN(nn.Module):\n",
    "    def __init__(self,\n",
    "                 input_size: int,\n",
    "                 cfg: dict,\n",
    "                 ):\n",
    "        super(ExplainedRNN, self).__init__()\n",
    "        self.hidden_dim = cfg.get('hidden_dim', 32)\n",
    "        torch.manual_seed(cfg.get('random_seed', 42))\n",
    "\n",
    "        self.recurrent_block = nn.GRU(\n",
    "            input_size=input_size,\n",
    "            hidden_size=self.hidden_dim,\n",
    "            batch_first=True,\n",
    "            num_layers=2,\n",
    "            )\n",
    "        \n",
    "        self.classifier_block = nn.Linear(self.hidden_dim, 1)\n",
    "        self.output_activation_func = nn.Sigmoid()\n",
    "\n",
    "    def forward(self,\n",
    "                x: torch.Tensor,\n",
    "                hidden_states: tuple = None,\n",
    "                ):\n",
    "\n",
    "        if hidden_states is None:\n",
    "            output, hidden = self.recurrent_block(x)\n",
    "        else:\n",
    "            output, hidden = self.recurrent_block(x, hidden_states)\n",
    "\n",
    "        # -1 on hidden, to select the last layer of the stacked gru\n",
    "        assert torch.equal(output[:,-1,:], hidden[-1, :, :])\n",
    "        \n",
    "        y = self.classifier_block(hidden[-1, :, :])\n",
    "        y = self.output_activation_func(y)\n",
    "        return y, hidden"
   ]
  },
  {
   "cell_type": "code",
   "execution_count": 13,
   "id": "5fa5b613",
   "metadata": {},
   "outputs": [],
   "source": [
    "import torch.optim as optim\n",
    "\n",
    "model = ExplainedRNN(len(model_features), {})\n",
    "loss_function = nn.BCELoss()\n",
    "optimizer = optim.Adam(model.parameters(), lr=0.01)\n",
    "\n",
    "learning_rate = 0.005\n",
    "EPOCHS = 8"
   ]
  },
  {
   "cell_type": "markdown",
   "id": "eed69fa6",
   "metadata": {},
   "source": [
    "## 2.2 Model Training"
   ]
  },
  {
   "cell_type": "code",
   "execution_count": 14,
   "id": "58f0a923",
   "metadata": {},
   "outputs": [
    {
     "name": "stderr",
     "output_type": "stream",
     "text": [
      " 12%|█▎        | 1/8 [00:02<00:15,  2.23s/it]"
     ]
    },
    {
     "name": "stdout",
     "output_type": "stream",
     "text": [
      "Train loss: 0.6997937560081482 --- Test loss 0.5927574634552002 \n"
     ]
    },
    {
     "name": "stderr",
     "output_type": "stream",
     "text": [
      "\r",
      " 25%|██▌       | 2/8 [00:04<00:12,  2.01s/it]"
     ]
    },
    {
     "name": "stdout",
     "output_type": "stream",
     "text": [
      "Train loss: 0.5918577313423157 --- Test loss 0.4946227967739105 \n"
     ]
    },
    {
     "name": "stderr",
     "output_type": "stream",
     "text": [
      "\r",
      " 38%|███▊      | 3/8 [00:05<00:08,  1.72s/it]"
     ]
    },
    {
     "name": "stdout",
     "output_type": "stream",
     "text": [
      "Train loss: 0.49630260467529297 --- Test loss 0.40795645117759705 \n"
     ]
    },
    {
     "name": "stderr",
     "output_type": "stream",
     "text": [
      "\r",
      " 50%|█████     | 4/8 [00:07<00:06,  1.69s/it]"
     ]
    },
    {
     "name": "stdout",
     "output_type": "stream",
     "text": [
      "Train loss: 0.4160643219947815 --- Test loss 0.343948632478714 \n"
     ]
    },
    {
     "name": "stderr",
     "output_type": "stream",
     "text": [
      "\r",
      " 62%|██████▎   | 5/8 [00:10<00:06,  2.16s/it]"
     ]
    },
    {
     "name": "stdout",
     "output_type": "stream",
     "text": [
      "Train loss: 0.3660268187522888 --- Test loss 0.2917708158493042 \n"
     ]
    },
    {
     "name": "stderr",
     "output_type": "stream",
     "text": [
      "\r",
      " 75%|███████▌  | 6/8 [00:12<00:04,  2.37s/it]"
     ]
    },
    {
     "name": "stdout",
     "output_type": "stream",
     "text": [
      "Train loss: 0.334475576877594 --- Test loss 0.2376544028520584 \n"
     ]
    },
    {
     "name": "stderr",
     "output_type": "stream",
     "text": [
      "\r",
      " 88%|████████▊ | 7/8 [00:16<00:02,  2.69s/it]"
     ]
    },
    {
     "name": "stdout",
     "output_type": "stream",
     "text": [
      "Train loss: 0.29900506138801575 --- Test loss 0.1931639164686203 \n"
     ]
    },
    {
     "name": "stderr",
     "output_type": "stream",
     "text": [
      "100%|██████████| 8/8 [00:19<00:00,  2.43s/it]"
     ]
    },
    {
     "name": "stdout",
     "output_type": "stream",
     "text": [
      "Train loss: 0.25920480489730835 --- Test loss 0.17529389262199402 \n"
     ]
    },
    {
     "name": "stderr",
     "output_type": "stream",
     "text": [
      "\n"
     ]
    }
   ],
   "source": [
    "import tqdm\n",
    "import copy\n",
    "for epoch in tqdm.trange(EPOCHS):\n",
    "    train_data_local = copy.deepcopy(train_data)\n",
    "    train_labels_local = copy.deepcopy(train_labels)\n",
    "    \n",
    "    y_pred, hidden_states = model(train_data_local)\n",
    "    train_loss = loss_function(y_pred, train_labels_local)\n",
    "\n",
    "    optimizer.zero_grad()\n",
    "    train_loss.backward()\n",
    "    optimizer.step()\n",
    "    with torch.no_grad():\n",
    "        test_data_local = copy.deepcopy(test_data)\n",
    "        test_labels_local = copy.deepcopy(test_labels)\n",
    "        test_preds, _ = model(test_data_local)\n",
    "        test_loss = loss_function(test_preds, test_labels_local)\n",
    "        print(f\"Train loss: {train_loss.item()} --- Test loss {test_loss.item()} \")\n"
   ]
  },
  {
   "cell_type": "markdown",
   "id": "7c0f525d",
   "metadata": {},
   "source": [
    "---\n",
    "# 3. TimeSHAP\n",
    "---"
   ]
  },
  {
   "cell_type": "code",
   "execution_count": 15,
   "id": "4c04324d",
   "metadata": {},
   "outputs": [],
   "source": [
    "import timeshap"
   ]
  },
  {
   "cell_type": "markdown",
   "id": "4111034f",
   "metadata": {},
   "source": [
    "### Model entry point"
   ]
  },
  {
   "cell_type": "code",
   "execution_count": 16,
   "id": "396cb0ac",
   "metadata": {},
   "outputs": [],
   "source": [
    "from timeshap.wrappers import TorchModelWrapper\n",
    "model_wrapped = TorchModelWrapper(model)\n",
    "f_hs = lambda x, y=None: model_wrapped.predict_last_hs(x, y)"
   ]
  },
  {
   "cell_type": "markdown",
   "id": "a66a417b",
   "metadata": {},
   "source": [
    "### Baseline event"
   ]
  },
  {
   "cell_type": "code",
   "execution_count": 17,
   "id": "d8d7584d",
   "metadata": {},
   "outputs": [],
   "source": [
    "from timeshap.utils import calc_avg_event\n",
    "average_event = calc_avg_event(d_train_normalized, numerical_feats=model_features, categorical_feats=[])"
   ]
  },
  {
   "cell_type": "code",
   "execution_count": 18,
   "id": "c49c04f5",
   "metadata": {},
   "outputs": [
    {
     "data": {
      "text/html": [
       "<div>\n",
       "<style scoped>\n",
       "    .dataframe tbody tr th:only-of-type {\n",
       "        vertical-align: middle;\n",
       "    }\n",
       "\n",
       "    .dataframe tbody tr th {\n",
       "        vertical-align: top;\n",
       "    }\n",
       "\n",
       "    .dataframe thead th {\n",
       "        text-align: right;\n",
       "    }\n",
       "</style>\n",
       "<table border=\"1\" class=\"dataframe\">\n",
       "  <thead>\n",
       "    <tr style=\"text-align: right;\">\n",
       "      <th></th>\n",
       "      <th>p_avg_rss12_normalized</th>\n",
       "      <th>p_var_rss12_normalized</th>\n",
       "      <th>p_avg_rss13_normalized</th>\n",
       "      <th>p_var_rss13_normalized</th>\n",
       "      <th>p_avg_rss23_normalized</th>\n",
       "      <th>p_var_rss23_normalized</th>\n",
       "    </tr>\n",
       "  </thead>\n",
       "  <tbody>\n",
       "    <tr>\n",
       "      <th>0</th>\n",
       "      <td>0.095791</td>\n",
       "      <td>-0.531224</td>\n",
       "      <td>0.178574</td>\n",
       "      <td>-0.416398</td>\n",
       "      <td>0.129324</td>\n",
       "      <td>-0.392722</td>\n",
       "    </tr>\n",
       "  </tbody>\n",
       "</table>\n",
       "</div>"
      ],
      "text/plain": [
       "   p_avg_rss12_normalized  p_var_rss12_normalized  p_avg_rss13_normalized  \\\n",
       "0                0.095791               -0.531224                0.178574   \n",
       "\n",
       "   p_var_rss13_normalized  p_avg_rss23_normalized  p_var_rss23_normalized  \n",
       "0               -0.416398                0.129324               -0.392722  "
      ]
     },
     "execution_count": 18,
     "metadata": {},
     "output_type": "execute_result"
    }
   ],
   "source": [
    "average_event"
   ]
  },
  {
   "cell_type": "markdown",
   "id": "af25703f",
   "metadata": {},
   "source": [
    "### Baseline Sequence"
   ]
  },
  {
   "cell_type": "code",
   "execution_count": 19,
   "id": "c6564d4b",
   "metadata": {},
   "outputs": [],
   "source": [
    "from timeshap.utils import calc_avg_sequence\n",
    "average_sequence = calc_avg_sequence(d_train_normalized, numerical_feats=model_features, categorical_feats=[],model_features=model_features, entity_col=sequence_id_feat)"
   ]
  },
  {
   "cell_type": "code",
   "execution_count": 20,
   "id": "47fb34a6",
   "metadata": {},
   "outputs": [
    {
     "data": {
      "text/plain": [
       "array([[0.0000e+00, 4.0875e+01, 5.0000e-01, 1.4625e+01, 1.0500e+00,\n",
       "        1.5250e+01],\n",
       "       [2.5000e+02, 4.0585e+01, 6.0500e-01, 1.4875e+01, 7.9000e-01,\n",
       "        1.4875e+01],\n",
       "       [5.0000e+02, 3.9835e+01, 7.5500e-01, 1.4125e+01, 8.7000e-01,\n",
       "        1.7000e+01],\n",
       "       ...,\n",
       "       [1.1925e+05, 3.9625e+01, 6.6000e-01, 1.4400e+01, 9.7000e-01,\n",
       "        1.4165e+01],\n",
       "       [1.1950e+05, 3.9500e+01, 5.0000e-01, 1.2710e+01, 1.2050e+00,\n",
       "        1.5000e+01],\n",
       "       [1.1975e+05, 3.9625e+01, 6.6000e-01, 1.4000e+01, 1.0150e+00,\n",
       "        1.4750e+01]])"
      ]
     },
     "execution_count": 20,
     "metadata": {},
     "output_type": "execute_result"
    }
   ],
   "source": [
    "average_sequence"
   ]
  },
  {
   "cell_type": "markdown",
   "id": "2b707fa7",
   "metadata": {},
   "source": [
    "### Average score over baseline"
   ]
  },
  {
   "cell_type": "code",
   "execution_count": 21,
   "id": "b254545e",
   "metadata": {
    "scrolled": false
   },
   "outputs": [],
   "source": [
    "from timeshap.utils import get_avg_score_with_avg_event\n",
    "avg_score_over_len = get_avg_score_with_avg_event(f_hs, average_event, top=480)"
   ]
  },
  {
   "cell_type": "markdown",
   "id": "a8ff8a66",
   "metadata": {},
   "source": [
    "## 3.1 Local Explanations"
   ]
  },
  {
   "cell_type": "markdown",
   "id": "fec8dc01",
   "metadata": {},
   "source": [
    "### Select sequences to explain"
   ]
  },
  {
   "cell_type": "code",
   "execution_count": 22,
   "id": "d74d18d4",
   "metadata": {},
   "outputs": [],
   "source": [
    "positive_sequence_id = f\"cycling_{np.random.choice(ids_for_test)}\"\n",
    "pos_x_pd = d_test_normalized[d_test_normalized['all_id'] == positive_sequence_id]\n",
    "\n",
    "# select model features only\n",
    "pos_x_data = pos_x_pd[model_features]\n",
    "# convert the instance to numpy so TimeSHAP receives it\n",
    "pos_x_data = np.expand_dims(pos_x_data.to_numpy().copy(), axis=0)"
   ]
  },
  {
   "cell_type": "markdown",
   "id": "f7c55172",
   "metadata": {},
   "source": [
    "### Local Report on positive instance"
   ]
  },
  {
   "cell_type": "code",
   "execution_count": 23,
   "id": "b906bdf0",
   "metadata": {
    "scrolled": false
   },
   "outputs": [
    {
     "name": "stdout",
     "output_type": "stream",
     "text": [
      "Assuming all features are model features\n"
     ]
    },
    {
     "data": {
      "text/html": [
       "\n",
       "<div id=\"altair-viz-1cb9875a34b74e9d975a9231fe2b6083\"></div>\n",
       "<script type=\"text/javascript\">\n",
       "  (function(spec, embedOpt){\n",
       "    let outputDiv = document.currentScript.previousElementSibling;\n",
       "    if (outputDiv.id !== \"altair-viz-1cb9875a34b74e9d975a9231fe2b6083\") {\n",
       "      outputDiv = document.getElementById(\"altair-viz-1cb9875a34b74e9d975a9231fe2b6083\");\n",
       "    }\n",
       "    const paths = {\n",
       "      \"vega\": \"https://cdn.jsdelivr.net/npm//vega@5?noext\",\n",
       "      \"vega-lib\": \"https://cdn.jsdelivr.net/npm//vega-lib?noext\",\n",
       "      \"vega-lite\": \"https://cdn.jsdelivr.net/npm//vega-lite@4.8.1?noext\",\n",
       "      \"vega-embed\": \"https://cdn.jsdelivr.net/npm//vega-embed@6?noext\",\n",
       "    };\n",
       "\n",
       "    function loadScript(lib) {\n",
       "      return new Promise(function(resolve, reject) {\n",
       "        var s = document.createElement('script');\n",
       "        s.src = paths[lib];\n",
       "        s.async = true;\n",
       "        s.onload = () => resolve(paths[lib]);\n",
       "        s.onerror = () => reject(`Error loading script: ${paths[lib]}`);\n",
       "        document.getElementsByTagName(\"head\")[0].appendChild(s);\n",
       "      });\n",
       "    }\n",
       "\n",
       "    function showError(err) {\n",
       "      outputDiv.innerHTML = `<div class=\"error\" style=\"color:red;\">${err}</div>`;\n",
       "      throw err;\n",
       "    }\n",
       "\n",
       "    function displayChart(vegaEmbed) {\n",
       "      vegaEmbed(outputDiv, spec, embedOpt)\n",
       "        .catch(err => showError(`Javascript Error: ${err.message}<br>This usually means there's a typo in your chart specification. See the javascript console for the full traceback.`));\n",
       "    }\n",
       "\n",
       "    if(typeof define === \"function\" && define.amd) {\n",
       "      requirejs.config({paths});\n",
       "      require([\"vega-embed\"], displayChart, err => showError(`Error loading script: ${err.message}`));\n",
       "    } else if (typeof vegaEmbed === \"function\") {\n",
       "      displayChart(vegaEmbed);\n",
       "    } else {\n",
       "      loadScript(\"vega\")\n",
       "        .then(() => loadScript(\"vega-lite\"))\n",
       "        .then(() => loadScript(\"vega-embed\"))\n",
       "        .catch(showError)\n",
       "        .then(() => displayChart(vegaEmbed));\n",
       "    }\n",
       "  })({\"config\": {\"axis\": {\"domain\": true, \"domainColor\": \"#666F89\", \"grid\": false, \"gridCap\": \"round\", \"gridColor\": \"#B3B7C4\", \"gridDash\": [2, 4], \"gridWidth\": 0.5, \"labelColor\": \"#666F89\", \"labelFont\": \"Roboto, Arial, sans-serif\", \"labelPadding\": 2, \"tickColor\": \"#666F89\", \"tickOpacity\": 0.5, \"tickSize\": 4, \"titleColor\": \"#19274E\", \"titleFont\": \"Roboto, Arial, sans-serif\", \"titleFontSize\": 12}, \"axisBand\": {\"domain\": true, \"labelPadding\": 4, \"ticks\": false}, \"axisY\": {\"domain\": false, \"titleAlign\": \"left\", \"titleAngle\": 0, \"titleX\": -20, \"titleY\": -10}, \"legend\": {\"labelColor\": \"#666F89\", \"labelFont\": \"Roboto, Arial, sans-serif\", \"labelFontSize\": 12, \"symbolSize\": 40, \"titleColor\": \"#19274E\", \"titleFont\": \"Roboto, Arial, sans-serif\", \"titleFontSize\": 12, \"titlePadding\": 4}, \"arc\": {\"stroke\": \"#FFFFFF\", \"strokeWidth\": 1}, \"bar\": {\"fill\": \"#2770EB\", \"stroke\": null}, \"line\": {\"stroke\": \"#2770EB\", \"strokeWidth\": 2}, \"path\": {\"stroke\": \"#2770EB\", \"strokeWidth\": 0.5}, \"point\": {\"fill\": \"#2770EB\", \"shape\": \"circle\", \"filled\": true}, \"rect\": {\"fill\": \"#2770EB\"}, \"rule\": {\"stroke\": \"#666F89\"}, \"shape\": {\"stroke\": \"#2770EB\"}, \"text\": {\"color\": \"#19274E\", \"font\": \"Roboto, Arial, sans-serif\", \"fontSize\": 12}, \"range\": {\"category\": [\"#2770EB\", \"#77B98A\", \"#DA5252\", \"#FFC400\", \"#A87AEA\", \"#00A39E\", \"#19274E\"], \"diverging\": [\"#006360\", \"#2BB3AE\", \"#96D9D7\", \"#FFFFFF\", \"#EDAAAA\", \"#DA5252\", \"#811D1D\"], \"heatmap\": [\"#18448F\", \"#1B4EA5\", \"#2770EB\", \"#4C88EE\", \"#82ACF3\", \"#A6C4F7\", \"#E9F1FD\"], \"ramp\": [\"#18448F\", \"#1B4EA5\", \"#2770EB\", \"#4C88EE\", \"#82ACF3\", \"#A6C4F7\", \"#E9F1FD\"]}, \"background\": \"#FFFFFF\", \"group\": {\"fill\": \"#FFFFFF\"}, \"header\": {\"labelColor\": \"#19274E\", \"labelFont\": \"Roboto, Arial, sans-serif\", \"labelFontSize\": 12, \"titleColor\": \"#19274E\", \"titleFont\": \"Roboto, Arial, sans-serif\", \"titleFontSize\": 16}, \"title\": {\"anchor\": \"start\", \"color\": \"#19274E\", \"font\": \"Roboto, Arial, sans-serif\", \"fontSize\": 20, \"fontWeight\": \"bold\", \"offset\": 20, \"subtitleColor\": \"#19274E\", \"subtitleFontSize\": 16}, \"view\": {\"continuousHeight\": 300, \"continuousWidth\": 400, \"stroke\": \"transparent\"}}, \"hconcat\": [{\"layer\": [{\"mark\": {\"type\": \"area\", \"opacity\": 0.5}, \"encoding\": {\"color\": {\"type\": \"nominal\", \"field\": \"Coalition\", \"legend\": {\"fillColor\": \"white\", \"labelFontSize\": 14, \"labelLimit\": 0, \"orient\": \"top-left\", \"symbolSize\": 50, \"symbolStrokeWidth\": 0, \"title\": null}, \"scale\": {\"domain\": [\"Sum of contribution of events \\u2264 t\"], \"range\": [\"#618FE0\"]}}, \"x\": {\"type\": \"quantitative\", \"axis\": {\"labelFontSize\": 15, \"title\": \"t (event index)\", \"titleFontSize\": 15}, \"field\": \"t (event index)\"}, \"y\": {\"type\": \"quantitative\", \"axis\": {\"grid\": true, \"labelFontSize\": 15, \"titleFontSize\": 15, \"titleX\": -28}, \"field\": \"Shapley Value\", \"scale\": {\"domain\": [-0.05, 1]}}}}, {\"mark\": \"line\", \"encoding\": {\"color\": {\"type\": \"nominal\", \"field\": \"Coalition\", \"legend\": {\"fillColor\": \"white\", \"labelFontSize\": 14, \"labelLimit\": 0, \"orient\": \"top-left\", \"symbolSize\": 50, \"symbolStrokeWidth\": 0, \"title\": null}, \"scale\": {\"domain\": [\"Sum of contribution of events \\u2264 t\"], \"range\": [\"#618FE0\"]}}, \"x\": {\"type\": \"quantitative\", \"axis\": {\"labelFontSize\": 15, \"title\": \"t (event index)\", \"titleFontSize\": 15}, \"field\": \"t (event index)\"}, \"y\": {\"type\": \"quantitative\", \"axis\": {\"grid\": true, \"labelFontSize\": 15, \"titleFontSize\": 15, \"titleX\": -28}, \"field\": \"Shapley Value\", \"scale\": {\"domain\": [-0.05, 1]}}}}, {\"data\": {\"name\": \"data-e4f3cc544e6eb6f30b6d8b725eecc2f0\"}, \"mark\": {\"type\": \"rule\", \"color\": \"#E17560\"}, \"encoding\": {\"x\": {\"type\": \"quantitative\", \"field\": \"x\"}}}, {\"data\": {\"name\": \"data-0321a3891ffd7c195d8bf51451f0967c\"}, \"mark\": {\"type\": \"text\", \"angle\": 270, \"color\": \"#E17560\", \"fontSize\": 15, \"fontWeight\": \"bold\", \"text\": \"Pruning\"}, \"encoding\": {\"x\": {\"type\": \"quantitative\", \"field\": \"x\"}}}], \"data\": {\"name\": \"data-f6d0617344d11d5d6eb381e8151136c9\"}, \"height\": 225, \"width\": 350}, {\"layer\": [{\"mark\": \"rect\", \"encoding\": {\"color\": {\"type\": \"quantitative\", \"field\": \"rounded\", \"legend\": {\"gradientLength\": 225, \"gradientThickness\": 10, \"labelFontSize\": 15, \"orient\": \"right\"}, \"scale\": {\"domain\": [-0.5, 0.5], \"range\": [\"#5f8fd6\", \"#99c3fb\", \"#f5f5f5\", \"#ffaa92\", \"#d16f5b\"]}, \"title\": null}, \"x\": {\"type\": \"ordinal\", \"axis\": {\"title\": \"Shapley Value\", \"titleFontSize\": 15}, \"field\": \"column\"}, \"y\": {\"type\": \"ordinal\", \"axis\": {\"domain\": false, \"labelFontSize\": 15, \"title\": \"Event\", \"titleFontSize\": 15, \"titleX\": -49}, \"field\": \"Feature\", \"sort\": [\"Event -1\", \"Event -2\", \"Event -3\", \"Event -4\", \"Event -5\", \"Event -6\", \"Event -7\", \"Event -8\", \"Event -9\", \"Event -10\", \"Event -11\", \"Event -12\", \"Event -13\", \"Event -14\", \"Event -15\", \"Event -16\", \"Pruned Events\"]}}}, {\"mark\": {\"type\": \"text\", \"align\": \"right\", \"baseline\": \"middle\", \"color\": \"#798184\", \"dx\": 18, \"fontSize\": 15}, \"encoding\": {\"text\": {\"type\": \"nominal\", \"field\": \"rounded_str\"}, \"x\": {\"type\": \"ordinal\", \"axis\": {\"domain\": false, \"labels\": false, \"title\": \"Shapley Value\", \"titleX\": 43}, \"field\": \"column\"}, \"y\": {\"type\": \"ordinal\", \"axis\": {\"domain\": false, \"labelFontSize\": 15, \"title\": \"Event\", \"titleFontSize\": 15, \"titleX\": -49}, \"field\": \"Feature\", \"sort\": [\"Event -1\", \"Event -2\", \"Event -3\", \"Event -4\", \"Event -5\", \"Event -6\", \"Event -7\", \"Event -8\", \"Event -9\", \"Event -10\", \"Event -11\", \"Event -12\", \"Event -13\", \"Event -14\", \"Event -15\", \"Event -16\", \"Pruned Events\"]}}}], \"data\": {\"name\": \"data-fbbde1a586a62b9be734062e55cfe71f\"}, \"height\": 225, \"width\": 60}, {\"layer\": [{\"data\": {\"name\": \"data-b09dfe608dcd4be0669b980e33f5012b\"}, \"mark\": {\"type\": \"bar\", \"size\": 15, \"thickness\": 1}, \"encoding\": {\"x\": {\"type\": \"quantitative\", \"axis\": {\"grid\": true, \"labelFontSize\": 15, \"title\": \"Shapley Value\", \"titleFontSize\": 15}, \"field\": \"Shapley Value\", \"scale\": {\"domain\": [-0.1, 0.4]}}, \"y\": {\"type\": \"nominal\", \"axis\": {\"labelFontSize\": 15, \"title\": \"Feature\", \"titleFontSize\": 15, \"titleX\": -61}, \"field\": \"Feature\", \"sort\": {\"field\": \"sort_col\", \"order\": \"descending\"}}}}, {\"data\": {\"name\": \"data-9c00aa9dc2b1c1a0b4bf9b34ead12925\"}, \"mark\": {\"type\": \"rule\", \"color\": \"#798184\"}, \"encoding\": {\"x\": {\"type\": \"quantitative\", \"field\": \"x\"}}}], \"height\": 225, \"width\": 190}, {\"hconcat\": [{\"layer\": [{\"mark\": \"rect\", \"encoding\": {\"color\": {\"type\": \"quantitative\", \"field\": \"rounded\", \"legend\": null, \"scale\": {\"domain\": [-0.5, 0.5], \"range\": [\"#5f8fd6\", \"#99c3fb\", \"#f5f5f5\", \"#ffaa92\", \"#d16f5b\"]}, \"title\": null}, \"x\": {\"type\": \"nominal\", \"axis\": {\"titleFontSize\": 15}, \"field\": \"Event\"}, \"y\": {\"type\": \"nominal\", \"axis\": {\"domain\": false, \"labels\": false, \"title\": null}, \"field\": \"Feature\"}}}, {\"mark\": {\"type\": \"text\", \"align\": \"right\", \"baseline\": \"middle\", \"color\": \"#798184\", \"dx\": 18, \"fontSize\": 15}, \"encoding\": {\"text\": {\"type\": \"nominal\", \"field\": \"rounded_str\"}, \"x\": {\"type\": \"nominal\", \"axis\": {\"domain\": false, \"labelAngle\": 0, \"labelFontSize\": 15, \"labelOffset\": 24, \"labelPadding\": 30, \"orient\": \"top\", \"title\": null}, \"field\": \"Event\"}, \"y\": {\"type\": \"nominal\", \"axis\": {\"domain\": false, \"labels\": false, \"title\": null}, \"field\": \"Feature\"}}}], \"data\": {\"name\": \"data-fa96a73c3e2b0ce7bf3c3899c2fbaa9d\"}, \"height\": 225, \"width\": 66.66666666666667}, {\"layer\": [{\"mark\": \"rect\", \"encoding\": {\"color\": {\"type\": \"quantitative\", \"field\": \"rounded\", \"legend\": {\"gradientLength\": 225, \"gradientThickness\": 10, \"labelFontSize\": 15, \"orient\": \"right\"}, \"scale\": {\"domain\": [-0.5, 0.5], \"range\": [\"#5f8fd6\", \"#99c3fb\", \"#f5f5f5\", \"#ffaa92\", \"#d16f5b\"]}, \"title\": null}, \"x\": {\"type\": \"nominal\", \"axis\": {\"titleFontSize\": 15}, \"field\": \"Event\", \"sort\": [\"Event -3\", \"Event -2\"]}, \"y\": {\"type\": \"nominal\", \"axis\": {\"domain\": false, \"labelFontSize\": 15, \"title\": null}, \"field\": \"Feature\", \"sort\": [\"Mean Chest <-> Left Ankle\", \"STD Right Ankle <-> Left Ankle\"]}}}, {\"mark\": {\"type\": \"text\", \"align\": \"right\", \"baseline\": \"middle\", \"color\": \"#798184\", \"dx\": 18, \"fontSize\": 15}, \"encoding\": {\"text\": {\"type\": \"nominal\", \"field\": \"rounded_str\"}, \"x\": {\"type\": \"nominal\", \"axis\": {\"domain\": false, \"labelAngle\": 30, \"labelFontSize\": 15, \"orient\": \"top\", \"title\": \"Shapley Value\", \"titleX\": 172, \"titleY\": 245}, \"field\": \"Event\", \"sort\": [\"Event -3\", \"Event -2\"]}, \"y\": {\"type\": \"nominal\", \"axis\": {\"domain\": false, \"labelFontSize\": 15, \"title\": null}, \"field\": \"Feature\", \"sort\": [\"Mean Chest <-> Left Ankle\", \"STD Right Ankle <-> Left Ankle\"]}}}], \"data\": {\"name\": \"data-7e3959d22f2197b7b793f2669c17f7e0\"}, \"height\": 225, \"width\": 160}], \"resolve\": {\"scale\": {\"color\": \"independent\"}}}], \"resolve\": {\"scale\": {\"color\": \"independent\"}}, \"$schema\": \"https://vega.github.io/schema/vega-lite/v4.8.1.json\", \"datasets\": {\"data-f6d0617344d11d5d6eb381e8151136c9\": [{\"Coalition\": \"Sum of contribution of events > t\", \"t (event index)\": 0, \"Shapley Value\": 0.0}, {\"Coalition\": \"Sum of contribution of events \\u2264 t\", \"t (event index)\": 0, \"Shapley Value\": 0.7107781693339348}, {\"Coalition\": \"Sum of contribution of events > t\", \"t (event index)\": -1, \"Shapley Value\": 0.057712833397090435}, {\"Coalition\": \"Sum of contribution of events \\u2264 t\", \"t (event index)\": -1, \"Shapley Value\": 0.6530653359368443}, {\"Coalition\": \"Sum of contribution of events > t\", \"t (event index)\": -2, \"Shapley Value\": 0.17809058539569378}, {\"Coalition\": \"Sum of contribution of events \\u2264 t\", \"t (event index)\": -2, \"Shapley Value\": 0.532687583938241}, {\"Coalition\": \"Sum of contribution of events > t\", \"t (event index)\": -3, \"Shapley Value\": 0.2974421586841345}, {\"Coalition\": \"Sum of contribution of events \\u2264 t\", \"t (event index)\": -3, \"Shapley Value\": 0.4133360106498003}, {\"Coalition\": \"Sum of contribution of events > t\", \"t (event index)\": -4, \"Shapley Value\": 0.37122948095202446}, {\"Coalition\": \"Sum of contribution of events \\u2264 t\", \"t (event index)\": -4, \"Shapley Value\": 0.3395486883819103}, {\"Coalition\": \"Sum of contribution of events > t\", \"t (event index)\": -5, \"Shapley Value\": 0.39915208518505096}, {\"Coalition\": \"Sum of contribution of events \\u2264 t\", \"t (event index)\": -5, \"Shapley Value\": 0.3116260841488838}, {\"Coalition\": \"Sum of contribution of events > t\", \"t (event index)\": -6, \"Shapley Value\": 0.4303387235850096}, {\"Coalition\": \"Sum of contribution of events \\u2264 t\", \"t (event index)\": -6, \"Shapley Value\": 0.2804394457489252}, {\"Coalition\": \"Sum of contribution of events > t\", \"t (event index)\": -7, \"Shapley Value\": 0.4784858925268054}, {\"Coalition\": \"Sum of contribution of events \\u2264 t\", \"t (event index)\": -7, \"Shapley Value\": 0.23229227680712938}, {\"Coalition\": \"Sum of contribution of events > t\", \"t (event index)\": -8, \"Shapley Value\": 0.5620398372411728}, {\"Coalition\": \"Sum of contribution of events \\u2264 t\", \"t (event index)\": -8, \"Shapley Value\": 0.148738332092762}, {\"Coalition\": \"Sum of contribution of events > t\", \"t (event index)\": -9, \"Shapley Value\": 0.605012415908277}, {\"Coalition\": \"Sum of contribution of events \\u2264 t\", \"t (event index)\": -9, \"Shapley Value\": 0.10576575342565775}, {\"Coalition\": \"Sum of contribution of events > t\", \"t (event index)\": -10, \"Shapley Value\": 0.6320168990641832}, {\"Coalition\": \"Sum of contribution of events \\u2264 t\", \"t (event index)\": -10, \"Shapley Value\": 0.07876127026975155}, {\"Coalition\": \"Sum of contribution of events > t\", \"t (event index)\": -11, \"Shapley Value\": 0.6398440385237336}, {\"Coalition\": \"Sum of contribution of events \\u2264 t\", \"t (event index)\": -11, \"Shapley Value\": 0.07093413081020117}, {\"Coalition\": \"Sum of contribution of events > t\", \"t (event index)\": -12, \"Shapley Value\": 0.6535957772284746}, {\"Coalition\": \"Sum of contribution of events \\u2264 t\", \"t (event index)\": -12, \"Shapley Value\": 0.05718239210546017}, {\"Coalition\": \"Sum of contribution of events > t\", \"t (event index)\": -13, \"Shapley Value\": 0.6625487552955747}, {\"Coalition\": \"Sum of contribution of events \\u2264 t\", \"t (event index)\": -13, \"Shapley Value\": 0.04822941403836012}, {\"Coalition\": \"Sum of contribution of events > t\", \"t (event index)\": -14, \"Shapley Value\": 0.6740840915590525}, {\"Coalition\": \"Sum of contribution of events \\u2264 t\", \"t (event index)\": -14, \"Shapley Value\": 0.03669407777488232}, {\"Coalition\": \"Sum of contribution of events > t\", \"t (event index)\": -15, \"Shapley Value\": 0.6845917971804738}, {\"Coalition\": \"Sum of contribution of events \\u2264 t\", \"t (event index)\": -15, \"Shapley Value\": 0.02618637215346098}, {\"Coalition\": \"Sum of contribution of events > t\", \"t (event index)\": -16, \"Shapley Value\": 0.6937809539958835}, {\"Coalition\": \"Sum of contribution of events \\u2264 t\", \"t (event index)\": -16, \"Shapley Value\": 0.01699721533805132}, {\"Coalition\": \"Sum of contribution of events > t\", \"t (event index)\": -17, \"Shapley Value\": 0.6962472945451736}, {\"Coalition\": \"Sum of contribution of events \\u2264 t\", \"t (event index)\": -17, \"Shapley Value\": 0.014530874788761139}, {\"Coalition\": \"Sum of contribution of events > t\", \"t (event index)\": -18, \"Shapley Value\": 0.6978941056877375}, {\"Coalition\": \"Sum of contribution of events \\u2264 t\", \"t (event index)\": -18, \"Shapley Value\": 0.012884063646197319}, {\"Coalition\": \"Sum of contribution of events > t\", \"t (event index)\": -19, \"Shapley Value\": 0.700493760406971}, {\"Coalition\": \"Sum of contribution of events \\u2264 t\", \"t (event index)\": -19, \"Shapley Value\": 0.010284408926963806}, {\"Coalition\": \"Sum of contribution of events > t\", \"t (event index)\": -20, \"Shapley Value\": 0.7035707738250494}, {\"Coalition\": \"Sum of contribution of events \\u2264 t\", \"t (event index)\": -20, \"Shapley Value\": 0.007207395508885384}, {\"Coalition\": \"Sum of contribution of events > t\", \"t (event index)\": -21, \"Shapley Value\": 0.7057067872956395}, {\"Coalition\": \"Sum of contribution of events \\u2264 t\", \"t (event index)\": -21, \"Shapley Value\": 0.005071382038295269}, {\"Coalition\": \"Sum of contribution of events > t\", \"t (event index)\": -22, \"Shapley Value\": 0.7066771052777767}, {\"Coalition\": \"Sum of contribution of events \\u2264 t\", \"t (event index)\": -22, \"Shapley Value\": 0.004101064056158066}, {\"Coalition\": \"Sum of contribution of events > t\", \"t (event index)\": -23, \"Shapley Value\": 0.7071699956431985}, {\"Coalition\": \"Sum of contribution of events \\u2264 t\", \"t (event index)\": -23, \"Shapley Value\": 0.003608173690736294}, {\"Coalition\": \"Sum of contribution of events > t\", \"t (event index)\": -24, \"Shapley Value\": 0.7083224253728986}, {\"Coalition\": \"Sum of contribution of events \\u2264 t\", \"t (event index)\": -24, \"Shapley Value\": 0.0024557439610362053}, {\"Coalition\": \"Sum of contribution of events > t\", \"t (event index)\": -25, \"Shapley Value\": 0.7086418839171529}, {\"Coalition\": \"Sum of contribution of events \\u2264 t\", \"t (event index)\": -25, \"Shapley Value\": 0.0021362854167819023}, {\"Coalition\": \"Sum of contribution of events > t\", \"t (event index)\": -26, \"Shapley Value\": 0.7090736972168088}, {\"Coalition\": \"Sum of contribution of events \\u2264 t\", \"t (event index)\": -26, \"Shapley Value\": 0.001704472117125988}, {\"Coalition\": \"Sum of contribution of events > t\", \"t (event index)\": -27, \"Shapley Value\": 0.7095956141129136}, {\"Coalition\": \"Sum of contribution of events \\u2264 t\", \"t (event index)\": -27, \"Shapley Value\": 0.0011825552210211754}, {\"Coalition\": \"Sum of contribution of events > t\", \"t (event index)\": -28, \"Shapley Value\": 0.7097701700404286}, {\"Coalition\": \"Sum of contribution of events \\u2264 t\", \"t (event index)\": -28, \"Shapley Value\": 0.0010079992935061455}, {\"Coalition\": \"Sum of contribution of events > t\", \"t (event index)\": -29, \"Shapley Value\": 0.7101138615980744}, {\"Coalition\": \"Sum of contribution of events \\u2264 t\", \"t (event index)\": -29, \"Shapley Value\": 0.0006643077358603477}, {\"Coalition\": \"Sum of contribution of events > t\", \"t (event index)\": -30, \"Shapley Value\": 0.7103128843009472}, {\"Coalition\": \"Sum of contribution of events \\u2264 t\", \"t (event index)\": -30, \"Shapley Value\": 0.0004652850329875946}, {\"Coalition\": \"Sum of contribution of events > t\", \"t (event index)\": -31, \"Shapley Value\": 0.7103166040033102}, {\"Coalition\": \"Sum of contribution of events \\u2264 t\", \"t (event index)\": -31, \"Shapley Value\": 0.0004615653306245804}, {\"Coalition\": \"Sum of contribution of events > t\", \"t (event index)\": -32, \"Shapley Value\": 0.7104071844369173}, {\"Coalition\": \"Sum of contribution of events \\u2264 t\", \"t (event index)\": -32, \"Shapley Value\": 0.00037098489701747894}, {\"Coalition\": \"Sum of contribution of events > t\", \"t (event index)\": -33, \"Shapley Value\": 0.7104718266054988}, {\"Coalition\": \"Sum of contribution of events \\u2264 t\", \"t (event index)\": -33, \"Shapley Value\": 0.0003063427284359932}, {\"Coalition\": \"Sum of contribution of events > t\", \"t (event index)\": -34, \"Shapley Value\": 0.710560436360538}, {\"Coalition\": \"Sum of contribution of events \\u2264 t\", \"t (event index)\": -34, \"Shapley Value\": 0.0002177329733967781}, {\"Coalition\": \"Sum of contribution of events > t\", \"t (event index)\": -35, \"Shapley Value\": 0.7106466190889478}, {\"Coalition\": \"Sum of contribution of events \\u2264 t\", \"t (event index)\": -35, \"Shapley Value\": 0.00013155024498701096}, {\"Coalition\": \"Sum of contribution of events > t\", \"t (event index)\": -36, \"Shapley Value\": 0.7106990283355117}, {\"Coalition\": \"Sum of contribution of events \\u2264 t\", \"t (event index)\": -36, \"Shapley Value\": 7.914099842309952e-05}, {\"Coalition\": \"Sum of contribution of events > t\", \"t (event index)\": -37, \"Shapley Value\": 0.7107058791443706}, {\"Coalition\": \"Sum of contribution of events \\u2264 t\", \"t (event index)\": -37, \"Shapley Value\": 7.229018956422806e-05}, {\"Coalition\": \"Sum of contribution of events > t\", \"t (event index)\": -38, \"Shapley Value\": 0.710717192851007}, {\"Coalition\": \"Sum of contribution of events \\u2264 t\", \"t (event index)\": -38, \"Shapley Value\": 6.0976482927799225e-05}, {\"Coalition\": \"Sum of contribution of events > t\", \"t (event index)\": -39, \"Shapley Value\": 0.7107428032904863}, {\"Coalition\": \"Sum of contribution of events \\u2264 t\", \"t (event index)\": -39, \"Shapley Value\": 3.536604344844818e-05}, {\"Coalition\": \"Sum of contribution of events > t\", \"t (event index)\": -40, \"Shapley Value\": 0.7107479805126786}, {\"Coalition\": \"Sum of contribution of events \\u2264 t\", \"t (event index)\": -40, \"Shapley Value\": 3.0188821256160736e-05}], \"data-e4f3cc544e6eb6f30b6d8b725eecc2f0\": [{\"x\": -16}], \"data-0321a3891ffd7c195d8bf51451f0967c\": [{\"x\": -18}], \"data-fbbde1a586a62b9be734062e55cfe71f\": [{\"Shapley Value\": 0.06576201400065218, \"Feature\": \"Event -1\", \"row\": 1, \"column\": 1, \"rounded\": 0.066, \"rounded_str\": \"0.066\"}, {\"Shapley Value\": 0.12282059142858248, \"Feature\": \"Event -2\", \"row\": 2, \"column\": 1, \"rounded\": 0.123, \"rounded_str\": \"0.123\"}, {\"Shapley Value\": 0.11251037069836212, \"Feature\": \"Event -3\", \"row\": 3, \"column\": 1, \"rounded\": 0.113, \"rounded_str\": \"0.113\"}, {\"Shapley Value\": 0.09340161979500328, \"Feature\": \"Event -4\", \"row\": 4, \"column\": 1, \"rounded\": 0.093, \"rounded_str\": \"0.093\"}, {\"Shapley Value\": 0.04015413834025766, \"Feature\": \"Event -5\", \"row\": 5, \"column\": 1, \"rounded\": 0.04, \"rounded_str\": \"0.040\"}, {\"Shapley Value\": 0.03935895115488902, \"Feature\": \"Event -6\", \"row\": 6, \"column\": 1, \"rounded\": 0.039, \"rounded_str\": \"0.039\"}, {\"Shapley Value\": 0.042039243987998354, \"Feature\": \"Event -7\", \"row\": 7, \"column\": 1, \"rounded\": 0.042, \"rounded_str\": \"0.042\"}, {\"Shapley Value\": 0.04649206692504815, \"Feature\": \"Event -8\", \"row\": 8, \"column\": 1, \"rounded\": 0.046, \"rounded_str\": \"0.046\"}, {\"Shapley Value\": 0.029334485679092137, \"Feature\": \"Event -9\", \"row\": 9, \"column\": 1, \"rounded\": 0.029, \"rounded_str\": \"0.029\"}, {\"Shapley Value\": 0.01877774781770808, \"Feature\": \"Event -10\", \"row\": 10, \"column\": 1, \"rounded\": 0.019, \"rounded_str\": \"0.019\"}, {\"Shapley Value\": 0.00924760929093521, \"Feature\": \"Event -11\", \"row\": 11, \"column\": 1, \"rounded\": 0.009, \"rounded_str\": \"0.009\"}, {\"Shapley Value\": 0.01501254097266641, \"Feature\": \"Event -12\", \"row\": 12, \"column\": 1, \"rounded\": 0.015, \"rounded_str\": \"0.015\"}, {\"Shapley Value\": 0.007578575860970993, \"Feature\": \"Event -13\", \"row\": 13, \"column\": 1, \"rounded\": 0.008, \"rounded_str\": \"0.008\"}, {\"Shapley Value\": 0.009566289955316165, \"Feature\": \"Event -14\", \"row\": 14, \"column\": 1, \"rounded\": 0.01, \"rounded_str\": \"0.010\"}, {\"Shapley Value\": 0.010720531986177673, \"Feature\": \"Event -15\", \"row\": 15, \"column\": 1, \"rounded\": 0.011, \"rounded_str\": \"0.011\"}, {\"Shapley Value\": 0.010046358145133771, \"Feature\": \"Event -16\", \"row\": 16, \"column\": 1, \"rounded\": 0.01, \"rounded_str\": \"0.010\"}, {\"Shapley Value\": 0.03795503329514105, \"Feature\": \"Pruned Events\", \"row\": 17, \"column\": 1, \"rounded\": 0.038, \"rounded_str\": \"0.038\"}], \"data-b09dfe608dcd4be0669b980e33f5012b\": [{\"Random seed\": 42, \"NSamples\": 32000, \"Feature\": \"Mean Chest <-> Right Ankle\", \"Shapley Value\": 0.007282042725100413, \"sort_col\": 0.007282042725100413}, {\"Random seed\": 42, \"NSamples\": 32000, \"Feature\": \"STD Chest <-> Right Ankle\", \"Shapley Value\": 0.02206718329162838, \"sort_col\": 0.02206718329162838}, {\"Random seed\": 42, \"NSamples\": 32000, \"Feature\": \"Mean Chest <-> Left Ankle\", \"Shapley Value\": 0.14146891618591007, \"sort_col\": 0.14146891618591007}, {\"Random seed\": 42, \"NSamples\": 32000, \"Feature\": \"STD Chest <-> Left Ankle\", \"Shapley Value\": 0.13287185707262572, \"sort_col\": 0.13287185707262572}, {\"Random seed\": 42, \"NSamples\": 32000, \"Feature\": \"Mean Right Ankle <-> Left Ankle\", \"Shapley Value\": 0.13443667789743746, \"sort_col\": 0.13443667789743746}, {\"Random seed\": 42, \"NSamples\": 32000, \"Feature\": \"STD Right Ankle <-> Left Ankle\", \"Shapley Value\": 0.23095326930107088, \"sort_col\": 0.23095326930107088}, {\"Random seed\": 42, \"NSamples\": 32000, \"Feature\": \"Pruned Events\", \"Shapley Value\": 0.04169822286016189, \"sort_col\": 0.04169822286016189}], \"data-9c00aa9dc2b1c1a0b4bf9b34ead12925\": [{\"x\": 0}], \"data-fa96a73c3e2b0ce7bf3c3899c2fbaa9d\": [{\"Event\": [\"Pruned\", \"Events\"], \"Feature\": \"Other features\", \"rounded\": 0.036, \"rounded_str\": \"0.036\"}], \"data-7e3959d22f2197b7b793f2669c17f7e0\": [{\"Event\": \"Other Events\", \"Feature\": \"Other Features\", \"Shapley Value\": 0.2774428812749976, \"rounded\": 0.277, \"rounded_str\": \"0.277\"}, {\"Event\": \"Other Events\", \"Feature\": \"STD Right Ankle <-> Left Ankle\", \"Shapley Value\": 0.1236196627796049, \"rounded\": 0.124, \"rounded_str\": \"0.124\"}, {\"Event\": \"Other Events\", \"Feature\": \"Mean Chest <-> Left Ankle\", \"Shapley Value\": 0.053681383295250795, \"rounded\": 0.054, \"rounded_str\": \"0.054\"}, {\"Event\": \"Event -3\", \"Feature\": \"Mean Chest <-> Left Ankle\", \"Shapley Value\": 0.04661900755609327, \"rounded\": 0.047, \"rounded_str\": \"0.047\"}, {\"Event\": \"Event -2\", \"Feature\": \"Other Features\", \"Shapley Value\": 0.045297084353302486, \"rounded\": 0.045, \"rounded_str\": \"0.045\"}, {\"Event\": \"Event -3\", \"Feature\": \"STD Right Ankle <-> Left Ankle\", \"Shapley Value\": 0.0392633377263944, \"rounded\": 0.039, \"rounded_str\": \"0.039\"}, {\"Event\": \"Event -2\", \"Feature\": \"Mean Chest <-> Left Ankle\", \"Shapley Value\": 0.036906040428827336, \"rounded\": 0.037, \"rounded_str\": \"0.037\"}, {\"Event\": \"Event -2\", \"Feature\": \"STD Right Ankle <-> Left Ankle\", \"Shapley Value\": 0.032093981504883906, \"rounded\": 0.032, \"rounded_str\": \"0.032\"}, {\"Event\": \"Event -3\", \"Feature\": \"Other Features\", \"Shapley Value\": 0.019922877608665235, \"rounded\": 0.02, \"rounded_str\": \"0.020\"}]}}, {\"mode\": \"vega-lite\"});\n",
       "</script>"
      ],
      "text/plain": [
       "alt.HConcatChart(...)"
      ]
     },
     "execution_count": 23,
     "metadata": {},
     "output_type": "execute_result"
    }
   ],
   "source": [
    "from timeshap.explainer import local_report\n",
    "\n",
    "pruning_dict = {'tol': 0.025}\n",
    "event_dict = {'rs': 42, 'nsamples': 32000}\n",
    "feature_dict = {'rs': 42, 'nsamples': 32000, 'feature_names': model_features, 'plot_features': plot_feats}\n",
    "cell_dict = {'rs': 42, 'nsamples': 32000, 'top_x_feats': 2, 'top_x_events': 2}\n",
    "local_report(f_hs, pos_x_data, pruning_dict, event_dict, feature_dict, cell_dict, average_event, entity_uuid=positive_sequence_id, entity_col='all_id')"
   ]
  },
  {
   "cell_type": "markdown",
   "id": "e5495971",
   "metadata": {},
   "source": [
    "## 3.2 Global Explanations"
   ]
  },
  {
   "cell_type": "markdown",
   "id": "64cdc2d4",
   "metadata": {},
   "source": [
    "### Explain all \n",
    "\n",
    "TimeSHAP offers methods to explain all instances and save as CSV.\n",
    "This allows for global explanations and local plots with no calculation delay."
   ]
  },
  {
   "cell_type": "code",
   "execution_count": 24,
   "id": "c6632ec1",
   "metadata": {},
   "outputs": [
    {
     "name": "stdout",
     "output_type": "stream",
     "text": [
      "Calculating pruning algorithm\n",
      "Calculating event data\n",
      "Calculating feat data\n",
      "Calculating pruning indexes\n"
     ]
    },
    {
     "data": {
      "text/html": [
       "<div>\n",
       "<style scoped>\n",
       "    .dataframe tbody tr th:only-of-type {\n",
       "        vertical-align: middle;\n",
       "    }\n",
       "\n",
       "    .dataframe tbody tr th {\n",
       "        vertical-align: top;\n",
       "    }\n",
       "\n",
       "    .dataframe thead th {\n",
       "        text-align: right;\n",
       "    }\n",
       "</style>\n",
       "<table border=\"1\" class=\"dataframe\">\n",
       "  <thead>\n",
       "    <tr style=\"text-align: right;\">\n",
       "      <th></th>\n",
       "      <th>Tolerance</th>\n",
       "      <th>Mean</th>\n",
       "      <th>Std</th>\n",
       "    </tr>\n",
       "  </thead>\n",
       "  <tbody>\n",
       "    <tr>\n",
       "      <th>0</th>\n",
       "      <td>0.05</td>\n",
       "      <td>12.75</td>\n",
       "      <td>1.258306</td>\n",
       "    </tr>\n",
       "    <tr>\n",
       "      <th>1</th>\n",
       "      <td>0.075</td>\n",
       "      <td>11.25</td>\n",
       "      <td>1.258306</td>\n",
       "    </tr>\n",
       "    <tr>\n",
       "      <th>2</th>\n",
       "      <td>No Pruning</td>\n",
       "      <td>480.00</td>\n",
       "      <td>0.000000</td>\n",
       "    </tr>\n",
       "  </tbody>\n",
       "</table>\n",
       "</div>"
      ],
      "text/plain": [
       "    Tolerance    Mean       Std\n",
       "0        0.05   12.75  1.258306\n",
       "1       0.075   11.25  1.258306\n",
       "2  No Pruning  480.00  0.000000"
      ]
     },
     "execution_count": 24,
     "metadata": {},
     "output_type": "execute_result"
    }
   ],
   "source": [
    "from timeshap.explainer import global_report \n",
    "\n",
    "pos_dataset = d_test_normalized[d_test_normalized['label'] == 1]\n",
    "schema = schema = list(pos_dataset.columns)\n",
    "pruning_dict = {'tol': [0.05, 0.075], 'path': 'outputs/prun_all.csv'}\n",
    "event_dict = {'path': 'outputs/event_all.csv', 'rs': 42, 'nsamples': 32000}\n",
    "feature_dict = {'path': 'outputs/feature_all.csv', 'rs': 42, 'nsamples': 32000, 'feature_names': model_features, 'plot_features': plot_feats,}\n",
    "prun_stats, global_plot = global_report(f_hs, pos_dataset, pruning_dict, event_dict, feature_dict, average_event, model_features, schema, sequence_id_feat, time_feat)\n",
    "prun_stats"
   ]
  },
  {
   "cell_type": "code",
   "execution_count": 25,
   "id": "2f85451d",
   "metadata": {},
   "outputs": [
    {
     "data": {
      "text/html": [
       "\n",
       "<div id=\"altair-viz-60256a26e81e493a8c4ffff82550a88e\"></div>\n",
       "<script type=\"text/javascript\">\n",
       "  (function(spec, embedOpt){\n",
       "    let outputDiv = document.currentScript.previousElementSibling;\n",
       "    if (outputDiv.id !== \"altair-viz-60256a26e81e493a8c4ffff82550a88e\") {\n",
       "      outputDiv = document.getElementById(\"altair-viz-60256a26e81e493a8c4ffff82550a88e\");\n",
       "    }\n",
       "    const paths = {\n",
       "      \"vega\": \"https://cdn.jsdelivr.net/npm//vega@5?noext\",\n",
       "      \"vega-lib\": \"https://cdn.jsdelivr.net/npm//vega-lib?noext\",\n",
       "      \"vega-lite\": \"https://cdn.jsdelivr.net/npm//vega-lite@4.8.1?noext\",\n",
       "      \"vega-embed\": \"https://cdn.jsdelivr.net/npm//vega-embed@6?noext\",\n",
       "    };\n",
       "\n",
       "    function loadScript(lib) {\n",
       "      return new Promise(function(resolve, reject) {\n",
       "        var s = document.createElement('script');\n",
       "        s.src = paths[lib];\n",
       "        s.async = true;\n",
       "        s.onload = () => resolve(paths[lib]);\n",
       "        s.onerror = () => reject(`Error loading script: ${paths[lib]}`);\n",
       "        document.getElementsByTagName(\"head\")[0].appendChild(s);\n",
       "      });\n",
       "    }\n",
       "\n",
       "    function showError(err) {\n",
       "      outputDiv.innerHTML = `<div class=\"error\" style=\"color:red;\">${err}</div>`;\n",
       "      throw err;\n",
       "    }\n",
       "\n",
       "    function displayChart(vegaEmbed) {\n",
       "      vegaEmbed(outputDiv, spec, embedOpt)\n",
       "        .catch(err => showError(`Javascript Error: ${err.message}<br>This usually means there's a typo in your chart specification. See the javascript console for the full traceback.`));\n",
       "    }\n",
       "\n",
       "    if(typeof define === \"function\" && define.amd) {\n",
       "      requirejs.config({paths});\n",
       "      require([\"vega-embed\"], displayChart, err => showError(`Error loading script: ${err.message}`));\n",
       "    } else if (typeof vegaEmbed === \"function\") {\n",
       "      displayChart(vegaEmbed);\n",
       "    } else {\n",
       "      loadScript(\"vega\")\n",
       "        .then(() => loadScript(\"vega-lite\"))\n",
       "        .then(() => loadScript(\"vega-embed\"))\n",
       "        .catch(showError)\n",
       "        .then(() => displayChart(vegaEmbed));\n",
       "    }\n",
       "  })({\"config\": {\"axis\": {\"domain\": true, \"domainColor\": \"#666F89\", \"grid\": false, \"gridCap\": \"round\", \"gridColor\": \"#B3B7C4\", \"gridDash\": [2, 4], \"gridWidth\": 0.5, \"labelColor\": \"#666F89\", \"labelFont\": \"Roboto, Arial, sans-serif\", \"labelPadding\": 2, \"tickColor\": \"#666F89\", \"tickOpacity\": 0.5, \"tickSize\": 4, \"titleColor\": \"#19274E\", \"titleFont\": \"Roboto, Arial, sans-serif\", \"titleFontSize\": 12}, \"axisBand\": {\"domain\": true, \"labelPadding\": 4, \"ticks\": false}, \"axisY\": {\"domain\": false, \"titleAlign\": \"left\", \"titleAngle\": 0, \"titleX\": -20, \"titleY\": -10}, \"legend\": {\"labelColor\": \"#666F89\", \"labelFont\": \"Roboto, Arial, sans-serif\", \"labelFontSize\": 12, \"symbolSize\": 40, \"titleColor\": \"#19274E\", \"titleFont\": \"Roboto, Arial, sans-serif\", \"titleFontSize\": 12, \"titlePadding\": 4}, \"arc\": {\"stroke\": \"#FFFFFF\", \"strokeWidth\": 1}, \"bar\": {\"fill\": \"#2770EB\", \"stroke\": null}, \"line\": {\"stroke\": \"#2770EB\", \"strokeWidth\": 2}, \"path\": {\"stroke\": \"#2770EB\", \"strokeWidth\": 0.5}, \"point\": {\"fill\": \"#2770EB\", \"shape\": \"circle\", \"filled\": true}, \"rect\": {\"fill\": \"#2770EB\"}, \"rule\": {\"stroke\": \"#666F89\"}, \"shape\": {\"stroke\": \"#2770EB\"}, \"text\": {\"color\": \"#19274E\", \"font\": \"Roboto, Arial, sans-serif\", \"fontSize\": 12}, \"range\": {\"category\": [\"#2770EB\", \"#77B98A\", \"#DA5252\", \"#FFC400\", \"#A87AEA\", \"#00A39E\", \"#19274E\"], \"diverging\": [\"#006360\", \"#2BB3AE\", \"#96D9D7\", \"#FFFFFF\", \"#EDAAAA\", \"#DA5252\", \"#811D1D\"], \"heatmap\": [\"#18448F\", \"#1B4EA5\", \"#2770EB\", \"#4C88EE\", \"#82ACF3\", \"#A6C4F7\", \"#E9F1FD\"], \"ramp\": [\"#18448F\", \"#1B4EA5\", \"#2770EB\", \"#4C88EE\", \"#82ACF3\", \"#A6C4F7\", \"#E9F1FD\"]}, \"background\": \"#FFFFFF\", \"group\": {\"fill\": \"#FFFFFF\"}, \"header\": {\"labelColor\": \"#19274E\", \"labelFont\": \"Roboto, Arial, sans-serif\", \"labelFontSize\": 12, \"titleColor\": \"#19274E\", \"titleFont\": \"Roboto, Arial, sans-serif\", \"titleFontSize\": 16}, \"title\": {\"anchor\": \"start\", \"color\": \"#19274E\", \"font\": \"Roboto, Arial, sans-serif\", \"fontSize\": 20, \"fontWeight\": \"bold\", \"offset\": 20, \"subtitleColor\": \"#19274E\", \"subtitleFontSize\": 16}, \"view\": {\"continuousHeight\": 300, \"continuousWidth\": 400, \"stroke\": \"transparent\"}}, \"vconcat\": [{\"hconcat\": [{\"vconcat\": [{\"mark\": {\"type\": \"point\", \"stroke\": \"white\", \"strokeWidth\": 0.6}, \"encoding\": {\"color\": {\"type\": \"nominal\", \"field\": \"type\", \"legend\": {\"fillColor\": \"white\", \"orient\": \"top-left\", \"symbolSize\": 50, \"symbolStrokeWidth\": 0, \"title\": null}, \"scale\": {\"domain\": [\"Shapley Value\", \"Mean\"], \"range\": [\"#48caaa\", \"#d76d58\"]}}, \"opacity\": {\"condition\": {\"value\": 1.0, \"test\": \"(datum.type === 'Mean')\"}, \"value\": 0.2}, \"size\": {\"condition\": {\"value\": 70, \"test\": \"(datum.type === 'Mean')\"}, \"value\": 30}, \"x\": {\"type\": \"ordinal\", \"axis\": {\"labelAngle\": 0}, \"field\": \"t (event index)\"}, \"y\": {\"type\": \"quantitative\", \"axis\": {\"grid\": true, \"titleX\": -23}, \"field\": \"Shapley Value\", \"scale\": {\"domain\": [-0.3, 0.9]}, \"title\": \"Shapley Value\"}}, \"height\": 150, \"width\": 360}], \"data\": {\"name\": \"data-b7700950402d18965e560e5e57cdea82\"}}, {\"vconcat\": [{\"mark\": {\"type\": \"point\", \"stroke\": \"white\", \"strokeWidth\": 0.6}, \"encoding\": {\"color\": {\"type\": \"nominal\", \"field\": \"type\", \"legend\": {\"fillColor\": \"white\", \"orient\": \"bottom-right\", \"symbolSize\": 50, \"symbolStrokeWidth\": 0, \"title\": null}, \"scale\": {\"domain\": [\"Shapley Value\", \"Mean\"], \"range\": [\"#618FE0\", \"#d76d58\"]}}, \"opacity\": {\"condition\": {\"value\": 1.0, \"test\": \"(datum.type === 'Mean')\"}, \"value\": 0.1}, \"size\": {\"condition\": {\"value\": 70, \"test\": \"(datum.type === 'Mean')\"}, \"value\": 30}, \"x\": {\"type\": \"quantitative\", \"axis\": {\"grid\": true, \"title\": \"Shapley Value\"}, \"field\": \"Shapley Value\", \"scale\": {\"domain\": [-0.2, 0.6]}}, \"y\": {\"type\": \"ordinal\", \"axis\": {\"labelFontSize\": 13, \"titleX\": -51}, \"field\": \"Feature\", \"sort\": [\"Mean Right Ankle <-> Left Ankle\", \"STD Chest <-> Left Ankle\", \"STD Right Ankle <-> Left Ankle\", \"Mean Chest <-> Left Ankle\", \"Pruned Events\", \"STD Chest <-> Right Ankle\", \"Mean Chest <-> Right Ankle\"]}}, \"height\": 280, \"width\": 288}], \"data\": {\"name\": \"data-55b1f2cb922e1d6b571e26a034954744\"}}], \"center\": true, \"title\": \"Parameters: NSamples=32000 | Random Seed=42 | Pruning Tol= 0.05\"}, {\"hconcat\": [{\"vconcat\": [{\"mark\": {\"type\": \"point\", \"stroke\": \"white\", \"strokeWidth\": 0.6}, \"encoding\": {\"color\": {\"type\": \"nominal\", \"field\": \"type\", \"legend\": {\"fillColor\": \"white\", \"orient\": \"top-left\", \"symbolSize\": 50, \"symbolStrokeWidth\": 0, \"title\": null}, \"scale\": {\"domain\": [\"Shapley Value\", \"Mean\"], \"range\": [\"#48caaa\", \"#d76d58\"]}}, \"opacity\": {\"condition\": {\"value\": 1.0, \"test\": \"(datum.type === 'Mean')\"}, \"value\": 0.2}, \"size\": {\"condition\": {\"value\": 70, \"test\": \"(datum.type === 'Mean')\"}, \"value\": 30}, \"x\": {\"type\": \"ordinal\", \"axis\": {\"labelAngle\": 0}, \"field\": \"t (event index)\"}, \"y\": {\"type\": \"quantitative\", \"axis\": {\"grid\": true, \"titleX\": -23}, \"field\": \"Shapley Value\", \"scale\": {\"domain\": [-0.3, 0.9]}, \"title\": \"Shapley Value\"}}, \"height\": 150, \"width\": 360}], \"data\": {\"name\": \"data-a56b3492c7489cb5e0b5bd899e678ea1\"}}, {\"vconcat\": [{\"mark\": {\"type\": \"point\", \"stroke\": \"white\", \"strokeWidth\": 0.6}, \"encoding\": {\"color\": {\"type\": \"nominal\", \"field\": \"type\", \"legend\": {\"fillColor\": \"white\", \"orient\": \"bottom-right\", \"symbolSize\": 50, \"symbolStrokeWidth\": 0, \"title\": null}, \"scale\": {\"domain\": [\"Shapley Value\", \"Mean\"], \"range\": [\"#618FE0\", \"#d76d58\"]}}, \"opacity\": {\"condition\": {\"value\": 1.0, \"test\": \"(datum.type === 'Mean')\"}, \"value\": 0.1}, \"size\": {\"condition\": {\"value\": 70, \"test\": \"(datum.type === 'Mean')\"}, \"value\": 30}, \"x\": {\"type\": \"quantitative\", \"axis\": {\"grid\": true, \"title\": \"Shapley Value\"}, \"field\": \"Shapley Value\", \"scale\": {\"domain\": [-0.2, 0.6]}}, \"y\": {\"type\": \"ordinal\", \"axis\": {\"labelFontSize\": 13, \"titleX\": -51}, \"field\": \"Feature\", \"sort\": [\"Mean Right Ankle <-> Left Ankle\", \"STD Chest <-> Left Ankle\", \"STD Right Ankle <-> Left Ankle\", \"Pruned Events\", \"Mean Chest <-> Left Ankle\", \"STD Chest <-> Right Ankle\", \"Mean Chest <-> Right Ankle\"]}}, \"height\": 280, \"width\": 288}], \"data\": {\"name\": \"data-85d09a1dcca23bed56fc34622b23eb3e\"}}], \"center\": true, \"title\": \"Parameters: NSamples=32000 | Random Seed=42 | Pruning Tol= 0.075\"}], \"$schema\": \"https://vega.github.io/schema/vega-lite/v4.8.1.json\", \"datasets\": {\"data-b7700950402d18965e560e5e57cdea82\": [{\"Shapley Value\": 0.019402304710257473, \"t (event index)\": 0, \"type\": \"Shapley Value\"}, {\"Shapley Value\": 0.043738853888248386, \"t (event index)\": -1, \"type\": \"Shapley Value\"}, {\"Shapley Value\": 0.12852143608657796, \"t (event index)\": -2, \"type\": \"Shapley Value\"}, {\"Shapley Value\": 0.09251658021157089, \"t (event index)\": -3, \"type\": \"Shapley Value\"}, {\"Shapley Value\": 0.08310059630637867, \"t (event index)\": -4, \"type\": \"Shapley Value\"}, {\"Shapley Value\": 0.01668571955509715, \"t (event index)\": -5, \"type\": \"Shapley Value\"}, {\"Shapley Value\": 0.006386219441038343, \"t (event index)\": -6, \"type\": \"Shapley Value\"}, {\"Shapley Value\": 0.03812236393540952, \"t (event index)\": -7, \"type\": \"Shapley Value\"}, {\"Shapley Value\": 0.045712996818473434, \"t (event index)\": -8, \"type\": \"Shapley Value\"}, {\"Shapley Value\": 0.01114939870808243, \"t (event index)\": -9, \"type\": \"Shapley Value\"}, {\"Shapley Value\": 0.015518639229934239, \"t (event index)\": -10, \"type\": \"Shapley Value\"}, {\"Shapley Value\": 0.0005340755800938846, \"t (event index)\": -11, \"type\": \"Shapley Value\"}, {\"Shapley Value\": 0.013144310168296758, \"t (event index)\": -12, \"type\": \"Shapley Value\"}, {\"Shapley Value\": 0.010192737131525298, \"t (event index)\": -13, \"type\": \"Shapley Value\"}, {\"Shapley Value\": 0.0851269775334586, \"t (event index)\": 0, \"type\": \"Shapley Value\"}, {\"Shapley Value\": 0.1400278757753044, \"t (event index)\": -1, \"type\": \"Shapley Value\"}, {\"Shapley Value\": 0.07578232950717106, \"t (event index)\": -2, \"type\": \"Shapley Value\"}, {\"Shapley Value\": 0.019908951039661005, \"t (event index)\": -3, \"type\": \"Shapley Value\"}, {\"Shapley Value\": 0.09996260604495033, \"t (event index)\": -4, \"type\": \"Shapley Value\"}, {\"Shapley Value\": 0.03383466681433078, \"t (event index)\": -5, \"type\": \"Shapley Value\"}, {\"Shapley Value\": 0.06765654822587164, \"t (event index)\": -6, \"type\": \"Shapley Value\"}, {\"Shapley Value\": 0.06705258413266446, \"t (event index)\": -7, \"type\": \"Shapley Value\"}, {\"Shapley Value\": 0.03735566210667052, \"t (event index)\": -8, \"type\": \"Shapley Value\"}, {\"Shapley Value\": 0.018680224595211792, \"t (event index)\": -9, \"type\": \"Shapley Value\"}, {\"Shapley Value\": 0.014955840395839193, \"t (event index)\": -10, \"type\": \"Shapley Value\"}, {\"Shapley Value\": 0.010652439102321165, \"t (event index)\": -11, \"type\": \"Shapley Value\"}, {\"Shapley Value\": 0.01567375152782713, \"t (event index)\": -12, \"type\": \"Shapley Value\"}, {\"Shapley Value\": 0.12650692122450818, \"t (event index)\": 0, \"type\": \"Shapley Value\"}, {\"Shapley Value\": 0.1088482750155042, \"t (event index)\": -1, \"type\": \"Shapley Value\"}, {\"Shapley Value\": 0.058872777591143954, \"t (event index)\": -2, \"type\": \"Shapley Value\"}, {\"Shapley Value\": 0.11246365039800138, \"t (event index)\": -3, \"type\": \"Shapley Value\"}, {\"Shapley Value\": 0.0814399781028109, \"t (event index)\": -4, \"type\": \"Shapley Value\"}, {\"Shapley Value\": 0.057876138687187606, \"t (event index)\": -5, \"type\": \"Shapley Value\"}, {\"Shapley Value\": 0.058678364787925485, \"t (event index)\": -6, \"type\": \"Shapley Value\"}, {\"Shapley Value\": 0.015110559584868843, \"t (event index)\": -7, \"type\": \"Shapley Value\"}, {\"Shapley Value\": 0.030559149249168138, \"t (event index)\": -8, \"type\": \"Shapley Value\"}, {\"Shapley Value\": 0.021594407852311814, \"t (event index)\": -9, \"type\": \"Shapley Value\"}, {\"Shapley Value\": 0.02312842354367889, \"t (event index)\": -10, \"type\": \"Shapley Value\"}, {\"Shapley Value\": 0.06489060139324382, \"t (event index)\": 0, \"type\": \"Shapley Value\"}, {\"Shapley Value\": 0.12090442008626734, \"t (event index)\": -1, \"type\": \"Shapley Value\"}, {\"Shapley Value\": 0.11098521713359982, \"t (event index)\": -2, \"type\": \"Shapley Value\"}, {\"Shapley Value\": 0.09226102775695949, \"t (event index)\": -3, \"type\": \"Shapley Value\"}, {\"Shapley Value\": 0.03966507508504463, \"t (event index)\": -4, \"type\": \"Shapley Value\"}, {\"Shapley Value\": 0.03885128979431335, \"t (event index)\": -5, \"type\": \"Shapley Value\"}, {\"Shapley Value\": 0.04158488745709299, \"t (event index)\": -6, \"type\": \"Shapley Value\"}, {\"Shapley Value\": 0.046081388544596924, \"t (event index)\": -7, \"type\": \"Shapley Value\"}, {\"Shapley Value\": 0.02909856739128658, \"t (event index)\": -8, \"type\": \"Shapley Value\"}, {\"Shapley Value\": 0.018038658283094366, \"t (event index)\": -9, \"type\": \"Shapley Value\"}, {\"Shapley Value\": 0.00894592843766967, \"t (event index)\": -10, \"type\": \"Shapley Value\"}, {\"Shapley Value\": 0.0141545612874448, \"t (event index)\": -11, \"type\": \"Shapley Value\"}, {\"Shapley Value\": 0.005579673811366814, \"t (event index)\": -12, \"type\": \"Shapley Value\"}, {\"Shapley Value\": 0.010192737131525298, \"t (event index)\": -13, \"type\": \"Mean\"}, {\"Shapley Value\": 0.011465911835830234, \"t (event index)\": -12, \"type\": \"Mean\"}, {\"Shapley Value\": 0.008447025323286617, \"t (event index)\": -11, \"type\": \"Mean\"}, {\"Shapley Value\": 0.015637207901780498, \"t (event index)\": -10, \"type\": \"Mean\"}, {\"Shapley Value\": 0.0173656723596751, \"t (event index)\": -9, \"type\": \"Mean\"}, {\"Shapley Value\": 0.03568159389139967, \"t (event index)\": -8, \"type\": \"Mean\"}, {\"Shapley Value\": 0.04159172404938494, \"t (event index)\": -7, \"type\": \"Mean\"}, {\"Shapley Value\": 0.043576504977982114, \"t (event index)\": -6, \"type\": \"Mean\"}, {\"Shapley Value\": 0.03681195371273222, \"t (event index)\": -5, \"type\": \"Mean\"}, {\"Shapley Value\": 0.07604206388479613, \"t (event index)\": -4, \"type\": \"Mean\"}, {\"Shapley Value\": 0.07928755235154819, \"t (event index)\": -3, \"type\": \"Mean\"}, {\"Shapley Value\": 0.0935404400796232, \"t (event index)\": -2, \"type\": \"Mean\"}, {\"Shapley Value\": 0.10337985619133108, \"t (event index)\": -1, \"type\": \"Mean\"}, {\"Shapley Value\": 0.07398170121536701, \"t (event index)\": 0, \"type\": \"Mean\"}], \"data-55b1f2cb922e1d6b571e26a034954744\": [{\"Shapley Value\": -0.0037315547466277854, \"Feature\": \"Mean Chest <-> Right Ankle\", \"type\": \"Shapley Value\"}, {\"Shapley Value\": 0.01633783628543231, \"Feature\": \"STD Chest <-> Right Ankle\", \"type\": \"Shapley Value\"}, {\"Shapley Value\": 0.1293645047272246, \"Feature\": \"Mean Chest <-> Left Ankle\", \"type\": \"Shapley Value\"}, {\"Shapley Value\": 0.174270825553685, \"Feature\": \"STD Chest <-> Left Ankle\", \"type\": \"Shapley Value\"}, {\"Shapley Value\": 0.10783071642120678, \"Feature\": \"Mean Right Ankle <-> Left Ankle\", \"type\": \"Shapley Value\"}, {\"Shapley Value\": 0.09607234075665452, \"Feature\": \"STD Right Ankle <-> Left Ankle\", \"type\": \"Shapley Value\"}, {\"Shapley Value\": 0.06787356209630813, \"Feature\": \"Pruned Events\", \"type\": \"Shapley Value\"}, {\"Shapley Value\": 0.007585326790632285, \"Feature\": \"Mean Chest <-> Right Ankle\", \"type\": \"Shapley Value\"}, {\"Shapley Value\": 0.02075335751952881, \"Feature\": \"STD Chest <-> Right Ankle\", \"type\": \"Shapley Value\"}, {\"Shapley Value\": 0.11734476386613801, \"Feature\": \"Mean Chest <-> Left Ankle\", \"type\": \"Shapley Value\"}, {\"Shapley Value\": 0.1336234157816284, \"Feature\": \"STD Chest <-> Left Ankle\", \"type\": \"Shapley Value\"}, {\"Shapley Value\": 0.2941462176452787, \"Feature\": \"Mean Right Ankle <-> Left Ankle\", \"type\": \"Shapley Value\"}, {\"Shapley Value\": 0.10895940322162845, \"Feature\": \"STD Right Ankle <-> Left Ankle\", \"type\": \"Shapley Value\"}, {\"Shapley Value\": 0.09619845247250958, \"Feature\": \"Pruned Events\", \"type\": \"Shapley Value\"}, {\"Shapley Value\": -0.0014964762276835908, \"Feature\": \"Mean Chest <-> Right Ankle\", \"type\": \"Shapley Value\"}, {\"Shapley Value\": 0.017125093333778207, \"Feature\": \"STD Chest <-> Right Ankle\", \"type\": \"Shapley Value\"}, {\"Shapley Value\": 0.12727875832379593, \"Feature\": \"Mean Chest <-> Left Ankle\", \"type\": \"Shapley Value\"}, {\"Shapley Value\": 0.19357564000944982, \"Feature\": \"STD Chest <-> Left Ankle\", \"type\": \"Shapley Value\"}, {\"Shapley Value\": 0.223270549860206, \"Feature\": \"Mean Right Ankle <-> Left Ankle\", \"type\": \"Shapley Value\"}, {\"Shapley Value\": 0.1319306850300302, \"Feature\": \"STD Right Ankle <-> Left Ankle\", \"type\": \"Shapley Value\"}, {\"Shapley Value\": 0.12314127704039945, \"Feature\": \"Pruned Events\", \"type\": \"Shapley Value\"}, {\"Shapley Value\": 0.0060589356525313776, \"Feature\": \"Mean Chest <-> Right Ankle\", \"type\": \"Shapley Value\"}, {\"Shapley Value\": 0.021010522624211908, \"Feature\": \"STD Chest <-> Right Ankle\", \"type\": \"Shapley Value\"}, {\"Shapley Value\": 0.12945202801908767, \"Feature\": \"Mean Chest <-> Left Ankle\", \"type\": \"Shapley Value\"}, {\"Shapley Value\": 0.12061520990516439, \"Feature\": \"STD Chest <-> Left Ankle\", \"type\": \"Shapley Value\"}, {\"Shapley Value\": 0.13400809856663842, \"Feature\": \"Mean Right Ankle <-> Left Ankle\", \"type\": \"Shapley Value\"}, {\"Shapley Value\": 0.21506464588677568, \"Feature\": \"STD Right Ankle <-> Left Ankle\", \"type\": \"Shapley Value\"}, {\"Shapley Value\": 0.08456872867952536, \"Feature\": \"Pruned Events\", \"type\": \"Shapley Value\"}, {\"Shapley Value\": 0.09294550507218563, \"Feature\": \"Pruned Events\", \"type\": \"Mean\"}, {\"Shapley Value\": 0.0021040578672130716, \"Feature\": \"Mean Chest <-> Right Ankle\", \"type\": \"Mean\"}, {\"Shapley Value\": 0.12586001373406155, \"Feature\": \"Mean Chest <-> Left Ankle\", \"type\": \"Mean\"}, {\"Shapley Value\": 0.18981389562333248, \"Feature\": \"Mean Right Ankle <-> Left Ankle\", \"type\": \"Mean\"}, {\"Shapley Value\": 0.01880670244073781, \"Feature\": \"STD Chest <-> Right Ankle\", \"type\": \"Mean\"}, {\"Shapley Value\": 0.1555212728124819, \"Feature\": \"STD Chest <-> Left Ankle\", \"type\": \"Mean\"}, {\"Shapley Value\": 0.1380067687237722, \"Feature\": \"STD Right Ankle <-> Left Ankle\", \"type\": \"Mean\"}], \"data-a56b3492c7489cb5e0b5bd899e678ea1\": [{\"Shapley Value\": 0.019114430811086963, \"t (event index)\": 0, \"type\": \"Shapley Value\"}, {\"Shapley Value\": 0.043333159827879636, \"t (event index)\": -1, \"type\": \"Shapley Value\"}, {\"Shapley Value\": 0.12705625437145468, \"t (event index)\": -2, \"type\": \"Shapley Value\"}, {\"Shapley Value\": 0.09140596558162178, \"t (event index)\": -3, \"type\": \"Shapley Value\"}, {\"Shapley Value\": 0.08217769713104445, \"t (event index)\": -4, \"type\": \"Shapley Value\"}, {\"Shapley Value\": 0.016478854681696575, \"t (event index)\": -5, \"type\": \"Shapley Value\"}, {\"Shapley Value\": 0.006328163569571443, \"t (event index)\": -6, \"type\": \"Shapley Value\"}, {\"Shapley Value\": 0.037645712655275665, \"t (event index)\": -7, \"type\": \"Shapley Value\"}, {\"Shapley Value\": 0.04502363077631896, \"t (event index)\": -8, \"type\": \"Shapley Value\"}, {\"Shapley Value\": 0.010878177861367577, \"t (event index)\": -9, \"type\": \"Shapley Value\"}, {\"Shapley Value\": 0.01505499414068201, \"t (event index)\": -10, \"type\": \"Shapley Value\"}, {\"Shapley Value\": 0.0005119721491836926, \"t (event index)\": -11, \"type\": \"Shapley Value\"}, {\"Shapley Value\": 0.011523685414471824, \"t (event index)\": -12, \"type\": \"Shapley Value\"}, {\"Shapley Value\": 0.08429238496336144, \"t (event index)\": 0, \"type\": \"Shapley Value\"}, {\"Shapley Value\": 0.13860792027367114, \"t (event index)\": -1, \"type\": \"Shapley Value\"}, {\"Shapley Value\": 0.07504328940276062, \"t (event index)\": -2, \"type\": \"Shapley Value\"}, {\"Shapley Value\": 0.019738348910429027, \"t (event index)\": -3, \"type\": \"Shapley Value\"}, {\"Shapley Value\": 0.09880805731392173, \"t (event index)\": -4, \"type\": \"Shapley Value\"}, {\"Shapley Value\": 0.03355130695409986, \"t (event index)\": -5, \"type\": \"Shapley Value\"}, {\"Shapley Value\": 0.06668802964330356, \"t (event index)\": -6, \"type\": \"Shapley Value\"}, {\"Shapley Value\": 0.06549198864099115, \"t (event index)\": -7, \"type\": \"Shapley Value\"}, {\"Shapley Value\": 0.03617410796095066, \"t (event index)\": -8, \"type\": \"Shapley Value\"}, {\"Shapley Value\": 0.01765007798971191, \"t (event index)\": -9, \"type\": \"Shapley Value\"}, {\"Shapley Value\": 0.012260058792818551, \"t (event index)\": -10, \"type\": \"Shapley Value\"}, {\"Shapley Value\": 0.12459898502216565, \"t (event index)\": 0, \"type\": \"Shapley Value\"}, {\"Shapley Value\": 0.10735943549820637, \"t (event index)\": -1, \"type\": \"Shapley Value\"}, {\"Shapley Value\": 0.058065401292090035, \"t (event index)\": -2, \"type\": \"Shapley Value\"}, {\"Shapley Value\": 0.1107897395225752, \"t (event index)\": -3, \"type\": \"Shapley Value\"}, {\"Shapley Value\": 0.08068177192639908, \"t (event index)\": -4, \"type\": \"Shapley Value\"}, {\"Shapley Value\": 0.057464832988665504, \"t (event index)\": -5, \"type\": \"Shapley Value\"}, {\"Shapley Value\": 0.05778801556002039, \"t (event index)\": -6, \"type\": \"Shapley Value\"}, {\"Shapley Value\": 0.014619088965477867, \"t (event index)\": -7, \"type\": \"Shapley Value\"}, {\"Shapley Value\": 0.02884597383341375, \"t (event index)\": -8, \"type\": \"Shapley Value\"}, {\"Shapley Value\": 0.019488786413934922, \"t (event index)\": -9, \"type\": \"Shapley Value\"}, {\"Shapley Value\": 0.06449853085649349, \"t (event index)\": 0, \"type\": \"Shapley Value\"}, {\"Shapley Value\": 0.12024670021304756, \"t (event index)\": -1, \"type\": \"Shapley Value\"}, {\"Shapley Value\": 0.11044351324340973, \"t (event index)\": -2, \"type\": \"Shapley Value\"}, {\"Shapley Value\": 0.09179398497898472, \"t (event index)\": -3, \"type\": \"Shapley Value\"}, {\"Shapley Value\": 0.039485478619836645, \"t (event index)\": -4, \"type\": \"Shapley Value\"}, {\"Shapley Value\": 0.03863657128420628, \"t (event index)\": -5, \"type\": \"Shapley Value\"}, {\"Shapley Value\": 0.04125886313895433, \"t (event index)\": -6, \"type\": \"Shapley Value\"}, {\"Shapley Value\": 0.04534959938299177, \"t (event index)\": -7, \"type\": \"Shapley Value\"}, {\"Shapley Value\": 0.02839875772667988, \"t (event index)\": -8, \"type\": \"Shapley Value\"}, {\"Shapley Value\": 0.016468066004847626, \"t (event index)\": -9, \"type\": \"Shapley Value\"}, {\"Shapley Value\": 0.00857266137016266, \"t (event index)\": -10, \"type\": \"Shapley Value\"}, {\"Shapley Value\": 0.011523685414471824, \"t (event index)\": -12, \"type\": \"Mean\"}, {\"Shapley Value\": 0.0005119721491836926, \"t (event index)\": -11, \"type\": \"Mean\"}, {\"Shapley Value\": 0.011962571434554406, \"t (event index)\": -10, \"type\": \"Mean\"}, {\"Shapley Value\": 0.01612127706746551, \"t (event index)\": -9, \"type\": \"Mean\"}, {\"Shapley Value\": 0.034610617574340814, \"t (event index)\": -8, \"type\": \"Mean\"}, {\"Shapley Value\": 0.04077659741118411, \"t (event index)\": -7, \"type\": \"Mean\"}, {\"Shapley Value\": 0.04301576797796243, \"t (event index)\": -6, \"type\": \"Mean\"}, {\"Shapley Value\": 0.036532891477167054, \"t (event index)\": -5, \"type\": \"Mean\"}, {\"Shapley Value\": 0.07528825124780048, \"t (event index)\": -4, \"type\": \"Mean\"}, {\"Shapley Value\": 0.07843200974840268, \"t (event index)\": -3, \"type\": \"Mean\"}, {\"Shapley Value\": 0.09265211457742877, \"t (event index)\": -2, \"type\": \"Mean\"}, {\"Shapley Value\": 0.10238680395320118, \"t (event index)\": -1, \"type\": \"Mean\"}, {\"Shapley Value\": 0.07312608291327688, \"t (event index)\": 0, \"type\": \"Mean\"}], \"data-85d09a1dcca23bed56fc34622b23eb3e\": [{\"Shapley Value\": -0.004014672330092756, \"Feature\": \"Mean Chest <-> Right Ankle\", \"type\": \"Shapley Value\"}, {\"Shapley Value\": 0.01673108271899701, \"Feature\": \"STD Chest <-> Right Ankle\", \"type\": \"Shapley Value\"}, {\"Shapley Value\": 0.12161281019715331, \"Feature\": \"Mean Chest <-> Left Ankle\", \"type\": \"Shapley Value\"}, {\"Shapley Value\": 0.17110818094529534, \"Feature\": \"STD Chest <-> Left Ankle\", \"type\": \"Shapley Value\"}, {\"Shapley Value\": 0.10551456865810194, \"Feature\": \"Mean Right Ankle <-> Left Ankle\", \"type\": \"Shapley Value\"}, {\"Shapley Value\": 0.09012381748872841, \"Feature\": \"STD Right Ankle <-> Left Ankle\", \"type\": \"Shapley Value\"}, {\"Shapley Value\": 0.08694244341570023, \"Feature\": \"Pruned Events\", \"type\": \"Shapley Value\"}, {\"Shapley Value\": 0.007424981927587809, \"Feature\": \"Mean Chest <-> Right Ankle\", \"type\": \"Shapley Value\"}, {\"Shapley Value\": 0.020968332891131036, \"Feature\": \"STD Chest <-> Right Ankle\", \"type\": \"Shapley Value\"}, {\"Shapley Value\": 0.1188345970940734, \"Feature\": \"Mean Chest <-> Left Ankle\", \"type\": \"Shapley Value\"}, {\"Shapley Value\": 0.11785696506322829, \"Feature\": \"STD Chest <-> Left Ankle\", \"type\": \"Shapley Value\"}, {\"Shapley Value\": 0.2718007732537528, \"Feature\": \"Mean Right Ankle <-> Left Ankle\", \"type\": \"Shapley Value\"}, {\"Shapley Value\": 0.10620734266759368, \"Feature\": \"STD Right Ankle <-> Left Ankle\", \"type\": \"Shapley Value\"}, {\"Shapley Value\": 0.1355179443999771, \"Feature\": \"Pruned Events\", \"type\": \"Shapley Value\"}, {\"Shapley Value\": -0.0011185600821460306, \"Feature\": \"Mean Chest <-> Right Ankle\", \"type\": \"Shapley Value\"}, {\"Shapley Value\": 0.018624582381121108, \"Feature\": \"STD Chest <-> Right Ankle\", \"type\": \"Shapley Value\"}, {\"Shapley Value\": 0.11751547485944769, \"Feature\": \"Mean Chest <-> Left Ankle\", \"type\": \"Shapley Value\"}, {\"Shapley Value\": 0.1733627506443074, \"Feature\": \"STD Chest <-> Left Ankle\", \"type\": \"Shapley Value\"}, {\"Shapley Value\": 0.21963249558937675, \"Feature\": \"Mean Right Ankle <-> Left Ankle\", \"type\": \"Shapley Value\"}, {\"Shapley Value\": 0.12674347121002405, \"Feature\": \"STD Right Ankle <-> Left Ankle\", \"type\": \"Shapley Value\"}, {\"Shapley Value\": 0.16006531276784508, \"Feature\": \"Pruned Events\", \"type\": \"Shapley Value\"}, {\"Shapley Value\": 0.005215297133794927, \"Feature\": \"Mean Chest <-> Right Ankle\", \"type\": \"Shapley Value\"}, {\"Shapley Value\": 0.021076389858942918, \"Feature\": \"STD Chest <-> Right Ankle\", \"type\": \"Shapley Value\"}, {\"Shapley Value\": 0.1277575489044901, \"Feature\": \"Mean Chest <-> Left Ankle\", \"type\": \"Shapley Value\"}, {\"Shapley Value\": 0.10736302179949608, \"Feature\": \"STD Chest <-> Left Ankle\", \"type\": \"Shapley Value\"}, {\"Shapley Value\": 0.12876788563139374, \"Feature\": \"Mean Right Ankle <-> Left Ankle\", \"type\": \"Shapley Value\"}, {\"Shapley Value\": 0.20970648557302465, \"Feature\": \"STD Right Ankle <-> Left Ankle\", \"type\": \"Shapley Value\"}, {\"Shapley Value\": 0.11089154043279237, \"Feature\": \"Pruned Events\", \"type\": \"Shapley Value\"}, {\"Shapley Value\": 0.1233543102540787, \"Feature\": \"Pruned Events\", \"type\": \"Mean\"}, {\"Shapley Value\": 0.0018767616622859876, \"Feature\": \"Mean Chest <-> Right Ankle\", \"type\": \"Mean\"}, {\"Shapley Value\": 0.12143010776379112, \"Feature\": \"Mean Chest <-> Left Ankle\", \"type\": \"Mean\"}, {\"Shapley Value\": 0.1814289307831563, \"Feature\": \"Mean Right Ankle <-> Left Ankle\", \"type\": \"Mean\"}, {\"Shapley Value\": 0.019350096962548018, \"Feature\": \"STD Chest <-> Right Ankle\", \"type\": \"Mean\"}, {\"Shapley Value\": 0.14242272961308178, \"Feature\": \"STD Chest <-> Left Ankle\", \"type\": \"Mean\"}, {\"Shapley Value\": 0.1331952792348427, \"Feature\": \"STD Right Ankle <-> Left Ankle\", \"type\": \"Mean\"}]}}, {\"mode\": \"vega-lite\"});\n",
       "</script>"
      ],
      "text/plain": [
       "alt.VConcatChart(...)"
      ]
     },
     "execution_count": 25,
     "metadata": {},
     "output_type": "execute_result"
    }
   ],
   "source": [
    "global_plot"
   ]
  },
  {
   "cell_type": "markdown",
   "id": "2870782f",
   "metadata": {},
   "source": [
    "## 3.3 Individual Plots"
   ]
  },
  {
   "cell_type": "markdown",
   "id": "5c64c390",
   "metadata": {},
   "source": [
    "### Local Plots"
   ]
  },
  {
   "cell_type": "code",
   "execution_count": 26,
   "id": "5ec0c652",
   "metadata": {},
   "outputs": [],
   "source": [
    "from timeshap.plot import plot_temp_coalition_pruning, plot_event_heatmap, plot_feat_barplot, plot_cell_level\n",
    "from timeshap.explainer import local_pruning, local_event, local_feat, local_cell_level\n",
    "# select model features only\n",
    "pos_x_data = pos_x_pd[model_features]\n",
    "# convert the instance to numpy so TimeSHAP receives it\n",
    "pos_x_data = np.expand_dims(pos_x_data.to_numpy().copy(), axis=0)"
   ]
  },
  {
   "cell_type": "markdown",
   "id": "88fa7c6f",
   "metadata": {},
   "source": [
    "##### Pruning algorithm"
   ]
  },
  {
   "cell_type": "code",
   "execution_count": 27,
   "id": "d72a92fa",
   "metadata": {},
   "outputs": [
    {
     "data": {
      "text/html": [
       "\n",
       "<div id=\"altair-viz-65fd5ac4c3834351b8c3a81eba553bc9\"></div>\n",
       "<script type=\"text/javascript\">\n",
       "  (function(spec, embedOpt){\n",
       "    let outputDiv = document.currentScript.previousElementSibling;\n",
       "    if (outputDiv.id !== \"altair-viz-65fd5ac4c3834351b8c3a81eba553bc9\") {\n",
       "      outputDiv = document.getElementById(\"altair-viz-65fd5ac4c3834351b8c3a81eba553bc9\");\n",
       "    }\n",
       "    const paths = {\n",
       "      \"vega\": \"https://cdn.jsdelivr.net/npm//vega@5?noext\",\n",
       "      \"vega-lib\": \"https://cdn.jsdelivr.net/npm//vega-lib?noext\",\n",
       "      \"vega-lite\": \"https://cdn.jsdelivr.net/npm//vega-lite@4.8.1?noext\",\n",
       "      \"vega-embed\": \"https://cdn.jsdelivr.net/npm//vega-embed@6?noext\",\n",
       "    };\n",
       "\n",
       "    function loadScript(lib) {\n",
       "      return new Promise(function(resolve, reject) {\n",
       "        var s = document.createElement('script');\n",
       "        s.src = paths[lib];\n",
       "        s.async = true;\n",
       "        s.onload = () => resolve(paths[lib]);\n",
       "        s.onerror = () => reject(`Error loading script: ${paths[lib]}`);\n",
       "        document.getElementsByTagName(\"head\")[0].appendChild(s);\n",
       "      });\n",
       "    }\n",
       "\n",
       "    function showError(err) {\n",
       "      outputDiv.innerHTML = `<div class=\"error\" style=\"color:red;\">${err}</div>`;\n",
       "      throw err;\n",
       "    }\n",
       "\n",
       "    function displayChart(vegaEmbed) {\n",
       "      vegaEmbed(outputDiv, spec, embedOpt)\n",
       "        .catch(err => showError(`Javascript Error: ${err.message}<br>This usually means there's a typo in your chart specification. See the javascript console for the full traceback.`));\n",
       "    }\n",
       "\n",
       "    if(typeof define === \"function\" && define.amd) {\n",
       "      requirejs.config({paths});\n",
       "      require([\"vega-embed\"], displayChart, err => showError(`Error loading script: ${err.message}`));\n",
       "    } else if (typeof vegaEmbed === \"function\") {\n",
       "      displayChart(vegaEmbed);\n",
       "    } else {\n",
       "      loadScript(\"vega\")\n",
       "        .then(() => loadScript(\"vega-lite\"))\n",
       "        .then(() => loadScript(\"vega-embed\"))\n",
       "        .catch(showError)\n",
       "        .then(() => displayChart(vegaEmbed));\n",
       "    }\n",
       "  })({\"config\": {\"axis\": {\"domain\": true, \"domainColor\": \"#666F89\", \"grid\": false, \"gridCap\": \"round\", \"gridColor\": \"#B3B7C4\", \"gridDash\": [2, 4], \"gridWidth\": 0.5, \"labelColor\": \"#666F89\", \"labelFont\": \"Roboto, Arial, sans-serif\", \"labelPadding\": 2, \"tickColor\": \"#666F89\", \"tickOpacity\": 0.5, \"tickSize\": 4, \"titleColor\": \"#19274E\", \"titleFont\": \"Roboto, Arial, sans-serif\", \"titleFontSize\": 12}, \"axisBand\": {\"domain\": true, \"labelPadding\": 4, \"ticks\": false}, \"axisY\": {\"domain\": false, \"titleAlign\": \"left\", \"titleAngle\": 0, \"titleX\": -20, \"titleY\": -10}, \"legend\": {\"labelColor\": \"#666F89\", \"labelFont\": \"Roboto, Arial, sans-serif\", \"labelFontSize\": 12, \"symbolSize\": 40, \"titleColor\": \"#19274E\", \"titleFont\": \"Roboto, Arial, sans-serif\", \"titleFontSize\": 12, \"titlePadding\": 4}, \"arc\": {\"stroke\": \"#FFFFFF\", \"strokeWidth\": 1}, \"bar\": {\"fill\": \"#2770EB\", \"stroke\": null}, \"line\": {\"stroke\": \"#2770EB\", \"strokeWidth\": 2}, \"path\": {\"stroke\": \"#2770EB\", \"strokeWidth\": 0.5}, \"point\": {\"fill\": \"#2770EB\", \"shape\": \"circle\", \"filled\": true}, \"rect\": {\"fill\": \"#2770EB\"}, \"rule\": {\"stroke\": \"#666F89\"}, \"shape\": {\"stroke\": \"#2770EB\"}, \"text\": {\"color\": \"#19274E\", \"font\": \"Roboto, Arial, sans-serif\", \"fontSize\": 12}, \"range\": {\"category\": [\"#2770EB\", \"#77B98A\", \"#DA5252\", \"#FFC400\", \"#A87AEA\", \"#00A39E\", \"#19274E\"], \"diverging\": [\"#006360\", \"#2BB3AE\", \"#96D9D7\", \"#FFFFFF\", \"#EDAAAA\", \"#DA5252\", \"#811D1D\"], \"heatmap\": [\"#18448F\", \"#1B4EA5\", \"#2770EB\", \"#4C88EE\", \"#82ACF3\", \"#A6C4F7\", \"#E9F1FD\"], \"ramp\": [\"#18448F\", \"#1B4EA5\", \"#2770EB\", \"#4C88EE\", \"#82ACF3\", \"#A6C4F7\", \"#E9F1FD\"]}, \"background\": \"#FFFFFF\", \"group\": {\"fill\": \"#FFFFFF\"}, \"header\": {\"labelColor\": \"#19274E\", \"labelFont\": \"Roboto, Arial, sans-serif\", \"labelFontSize\": 12, \"titleColor\": \"#19274E\", \"titleFont\": \"Roboto, Arial, sans-serif\", \"titleFontSize\": 16}, \"title\": {\"anchor\": \"start\", \"color\": \"#19274E\", \"font\": \"Roboto, Arial, sans-serif\", \"fontSize\": 20, \"fontWeight\": \"bold\", \"offset\": 20, \"subtitleColor\": \"#19274E\", \"subtitleFontSize\": 16}, \"view\": {\"continuousHeight\": 300, \"continuousWidth\": 400, \"stroke\": \"transparent\"}}, \"layer\": [{\"mark\": {\"type\": \"area\", \"opacity\": 0.5}, \"encoding\": {\"color\": {\"type\": \"nominal\", \"field\": \"Coalition\", \"legend\": {\"fillColor\": \"white\", \"labelFontSize\": 14, \"labelLimit\": 0, \"orient\": \"top-left\", \"symbolSize\": 50, \"symbolStrokeWidth\": 0, \"title\": null}, \"scale\": {\"domain\": [\"Sum of contribution of events \\u2264 t\"], \"range\": [\"#618FE0\"]}}, \"x\": {\"type\": \"quantitative\", \"axis\": {\"labelFontSize\": 15, \"title\": \"t (event index)\", \"titleFontSize\": 15}, \"field\": \"t (event index)\"}, \"y\": {\"type\": \"quantitative\", \"axis\": {\"grid\": true, \"labelFontSize\": 15, \"titleFontSize\": 15, \"titleX\": -28}, \"field\": \"Shapley Value\", \"scale\": {\"domain\": [-0.05, 1]}}}}, {\"mark\": \"line\", \"encoding\": {\"color\": {\"type\": \"nominal\", \"field\": \"Coalition\", \"legend\": {\"fillColor\": \"white\", \"labelFontSize\": 14, \"labelLimit\": 0, \"orient\": \"top-left\", \"symbolSize\": 50, \"symbolStrokeWidth\": 0, \"title\": null}, \"scale\": {\"domain\": [\"Sum of contribution of events \\u2264 t\"], \"range\": [\"#618FE0\"]}}, \"x\": {\"type\": \"quantitative\", \"axis\": {\"labelFontSize\": 15, \"title\": \"t (event index)\", \"titleFontSize\": 15}, \"field\": \"t (event index)\"}, \"y\": {\"type\": \"quantitative\", \"axis\": {\"grid\": true, \"labelFontSize\": 15, \"titleFontSize\": 15, \"titleX\": -28}, \"field\": \"Shapley Value\", \"scale\": {\"domain\": [-0.05, 1]}}}}, {\"data\": {\"name\": \"data-e4f3cc544e6eb6f30b6d8b725eecc2f0\"}, \"mark\": {\"type\": \"rule\", \"color\": \"#E17560\"}, \"encoding\": {\"x\": {\"type\": \"quantitative\", \"field\": \"x\"}}}, {\"data\": {\"name\": \"data-0321a3891ffd7c195d8bf51451f0967c\"}, \"mark\": {\"type\": \"text\", \"angle\": 270, \"color\": \"#E17560\", \"fontSize\": 15, \"fontWeight\": \"bold\", \"text\": \"Pruning\"}, \"encoding\": {\"x\": {\"type\": \"quantitative\", \"field\": \"x\"}}}], \"data\": {\"name\": \"data-f6d0617344d11d5d6eb381e8151136c9\"}, \"height\": 225, \"width\": 350, \"$schema\": \"https://vega.github.io/schema/vega-lite/v4.8.1.json\", \"datasets\": {\"data-f6d0617344d11d5d6eb381e8151136c9\": [{\"Coalition\": \"Sum of contribution of events > t\", \"t (event index)\": 0, \"Shapley Value\": 0.0}, {\"Coalition\": \"Sum of contribution of events \\u2264 t\", \"t (event index)\": 0, \"Shapley Value\": 0.7107781693339348}, {\"Coalition\": \"Sum of contribution of events > t\", \"t (event index)\": -1, \"Shapley Value\": 0.057712833397090435}, {\"Coalition\": \"Sum of contribution of events \\u2264 t\", \"t (event index)\": -1, \"Shapley Value\": 0.6530653359368443}, {\"Coalition\": \"Sum of contribution of events > t\", \"t (event index)\": -2, \"Shapley Value\": 0.17809058539569378}, {\"Coalition\": \"Sum of contribution of events \\u2264 t\", \"t (event index)\": -2, \"Shapley Value\": 0.532687583938241}, {\"Coalition\": \"Sum of contribution of events > t\", \"t (event index)\": -3, \"Shapley Value\": 0.2974421586841345}, {\"Coalition\": \"Sum of contribution of events \\u2264 t\", \"t (event index)\": -3, \"Shapley Value\": 0.4133360106498003}, {\"Coalition\": \"Sum of contribution of events > t\", \"t (event index)\": -4, \"Shapley Value\": 0.37122948095202446}, {\"Coalition\": \"Sum of contribution of events \\u2264 t\", \"t (event index)\": -4, \"Shapley Value\": 0.3395486883819103}, {\"Coalition\": \"Sum of contribution of events > t\", \"t (event index)\": -5, \"Shapley Value\": 0.39915208518505096}, {\"Coalition\": \"Sum of contribution of events \\u2264 t\", \"t (event index)\": -5, \"Shapley Value\": 0.3116260841488838}, {\"Coalition\": \"Sum of contribution of events > t\", \"t (event index)\": -6, \"Shapley Value\": 0.4303387235850096}, {\"Coalition\": \"Sum of contribution of events \\u2264 t\", \"t (event index)\": -6, \"Shapley Value\": 0.2804394457489252}, {\"Coalition\": \"Sum of contribution of events > t\", \"t (event index)\": -7, \"Shapley Value\": 0.4784858925268054}, {\"Coalition\": \"Sum of contribution of events \\u2264 t\", \"t (event index)\": -7, \"Shapley Value\": 0.23229227680712938}, {\"Coalition\": \"Sum of contribution of events > t\", \"t (event index)\": -8, \"Shapley Value\": 0.5620398372411728}, {\"Coalition\": \"Sum of contribution of events \\u2264 t\", \"t (event index)\": -8, \"Shapley Value\": 0.148738332092762}, {\"Coalition\": \"Sum of contribution of events > t\", \"t (event index)\": -9, \"Shapley Value\": 0.605012415908277}, {\"Coalition\": \"Sum of contribution of events \\u2264 t\", \"t (event index)\": -9, \"Shapley Value\": 0.10576575342565775}, {\"Coalition\": \"Sum of contribution of events > t\", \"t (event index)\": -10, \"Shapley Value\": 0.6320168990641832}, {\"Coalition\": \"Sum of contribution of events \\u2264 t\", \"t (event index)\": -10, \"Shapley Value\": 0.07876127026975155}, {\"Coalition\": \"Sum of contribution of events > t\", \"t (event index)\": -11, \"Shapley Value\": 0.6398440385237336}, {\"Coalition\": \"Sum of contribution of events \\u2264 t\", \"t (event index)\": -11, \"Shapley Value\": 0.07093413081020117}, {\"Coalition\": \"Sum of contribution of events > t\", \"t (event index)\": -12, \"Shapley Value\": 0.6535957772284746}, {\"Coalition\": \"Sum of contribution of events \\u2264 t\", \"t (event index)\": -12, \"Shapley Value\": 0.05718239210546017}, {\"Coalition\": \"Sum of contribution of events > t\", \"t (event index)\": -13, \"Shapley Value\": 0.6625487552955747}, {\"Coalition\": \"Sum of contribution of events \\u2264 t\", \"t (event index)\": -13, \"Shapley Value\": 0.04822941403836012}, {\"Coalition\": \"Sum of contribution of events > t\", \"t (event index)\": -14, \"Shapley Value\": 0.6740840915590525}, {\"Coalition\": \"Sum of contribution of events \\u2264 t\", \"t (event index)\": -14, \"Shapley Value\": 0.03669407777488232}, {\"Coalition\": \"Sum of contribution of events > t\", \"t (event index)\": -15, \"Shapley Value\": 0.6845917971804738}, {\"Coalition\": \"Sum of contribution of events \\u2264 t\", \"t (event index)\": -15, \"Shapley Value\": 0.02618637215346098}, {\"Coalition\": \"Sum of contribution of events > t\", \"t (event index)\": -16, \"Shapley Value\": 0.6937809539958835}, {\"Coalition\": \"Sum of contribution of events \\u2264 t\", \"t (event index)\": -16, \"Shapley Value\": 0.01699721533805132}, {\"Coalition\": \"Sum of contribution of events > t\", \"t (event index)\": -17, \"Shapley Value\": 0.6962472945451736}, {\"Coalition\": \"Sum of contribution of events \\u2264 t\", \"t (event index)\": -17, \"Shapley Value\": 0.014530874788761139}, {\"Coalition\": \"Sum of contribution of events > t\", \"t (event index)\": -18, \"Shapley Value\": 0.6978941056877375}, {\"Coalition\": \"Sum of contribution of events \\u2264 t\", \"t (event index)\": -18, \"Shapley Value\": 0.012884063646197319}, {\"Coalition\": \"Sum of contribution of events > t\", \"t (event index)\": -19, \"Shapley Value\": 0.700493760406971}, {\"Coalition\": \"Sum of contribution of events \\u2264 t\", \"t (event index)\": -19, \"Shapley Value\": 0.010284408926963806}, {\"Coalition\": \"Sum of contribution of events > t\", \"t (event index)\": -20, \"Shapley Value\": 0.7035707738250494}, {\"Coalition\": \"Sum of contribution of events \\u2264 t\", \"t (event index)\": -20, \"Shapley Value\": 0.007207395508885384}, {\"Coalition\": \"Sum of contribution of events > t\", \"t (event index)\": -21, \"Shapley Value\": 0.7057067872956395}, {\"Coalition\": \"Sum of contribution of events \\u2264 t\", \"t (event index)\": -21, \"Shapley Value\": 0.005071382038295269}, {\"Coalition\": \"Sum of contribution of events > t\", \"t (event index)\": -22, \"Shapley Value\": 0.7066771052777767}, {\"Coalition\": \"Sum of contribution of events \\u2264 t\", \"t (event index)\": -22, \"Shapley Value\": 0.004101064056158066}, {\"Coalition\": \"Sum of contribution of events > t\", \"t (event index)\": -23, \"Shapley Value\": 0.7071699956431985}, {\"Coalition\": \"Sum of contribution of events \\u2264 t\", \"t (event index)\": -23, \"Shapley Value\": 0.003608173690736294}, {\"Coalition\": \"Sum of contribution of events > t\", \"t (event index)\": -24, \"Shapley Value\": 0.7083224253728986}, {\"Coalition\": \"Sum of contribution of events \\u2264 t\", \"t (event index)\": -24, \"Shapley Value\": 0.0024557439610362053}, {\"Coalition\": \"Sum of contribution of events > t\", \"t (event index)\": -25, \"Shapley Value\": 0.7086418839171529}, {\"Coalition\": \"Sum of contribution of events \\u2264 t\", \"t (event index)\": -25, \"Shapley Value\": 0.0021362854167819023}, {\"Coalition\": \"Sum of contribution of events > t\", \"t (event index)\": -26, \"Shapley Value\": 0.7090736972168088}, {\"Coalition\": \"Sum of contribution of events \\u2264 t\", \"t (event index)\": -26, \"Shapley Value\": 0.001704472117125988}, {\"Coalition\": \"Sum of contribution of events > t\", \"t (event index)\": -27, \"Shapley Value\": 0.7095956141129136}, {\"Coalition\": \"Sum of contribution of events \\u2264 t\", \"t (event index)\": -27, \"Shapley Value\": 0.0011825552210211754}, {\"Coalition\": \"Sum of contribution of events > t\", \"t (event index)\": -28, \"Shapley Value\": 0.7097701700404286}, {\"Coalition\": \"Sum of contribution of events \\u2264 t\", \"t (event index)\": -28, \"Shapley Value\": 0.0010079992935061455}, {\"Coalition\": \"Sum of contribution of events > t\", \"t (event index)\": -29, \"Shapley Value\": 0.7101138615980744}, {\"Coalition\": \"Sum of contribution of events \\u2264 t\", \"t (event index)\": -29, \"Shapley Value\": 0.0006643077358603477}, {\"Coalition\": \"Sum of contribution of events > t\", \"t (event index)\": -30, \"Shapley Value\": 0.7103128843009472}, {\"Coalition\": \"Sum of contribution of events \\u2264 t\", \"t (event index)\": -30, \"Shapley Value\": 0.0004652850329875946}, {\"Coalition\": \"Sum of contribution of events > t\", \"t (event index)\": -31, \"Shapley Value\": 0.7103166040033102}, {\"Coalition\": \"Sum of contribution of events \\u2264 t\", \"t (event index)\": -31, \"Shapley Value\": 0.0004615653306245804}, {\"Coalition\": \"Sum of contribution of events > t\", \"t (event index)\": -32, \"Shapley Value\": 0.7104071844369173}, {\"Coalition\": \"Sum of contribution of events \\u2264 t\", \"t (event index)\": -32, \"Shapley Value\": 0.00037098489701747894}, {\"Coalition\": \"Sum of contribution of events > t\", \"t (event index)\": -33, \"Shapley Value\": 0.7104718266054988}, {\"Coalition\": \"Sum of contribution of events \\u2264 t\", \"t (event index)\": -33, \"Shapley Value\": 0.0003063427284359932}, {\"Coalition\": \"Sum of contribution of events > t\", \"t (event index)\": -34, \"Shapley Value\": 0.710560436360538}, {\"Coalition\": \"Sum of contribution of events \\u2264 t\", \"t (event index)\": -34, \"Shapley Value\": 0.0002177329733967781}, {\"Coalition\": \"Sum of contribution of events > t\", \"t (event index)\": -35, \"Shapley Value\": 0.7106466190889478}, {\"Coalition\": \"Sum of contribution of events \\u2264 t\", \"t (event index)\": -35, \"Shapley Value\": 0.00013155024498701096}, {\"Coalition\": \"Sum of contribution of events > t\", \"t (event index)\": -36, \"Shapley Value\": 0.7106990283355117}, {\"Coalition\": \"Sum of contribution of events \\u2264 t\", \"t (event index)\": -36, \"Shapley Value\": 7.914099842309952e-05}, {\"Coalition\": \"Sum of contribution of events > t\", \"t (event index)\": -37, \"Shapley Value\": 0.7107058791443706}, {\"Coalition\": \"Sum of contribution of events \\u2264 t\", \"t (event index)\": -37, \"Shapley Value\": 7.229018956422806e-05}, {\"Coalition\": \"Sum of contribution of events > t\", \"t (event index)\": -38, \"Shapley Value\": 0.710717192851007}, {\"Coalition\": \"Sum of contribution of events \\u2264 t\", \"t (event index)\": -38, \"Shapley Value\": 6.0976482927799225e-05}, {\"Coalition\": \"Sum of contribution of events > t\", \"t (event index)\": -39, \"Shapley Value\": 0.7107428032904863}, {\"Coalition\": \"Sum of contribution of events \\u2264 t\", \"t (event index)\": -39, \"Shapley Value\": 3.536604344844818e-05}, {\"Coalition\": \"Sum of contribution of events > t\", \"t (event index)\": -40, \"Shapley Value\": 0.7107479805126786}, {\"Coalition\": \"Sum of contribution of events \\u2264 t\", \"t (event index)\": -40, \"Shapley Value\": 3.0188821256160736e-05}], \"data-e4f3cc544e6eb6f30b6d8b725eecc2f0\": [{\"x\": -16}], \"data-0321a3891ffd7c195d8bf51451f0967c\": [{\"x\": -18}]}}, {\"mode\": \"vega-lite\"});\n",
       "</script>"
      ],
      "text/plain": [
       "alt.LayerChart(...)"
      ]
     },
     "execution_count": 27,
     "metadata": {},
     "output_type": "execute_result"
    }
   ],
   "source": [
    "pruning_dict = {'tol': 0.025,}\n",
    "coal_plot_data, coal_prun_idx = local_pruning(f_hs, pos_x_data, pruning_dict, average_event, positive_sequence_id, sequence_id_feat, False)\n",
    "# coal_prun_idx is in negative terms\n",
    "pruning_idx = pos_x_data.shape[1] + coal_prun_idx\n",
    "pruning_plot = plot_temp_coalition_pruning(coal_plot_data, coal_prun_idx, plot_limit=40)\n",
    "pruning_plot"
   ]
  },
  {
   "cell_type": "markdown",
   "id": "ebc8bf02",
   "metadata": {},
   "source": [
    "##### Event-level explanation"
   ]
  },
  {
   "cell_type": "code",
   "execution_count": 28,
   "id": "4ac0cb06",
   "metadata": {},
   "outputs": [
    {
     "data": {
      "text/html": [
       "\n",
       "<div id=\"altair-viz-59ae5669dd6c463088f3442b4af39b5d\"></div>\n",
       "<script type=\"text/javascript\">\n",
       "  (function(spec, embedOpt){\n",
       "    let outputDiv = document.currentScript.previousElementSibling;\n",
       "    if (outputDiv.id !== \"altair-viz-59ae5669dd6c463088f3442b4af39b5d\") {\n",
       "      outputDiv = document.getElementById(\"altair-viz-59ae5669dd6c463088f3442b4af39b5d\");\n",
       "    }\n",
       "    const paths = {\n",
       "      \"vega\": \"https://cdn.jsdelivr.net/npm//vega@5?noext\",\n",
       "      \"vega-lib\": \"https://cdn.jsdelivr.net/npm//vega-lib?noext\",\n",
       "      \"vega-lite\": \"https://cdn.jsdelivr.net/npm//vega-lite@4.8.1?noext\",\n",
       "      \"vega-embed\": \"https://cdn.jsdelivr.net/npm//vega-embed@6?noext\",\n",
       "    };\n",
       "\n",
       "    function loadScript(lib) {\n",
       "      return new Promise(function(resolve, reject) {\n",
       "        var s = document.createElement('script');\n",
       "        s.src = paths[lib];\n",
       "        s.async = true;\n",
       "        s.onload = () => resolve(paths[lib]);\n",
       "        s.onerror = () => reject(`Error loading script: ${paths[lib]}`);\n",
       "        document.getElementsByTagName(\"head\")[0].appendChild(s);\n",
       "      });\n",
       "    }\n",
       "\n",
       "    function showError(err) {\n",
       "      outputDiv.innerHTML = `<div class=\"error\" style=\"color:red;\">${err}</div>`;\n",
       "      throw err;\n",
       "    }\n",
       "\n",
       "    function displayChart(vegaEmbed) {\n",
       "      vegaEmbed(outputDiv, spec, embedOpt)\n",
       "        .catch(err => showError(`Javascript Error: ${err.message}<br>This usually means there's a typo in your chart specification. See the javascript console for the full traceback.`));\n",
       "    }\n",
       "\n",
       "    if(typeof define === \"function\" && define.amd) {\n",
       "      requirejs.config({paths});\n",
       "      require([\"vega-embed\"], displayChart, err => showError(`Error loading script: ${err.message}`));\n",
       "    } else if (typeof vegaEmbed === \"function\") {\n",
       "      displayChart(vegaEmbed);\n",
       "    } else {\n",
       "      loadScript(\"vega\")\n",
       "        .then(() => loadScript(\"vega-lite\"))\n",
       "        .then(() => loadScript(\"vega-embed\"))\n",
       "        .catch(showError)\n",
       "        .then(() => displayChart(vegaEmbed));\n",
       "    }\n",
       "  })({\"config\": {\"axis\": {\"domain\": true, \"domainColor\": \"#666F89\", \"grid\": false, \"gridCap\": \"round\", \"gridColor\": \"#B3B7C4\", \"gridDash\": [2, 4], \"gridWidth\": 0.5, \"labelColor\": \"#666F89\", \"labelFont\": \"Roboto, Arial, sans-serif\", \"labelPadding\": 2, \"tickColor\": \"#666F89\", \"tickOpacity\": 0.5, \"tickSize\": 4, \"titleColor\": \"#19274E\", \"titleFont\": \"Roboto, Arial, sans-serif\", \"titleFontSize\": 12}, \"axisBand\": {\"domain\": true, \"labelPadding\": 4, \"ticks\": false}, \"axisY\": {\"domain\": false, \"titleAlign\": \"left\", \"titleAngle\": 0, \"titleX\": -20, \"titleY\": -10}, \"legend\": {\"labelColor\": \"#666F89\", \"labelFont\": \"Roboto, Arial, sans-serif\", \"labelFontSize\": 12, \"symbolSize\": 40, \"titleColor\": \"#19274E\", \"titleFont\": \"Roboto, Arial, sans-serif\", \"titleFontSize\": 12, \"titlePadding\": 4}, \"arc\": {\"stroke\": \"#FFFFFF\", \"strokeWidth\": 1}, \"bar\": {\"fill\": \"#2770EB\", \"stroke\": null}, \"line\": {\"stroke\": \"#2770EB\", \"strokeWidth\": 2}, \"path\": {\"stroke\": \"#2770EB\", \"strokeWidth\": 0.5}, \"point\": {\"fill\": \"#2770EB\", \"shape\": \"circle\", \"filled\": true}, \"rect\": {\"fill\": \"#2770EB\"}, \"rule\": {\"stroke\": \"#666F89\"}, \"shape\": {\"stroke\": \"#2770EB\"}, \"text\": {\"color\": \"#19274E\", \"font\": \"Roboto, Arial, sans-serif\", \"fontSize\": 12}, \"range\": {\"category\": [\"#2770EB\", \"#77B98A\", \"#DA5252\", \"#FFC400\", \"#A87AEA\", \"#00A39E\", \"#19274E\"], \"diverging\": [\"#006360\", \"#2BB3AE\", \"#96D9D7\", \"#FFFFFF\", \"#EDAAAA\", \"#DA5252\", \"#811D1D\"], \"heatmap\": [\"#18448F\", \"#1B4EA5\", \"#2770EB\", \"#4C88EE\", \"#82ACF3\", \"#A6C4F7\", \"#E9F1FD\"], \"ramp\": [\"#18448F\", \"#1B4EA5\", \"#2770EB\", \"#4C88EE\", \"#82ACF3\", \"#A6C4F7\", \"#E9F1FD\"]}, \"background\": \"#FFFFFF\", \"group\": {\"fill\": \"#FFFFFF\"}, \"header\": {\"labelColor\": \"#19274E\", \"labelFont\": \"Roboto, Arial, sans-serif\", \"labelFontSize\": 12, \"titleColor\": \"#19274E\", \"titleFont\": \"Roboto, Arial, sans-serif\", \"titleFontSize\": 16}, \"title\": {\"anchor\": \"start\", \"color\": \"#19274E\", \"font\": \"Roboto, Arial, sans-serif\", \"fontSize\": 20, \"fontWeight\": \"bold\", \"offset\": 20, \"subtitleColor\": \"#19274E\", \"subtitleFontSize\": 16}, \"view\": {\"continuousHeight\": 300, \"continuousWidth\": 400, \"stroke\": \"transparent\"}}, \"layer\": [{\"mark\": \"rect\", \"encoding\": {\"color\": {\"type\": \"quantitative\", \"field\": \"rounded\", \"legend\": {\"gradientLength\": 225, \"gradientThickness\": 10, \"labelFontSize\": 15, \"orient\": \"right\"}, \"scale\": {\"domain\": [-0.5, 0.5], \"range\": [\"#5f8fd6\", \"#99c3fb\", \"#f5f5f5\", \"#ffaa92\", \"#d16f5b\"]}, \"title\": null}, \"x\": {\"type\": \"ordinal\", \"axis\": {\"title\": \"Shapley Value\", \"titleFontSize\": 15}, \"field\": \"column\"}, \"y\": {\"type\": \"ordinal\", \"axis\": {\"domain\": false, \"labelFontSize\": 15, \"title\": \"Event\", \"titleFontSize\": 15, \"titleX\": -49}, \"field\": \"Feature\", \"sort\": [\"Event -1\", \"Event -2\", \"Event -3\", \"Event -4\", \"Event -5\", \"Event -6\", \"Event -7\", \"Event -8\", \"Event -9\", \"Event -10\", \"Event -11\", \"Event -12\", \"Event -13\", \"Event -14\", \"Event -15\", \"Event -16\", \"Pruned Events\"]}}}, {\"mark\": {\"type\": \"text\", \"align\": \"right\", \"baseline\": \"middle\", \"color\": \"#798184\", \"dx\": 18, \"fontSize\": 15}, \"encoding\": {\"text\": {\"type\": \"nominal\", \"field\": \"rounded_str\"}, \"x\": {\"type\": \"ordinal\", \"axis\": {\"domain\": false, \"labels\": false, \"title\": \"Shapley Value\", \"titleX\": 43}, \"field\": \"column\"}, \"y\": {\"type\": \"ordinal\", \"axis\": {\"domain\": false, \"labelFontSize\": 15, \"title\": \"Event\", \"titleFontSize\": 15, \"titleX\": -49}, \"field\": \"Feature\", \"sort\": [\"Event -1\", \"Event -2\", \"Event -3\", \"Event -4\", \"Event -5\", \"Event -6\", \"Event -7\", \"Event -8\", \"Event -9\", \"Event -10\", \"Event -11\", \"Event -12\", \"Event -13\", \"Event -14\", \"Event -15\", \"Event -16\", \"Pruned Events\"]}}}], \"data\": {\"name\": \"data-fbbde1a586a62b9be734062e55cfe71f\"}, \"height\": 225, \"width\": 60, \"$schema\": \"https://vega.github.io/schema/vega-lite/v4.8.1.json\", \"datasets\": {\"data-fbbde1a586a62b9be734062e55cfe71f\": [{\"Shapley Value\": 0.06576201400065218, \"Feature\": \"Event -1\", \"row\": 1, \"column\": 1, \"rounded\": 0.066, \"rounded_str\": \"0.066\"}, {\"Shapley Value\": 0.12282059142858248, \"Feature\": \"Event -2\", \"row\": 2, \"column\": 1, \"rounded\": 0.123, \"rounded_str\": \"0.123\"}, {\"Shapley Value\": 0.11251037069836212, \"Feature\": \"Event -3\", \"row\": 3, \"column\": 1, \"rounded\": 0.113, \"rounded_str\": \"0.113\"}, {\"Shapley Value\": 0.09340161979500328, \"Feature\": \"Event -4\", \"row\": 4, \"column\": 1, \"rounded\": 0.093, \"rounded_str\": \"0.093\"}, {\"Shapley Value\": 0.04015413834025766, \"Feature\": \"Event -5\", \"row\": 5, \"column\": 1, \"rounded\": 0.04, \"rounded_str\": \"0.040\"}, {\"Shapley Value\": 0.03935895115488902, \"Feature\": \"Event -6\", \"row\": 6, \"column\": 1, \"rounded\": 0.039, \"rounded_str\": \"0.039\"}, {\"Shapley Value\": 0.042039243987998354, \"Feature\": \"Event -7\", \"row\": 7, \"column\": 1, \"rounded\": 0.042, \"rounded_str\": \"0.042\"}, {\"Shapley Value\": 0.04649206692504815, \"Feature\": \"Event -8\", \"row\": 8, \"column\": 1, \"rounded\": 0.046, \"rounded_str\": \"0.046\"}, {\"Shapley Value\": 0.029334485679092137, \"Feature\": \"Event -9\", \"row\": 9, \"column\": 1, \"rounded\": 0.029, \"rounded_str\": \"0.029\"}, {\"Shapley Value\": 0.01877774781770808, \"Feature\": \"Event -10\", \"row\": 10, \"column\": 1, \"rounded\": 0.019, \"rounded_str\": \"0.019\"}, {\"Shapley Value\": 0.00924760929093521, \"Feature\": \"Event -11\", \"row\": 11, \"column\": 1, \"rounded\": 0.009, \"rounded_str\": \"0.009\"}, {\"Shapley Value\": 0.01501254097266641, \"Feature\": \"Event -12\", \"row\": 12, \"column\": 1, \"rounded\": 0.015, \"rounded_str\": \"0.015\"}, {\"Shapley Value\": 0.007578575860970993, \"Feature\": \"Event -13\", \"row\": 13, \"column\": 1, \"rounded\": 0.008, \"rounded_str\": \"0.008\"}, {\"Shapley Value\": 0.009566289955316165, \"Feature\": \"Event -14\", \"row\": 14, \"column\": 1, \"rounded\": 0.01, \"rounded_str\": \"0.010\"}, {\"Shapley Value\": 0.010720531986177673, \"Feature\": \"Event -15\", \"row\": 15, \"column\": 1, \"rounded\": 0.011, \"rounded_str\": \"0.011\"}, {\"Shapley Value\": 0.010046358145133771, \"Feature\": \"Event -16\", \"row\": 16, \"column\": 1, \"rounded\": 0.01, \"rounded_str\": \"0.010\"}, {\"Shapley Value\": 0.03795503329514105, \"Feature\": \"Pruned Events\", \"row\": 17, \"column\": 1, \"rounded\": 0.038, \"rounded_str\": \"0.038\"}]}}, {\"mode\": \"vega-lite\"});\n",
       "</script>"
      ],
      "text/plain": [
       "alt.LayerChart(...)"
      ]
     },
     "execution_count": 28,
     "metadata": {},
     "output_type": "execute_result"
    }
   ],
   "source": [
    "event_dict = {'rs': 42, 'nsamples': 32000}\n",
    "event_data = local_event(f_hs, pos_x_data, event_dict, positive_sequence_id, sequence_id_feat, average_event, pruning_idx)\n",
    "event_plot = plot_event_heatmap(event_data)\n",
    "event_plot"
   ]
  },
  {
   "cell_type": "markdown",
   "id": "766a2102",
   "metadata": {},
   "source": [
    "##### Feature-level explanation"
   ]
  },
  {
   "cell_type": "code",
   "execution_count": 29,
   "id": "1c6776c0",
   "metadata": {},
   "outputs": [
    {
     "data": {
      "text/html": [
       "\n",
       "<div id=\"altair-viz-ef75212cdafe442287f75599264012b0\"></div>\n",
       "<script type=\"text/javascript\">\n",
       "  (function(spec, embedOpt){\n",
       "    let outputDiv = document.currentScript.previousElementSibling;\n",
       "    if (outputDiv.id !== \"altair-viz-ef75212cdafe442287f75599264012b0\") {\n",
       "      outputDiv = document.getElementById(\"altair-viz-ef75212cdafe442287f75599264012b0\");\n",
       "    }\n",
       "    const paths = {\n",
       "      \"vega\": \"https://cdn.jsdelivr.net/npm//vega@5?noext\",\n",
       "      \"vega-lib\": \"https://cdn.jsdelivr.net/npm//vega-lib?noext\",\n",
       "      \"vega-lite\": \"https://cdn.jsdelivr.net/npm//vega-lite@4.8.1?noext\",\n",
       "      \"vega-embed\": \"https://cdn.jsdelivr.net/npm//vega-embed@6?noext\",\n",
       "    };\n",
       "\n",
       "    function loadScript(lib) {\n",
       "      return new Promise(function(resolve, reject) {\n",
       "        var s = document.createElement('script');\n",
       "        s.src = paths[lib];\n",
       "        s.async = true;\n",
       "        s.onload = () => resolve(paths[lib]);\n",
       "        s.onerror = () => reject(`Error loading script: ${paths[lib]}`);\n",
       "        document.getElementsByTagName(\"head\")[0].appendChild(s);\n",
       "      });\n",
       "    }\n",
       "\n",
       "    function showError(err) {\n",
       "      outputDiv.innerHTML = `<div class=\"error\" style=\"color:red;\">${err}</div>`;\n",
       "      throw err;\n",
       "    }\n",
       "\n",
       "    function displayChart(vegaEmbed) {\n",
       "      vegaEmbed(outputDiv, spec, embedOpt)\n",
       "        .catch(err => showError(`Javascript Error: ${err.message}<br>This usually means there's a typo in your chart specification. See the javascript console for the full traceback.`));\n",
       "    }\n",
       "\n",
       "    if(typeof define === \"function\" && define.amd) {\n",
       "      requirejs.config({paths});\n",
       "      require([\"vega-embed\"], displayChart, err => showError(`Error loading script: ${err.message}`));\n",
       "    } else if (typeof vegaEmbed === \"function\") {\n",
       "      displayChart(vegaEmbed);\n",
       "    } else {\n",
       "      loadScript(\"vega\")\n",
       "        .then(() => loadScript(\"vega-lite\"))\n",
       "        .then(() => loadScript(\"vega-embed\"))\n",
       "        .catch(showError)\n",
       "        .then(() => displayChart(vegaEmbed));\n",
       "    }\n",
       "  })({\"config\": {\"axis\": {\"domain\": true, \"domainColor\": \"#666F89\", \"grid\": false, \"gridCap\": \"round\", \"gridColor\": \"#B3B7C4\", \"gridDash\": [2, 4], \"gridWidth\": 0.5, \"labelColor\": \"#666F89\", \"labelFont\": \"Roboto, Arial, sans-serif\", \"labelPadding\": 2, \"tickColor\": \"#666F89\", \"tickOpacity\": 0.5, \"tickSize\": 4, \"titleColor\": \"#19274E\", \"titleFont\": \"Roboto, Arial, sans-serif\", \"titleFontSize\": 12}, \"axisBand\": {\"domain\": true, \"labelPadding\": 4, \"ticks\": false}, \"axisY\": {\"domain\": false, \"titleAlign\": \"left\", \"titleAngle\": 0, \"titleX\": -20, \"titleY\": -10}, \"legend\": {\"labelColor\": \"#666F89\", \"labelFont\": \"Roboto, Arial, sans-serif\", \"labelFontSize\": 12, \"symbolSize\": 40, \"titleColor\": \"#19274E\", \"titleFont\": \"Roboto, Arial, sans-serif\", \"titleFontSize\": 12, \"titlePadding\": 4}, \"arc\": {\"stroke\": \"#FFFFFF\", \"strokeWidth\": 1}, \"bar\": {\"fill\": \"#2770EB\", \"stroke\": null}, \"line\": {\"stroke\": \"#2770EB\", \"strokeWidth\": 2}, \"path\": {\"stroke\": \"#2770EB\", \"strokeWidth\": 0.5}, \"point\": {\"fill\": \"#2770EB\", \"shape\": \"circle\", \"filled\": true}, \"rect\": {\"fill\": \"#2770EB\"}, \"rule\": {\"stroke\": \"#666F89\"}, \"shape\": {\"stroke\": \"#2770EB\"}, \"text\": {\"color\": \"#19274E\", \"font\": \"Roboto, Arial, sans-serif\", \"fontSize\": 12}, \"range\": {\"category\": [\"#2770EB\", \"#77B98A\", \"#DA5252\", \"#FFC400\", \"#A87AEA\", \"#00A39E\", \"#19274E\"], \"diverging\": [\"#006360\", \"#2BB3AE\", \"#96D9D7\", \"#FFFFFF\", \"#EDAAAA\", \"#DA5252\", \"#811D1D\"], \"heatmap\": [\"#18448F\", \"#1B4EA5\", \"#2770EB\", \"#4C88EE\", \"#82ACF3\", \"#A6C4F7\", \"#E9F1FD\"], \"ramp\": [\"#18448F\", \"#1B4EA5\", \"#2770EB\", \"#4C88EE\", \"#82ACF3\", \"#A6C4F7\", \"#E9F1FD\"]}, \"background\": \"#FFFFFF\", \"group\": {\"fill\": \"#FFFFFF\"}, \"header\": {\"labelColor\": \"#19274E\", \"labelFont\": \"Roboto, Arial, sans-serif\", \"labelFontSize\": 12, \"titleColor\": \"#19274E\", \"titleFont\": \"Roboto, Arial, sans-serif\", \"titleFontSize\": 16}, \"title\": {\"anchor\": \"start\", \"color\": \"#19274E\", \"font\": \"Roboto, Arial, sans-serif\", \"fontSize\": 20, \"fontWeight\": \"bold\", \"offset\": 20, \"subtitleColor\": \"#19274E\", \"subtitleFontSize\": 16}, \"view\": {\"continuousHeight\": 300, \"continuousWidth\": 400, \"stroke\": \"transparent\"}}, \"layer\": [{\"data\": {\"name\": \"data-b09dfe608dcd4be0669b980e33f5012b\"}, \"mark\": {\"type\": \"bar\", \"size\": 15, \"thickness\": 1}, \"encoding\": {\"x\": {\"type\": \"quantitative\", \"axis\": {\"grid\": true, \"labelFontSize\": 15, \"title\": \"Shapley Value\", \"titleFontSize\": 15}, \"field\": \"Shapley Value\", \"scale\": {\"domain\": [-0.1, 0.4]}}, \"y\": {\"type\": \"nominal\", \"axis\": {\"labelFontSize\": 15, \"title\": \"Feature\", \"titleFontSize\": 15, \"titleX\": -61}, \"field\": \"Feature\", \"sort\": {\"field\": \"sort_col\", \"order\": \"descending\"}}}}, {\"data\": {\"name\": \"data-9c00aa9dc2b1c1a0b4bf9b34ead12925\"}, \"mark\": {\"type\": \"rule\", \"color\": \"#798184\"}, \"encoding\": {\"x\": {\"type\": \"quantitative\", \"field\": \"x\"}}}], \"height\": 225, \"width\": 190, \"$schema\": \"https://vega.github.io/schema/vega-lite/v4.8.1.json\", \"datasets\": {\"data-b09dfe608dcd4be0669b980e33f5012b\": [{\"Random seed\": 42, \"NSamples\": 32000, \"Feature\": \"Mean Chest <-> Right Ankle\", \"Shapley Value\": 0.007282042725100413, \"sort_col\": 0.007282042725100413}, {\"Random seed\": 42, \"NSamples\": 32000, \"Feature\": \"STD Chest <-> Right Ankle\", \"Shapley Value\": 0.02206718329162838, \"sort_col\": 0.02206718329162838}, {\"Random seed\": 42, \"NSamples\": 32000, \"Feature\": \"Mean Chest <-> Left Ankle\", \"Shapley Value\": 0.14146891618591007, \"sort_col\": 0.14146891618591007}, {\"Random seed\": 42, \"NSamples\": 32000, \"Feature\": \"STD Chest <-> Left Ankle\", \"Shapley Value\": 0.13287185707262572, \"sort_col\": 0.13287185707262572}, {\"Random seed\": 42, \"NSamples\": 32000, \"Feature\": \"Mean Right Ankle <-> Left Ankle\", \"Shapley Value\": 0.13443667789743746, \"sort_col\": 0.13443667789743746}, {\"Random seed\": 42, \"NSamples\": 32000, \"Feature\": \"STD Right Ankle <-> Left Ankle\", \"Shapley Value\": 0.23095326930107088, \"sort_col\": 0.23095326930107088}, {\"Random seed\": 42, \"NSamples\": 32000, \"Feature\": \"Pruned Events\", \"Shapley Value\": 0.04169822286016189, \"sort_col\": 0.04169822286016189}], \"data-9c00aa9dc2b1c1a0b4bf9b34ead12925\": [{\"x\": 0}]}}, {\"mode\": \"vega-lite\"});\n",
       "</script>"
      ],
      "text/plain": [
       "alt.LayerChart(...)"
      ]
     },
     "execution_count": 29,
     "metadata": {},
     "output_type": "execute_result"
    }
   ],
   "source": [
    "feature_dict = {'rs': 42, 'nsamples': 32000, 'feature_names': model_features, 'plot_features': plot_feats}\n",
    "feature_data = local_feat(f_hs, pos_x_data, feature_dict, positive_sequence_id, sequence_id_feat, average_event, pruning_idx)\n",
    "feature_plot = plot_feat_barplot(feature_data, feature_dict.get('top_feats'), feature_dict.get('plot_features'))\n",
    "feature_plot"
   ]
  },
  {
   "cell_type": "markdown",
   "id": "1a6d9b36",
   "metadata": {},
   "source": [
    "##### Cell-level explanation"
   ]
  },
  {
   "cell_type": "code",
   "execution_count": 30,
   "id": "3a13c961",
   "metadata": {},
   "outputs": [
    {
     "data": {
      "text/html": [
       "\n",
       "<div id=\"altair-viz-5e17673c77224ad6a9b42e4f214892aa\"></div>\n",
       "<script type=\"text/javascript\">\n",
       "  (function(spec, embedOpt){\n",
       "    let outputDiv = document.currentScript.previousElementSibling;\n",
       "    if (outputDiv.id !== \"altair-viz-5e17673c77224ad6a9b42e4f214892aa\") {\n",
       "      outputDiv = document.getElementById(\"altair-viz-5e17673c77224ad6a9b42e4f214892aa\");\n",
       "    }\n",
       "    const paths = {\n",
       "      \"vega\": \"https://cdn.jsdelivr.net/npm//vega@5?noext\",\n",
       "      \"vega-lib\": \"https://cdn.jsdelivr.net/npm//vega-lib?noext\",\n",
       "      \"vega-lite\": \"https://cdn.jsdelivr.net/npm//vega-lite@4.8.1?noext\",\n",
       "      \"vega-embed\": \"https://cdn.jsdelivr.net/npm//vega-embed@6?noext\",\n",
       "    };\n",
       "\n",
       "    function loadScript(lib) {\n",
       "      return new Promise(function(resolve, reject) {\n",
       "        var s = document.createElement('script');\n",
       "        s.src = paths[lib];\n",
       "        s.async = true;\n",
       "        s.onload = () => resolve(paths[lib]);\n",
       "        s.onerror = () => reject(`Error loading script: ${paths[lib]}`);\n",
       "        document.getElementsByTagName(\"head\")[0].appendChild(s);\n",
       "      });\n",
       "    }\n",
       "\n",
       "    function showError(err) {\n",
       "      outputDiv.innerHTML = `<div class=\"error\" style=\"color:red;\">${err}</div>`;\n",
       "      throw err;\n",
       "    }\n",
       "\n",
       "    function displayChart(vegaEmbed) {\n",
       "      vegaEmbed(outputDiv, spec, embedOpt)\n",
       "        .catch(err => showError(`Javascript Error: ${err.message}<br>This usually means there's a typo in your chart specification. See the javascript console for the full traceback.`));\n",
       "    }\n",
       "\n",
       "    if(typeof define === \"function\" && define.amd) {\n",
       "      requirejs.config({paths});\n",
       "      require([\"vega-embed\"], displayChart, err => showError(`Error loading script: ${err.message}`));\n",
       "    } else if (typeof vegaEmbed === \"function\") {\n",
       "      displayChart(vegaEmbed);\n",
       "    } else {\n",
       "      loadScript(\"vega\")\n",
       "        .then(() => loadScript(\"vega-lite\"))\n",
       "        .then(() => loadScript(\"vega-embed\"))\n",
       "        .catch(showError)\n",
       "        .then(() => displayChart(vegaEmbed));\n",
       "    }\n",
       "  })({\"config\": {\"axis\": {\"domain\": true, \"domainColor\": \"#666F89\", \"grid\": false, \"gridCap\": \"round\", \"gridColor\": \"#B3B7C4\", \"gridDash\": [2, 4], \"gridWidth\": 0.5, \"labelColor\": \"#666F89\", \"labelFont\": \"Roboto, Arial, sans-serif\", \"labelPadding\": 2, \"tickColor\": \"#666F89\", \"tickOpacity\": 0.5, \"tickSize\": 4, \"titleColor\": \"#19274E\", \"titleFont\": \"Roboto, Arial, sans-serif\", \"titleFontSize\": 12}, \"axisBand\": {\"domain\": true, \"labelPadding\": 4, \"ticks\": false}, \"axisY\": {\"domain\": false, \"titleAlign\": \"left\", \"titleAngle\": 0, \"titleX\": -20, \"titleY\": -10}, \"legend\": {\"labelColor\": \"#666F89\", \"labelFont\": \"Roboto, Arial, sans-serif\", \"labelFontSize\": 12, \"symbolSize\": 40, \"titleColor\": \"#19274E\", \"titleFont\": \"Roboto, Arial, sans-serif\", \"titleFontSize\": 12, \"titlePadding\": 4}, \"arc\": {\"stroke\": \"#FFFFFF\", \"strokeWidth\": 1}, \"bar\": {\"fill\": \"#2770EB\", \"stroke\": null}, \"line\": {\"stroke\": \"#2770EB\", \"strokeWidth\": 2}, \"path\": {\"stroke\": \"#2770EB\", \"strokeWidth\": 0.5}, \"point\": {\"fill\": \"#2770EB\", \"shape\": \"circle\", \"filled\": true}, \"rect\": {\"fill\": \"#2770EB\"}, \"rule\": {\"stroke\": \"#666F89\"}, \"shape\": {\"stroke\": \"#2770EB\"}, \"text\": {\"color\": \"#19274E\", \"font\": \"Roboto, Arial, sans-serif\", \"fontSize\": 12}, \"range\": {\"category\": [\"#2770EB\", \"#77B98A\", \"#DA5252\", \"#FFC400\", \"#A87AEA\", \"#00A39E\", \"#19274E\"], \"diverging\": [\"#006360\", \"#2BB3AE\", \"#96D9D7\", \"#FFFFFF\", \"#EDAAAA\", \"#DA5252\", \"#811D1D\"], \"heatmap\": [\"#18448F\", \"#1B4EA5\", \"#2770EB\", \"#4C88EE\", \"#82ACF3\", \"#A6C4F7\", \"#E9F1FD\"], \"ramp\": [\"#18448F\", \"#1B4EA5\", \"#2770EB\", \"#4C88EE\", \"#82ACF3\", \"#A6C4F7\", \"#E9F1FD\"]}, \"background\": \"#FFFFFF\", \"group\": {\"fill\": \"#FFFFFF\"}, \"header\": {\"labelColor\": \"#19274E\", \"labelFont\": \"Roboto, Arial, sans-serif\", \"labelFontSize\": 12, \"titleColor\": \"#19274E\", \"titleFont\": \"Roboto, Arial, sans-serif\", \"titleFontSize\": 16}, \"title\": {\"anchor\": \"start\", \"color\": \"#19274E\", \"font\": \"Roboto, Arial, sans-serif\", \"fontSize\": 20, \"fontWeight\": \"bold\", \"offset\": 20, \"subtitleColor\": \"#19274E\", \"subtitleFontSize\": 16}, \"view\": {\"continuousHeight\": 300, \"continuousWidth\": 400, \"stroke\": \"transparent\"}}, \"hconcat\": [{\"layer\": [{\"mark\": \"rect\", \"encoding\": {\"color\": {\"type\": \"quantitative\", \"field\": \"rounded\", \"legend\": null, \"scale\": {\"domain\": [-0.5, 0.5], \"range\": [\"#5f8fd6\", \"#99c3fb\", \"#f5f5f5\", \"#ffaa92\", \"#d16f5b\"]}, \"title\": null}, \"x\": {\"type\": \"nominal\", \"axis\": {\"titleFontSize\": 15}, \"field\": \"Event\"}, \"y\": {\"type\": \"nominal\", \"axis\": {\"domain\": false, \"labels\": false, \"title\": null}, \"field\": \"Feature\"}}}, {\"mark\": {\"type\": \"text\", \"align\": \"right\", \"baseline\": \"middle\", \"color\": \"#798184\", \"dx\": 18, \"fontSize\": 15}, \"encoding\": {\"text\": {\"type\": \"nominal\", \"field\": \"rounded_str\"}, \"x\": {\"type\": \"nominal\", \"axis\": {\"domain\": false, \"labelAngle\": 0, \"labelFontSize\": 15, \"labelOffset\": 24, \"labelPadding\": 30, \"orient\": \"top\", \"title\": null}, \"field\": \"Event\"}, \"y\": {\"type\": \"nominal\", \"axis\": {\"domain\": false, \"labels\": false, \"title\": null}, \"field\": \"Feature\"}}}], \"data\": {\"name\": \"data-5aa4439b16fe4f92d3278baf5524969c\"}, \"height\": 225, \"width\": 66.66666666666667}, {\"layer\": [{\"mark\": \"rect\", \"encoding\": {\"color\": {\"type\": \"quantitative\", \"field\": \"rounded\", \"legend\": {\"gradientLength\": 225, \"gradientThickness\": 10, \"labelFontSize\": 15, \"orient\": \"right\"}, \"scale\": {\"domain\": [-0.5, 0.5], \"range\": [\"#5f8fd6\", \"#99c3fb\", \"#f5f5f5\", \"#ffaa92\", \"#d16f5b\"]}, \"title\": null}, \"x\": {\"type\": \"nominal\", \"axis\": {\"titleFontSize\": 15}, \"field\": \"Event\", \"sort\": [\"Event -4\", \"Event -3\", \"Event -2\"]}, \"y\": {\"type\": \"nominal\", \"axis\": {\"domain\": false, \"labelFontSize\": 15, \"title\": null}, \"field\": \"Feature\", \"sort\": [\"Mean Chest <-> Left Ankle\", \"Mean Right Ankle <-> Left Ankle\", \"STD Right Ankle <-> Left Ankle\"]}}}, {\"mark\": {\"type\": \"text\", \"align\": \"right\", \"baseline\": \"middle\", \"color\": \"#798184\", \"dx\": 18, \"fontSize\": 15}, \"encoding\": {\"text\": {\"type\": \"nominal\", \"field\": \"rounded_str\"}, \"x\": {\"type\": \"nominal\", \"axis\": {\"domain\": false, \"labelAngle\": 30, \"labelFontSize\": 15, \"orient\": \"top\", \"title\": \"Shapley Value\", \"titleX\": 172, \"titleY\": 245}, \"field\": \"Event\", \"sort\": [\"Event -4\", \"Event -3\", \"Event -2\"]}, \"y\": {\"type\": \"nominal\", \"axis\": {\"domain\": false, \"labelFontSize\": 15, \"title\": null}, \"field\": \"Feature\", \"sort\": [\"Mean Chest <-> Left Ankle\", \"Mean Right Ankle <-> Left Ankle\", \"STD Right Ankle <-> Left Ankle\"]}}}], \"data\": {\"name\": \"data-43a0a42f1e3941d6623c84875fa77666\"}, \"height\": 225, \"width\": 160}], \"resolve\": {\"scale\": {\"color\": \"independent\"}}, \"$schema\": \"https://vega.github.io/schema/vega-lite/v4.8.1.json\", \"datasets\": {\"data-5aa4439b16fe4f92d3278baf5524969c\": [{\"Event\": [\"Pruned\", \"Events\"], \"Feature\": \"Other features\", \"rounded\": 0.04, \"rounded_str\": \"0.040\"}], \"data-43a0a42f1e3941d6623c84875fa77666\": [{\"Event\": \"Other Events\", \"Feature\": \"Other Features\", \"Shapley Value\": 0.14221362938399834, \"rounded\": 0.142, \"rounded_str\": \"0.142\"}, {\"Event\": \"Other Events\", \"Feature\": \"Mean Right Ankle <-> Left Ankle\", \"Shapley Value\": 0.1161614469791028, \"rounded\": 0.116, \"rounded_str\": \"0.116\"}, {\"Event\": \"Other Events\", \"Feature\": \"STD Right Ankle <-> Left Ankle\", \"Shapley Value\": 0.07661493791546281, \"rounded\": 0.077, \"rounded_str\": \"0.077\"}, {\"Event\": \"Event -4\", \"Feature\": \"STD Right Ankle <-> Left Ankle\", \"Shapley Value\": 0.053386249258555396, \"rounded\": 0.053, \"rounded_str\": \"0.053\"}, {\"Event\": \"Event -3\", \"Feature\": \"Mean Chest <-> Left Ankle\", \"Shapley Value\": 0.047363560108315106, \"rounded\": 0.047, \"rounded_str\": \"0.047\"}, {\"Event\": \"Event -3\", \"Feature\": \"STD Right Ankle <-> Left Ankle\", \"Shapley Value\": 0.04106315894106638, \"rounded\": 0.041, \"rounded_str\": \"0.041\"}, {\"Event\": \"Event -2\", \"Feature\": \"Mean Chest <-> Left Ankle\", \"Shapley Value\": 0.03678983684454695, \"rounded\": 0.037, \"rounded_str\": \"0.037\"}, {\"Event\": \"Event -2\", \"Feature\": \"Other Features\", \"Shapley Value\": 0.03457368641651304, \"rounded\": 0.035, \"rounded_str\": \"0.035\"}, {\"Event\": \"Event -2\", \"Feature\": \"STD Right Ankle <-> Left Ankle\", \"Shapley Value\": 0.032185169324254914, \"rounded\": 0.032, \"rounded_str\": \"0.032\"}, {\"Event\": \"Event -4\", \"Feature\": \"Mean Chest <-> Left Ankle\", \"Shapley Value\": 0.03096667080036053, \"rounded\": 0.031, \"rounded_str\": \"0.031\"}, {\"Event\": \"Other Events\", \"Feature\": \"Mean Chest <-> Left Ankle\", \"Shapley Value\": 0.024444759576631392, \"rounded\": 0.024, \"rounded_str\": \"0.024\"}, {\"Event\": \"Event -3\", \"Feature\": \"Mean Right Ankle <-> Left Ankle\", \"Shapley Value\": 0.01010416553937138, \"rounded\": 0.01, \"rounded_str\": \"0.010\"}, {\"Event\": \"Event -2\", \"Feature\": \"Mean Right Ankle <-> Left Ankle\", \"Shapley Value\": 0.00976861732221801, \"rounded\": 0.01, \"rounded_str\": \"0.010\"}, {\"Event\": \"Event -3\", \"Feature\": \"Other Features\", \"Shapley Value\": 0.009612253959785655, \"rounded\": 0.01, \"rounded_str\": \"0.010\"}, {\"Event\": \"Event -4\", \"Feature\": \"Other Features\", \"Shapley Value\": 0.003798786210874927, \"rounded\": 0.004, \"rounded_str\": \"0.004\"}, {\"Event\": \"Event -4\", \"Feature\": \"Mean Right Ankle <-> Left Ankle\", \"Shapley Value\": 0.0013472534898739674, \"rounded\": 0.001, \"rounded_str\": \"0.001\"}]}}, {\"mode\": \"vega-lite\"});\n",
       "</script>"
      ],
      "text/plain": [
       "alt.HConcatChart(...)"
      ]
     },
     "execution_count": 30,
     "metadata": {},
     "output_type": "execute_result"
    }
   ],
   "source": [
    "cell_dict = {'rs': 42, 'nsamples': 32000, 'top_x_events': 3, 'top_x_feats': 3}\n",
    "cell_data = local_cell_level(f_hs, pos_x_data, cell_dict, event_data, feature_data, positive_sequence_id, sequence_id_feat, average_event, pruning_idx)\n",
    "feat_names = list(feature_data['Feature'].values)[:-1] # exclude pruned events\n",
    "cell_plot = plot_cell_level(cell_data, feat_names, feature_dict.get('plot_features'))\n",
    "cell_plot"
   ]
  },
  {
   "cell_type": "markdown",
   "id": "37d78212",
   "metadata": {},
   "source": [
    "### Global Plots"
   ]
  },
  {
   "cell_type": "code",
   "execution_count": 31,
   "id": "0b57cf3b",
   "metadata": {},
   "outputs": [],
   "source": [
    "from timeshap.explainer import prune_all, pruning_statistics, event_explain_all, feat_explain_all\n",
    "from timeshap.plot import plot_global_event, plot_global_feat\n",
    "\n",
    "pos_dataset = d_test_normalized[d_test_normalized['label'] == 1]"
   ]
  },
  {
   "cell_type": "markdown",
   "id": "21399cce",
   "metadata": {},
   "source": [
    "##### Pruning statistics"
   ]
  },
  {
   "cell_type": "code",
   "execution_count": 32,
   "id": "3f522caf",
   "metadata": {},
   "outputs": [
    {
     "data": {
      "text/html": [
       "<div>\n",
       "<style scoped>\n",
       "    .dataframe tbody tr th:only-of-type {\n",
       "        vertical-align: middle;\n",
       "    }\n",
       "\n",
       "    .dataframe tbody tr th {\n",
       "        vertical-align: top;\n",
       "    }\n",
       "\n",
       "    .dataframe thead th {\n",
       "        text-align: right;\n",
       "    }\n",
       "</style>\n",
       "<table border=\"1\" class=\"dataframe\">\n",
       "  <thead>\n",
       "    <tr style=\"text-align: right;\">\n",
       "      <th></th>\n",
       "      <th>Tolerance</th>\n",
       "      <th>Mean</th>\n",
       "      <th>Std</th>\n",
       "    </tr>\n",
       "  </thead>\n",
       "  <tbody>\n",
       "    <tr>\n",
       "      <th>0</th>\n",
       "      <td>0.05</td>\n",
       "      <td>12.75</td>\n",
       "      <td>1.258306</td>\n",
       "    </tr>\n",
       "    <tr>\n",
       "      <th>1</th>\n",
       "      <td>0.075</td>\n",
       "      <td>11.25</td>\n",
       "      <td>1.258306</td>\n",
       "    </tr>\n",
       "    <tr>\n",
       "      <th>2</th>\n",
       "      <td>No Pruning</td>\n",
       "      <td>480.00</td>\n",
       "      <td>0.000000</td>\n",
       "    </tr>\n",
       "  </tbody>\n",
       "</table>\n",
       "</div>"
      ],
      "text/plain": [
       "    Tolerance    Mean       Std\n",
       "0        0.05   12.75  1.258306\n",
       "1       0.075   11.25  1.258306\n",
       "2  No Pruning  480.00  0.000000"
      ]
     },
     "execution_count": 32,
     "metadata": {},
     "output_type": "execute_result"
    }
   ],
   "source": [
    "pruning_dict = {'tol': [0.05, 0.075], 'path': 'outputs/prun_all.csv'}\n",
    "prun_indexes = prune_all(f_hs, pos_dataset, pruning_dict, average_event, model_features, schema, sequence_id_feat, time_feat)\n",
    "pruning_stats = pruning_statistics(prun_indexes, pruning_dict.get('tol'))\n",
    "pruning_stats"
   ]
  },
  {
   "cell_type": "markdown",
   "id": "0df615f3",
   "metadata": {},
   "source": [
    "##### Global event-level"
   ]
  },
  {
   "cell_type": "code",
   "execution_count": 33,
   "id": "5669e063",
   "metadata": {},
   "outputs": [
    {
     "data": {
      "text/html": [
       "\n",
       "<div id=\"altair-viz-20b497a464ee4cc8aaa5639c0906b690\"></div>\n",
       "<script type=\"text/javascript\">\n",
       "  (function(spec, embedOpt){\n",
       "    let outputDiv = document.currentScript.previousElementSibling;\n",
       "    if (outputDiv.id !== \"altair-viz-20b497a464ee4cc8aaa5639c0906b690\") {\n",
       "      outputDiv = document.getElementById(\"altair-viz-20b497a464ee4cc8aaa5639c0906b690\");\n",
       "    }\n",
       "    const paths = {\n",
       "      \"vega\": \"https://cdn.jsdelivr.net/npm//vega@5?noext\",\n",
       "      \"vega-lib\": \"https://cdn.jsdelivr.net/npm//vega-lib?noext\",\n",
       "      \"vega-lite\": \"https://cdn.jsdelivr.net/npm//vega-lite@4.8.1?noext\",\n",
       "      \"vega-embed\": \"https://cdn.jsdelivr.net/npm//vega-embed@6?noext\",\n",
       "    };\n",
       "\n",
       "    function loadScript(lib) {\n",
       "      return new Promise(function(resolve, reject) {\n",
       "        var s = document.createElement('script');\n",
       "        s.src = paths[lib];\n",
       "        s.async = true;\n",
       "        s.onload = () => resolve(paths[lib]);\n",
       "        s.onerror = () => reject(`Error loading script: ${paths[lib]}`);\n",
       "        document.getElementsByTagName(\"head\")[0].appendChild(s);\n",
       "      });\n",
       "    }\n",
       "\n",
       "    function showError(err) {\n",
       "      outputDiv.innerHTML = `<div class=\"error\" style=\"color:red;\">${err}</div>`;\n",
       "      throw err;\n",
       "    }\n",
       "\n",
       "    function displayChart(vegaEmbed) {\n",
       "      vegaEmbed(outputDiv, spec, embedOpt)\n",
       "        .catch(err => showError(`Javascript Error: ${err.message}<br>This usually means there's a typo in your chart specification. See the javascript console for the full traceback.`));\n",
       "    }\n",
       "\n",
       "    if(typeof define === \"function\" && define.amd) {\n",
       "      requirejs.config({paths});\n",
       "      require([\"vega-embed\"], displayChart, err => showError(`Error loading script: ${err.message}`));\n",
       "    } else if (typeof vegaEmbed === \"function\") {\n",
       "      displayChart(vegaEmbed);\n",
       "    } else {\n",
       "      loadScript(\"vega\")\n",
       "        .then(() => loadScript(\"vega-lite\"))\n",
       "        .then(() => loadScript(\"vega-embed\"))\n",
       "        .catch(showError)\n",
       "        .then(() => displayChart(vegaEmbed));\n",
       "    }\n",
       "  })({\"config\": {\"axis\": {\"domain\": true, \"domainColor\": \"#666F89\", \"grid\": false, \"gridCap\": \"round\", \"gridColor\": \"#B3B7C4\", \"gridDash\": [2, 4], \"gridWidth\": 0.5, \"labelColor\": \"#666F89\", \"labelFont\": \"Roboto, Arial, sans-serif\", \"labelPadding\": 2, \"tickColor\": \"#666F89\", \"tickOpacity\": 0.5, \"tickSize\": 4, \"titleColor\": \"#19274E\", \"titleFont\": \"Roboto, Arial, sans-serif\", \"titleFontSize\": 12}, \"axisBand\": {\"domain\": true, \"labelPadding\": 4, \"ticks\": false}, \"axisY\": {\"domain\": false, \"titleAlign\": \"left\", \"titleAngle\": 0, \"titleX\": -20, \"titleY\": -10}, \"legend\": {\"labelColor\": \"#666F89\", \"labelFont\": \"Roboto, Arial, sans-serif\", \"labelFontSize\": 12, \"symbolSize\": 40, \"titleColor\": \"#19274E\", \"titleFont\": \"Roboto, Arial, sans-serif\", \"titleFontSize\": 12, \"titlePadding\": 4}, \"arc\": {\"stroke\": \"#FFFFFF\", \"strokeWidth\": 1}, \"bar\": {\"fill\": \"#2770EB\", \"stroke\": null}, \"line\": {\"stroke\": \"#2770EB\", \"strokeWidth\": 2}, \"path\": {\"stroke\": \"#2770EB\", \"strokeWidth\": 0.5}, \"point\": {\"fill\": \"#2770EB\", \"shape\": \"circle\", \"filled\": true}, \"rect\": {\"fill\": \"#2770EB\"}, \"rule\": {\"stroke\": \"#666F89\"}, \"shape\": {\"stroke\": \"#2770EB\"}, \"text\": {\"color\": \"#19274E\", \"font\": \"Roboto, Arial, sans-serif\", \"fontSize\": 12}, \"range\": {\"category\": [\"#2770EB\", \"#77B98A\", \"#DA5252\", \"#FFC400\", \"#A87AEA\", \"#00A39E\", \"#19274E\"], \"diverging\": [\"#006360\", \"#2BB3AE\", \"#96D9D7\", \"#FFFFFF\", \"#EDAAAA\", \"#DA5252\", \"#811D1D\"], \"heatmap\": [\"#18448F\", \"#1B4EA5\", \"#2770EB\", \"#4C88EE\", \"#82ACF3\", \"#A6C4F7\", \"#E9F1FD\"], \"ramp\": [\"#18448F\", \"#1B4EA5\", \"#2770EB\", \"#4C88EE\", \"#82ACF3\", \"#A6C4F7\", \"#E9F1FD\"]}, \"background\": \"#FFFFFF\", \"group\": {\"fill\": \"#FFFFFF\"}, \"header\": {\"labelColor\": \"#19274E\", \"labelFont\": \"Roboto, Arial, sans-serif\", \"labelFontSize\": 12, \"titleColor\": \"#19274E\", \"titleFont\": \"Roboto, Arial, sans-serif\", \"titleFontSize\": 16}, \"title\": {\"anchor\": \"start\", \"color\": \"#19274E\", \"font\": \"Roboto, Arial, sans-serif\", \"fontSize\": 20, \"fontWeight\": \"bold\", \"offset\": 20, \"subtitleColor\": \"#19274E\", \"subtitleFontSize\": 16}, \"view\": {\"continuousHeight\": 300, \"continuousWidth\": 400, \"stroke\": \"transparent\"}}, \"vconcat\": [{\"mark\": {\"type\": \"point\", \"stroke\": \"white\", \"strokeWidth\": 0.6}, \"encoding\": {\"color\": {\"type\": \"nominal\", \"field\": \"type\", \"legend\": {\"fillColor\": \"white\", \"orient\": \"top-left\", \"symbolSize\": 50, \"symbolStrokeWidth\": 0, \"title\": null}, \"scale\": {\"domain\": [\"Shapley Value\", \"Mean\"], \"range\": [\"#48caaa\", \"#d76d58\"]}}, \"opacity\": {\"condition\": {\"value\": 1.0, \"test\": \"(datum.type === 'Mean')\"}, \"value\": 0.2}, \"size\": {\"condition\": {\"value\": 70, \"test\": \"(datum.type === 'Mean')\"}, \"value\": 30}, \"x\": {\"type\": \"ordinal\", \"axis\": {\"labelAngle\": 0}, \"field\": \"t (event index)\"}, \"y\": {\"type\": \"quantitative\", \"axis\": {\"grid\": true, \"titleX\": -23}, \"field\": \"Shapley Value\", \"scale\": {\"domain\": [-0.3, 0.9]}, \"title\": \"Shapley Value\"}}, \"height\": 150, \"title\": \"Parameters: NSamples=32000 | Random Seed=42 | Pruning Tol= 0.05\", \"width\": 360}, {\"data\": {\"name\": \"data-033c59d5354b60dd5ebcc7132b53b2d3\"}, \"mark\": {\"type\": \"point\", \"stroke\": \"white\", \"strokeWidth\": 0.6}, \"encoding\": {\"color\": {\"type\": \"nominal\", \"field\": \"type\", \"legend\": {\"fillColor\": \"white\", \"orient\": \"top-left\", \"symbolSize\": 50, \"symbolStrokeWidth\": 0, \"title\": null}, \"scale\": {\"domain\": [\"Shapley Value\", \"Mean\"], \"range\": [\"#48caaa\", \"#d76d58\"]}}, \"opacity\": {\"condition\": {\"value\": 1.0, \"test\": \"(datum.type === 'Mean')\"}, \"value\": 0.2}, \"size\": {\"condition\": {\"value\": 70, \"test\": \"(datum.type === 'Mean')\"}, \"value\": 30}, \"x\": {\"type\": \"ordinal\", \"axis\": {\"labelAngle\": 0}, \"field\": \"t (event index)\"}, \"y\": {\"type\": \"quantitative\", \"axis\": {\"grid\": true, \"titleX\": -23}, \"field\": \"Shapley Value\", \"scale\": {\"domain\": [-0.3, 0.9]}, \"title\": \"Shapley Value\"}}, \"height\": 150, \"title\": \"Parameters: NSamples=32000 | Random Seed=42 | Pruning Tol= 0.075\", \"width\": 360}], \"data\": {\"name\": \"data-31d13994de1bf86e5e3ef42235121979\"}, \"$schema\": \"https://vega.github.io/schema/vega-lite/v4.8.1.json\", \"datasets\": {\"data-31d13994de1bf86e5e3ef42235121979\": [{\"Shapley Value\": 0.0194023047102574, \"t (event index)\": 0, \"type\": \"Shapley Value\"}, {\"Shapley Value\": 0.0437388538882483, \"t (event index)\": -1, \"type\": \"Shapley Value\"}, {\"Shapley Value\": 0.1285214360865779, \"t (event index)\": -2, \"type\": \"Shapley Value\"}, {\"Shapley Value\": 0.0925165802115708, \"t (event index)\": -3, \"type\": \"Shapley Value\"}, {\"Shapley Value\": 0.0831005963063786, \"t (event index)\": -4, \"type\": \"Shapley Value\"}, {\"Shapley Value\": 0.0166857195550971, \"t (event index)\": -5, \"type\": \"Shapley Value\"}, {\"Shapley Value\": 0.0063862194410383, \"t (event index)\": -6, \"type\": \"Shapley Value\"}, {\"Shapley Value\": 0.0381223639354095, \"t (event index)\": -7, \"type\": \"Shapley Value\"}, {\"Shapley Value\": 0.0457129968184734, \"t (event index)\": -8, \"type\": \"Shapley Value\"}, {\"Shapley Value\": 0.0111493987080824, \"t (event index)\": -9, \"type\": \"Shapley Value\"}, {\"Shapley Value\": 0.0155186392299342, \"t (event index)\": -10, \"type\": \"Shapley Value\"}, {\"Shapley Value\": 0.0005340755800938, \"t (event index)\": -11, \"type\": \"Shapley Value\"}, {\"Shapley Value\": 0.0131443101682967, \"t (event index)\": -12, \"type\": \"Shapley Value\"}, {\"Shapley Value\": 0.0101927371315252, \"t (event index)\": -13, \"type\": \"Shapley Value\"}, {\"Shapley Value\": 0.0851269775334586, \"t (event index)\": 0, \"type\": \"Shapley Value\"}, {\"Shapley Value\": 0.1400278757753044, \"t (event index)\": -1, \"type\": \"Shapley Value\"}, {\"Shapley Value\": 0.075782329507171, \"t (event index)\": -2, \"type\": \"Shapley Value\"}, {\"Shapley Value\": 0.019908951039661, \"t (event index)\": -3, \"type\": \"Shapley Value\"}, {\"Shapley Value\": 0.0999626060449503, \"t (event index)\": -4, \"type\": \"Shapley Value\"}, {\"Shapley Value\": 0.0338346668143307, \"t (event index)\": -5, \"type\": \"Shapley Value\"}, {\"Shapley Value\": 0.0676565482258716, \"t (event index)\": -6, \"type\": \"Shapley Value\"}, {\"Shapley Value\": 0.0670525841326644, \"t (event index)\": -7, \"type\": \"Shapley Value\"}, {\"Shapley Value\": 0.0373556621066705, \"t (event index)\": -8, \"type\": \"Shapley Value\"}, {\"Shapley Value\": 0.0186802245952117, \"t (event index)\": -9, \"type\": \"Shapley Value\"}, {\"Shapley Value\": 0.0149558403958391, \"t (event index)\": -10, \"type\": \"Shapley Value\"}, {\"Shapley Value\": 0.0106524391023211, \"t (event index)\": -11, \"type\": \"Shapley Value\"}, {\"Shapley Value\": 0.0156737515278271, \"t (event index)\": -12, \"type\": \"Shapley Value\"}, {\"Shapley Value\": 0.1265069212245081, \"t (event index)\": 0, \"type\": \"Shapley Value\"}, {\"Shapley Value\": 0.1088482750155042, \"t (event index)\": -1, \"type\": \"Shapley Value\"}, {\"Shapley Value\": 0.0588727775911439, \"t (event index)\": -2, \"type\": \"Shapley Value\"}, {\"Shapley Value\": 0.1124636503980013, \"t (event index)\": -3, \"type\": \"Shapley Value\"}, {\"Shapley Value\": 0.0814399781028109, \"t (event index)\": -4, \"type\": \"Shapley Value\"}, {\"Shapley Value\": 0.0578761386871876, \"t (event index)\": -5, \"type\": \"Shapley Value\"}, {\"Shapley Value\": 0.0586783647879254, \"t (event index)\": -6, \"type\": \"Shapley Value\"}, {\"Shapley Value\": 0.0151105595848688, \"t (event index)\": -7, \"type\": \"Shapley Value\"}, {\"Shapley Value\": 0.0305591492491681, \"t (event index)\": -8, \"type\": \"Shapley Value\"}, {\"Shapley Value\": 0.0215944078523118, \"t (event index)\": -9, \"type\": \"Shapley Value\"}, {\"Shapley Value\": 0.0231284235436788, \"t (event index)\": -10, \"type\": \"Shapley Value\"}, {\"Shapley Value\": 0.0648906013932438, \"t (event index)\": 0, \"type\": \"Shapley Value\"}, {\"Shapley Value\": 0.1209044200862673, \"t (event index)\": -1, \"type\": \"Shapley Value\"}, {\"Shapley Value\": 0.1109852171335998, \"t (event index)\": -2, \"type\": \"Shapley Value\"}, {\"Shapley Value\": 0.0922610277569594, \"t (event index)\": -3, \"type\": \"Shapley Value\"}, {\"Shapley Value\": 0.0396650750850446, \"t (event index)\": -4, \"type\": \"Shapley Value\"}, {\"Shapley Value\": 0.0388512897943133, \"t (event index)\": -5, \"type\": \"Shapley Value\"}, {\"Shapley Value\": 0.0415848874570929, \"t (event index)\": -6, \"type\": \"Shapley Value\"}, {\"Shapley Value\": 0.0460813885445969, \"t (event index)\": -7, \"type\": \"Shapley Value\"}, {\"Shapley Value\": 0.0290985673912865, \"t (event index)\": -8, \"type\": \"Shapley Value\"}, {\"Shapley Value\": 0.0180386582830943, \"t (event index)\": -9, \"type\": \"Shapley Value\"}, {\"Shapley Value\": 0.0089459284376696, \"t (event index)\": -10, \"type\": \"Shapley Value\"}, {\"Shapley Value\": 0.0141545612874448, \"t (event index)\": -11, \"type\": \"Shapley Value\"}, {\"Shapley Value\": 0.0055796738113668, \"t (event index)\": -12, \"type\": \"Shapley Value\"}, {\"Shapley Value\": 0.0101927371315252, \"t (event index)\": -13, \"type\": \"Mean\"}, {\"Shapley Value\": 0.0114659118358302, \"t (event index)\": -12, \"type\": \"Mean\"}, {\"Shapley Value\": 0.008447025323286566, \"t (event index)\": -11, \"type\": \"Mean\"}, {\"Shapley Value\": 0.015637207901780425, \"t (event index)\": -10, \"type\": \"Mean\"}, {\"Shapley Value\": 0.017365672359675052, \"t (event index)\": -9, \"type\": \"Mean\"}, {\"Shapley Value\": 0.035681593891399625, \"t (event index)\": -8, \"type\": \"Mean\"}, {\"Shapley Value\": 0.0415917240493849, \"t (event index)\": -7, \"type\": \"Mean\"}, {\"Shapley Value\": 0.04357650497798205, \"t (event index)\": -6, \"type\": \"Mean\"}, {\"Shapley Value\": 0.03681195371273217, \"t (event index)\": -5, \"type\": \"Mean\"}, {\"Shapley Value\": 0.0760420638847961, \"t (event index)\": -4, \"type\": \"Mean\"}, {\"Shapley Value\": 0.07928755235154812, \"t (event index)\": -3, \"type\": \"Mean\"}, {\"Shapley Value\": 0.09354044007962314, \"t (event index)\": -2, \"type\": \"Mean\"}, {\"Shapley Value\": 0.10337985619133105, \"t (event index)\": -1, \"type\": \"Mean\"}, {\"Shapley Value\": 0.07398170121536697, \"t (event index)\": 0, \"type\": \"Mean\"}], \"data-033c59d5354b60dd5ebcc7132b53b2d3\": [{\"Shapley Value\": 0.0191144308110869, \"t (event index)\": 0, \"type\": \"Shapley Value\"}, {\"Shapley Value\": 0.0433331598278796, \"t (event index)\": -1, \"type\": \"Shapley Value\"}, {\"Shapley Value\": 0.1270562543714546, \"t (event index)\": -2, \"type\": \"Shapley Value\"}, {\"Shapley Value\": 0.0914059655816217, \"t (event index)\": -3, \"type\": \"Shapley Value\"}, {\"Shapley Value\": 0.0821776971310444, \"t (event index)\": -4, \"type\": \"Shapley Value\"}, {\"Shapley Value\": 0.0164788546816965, \"t (event index)\": -5, \"type\": \"Shapley Value\"}, {\"Shapley Value\": 0.0063281635695714, \"t (event index)\": -6, \"type\": \"Shapley Value\"}, {\"Shapley Value\": 0.0376457126552756, \"t (event index)\": -7, \"type\": \"Shapley Value\"}, {\"Shapley Value\": 0.0450236307763189, \"t (event index)\": -8, \"type\": \"Shapley Value\"}, {\"Shapley Value\": 0.0108781778613675, \"t (event index)\": -9, \"type\": \"Shapley Value\"}, {\"Shapley Value\": 0.015054994140682, \"t (event index)\": -10, \"type\": \"Shapley Value\"}, {\"Shapley Value\": 0.0005119721491836, \"t (event index)\": -11, \"type\": \"Shapley Value\"}, {\"Shapley Value\": 0.0115236854144718, \"t (event index)\": -12, \"type\": \"Shapley Value\"}, {\"Shapley Value\": 0.0842923849633614, \"t (event index)\": 0, \"type\": \"Shapley Value\"}, {\"Shapley Value\": 0.1386079202736711, \"t (event index)\": -1, \"type\": \"Shapley Value\"}, {\"Shapley Value\": 0.0750432894027606, \"t (event index)\": -2, \"type\": \"Shapley Value\"}, {\"Shapley Value\": 0.019738348910429, \"t (event index)\": -3, \"type\": \"Shapley Value\"}, {\"Shapley Value\": 0.0988080573139217, \"t (event index)\": -4, \"type\": \"Shapley Value\"}, {\"Shapley Value\": 0.0335513069540998, \"t (event index)\": -5, \"type\": \"Shapley Value\"}, {\"Shapley Value\": 0.0666880296433035, \"t (event index)\": -6, \"type\": \"Shapley Value\"}, {\"Shapley Value\": 0.0654919886409911, \"t (event index)\": -7, \"type\": \"Shapley Value\"}, {\"Shapley Value\": 0.0361741079609506, \"t (event index)\": -8, \"type\": \"Shapley Value\"}, {\"Shapley Value\": 0.0176500779897119, \"t (event index)\": -9, \"type\": \"Shapley Value\"}, {\"Shapley Value\": 0.0122600587928185, \"t (event index)\": -10, \"type\": \"Shapley Value\"}, {\"Shapley Value\": 0.1245989850221656, \"t (event index)\": 0, \"type\": \"Shapley Value\"}, {\"Shapley Value\": 0.1073594354982063, \"t (event index)\": -1, \"type\": \"Shapley Value\"}, {\"Shapley Value\": 0.05806540129209, \"t (event index)\": -2, \"type\": \"Shapley Value\"}, {\"Shapley Value\": 0.1107897395225752, \"t (event index)\": -3, \"type\": \"Shapley Value\"}, {\"Shapley Value\": 0.080681771926399, \"t (event index)\": -4, \"type\": \"Shapley Value\"}, {\"Shapley Value\": 0.0574648329886655, \"t (event index)\": -5, \"type\": \"Shapley Value\"}, {\"Shapley Value\": 0.0577880155600203, \"t (event index)\": -6, \"type\": \"Shapley Value\"}, {\"Shapley Value\": 0.0146190889654778, \"t (event index)\": -7, \"type\": \"Shapley Value\"}, {\"Shapley Value\": 0.0288459738334137, \"t (event index)\": -8, \"type\": \"Shapley Value\"}, {\"Shapley Value\": 0.0194887864139349, \"t (event index)\": -9, \"type\": \"Shapley Value\"}, {\"Shapley Value\": 0.0644985308564934, \"t (event index)\": 0, \"type\": \"Shapley Value\"}, {\"Shapley Value\": 0.1202467002130475, \"t (event index)\": -1, \"type\": \"Shapley Value\"}, {\"Shapley Value\": 0.1104435132434097, \"t (event index)\": -2, \"type\": \"Shapley Value\"}, {\"Shapley Value\": 0.0917939849789847, \"t (event index)\": -3, \"type\": \"Shapley Value\"}, {\"Shapley Value\": 0.0394854786198366, \"t (event index)\": -4, \"type\": \"Shapley Value\"}, {\"Shapley Value\": 0.0386365712842062, \"t (event index)\": -5, \"type\": \"Shapley Value\"}, {\"Shapley Value\": 0.0412588631389543, \"t (event index)\": -6, \"type\": \"Shapley Value\"}, {\"Shapley Value\": 0.0453495993829917, \"t (event index)\": -7, \"type\": \"Shapley Value\"}, {\"Shapley Value\": 0.0283987577266798, \"t (event index)\": -8, \"type\": \"Shapley Value\"}, {\"Shapley Value\": 0.0164680660048476, \"t (event index)\": -9, \"type\": \"Shapley Value\"}, {\"Shapley Value\": 0.0085726613701626, \"t (event index)\": -10, \"type\": \"Shapley Value\"}, {\"Shapley Value\": 0.0115236854144718, \"t (event index)\": -12, \"type\": \"Mean\"}, {\"Shapley Value\": 0.0005119721491836, \"t (event index)\": -11, \"type\": \"Mean\"}, {\"Shapley Value\": 0.011962571434554368, \"t (event index)\": -10, \"type\": \"Mean\"}, {\"Shapley Value\": 0.016121277067465474, \"t (event index)\": -9, \"type\": \"Mean\"}, {\"Shapley Value\": 0.03461061757434075, \"t (event index)\": -8, \"type\": \"Mean\"}, {\"Shapley Value\": 0.04077659741118405, \"t (event index)\": -7, \"type\": \"Mean\"}, {\"Shapley Value\": 0.043015767977962374, \"t (event index)\": -6, \"type\": \"Mean\"}, {\"Shapley Value\": 0.036532891477167, \"t (event index)\": -5, \"type\": \"Mean\"}, {\"Shapley Value\": 0.07528825124780042, \"t (event index)\": -4, \"type\": \"Mean\"}, {\"Shapley Value\": 0.07843200974840264, \"t (event index)\": -3, \"type\": \"Mean\"}, {\"Shapley Value\": 0.09265211457742872, \"t (event index)\": -2, \"type\": \"Mean\"}, {\"Shapley Value\": 0.10238680395320113, \"t (event index)\": -1, \"type\": \"Mean\"}, {\"Shapley Value\": 0.07312608291327682, \"t (event index)\": 0, \"type\": \"Mean\"}]}}, {\"mode\": \"vega-lite\"});\n",
       "</script>"
      ],
      "text/plain": [
       "alt.VConcatChart(...)"
      ]
     },
     "execution_count": 33,
     "metadata": {},
     "output_type": "execute_result"
    }
   ],
   "source": [
    "event_dict = {'path': 'outputs/event_all.csv', 'rs': 42, 'nsamples': 32000}\n",
    "event_data = event_explain_all(f_hs, pos_dataset, event_dict, prun_indexes, average_event, model_features, schema, sequence_id_feat, time_feat)\n",
    "event_global_plot = plot_global_event(event_data)\n",
    "event_global_plot"
   ]
  },
  {
   "cell_type": "markdown",
   "id": "5ecc29f6",
   "metadata": {},
   "source": [
    "##### Global feature-level"
   ]
  },
  {
   "cell_type": "code",
   "execution_count": 34,
   "id": "c0564654",
   "metadata": {},
   "outputs": [
    {
     "data": {
      "text/html": [
       "\n",
       "<div id=\"altair-viz-5eb850e8ebed45069f25be5e0e44a864\"></div>\n",
       "<script type=\"text/javascript\">\n",
       "  (function(spec, embedOpt){\n",
       "    let outputDiv = document.currentScript.previousElementSibling;\n",
       "    if (outputDiv.id !== \"altair-viz-5eb850e8ebed45069f25be5e0e44a864\") {\n",
       "      outputDiv = document.getElementById(\"altair-viz-5eb850e8ebed45069f25be5e0e44a864\");\n",
       "    }\n",
       "    const paths = {\n",
       "      \"vega\": \"https://cdn.jsdelivr.net/npm//vega@5?noext\",\n",
       "      \"vega-lib\": \"https://cdn.jsdelivr.net/npm//vega-lib?noext\",\n",
       "      \"vega-lite\": \"https://cdn.jsdelivr.net/npm//vega-lite@4.8.1?noext\",\n",
       "      \"vega-embed\": \"https://cdn.jsdelivr.net/npm//vega-embed@6?noext\",\n",
       "    };\n",
       "\n",
       "    function loadScript(lib) {\n",
       "      return new Promise(function(resolve, reject) {\n",
       "        var s = document.createElement('script');\n",
       "        s.src = paths[lib];\n",
       "        s.async = true;\n",
       "        s.onload = () => resolve(paths[lib]);\n",
       "        s.onerror = () => reject(`Error loading script: ${paths[lib]}`);\n",
       "        document.getElementsByTagName(\"head\")[0].appendChild(s);\n",
       "      });\n",
       "    }\n",
       "\n",
       "    function showError(err) {\n",
       "      outputDiv.innerHTML = `<div class=\"error\" style=\"color:red;\">${err}</div>`;\n",
       "      throw err;\n",
       "    }\n",
       "\n",
       "    function displayChart(vegaEmbed) {\n",
       "      vegaEmbed(outputDiv, spec, embedOpt)\n",
       "        .catch(err => showError(`Javascript Error: ${err.message}<br>This usually means there's a typo in your chart specification. See the javascript console for the full traceback.`));\n",
       "    }\n",
       "\n",
       "    if(typeof define === \"function\" && define.amd) {\n",
       "      requirejs.config({paths});\n",
       "      require([\"vega-embed\"], displayChart, err => showError(`Error loading script: ${err.message}`));\n",
       "    } else if (typeof vegaEmbed === \"function\") {\n",
       "      displayChart(vegaEmbed);\n",
       "    } else {\n",
       "      loadScript(\"vega\")\n",
       "        .then(() => loadScript(\"vega-lite\"))\n",
       "        .then(() => loadScript(\"vega-embed\"))\n",
       "        .catch(showError)\n",
       "        .then(() => displayChart(vegaEmbed));\n",
       "    }\n",
       "  })({\"config\": {\"axis\": {\"domain\": true, \"domainColor\": \"#666F89\", \"grid\": false, \"gridCap\": \"round\", \"gridColor\": \"#B3B7C4\", \"gridDash\": [2, 4], \"gridWidth\": 0.5, \"labelColor\": \"#666F89\", \"labelFont\": \"Roboto, Arial, sans-serif\", \"labelPadding\": 2, \"tickColor\": \"#666F89\", \"tickOpacity\": 0.5, \"tickSize\": 4, \"titleColor\": \"#19274E\", \"titleFont\": \"Roboto, Arial, sans-serif\", \"titleFontSize\": 12}, \"axisBand\": {\"domain\": true, \"labelPadding\": 4, \"ticks\": false}, \"axisY\": {\"domain\": false, \"titleAlign\": \"left\", \"titleAngle\": 0, \"titleX\": -20, \"titleY\": -10}, \"legend\": {\"labelColor\": \"#666F89\", \"labelFont\": \"Roboto, Arial, sans-serif\", \"labelFontSize\": 12, \"symbolSize\": 40, \"titleColor\": \"#19274E\", \"titleFont\": \"Roboto, Arial, sans-serif\", \"titleFontSize\": 12, \"titlePadding\": 4}, \"arc\": {\"stroke\": \"#FFFFFF\", \"strokeWidth\": 1}, \"bar\": {\"fill\": \"#2770EB\", \"stroke\": null}, \"line\": {\"stroke\": \"#2770EB\", \"strokeWidth\": 2}, \"path\": {\"stroke\": \"#2770EB\", \"strokeWidth\": 0.5}, \"point\": {\"fill\": \"#2770EB\", \"shape\": \"circle\", \"filled\": true}, \"rect\": {\"fill\": \"#2770EB\"}, \"rule\": {\"stroke\": \"#666F89\"}, \"shape\": {\"stroke\": \"#2770EB\"}, \"text\": {\"color\": \"#19274E\", \"font\": \"Roboto, Arial, sans-serif\", \"fontSize\": 12}, \"range\": {\"category\": [\"#2770EB\", \"#77B98A\", \"#DA5252\", \"#FFC400\", \"#A87AEA\", \"#00A39E\", \"#19274E\"], \"diverging\": [\"#006360\", \"#2BB3AE\", \"#96D9D7\", \"#FFFFFF\", \"#EDAAAA\", \"#DA5252\", \"#811D1D\"], \"heatmap\": [\"#18448F\", \"#1B4EA5\", \"#2770EB\", \"#4C88EE\", \"#82ACF3\", \"#A6C4F7\", \"#E9F1FD\"], \"ramp\": [\"#18448F\", \"#1B4EA5\", \"#2770EB\", \"#4C88EE\", \"#82ACF3\", \"#A6C4F7\", \"#E9F1FD\"]}, \"background\": \"#FFFFFF\", \"group\": {\"fill\": \"#FFFFFF\"}, \"header\": {\"labelColor\": \"#19274E\", \"labelFont\": \"Roboto, Arial, sans-serif\", \"labelFontSize\": 12, \"titleColor\": \"#19274E\", \"titleFont\": \"Roboto, Arial, sans-serif\", \"titleFontSize\": 16}, \"title\": {\"anchor\": \"start\", \"color\": \"#19274E\", \"font\": \"Roboto, Arial, sans-serif\", \"fontSize\": 20, \"fontWeight\": \"bold\", \"offset\": 20, \"subtitleColor\": \"#19274E\", \"subtitleFontSize\": 16}, \"view\": {\"continuousHeight\": 300, \"continuousWidth\": 400, \"stroke\": \"transparent\"}}, \"vconcat\": [{\"mark\": {\"type\": \"point\", \"stroke\": \"white\", \"strokeWidth\": 0.6}, \"encoding\": {\"color\": {\"type\": \"nominal\", \"field\": \"type\", \"legend\": {\"fillColor\": \"white\", \"orient\": \"bottom-right\", \"symbolSize\": 50, \"symbolStrokeWidth\": 0, \"title\": null}, \"scale\": {\"domain\": [\"Shapley Value\", \"Mean\"], \"range\": [\"#618FE0\", \"#d76d58\"]}}, \"opacity\": {\"condition\": {\"value\": 1.0, \"test\": \"(datum.type === 'Mean')\"}, \"value\": 0.1}, \"size\": {\"condition\": {\"value\": 70, \"test\": \"(datum.type === 'Mean')\"}, \"value\": 30}, \"x\": {\"type\": \"quantitative\", \"axis\": {\"grid\": true, \"title\": \"Shapley Value\"}, \"field\": \"Shapley Value\", \"scale\": {\"domain\": [-0.2, 0.6]}}, \"y\": {\"type\": \"ordinal\", \"axis\": {\"labelFontSize\": 13, \"titleX\": -51}, \"field\": \"Feature\", \"sort\": [\"Mean Right Ankle <-> Left Ankle\", \"STD Chest <-> Left Ankle\", \"STD Right Ankle <-> Left Ankle\", \"Mean Chest <-> Left Ankle\", \"Pruned Events\", \"STD Chest <-> Right Ankle\", \"Mean Chest <-> Right Ankle\"]}}, \"height\": 280, \"title\": \"Parameters: NSamples=32000 | Random Seed=42 | Pruning Tol= 0.05\", \"width\": 288}, {\"data\": {\"name\": \"data-94b0a74a125470bb476a7b39ca62c19d\"}, \"mark\": {\"type\": \"point\", \"stroke\": \"white\", \"strokeWidth\": 0.6}, \"encoding\": {\"color\": {\"type\": \"nominal\", \"field\": \"type\", \"legend\": {\"fillColor\": \"white\", \"orient\": \"bottom-right\", \"symbolSize\": 50, \"symbolStrokeWidth\": 0, \"title\": null}, \"scale\": {\"domain\": [\"Shapley Value\", \"Mean\"], \"range\": [\"#618FE0\", \"#d76d58\"]}}, \"opacity\": {\"condition\": {\"value\": 1.0, \"test\": \"(datum.type === 'Mean')\"}, \"value\": 0.1}, \"size\": {\"condition\": {\"value\": 70, \"test\": \"(datum.type === 'Mean')\"}, \"value\": 30}, \"x\": {\"type\": \"quantitative\", \"axis\": {\"grid\": true, \"title\": \"Shapley Value\"}, \"field\": \"Shapley Value\", \"scale\": {\"domain\": [-0.2, 0.6]}}, \"y\": {\"type\": \"ordinal\", \"axis\": {\"labelFontSize\": 13, \"titleX\": -51}, \"field\": \"Feature\", \"sort\": [\"Mean Right Ankle <-> Left Ankle\", \"STD Chest <-> Left Ankle\", \"STD Right Ankle <-> Left Ankle\", \"Pruned Events\", \"Mean Chest <-> Left Ankle\", \"STD Chest <-> Right Ankle\", \"Mean Chest <-> Right Ankle\"]}}, \"height\": 280, \"title\": \"Parameters: NSamples=32000 | Random Seed=42 | Pruning Tol= 0.075\", \"width\": 288}], \"data\": {\"name\": \"data-3f57785d3cd0784dd0843d135ef11f2e\"}, \"$schema\": \"https://vega.github.io/schema/vega-lite/v4.8.1.json\", \"datasets\": {\"data-3f57785d3cd0784dd0843d135ef11f2e\": [{\"Shapley Value\": -0.0037315547466277, \"Feature\": \"Mean Chest <-> Right Ankle\", \"type\": \"Shapley Value\"}, {\"Shapley Value\": 0.0163378362854323, \"Feature\": \"STD Chest <-> Right Ankle\", \"type\": \"Shapley Value\"}, {\"Shapley Value\": 0.1293645047272246, \"Feature\": \"Mean Chest <-> Left Ankle\", \"type\": \"Shapley Value\"}, {\"Shapley Value\": 0.174270825553685, \"Feature\": \"STD Chest <-> Left Ankle\", \"type\": \"Shapley Value\"}, {\"Shapley Value\": 0.1078307164212067, \"Feature\": \"Mean Right Ankle <-> Left Ankle\", \"type\": \"Shapley Value\"}, {\"Shapley Value\": 0.0960723407566545, \"Feature\": \"STD Right Ankle <-> Left Ankle\", \"type\": \"Shapley Value\"}, {\"Shapley Value\": 0.0678735620963081, \"Feature\": \"Pruned Events\", \"type\": \"Shapley Value\"}, {\"Shapley Value\": 0.0075853267906322, \"Feature\": \"Mean Chest <-> Right Ankle\", \"type\": \"Shapley Value\"}, {\"Shapley Value\": 0.0207533575195288, \"Feature\": \"STD Chest <-> Right Ankle\", \"type\": \"Shapley Value\"}, {\"Shapley Value\": 0.117344763866138, \"Feature\": \"Mean Chest <-> Left Ankle\", \"type\": \"Shapley Value\"}, {\"Shapley Value\": 0.1336234157816284, \"Feature\": \"STD Chest <-> Left Ankle\", \"type\": \"Shapley Value\"}, {\"Shapley Value\": 0.2941462176452787, \"Feature\": \"Mean Right Ankle <-> Left Ankle\", \"type\": \"Shapley Value\"}, {\"Shapley Value\": 0.1089594032216284, \"Feature\": \"STD Right Ankle <-> Left Ankle\", \"type\": \"Shapley Value\"}, {\"Shapley Value\": 0.0961984524725095, \"Feature\": \"Pruned Events\", \"type\": \"Shapley Value\"}, {\"Shapley Value\": -0.0014964762276835, \"Feature\": \"Mean Chest <-> Right Ankle\", \"type\": \"Shapley Value\"}, {\"Shapley Value\": 0.0171250933337782, \"Feature\": \"STD Chest <-> Right Ankle\", \"type\": \"Shapley Value\"}, {\"Shapley Value\": 0.1272787583237959, \"Feature\": \"Mean Chest <-> Left Ankle\", \"type\": \"Shapley Value\"}, {\"Shapley Value\": 0.1935756400094498, \"Feature\": \"STD Chest <-> Left Ankle\", \"type\": \"Shapley Value\"}, {\"Shapley Value\": 0.223270549860206, \"Feature\": \"Mean Right Ankle <-> Left Ankle\", \"type\": \"Shapley Value\"}, {\"Shapley Value\": 0.1319306850300302, \"Feature\": \"STD Right Ankle <-> Left Ankle\", \"type\": \"Shapley Value\"}, {\"Shapley Value\": 0.1231412770403994, \"Feature\": \"Pruned Events\", \"type\": \"Shapley Value\"}, {\"Shapley Value\": 0.0060589356525313, \"Feature\": \"Mean Chest <-> Right Ankle\", \"type\": \"Shapley Value\"}, {\"Shapley Value\": 0.0210105226242119, \"Feature\": \"STD Chest <-> Right Ankle\", \"type\": \"Shapley Value\"}, {\"Shapley Value\": 0.1294520280190876, \"Feature\": \"Mean Chest <-> Left Ankle\", \"type\": \"Shapley Value\"}, {\"Shapley Value\": 0.1206152099051643, \"Feature\": \"STD Chest <-> Left Ankle\", \"type\": \"Shapley Value\"}, {\"Shapley Value\": 0.1340080985666384, \"Feature\": \"Mean Right Ankle <-> Left Ankle\", \"type\": \"Shapley Value\"}, {\"Shapley Value\": 0.2150646458867756, \"Feature\": \"STD Right Ankle <-> Left Ankle\", \"type\": \"Shapley Value\"}, {\"Shapley Value\": 0.0845687286795253, \"Feature\": \"Pruned Events\", \"type\": \"Shapley Value\"}, {\"Shapley Value\": 0.09294550507218557, \"Feature\": \"Pruned Events\", \"type\": \"Mean\"}, {\"Shapley Value\": 0.002104057867213075, \"Feature\": \"Mean Chest <-> Right Ankle\", \"type\": \"Mean\"}, {\"Shapley Value\": 0.12586001373406153, \"Feature\": \"Mean Chest <-> Left Ankle\", \"type\": \"Mean\"}, {\"Shapley Value\": 0.18981389562333245, \"Feature\": \"Mean Right Ankle <-> Left Ankle\", \"type\": \"Mean\"}, {\"Shapley Value\": 0.018806702440737802, \"Feature\": \"STD Chest <-> Right Ankle\", \"type\": \"Mean\"}, {\"Shapley Value\": 0.15552127281248188, \"Feature\": \"STD Chest <-> Left Ankle\", \"type\": \"Mean\"}, {\"Shapley Value\": 0.13800676872377216, \"Feature\": \"STD Right Ankle <-> Left Ankle\", \"type\": \"Mean\"}], \"data-94b0a74a125470bb476a7b39ca62c19d\": [{\"Shapley Value\": -0.0040146723300927, \"Feature\": \"Mean Chest <-> Right Ankle\", \"type\": \"Shapley Value\"}, {\"Shapley Value\": 0.016731082718997, \"Feature\": \"STD Chest <-> Right Ankle\", \"type\": \"Shapley Value\"}, {\"Shapley Value\": 0.1216128101971533, \"Feature\": \"Mean Chest <-> Left Ankle\", \"type\": \"Shapley Value\"}, {\"Shapley Value\": 0.1711081809452953, \"Feature\": \"STD Chest <-> Left Ankle\", \"type\": \"Shapley Value\"}, {\"Shapley Value\": 0.1055145686581019, \"Feature\": \"Mean Right Ankle <-> Left Ankle\", \"type\": \"Shapley Value\"}, {\"Shapley Value\": 0.0901238174887284, \"Feature\": \"STD Right Ankle <-> Left Ankle\", \"type\": \"Shapley Value\"}, {\"Shapley Value\": 0.0869424434157002, \"Feature\": \"Pruned Events\", \"type\": \"Shapley Value\"}, {\"Shapley Value\": 0.0074249819275878, \"Feature\": \"Mean Chest <-> Right Ankle\", \"type\": \"Shapley Value\"}, {\"Shapley Value\": 0.020968332891131, \"Feature\": \"STD Chest <-> Right Ankle\", \"type\": \"Shapley Value\"}, {\"Shapley Value\": 0.1188345970940734, \"Feature\": \"Mean Chest <-> Left Ankle\", \"type\": \"Shapley Value\"}, {\"Shapley Value\": 0.1178569650632282, \"Feature\": \"STD Chest <-> Left Ankle\", \"type\": \"Shapley Value\"}, {\"Shapley Value\": 0.2718007732537528, \"Feature\": \"Mean Right Ankle <-> Left Ankle\", \"type\": \"Shapley Value\"}, {\"Shapley Value\": 0.1062073426675936, \"Feature\": \"STD Right Ankle <-> Left Ankle\", \"type\": \"Shapley Value\"}, {\"Shapley Value\": 0.1355179443999771, \"Feature\": \"Pruned Events\", \"type\": \"Shapley Value\"}, {\"Shapley Value\": -0.001118560082146, \"Feature\": \"Mean Chest <-> Right Ankle\", \"type\": \"Shapley Value\"}, {\"Shapley Value\": 0.0186245823811211, \"Feature\": \"STD Chest <-> Right Ankle\", \"type\": \"Shapley Value\"}, {\"Shapley Value\": 0.1175154748594476, \"Feature\": \"Mean Chest <-> Left Ankle\", \"type\": \"Shapley Value\"}, {\"Shapley Value\": 0.1733627506443074, \"Feature\": \"STD Chest <-> Left Ankle\", \"type\": \"Shapley Value\"}, {\"Shapley Value\": 0.2196324955893767, \"Feature\": \"Mean Right Ankle <-> Left Ankle\", \"type\": \"Shapley Value\"}, {\"Shapley Value\": 0.126743471210024, \"Feature\": \"STD Right Ankle <-> Left Ankle\", \"type\": \"Shapley Value\"}, {\"Shapley Value\": 0.160065312767845, \"Feature\": \"Pruned Events\", \"type\": \"Shapley Value\"}, {\"Shapley Value\": 0.0052152971337949, \"Feature\": \"Mean Chest <-> Right Ankle\", \"type\": \"Shapley Value\"}, {\"Shapley Value\": 0.0210763898589429, \"Feature\": \"STD Chest <-> Right Ankle\", \"type\": \"Shapley Value\"}, {\"Shapley Value\": 0.1277575489044901, \"Feature\": \"Mean Chest <-> Left Ankle\", \"type\": \"Shapley Value\"}, {\"Shapley Value\": 0.107363021799496, \"Feature\": \"STD Chest <-> Left Ankle\", \"type\": \"Shapley Value\"}, {\"Shapley Value\": 0.1287678856313937, \"Feature\": \"Mean Right Ankle <-> Left Ankle\", \"type\": \"Shapley Value\"}, {\"Shapley Value\": 0.2097064855730246, \"Feature\": \"STD Right Ankle <-> Left Ankle\", \"type\": \"Shapley Value\"}, {\"Shapley Value\": 0.1108915404327923, \"Feature\": \"Pruned Events\", \"type\": \"Shapley Value\"}, {\"Shapley Value\": 0.12335431025407866, \"Feature\": \"Pruned Events\", \"type\": \"Mean\"}, {\"Shapley Value\": 0.001876761662286, \"Feature\": \"Mean Chest <-> Right Ankle\", \"type\": \"Mean\"}, {\"Shapley Value\": 0.1214301077637911, \"Feature\": \"Mean Chest <-> Left Ankle\", \"type\": \"Mean\"}, {\"Shapley Value\": 0.18142893078315628, \"Feature\": \"Mean Right Ankle <-> Left Ankle\", \"type\": \"Mean\"}, {\"Shapley Value\": 0.019350096962548, \"Feature\": \"STD Chest <-> Right Ankle\", \"type\": \"Mean\"}, {\"Shapley Value\": 0.14242272961308172, \"Feature\": \"STD Chest <-> Left Ankle\", \"type\": \"Mean\"}, {\"Shapley Value\": 0.13319527923484265, \"Feature\": \"STD Right Ankle <-> Left Ankle\", \"type\": \"Mean\"}]}}, {\"mode\": \"vega-lite\"});\n",
       "</script>"
      ],
      "text/plain": [
       "alt.VConcatChart(...)"
      ]
     },
     "execution_count": 34,
     "metadata": {},
     "output_type": "execute_result"
    }
   ],
   "source": [
    "feature_dict = {'path': 'outputs/feature_all.csv', 'rs': 42, 'nsamples': 32000, 'feature_names': model_features, 'plot_features': plot_feats, }\n",
    "feat_data = feat_explain_all(f_hs, pos_dataset, feature_dict, prun_indexes, average_event, model_features, schema, sequence_id_feat, time_feat)\n",
    "feat_global_plot = plot_global_feat(feat_data, **feature_dict)\n",
    "feat_global_plot"
   ]
  },
  {
   "cell_type": "code",
   "execution_count": null,
   "id": "5008dabd",
   "metadata": {},
   "outputs": [],
   "source": []
  },
  {
   "cell_type": "code",
   "execution_count": null,
   "id": "99559082",
   "metadata": {},
   "outputs": [],
   "source": []
  }
 ],
 "metadata": {
  "kernelspec": {
   "display_name": "Python 3",
   "language": "python",
   "name": "python3"
  },
  "language_info": {
   "codemirror_mode": {
    "name": "ipython",
    "version": 3
   },
   "file_extension": ".py",
   "mimetype": "text/x-python",
   "name": "python",
   "nbconvert_exporter": "python",
   "pygments_lexer": "ipython3",
   "version": "3.7.7"
  }
 },
 "nbformat": 4,
 "nbformat_minor": 5
}
