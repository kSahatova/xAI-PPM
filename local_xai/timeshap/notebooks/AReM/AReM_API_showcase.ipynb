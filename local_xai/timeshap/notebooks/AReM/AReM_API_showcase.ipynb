{
 "cells": [
  {
   "cell_type": "markdown",
   "id": "582a4e34",
   "metadata": {},
   "source": [
    "<h1 style=\"color:#3da1da;font-size: 300%;\" id=\"timeshap tutorial\" align=\"center\"  >TimeSHAP Tutorial - Pytorch - AReM dataset</h1><p>&nbsp;\n",
    "\n",
    "<a id='top_cell'></a>\n",
    "\n",
    "## Table of contents\n",
    "1. [Data Processing](#1.-Data-Processing)\n",
    "  1. [Data Loading](#1.1-Data-Loading)\n",
    "  2. [Data Treatment](#1.2-Data-Treatment)\n",
    "2. [Model](#2.-Model)\n",
    "  1. [Model Definition](#2.1-Model-Definition)\n",
    "  2. [Model Training](#2.2-Model-Training)\n",
    "3. [TimeSHAP](#3.-TimeSHAP)\n",
    "  1. [Local Explanations](#3.1-Local-Explanations)\n",
    "  2. [Global Explanations](#3.2-Global-Explanations)\n",
    "  3. [Individual Plots](#3.3-Individual-Plots)\n",
    "    \n",
    "\n",
    "# TimeSHAP\n",
    "\n",
    "TimeSHAP is a model-agnostic, recurrent explainer that builds upon KernelSHAP and extends it to the sequential domain. \n",
    "\n",
    "TimeSHAP computes local event/timestamp- feature-, and cell-level attributions. \n",
    "    \n",
    "Aditionally TimeSHAP also computes global event- and feature-level explanations.\n",
    "    \n",
    "As sequences can be arbitrarily long, TimeSHAP also implements a pruning algorithm based on Shapley Values, \n",
    "that finds a subset of consecutive, recent events that contribute the most to the decision."
   ]
  },
  {
   "cell_type": "markdown",
   "id": "98a9cadd",
   "metadata": {},
   "source": [
    "---\n",
    "# 1. Data-Processing\n",
    "---"
   ]
  },
  {
   "cell_type": "code",
   "execution_count": 1,
   "id": "9e963ff1",
   "metadata": {},
   "outputs": [],
   "source": [
    "import pandas as pd\n",
    "import numpy as np\n",
    "\n",
    "np.random.seed(42)\n",
    "\n",
    "import warnings\n",
    "warnings.filterwarnings('ignore')"
   ]
  },
  {
   "cell_type": "code",
   "execution_count": 2,
   "id": "7dd4a8e3",
   "metadata": {},
   "outputs": [
    {
     "data": {
      "text/plain": [
       "'1.0.2'"
      ]
     },
     "execution_count": 2,
     "metadata": {},
     "output_type": "execute_result"
    }
   ],
   "source": [
    "from timeshap import __version__\n",
    "__version__"
   ]
  },
  {
   "cell_type": "code",
   "execution_count": 3,
   "id": "ca57e8fc",
   "metadata": {},
   "outputs": [
    {
     "data": {
      "text/html": [
       "<style>.container { width:100% !important; }</style>"
      ],
      "text/plain": [
       "<IPython.core.display.HTML object>"
      ]
     },
     "metadata": {},
     "output_type": "display_data"
    }
   ],
   "source": [
    "from IPython.core.display import display, HTML\n",
    "display(HTML(\"<style>.container { width:100% !important; }</style>\"))"
   ]
  },
  {
   "cell_type": "code",
   "execution_count": 4,
   "id": "cdff7185",
   "metadata": {},
   "outputs": [],
   "source": [
    "import os\n",
    "import re\n",
    "\n",
    "data_directories = next(os.walk(\"./AReM\"))[1]\n",
    "\n",
    "all_csvs = []\n",
    "for folder in data_directories:\n",
    "    if folder in ['bending1', 'bending2']:\n",
    "        continue\n",
    "    folder_csvs = next(os.walk(f\"./AReM/{folder}\"))[2]\n",
    "    for data_csv in folder_csvs:\n",
    "        if data_csv == 'dataset8.csv' and folder == 'sitting':\n",
    "            # this dataset only has 479 instances\n",
    "            # it is possible to use it, but would require padding logic\n",
    "            continue\n",
    "        loaded_data = pd.read_csv(f\"./AReM/{folder}/{data_csv}\", skiprows=4)\n",
    "        #print(f\"{folder}/{data_csv} ------ {loaded_data.shape}\")\n",
    "        \n",
    "        csv_id = re.findall(r'\\d+', data_csv)[0]\n",
    "        loaded_data['id'] = csv_id\n",
    "        loaded_data['all_id'] = f\"{folder}_{csv_id}\"\n",
    "        loaded_data['activity'] = folder\n",
    "        all_csvs.append(loaded_data)\n",
    "\n",
    "all_data = pd.concat(all_csvs)\n",
    "raw_model_features = ['avg_rss12', 'var_rss12', 'avg_rss13', 'var_rss13', 'avg_rss23', 'var_rss23']\n",
    "all_data.columns = ['timestamp', 'avg_rss12', 'var_rss12', 'avg_rss13', 'var_rss13', 'avg_rss23', 'var_rss23', 'id', 'all_id', 'activity']\n",
    "\n",
    "\n",
    "# choose ids to use for test\n",
    "ids_for_test = np.random.choice(all_data['id'].unique(), size=4, replace=False)\n",
    "\n",
    "d_train =  all_data[~all_data['id'].isin(ids_for_test)]\n",
    "d_test = all_data[all_data['id'].isin(ids_for_test)]\n",
    "\n",
    "class NumericalNormalizer:\n",
    "    def __init__(self, fields: list):\n",
    "        self.metrics = {}\n",
    "        self.fields = fields\n",
    "\n",
    "    def fit(self, df: pd.DataFrame ) -> list:\n",
    "        means = df[self.fields].mean()\n",
    "        std = df[self.fields].std()\n",
    "        for field in self.fields:\n",
    "            field_mean = means[field]\n",
    "            field_stddev = std[field]\n",
    "            self.metrics[field] = {'mean': field_mean, 'std': field_stddev}\n",
    "\n",
    "    def transform(self, df: pd.DataFrame) -> pd.DataFrame:\n",
    "        # Transform to zero-mean and unit variance.\n",
    "        for field in self.fields:\n",
    "            f_mean = self.metrics[field]['mean']\n",
    "            f_stddev = self.metrics[field]['std']\n",
    "            # OUTLIER CLIPPING to [avg-3*std, avg+3*avg]\n",
    "            df[field] = df[field].apply(lambda x: f_mean - 3 * f_stddev if x < f_mean - 3 * f_stddev else x)\n",
    "            df[field] = df[field].apply(lambda x: f_mean + 3 * f_stddev if x > f_mean + 3 * f_stddev else x)\n",
    "            if f_stddev > 1e-5:\n",
    "                df[f'p_{field}_normalized'] = df[field].apply(lambda x: ((x - f_mean)/f_stddev))\n",
    "            else:\n",
    "                df[f'p_{field}_normalized'] = df[field].apply(lambda x: x * 0)\n",
    "        return df\n",
    "    \n",
    "\n",
    "#all features are numerical\n",
    "normalizor = NumericalNormalizer(raw_model_features)\n",
    "normalizor.fit(d_train)\n",
    "d_train_normalized = normalizor.transform(d_train)\n",
    "d_test_normalized = normalizor.transform(d_test)\n",
    "\n",
    "\n",
    "model_features = [f\"p_{x}_normalized\" for x in raw_model_features]\n",
    "time_feat = 'timestamp'\n",
    "label_feat = 'activity'\n",
    "sequence_id_feat = 'all_id'\n",
    "\n",
    "plot_feats = {\n",
    "    'p_avg_rss12_normalized': \"Mean Chest <-> Right Ankle\",\n",
    "    'p_var_rss12_normalized': \"STD Chest <-> Right Ankle\",\n",
    "    'p_avg_rss13_normalized': \"Mean Chest <-> Left Ankle\",\n",
    "    'p_var_rss13_normalized': \"STD Chest <-> Left Ankle\",\n",
    "    'p_avg_rss23_normalized': \"Mean Right Ankle <-> Left Ankle\",\n",
    "    'p_var_rss23_normalized': \"STD Right Ankle <-> Left Ankle\",\n",
    "}\n",
    "\n",
    "# possible activities ['cycling', 'lying', 'sitting', 'standing', 'walking']\n",
    "#Select the activity to predict\n",
    "chosen_activity = 'cycling'\n",
    "\n",
    "d_train_normalized['label'] = d_train_normalized['activity'].apply(lambda x: int(x == chosen_activity))\n",
    "d_test_normalized['label'] = d_test_normalized['activity'].apply(lambda x: int(x == chosen_activity))\n",
    "\n",
    "\n",
    "import torch\n",
    "\n",
    "def df_to_Tensor(df, model_feats, label_feat, group_by_feat, timestamp_Feat):\n",
    "    sequence_length = len(df[timestamp_Feat].unique())\n",
    "    \n",
    "    data_tensor = np.zeros((len(df[group_by_feat].unique()), sequence_length, len(model_feats)))\n",
    "    labels_tensor = np.zeros((len(df[group_by_feat].unique()), 1))\n",
    "    \n",
    "    for i, name in enumerate(df[group_by_feat].unique()):\n",
    "        name_data = df[df[group_by_feat] == name]\n",
    "        sorted_data = name_data.sort_values(timestamp_Feat)\n",
    "        \n",
    "        data_x = sorted_data[model_feats].values\n",
    "        labels = sorted_data[label_feat].values\n",
    "        assert labels.sum() == 0 or labels.sum() == len(labels)\n",
    "        data_tensor[i, :, :] = data_x\n",
    "        labels_tensor[i, :] = labels[0]\n",
    "    data_tensor = torch.from_numpy(data_tensor).type(torch.FloatTensor)\n",
    "    labels_tensor = torch.from_numpy(labels_tensor).type(torch.FloatTensor)\n",
    "    \n",
    "    return data_tensor, labels_tensor\n",
    "\n",
    "train_data, train_labels = df_to_Tensor(d_train_normalized, model_features, 'label', sequence_id_feat, time_feat)\n",
    "\n",
    "test_data, test_labels = df_to_Tensor(d_test_normalized, model_features, 'label', sequence_id_feat, time_feat)\n",
    "\n"
   ]
  },
  {
   "cell_type": "markdown",
   "id": "2ee19a3f",
   "metadata": {},
   "source": [
    "___\n",
    "# 2. Model"
   ]
  },
  {
   "cell_type": "code",
   "execution_count": 5,
   "id": "2ad14100",
   "metadata": {},
   "outputs": [],
   "source": [
    "import torch.nn as nn\n",
    "\n",
    "class ExplainedRNN(nn.Module):\n",
    "    def __init__(self,\n",
    "                 input_size: int,\n",
    "                 cfg: dict,\n",
    "                 ):\n",
    "        super(ExplainedRNN, self).__init__()\n",
    "        self.hidden_dim = cfg.get('hidden_dim', 32)\n",
    "        torch.manual_seed(cfg.get('random_seed', 42))\n",
    "\n",
    "        self.recurrent_block = nn.GRU(\n",
    "            input_size=input_size,\n",
    "            hidden_size=self.hidden_dim,\n",
    "            batch_first=True,\n",
    "            num_layers=2,\n",
    "            )\n",
    "        \n",
    "        self.classifier_block = nn.Linear(self.hidden_dim, 1)\n",
    "        self.output_activation_func = nn.Sigmoid()\n",
    "\n",
    "    def forward(self,\n",
    "                x: torch.Tensor,\n",
    "                hidden_states: tuple = None,\n",
    "                ):\n",
    "\n",
    "        if hidden_states is None:\n",
    "            output, hidden = self.recurrent_block(x)\n",
    "        else:\n",
    "            output, hidden = self.recurrent_block(x, hidden_states)\n",
    "\n",
    "        # -1 on hidden, to select the last layer of the stacked gru\n",
    "        assert torch.equal(output[:,-1,:], hidden[-1, :, :])\n",
    "        \n",
    "        y = self.classifier_block(hidden[-1, :, :])\n",
    "        y = self.output_activation_func(y)\n",
    "        return y, hidden\n",
    "    \n",
    "class ExplainedGRU2Layer(nn.Module):\n",
    "    def __init__(self,\n",
    "                 input_size: int,\n",
    "                 cfg: dict,\n",
    "                 ):\n",
    "        super(ExplainedRNN, self).__init__()\n",
    "        self.hidden_dim = cfg.get('hidden_dim', 32)\n",
    "        torch.manual_seed(cfg.get('random_seed', 42))\n",
    "\n",
    "        self.recurrent_block1 = nn.GRU(\n",
    "            input_size=input_size,\n",
    "            hidden_size=self.hidden_dim * 2,\n",
    "            batch_first=True,\n",
    "            num_layers=1,\n",
    "        )\n",
    "\n",
    "        self.recurrent_block2 = nn.GRU(\n",
    "            input_size=self.hidden_dim * 2,\n",
    "            hidden_size=self.hidden_dim,\n",
    "            batch_first=True,\n",
    "            num_layers=1,\n",
    "        )\n",
    "\n",
    "        self.classifier_block = nn.Linear(self.hidden_dim, 1)\n",
    "        self.output_activation_func = nn.Sigmoid()\n",
    "\n",
    "    def forward(self,\n",
    "                x: torch.Tensor,\n",
    "                hidden_states: tuple = None,\n",
    "                ):\n",
    "\n",
    "        if hidden_states is None:\n",
    "            output, hidden1 = self.recurrent_block1(x)\n",
    "            output, hidden2 = self.recurrent_block2(output)\n",
    "        else:\n",
    "            output, hidden1 = self.recurrent_block1(x, hidden_states[0])\n",
    "            output, hidden2 = self.recurrent_block2(output, hidden_states[1])\n",
    "\n",
    "        # -1 on hidden, to select the last layer of the stacked gru\n",
    "        assert torch.equal(output[:, -1, :], hidden2[-1, :, :])\n",
    "\n",
    "        y = self.classifier_block(hidden2[-1, :, :])\n",
    "        y = self.output_activation_func(y)\n",
    "        return y, (hidden1, hidden2)\n",
    "    \n",
    "class ExplainedLSTM(nn.Module):\n",
    "    def __init__(self,\n",
    "                 input_size: int,\n",
    "                 cfg: dict,\n",
    "                 ):\n",
    "        super(ExplainedRNN, self).__init__()\n",
    "        self.hidden_dim = cfg.get('hidden_dim', 32)\n",
    "        torch.manual_seed(cfg.get('random_seed', 42))\n",
    "\n",
    "        self.recurrent_block = nn.LSTM(\n",
    "            input_size=input_size,\n",
    "            hidden_size=self.hidden_dim,\n",
    "            batch_first=True,\n",
    "            num_layers=2,\n",
    "            )\n",
    "        \n",
    "        self.classifier_block = nn.Linear(self.hidden_dim, 1)\n",
    "        self.output_activation_func = nn.Sigmoid()\n",
    "\n",
    "    def forward(self,\n",
    "                x: torch.Tensor,\n",
    "                hidden_states: tuple = None,\n",
    "                ):\n",
    "\n",
    "        if hidden_states is None:\n",
    "            output, hidden = self.recurrent_block(x)\n",
    "        else:\n",
    "            output, hidden = self.recurrent_block(x, hidden_states)\n",
    "\n",
    "        # -1 on hidden, to select the last layer of the stacked gru\n",
    "        assert torch.equal(output[:,-1,:], hidden[-1, :, :])\n",
    "        \n",
    "        y = self.classifier_block(hidden[-1, :, :])\n",
    "        y = self.output_activation_func(y)\n",
    "        return y, hidden"
   ]
  },
  {
   "cell_type": "code",
   "execution_count": 6,
   "id": "5fa5b613",
   "metadata": {},
   "outputs": [
    {
     "name": "stderr",
     "output_type": "stream",
     "text": [
      " 12%|█▎        | 1/8 [00:03<00:21,  3.07s/it]"
     ]
    },
    {
     "name": "stdout",
     "output_type": "stream",
     "text": [
      "Train loss: 0.6997937560081482 --- Test loss 0.5927574634552002 \n"
     ]
    },
    {
     "name": "stderr",
     "output_type": "stream",
     "text": [
      "\r\n",
      " 25%|██▌       | 2/8 [00:06<00:19,  3.29s/it]"
     ]
    },
    {
     "name": "stdout",
     "output_type": "stream",
     "text": [
      "Train loss: 0.5918577313423157 --- Test loss 0.4946227967739105 \n"
     ]
    },
    {
     "name": "stderr",
     "output_type": "stream",
     "text": [
      "\r\n",
      " 38%|███▊      | 3/8 [00:10<00:18,  3.63s/it]"
     ]
    },
    {
     "name": "stdout",
     "output_type": "stream",
     "text": [
      "Train loss: 0.49630260467529297 --- Test loss 0.40795645117759705 \n"
     ]
    },
    {
     "name": "stderr",
     "output_type": "stream",
     "text": [
      "\r\n",
      " 50%|█████     | 4/8 [00:13<00:14,  3.53s/it]"
     ]
    },
    {
     "name": "stdout",
     "output_type": "stream",
     "text": [
      "Train loss: 0.4160643219947815 --- Test loss 0.343948632478714 \n"
     ]
    },
    {
     "name": "stderr",
     "output_type": "stream",
     "text": [
      "\r\n",
      " 62%|██████▎   | 5/8 [00:15<00:08,  2.93s/it]"
     ]
    },
    {
     "name": "stdout",
     "output_type": "stream",
     "text": [
      "Train loss: 0.3660268187522888 --- Test loss 0.2917708158493042 \n"
     ]
    },
    {
     "name": "stderr",
     "output_type": "stream",
     "text": [
      "\r\n",
      " 75%|███████▌  | 6/8 [00:18<00:05,  2.80s/it]"
     ]
    },
    {
     "name": "stdout",
     "output_type": "stream",
     "text": [
      "Train loss: 0.334475576877594 --- Test loss 0.2376544028520584 \n"
     ]
    },
    {
     "name": "stderr",
     "output_type": "stream",
     "text": [
      "\r\n",
      " 88%|████████▊ | 7/8 [00:20<00:02,  2.62s/it]"
     ]
    },
    {
     "name": "stdout",
     "output_type": "stream",
     "text": [
      "Train loss: 0.29900506138801575 --- Test loss 0.1931639164686203 \n"
     ]
    },
    {
     "name": "stderr",
     "output_type": "stream",
     "text": [
      "100%|██████████| 8/8 [00:23<00:00,  2.94s/it]"
     ]
    },
    {
     "name": "stdout",
     "output_type": "stream",
     "text": [
      "Train loss: 0.25920480489730835 --- Test loss 0.17529389262199402 \n"
     ]
    },
    {
     "name": "stderr",
     "output_type": "stream",
     "text": [
      "\n"
     ]
    }
   ],
   "source": [
    "import torch.optim as optim\n",
    "\n",
    "model = ExplainedRNN(len(model_features), {})\n",
    "#model = ExplainedGRU2Layer(len(model_features), {})\n",
    "#model = ExplainedLSTM(len(model_features), {})\n",
    "loss_function = nn.BCELoss()\n",
    "optimizer = optim.Adam(model.parameters(), lr=0.01)\n",
    "\n",
    "learning_rate = 0.005\n",
    "EPOCHS = 8\n",
    "\n",
    "\n",
    "import tqdm\n",
    "import copy\n",
    "for epoch in tqdm.trange(EPOCHS):\n",
    "    train_data_local = copy.deepcopy(train_data)\n",
    "    train_labels_local = copy.deepcopy(train_labels)\n",
    "    \n",
    "    y_pred, hidden_states = model(train_data_local)\n",
    "    train_loss = loss_function(y_pred, train_labels_local)\n",
    "\n",
    "    optimizer.zero_grad()\n",
    "    train_loss.backward()\n",
    "    optimizer.step()\n",
    "    with torch.no_grad():\n",
    "        test_data_local = copy.deepcopy(test_data)\n",
    "        test_labels_local = copy.deepcopy(test_labels)\n",
    "        test_preds, _ = model(test_data_local)\n",
    "        test_loss = loss_function(test_preds, test_labels_local)\n",
    "        print(f\"Train loss: {train_loss.item()} --- Test loss {test_loss.item()} \")\n"
   ]
  },
  {
   "cell_type": "markdown",
   "id": "7c0f525d",
   "metadata": {},
   "source": [
    "---\n",
    "# 3. TimeSHAP\n",
    "---"
   ]
  },
  {
   "cell_type": "code",
   "execution_count": 7,
   "id": "396cb0ac",
   "metadata": {},
   "outputs": [],
   "source": [
    "from timeshap.wrappers import TorchModelWrapper\n",
    "model_wrapped = TorchModelWrapper(model)\n",
    "f_hs = lambda x, y=None: model_wrapped.predict_last_hs(x, y)"
   ]
  },
  {
   "cell_type": "markdown",
   "id": "a66a417b",
   "metadata": {},
   "source": [
    "### Baseline event"
   ]
  },
  {
   "cell_type": "code",
   "execution_count": 8,
   "id": "d8d7584d",
   "metadata": {},
   "outputs": [],
   "source": [
    "from timeshap.utils import calc_avg_event\n",
    "average_event = calc_avg_event(d_train_normalized, numerical_feats=model_features, categorical_feats=[])"
   ]
  },
  {
   "cell_type": "code",
   "execution_count": 9,
   "id": "c49c04f5",
   "metadata": {},
   "outputs": [
    {
     "data": {
      "text/html": [
       "<div>\n",
       "<style scoped>\n",
       "    .dataframe tbody tr th:only-of-type {\n",
       "        vertical-align: middle;\n",
       "    }\n",
       "\n",
       "    .dataframe tbody tr th {\n",
       "        vertical-align: top;\n",
       "    }\n",
       "\n",
       "    .dataframe thead th {\n",
       "        text-align: right;\n",
       "    }\n",
       "</style>\n",
       "<table border=\"1\" class=\"dataframe\">\n",
       "  <thead>\n",
       "    <tr style=\"text-align: right;\">\n",
       "      <th></th>\n",
       "      <th>p_avg_rss12_normalized</th>\n",
       "      <th>p_var_rss12_normalized</th>\n",
       "      <th>p_avg_rss13_normalized</th>\n",
       "      <th>p_var_rss13_normalized</th>\n",
       "      <th>p_avg_rss23_normalized</th>\n",
       "      <th>p_var_rss23_normalized</th>\n",
       "    </tr>\n",
       "  </thead>\n",
       "  <tbody>\n",
       "    <tr>\n",
       "      <th>0</th>\n",
       "      <td>0.095791</td>\n",
       "      <td>-0.531224</td>\n",
       "      <td>0.178574</td>\n",
       "      <td>-0.416398</td>\n",
       "      <td>0.129324</td>\n",
       "      <td>-0.392722</td>\n",
       "    </tr>\n",
       "  </tbody>\n",
       "</table>\n",
       "</div>"
      ],
      "text/plain": [
       "   p_avg_rss12_normalized  p_var_rss12_normalized  p_avg_rss13_normalized  \\\n",
       "0                0.095791               -0.531224                0.178574   \n",
       "\n",
       "   p_var_rss13_normalized  p_avg_rss23_normalized  p_var_rss23_normalized  \n",
       "0               -0.416398                0.129324               -0.392722  "
      ]
     },
     "execution_count": 9,
     "metadata": {},
     "output_type": "execute_result"
    }
   ],
   "source": [
    "average_event"
   ]
  },
  {
   "cell_type": "markdown",
   "id": "2b707fa7",
   "metadata": {},
   "source": [
    "#### Average score over baseline"
   ]
  },
  {
   "cell_type": "code",
   "execution_count": 10,
   "id": "b254545e",
   "metadata": {
    "scrolled": false
   },
   "outputs": [],
   "source": [
    "from timeshap.utils import get_avg_score_with_avg_event\n",
    "avg_score_over_len = get_avg_score_with_avg_event(f_hs, average_event, top=480)"
   ]
  },
  {
   "cell_type": "markdown",
   "id": "af25703f",
   "metadata": {},
   "source": [
    "### Baseline Sequence"
   ]
  },
  {
   "cell_type": "code",
   "execution_count": 11,
   "id": "c6564d4b",
   "metadata": {},
   "outputs": [],
   "source": [
    "from timeshap.utils import calc_avg_sequence\n",
    "average_sequence = calc_avg_sequence(d_train_normalized, numerical_feats=model_features, categorical_feats=[],model_features=model_features, entity_col=sequence_id_feat)"
   ]
  },
  {
   "cell_type": "code",
   "execution_count": 12,
   "id": "47fb34a6",
   "metadata": {},
   "outputs": [
    {
     "data": {
      "text/plain": [
       "array([[0.0000e+00, 4.0875e+01, 5.0000e-01, 1.4625e+01, 1.0500e+00,\n",
       "        1.5250e+01],\n",
       "       [2.5000e+02, 4.0585e+01, 6.0500e-01, 1.4875e+01, 7.9000e-01,\n",
       "        1.4875e+01],\n",
       "       [5.0000e+02, 3.9835e+01, 7.5500e-01, 1.4125e+01, 8.7000e-01,\n",
       "        1.7000e+01],\n",
       "       ...,\n",
       "       [1.1925e+05, 3.9625e+01, 6.6000e-01, 1.4400e+01, 9.7000e-01,\n",
       "        1.4165e+01],\n",
       "       [1.1950e+05, 3.9500e+01, 5.0000e-01, 1.2710e+01, 1.2050e+00,\n",
       "        1.5000e+01],\n",
       "       [1.1975e+05, 3.9625e+01, 6.6000e-01, 1.4000e+01, 1.0150e+00,\n",
       "        1.4750e+01]])"
      ]
     },
     "execution_count": 12,
     "metadata": {},
     "output_type": "execute_result"
    }
   ],
   "source": [
    "average_sequence"
   ]
  },
  {
   "cell_type": "markdown",
   "id": "78d2ce5f",
   "metadata": {},
   "source": [
    "#### Average score over baseline"
   ]
  },
  {
   "cell_type": "code",
   "execution_count": 13,
   "id": "a00a1ee9",
   "metadata": {},
   "outputs": [],
   "source": [
    "from timeshap.utils import get_score_of_avg_sequence\n",
    "avg_score_of_event = get_score_of_avg_sequence(f_hs, average_sequence)"
   ]
  },
  {
   "cell_type": "markdown",
   "id": "a8ff8a66",
   "metadata": {},
   "source": [
    "## 3.1 Local Explanations"
   ]
  },
  {
   "cell_type": "code",
   "execution_count": 14,
   "id": "d74d18d4",
   "metadata": {},
   "outputs": [],
   "source": [
    "positive_sequence_id = f\"cycling_{np.random.choice(ids_for_test)}\"\n",
    "pos_x_pd = d_test_normalized[d_test_normalized['all_id'] == positive_sequence_id]\n",
    "\n",
    "# select model features only\n",
    "pos_x_data = pos_x_pd[model_features]\n",
    "# convert the instance to numpy so TimeSHAP receives it\n",
    "pos_x_data = np.expand_dims(pos_x_data.to_numpy().copy(), axis=0)\n",
    "from timeshap.explainer import local_report\n"
   ]
  },
  {
   "cell_type": "markdown",
   "id": "f7c55172",
   "metadata": {},
   "source": [
    "### Local Report  API"
   ]
  },
  {
   "cell_type": "code",
   "execution_count": 15,
   "id": "4bada093",
   "metadata": {},
   "outputs": [],
   "source": [
    "# local report parameters\n",
    "pruning_dict = {'tol': 0.075}\n",
    "event_dict = {'rs': 42, 'nsamples': 32000}\n",
    "feature_dict = {'rs': 42, 'nsamples': 32000, 'feature_names': model_features, 'plot_features': plot_feats}\n",
    "cell_dict = {'rs': 42, 'nsamples': 32000, 'top_x_feats': 2, 'top_x_events': 2}"
   ]
  },
  {
   "cell_type": "code",
   "execution_count": 16,
   "id": "b906bdf0",
   "metadata": {},
   "outputs": [
    {
     "name": "stdout",
     "output_type": "stream",
     "text": [
      "Assuming all features are model features\n"
     ]
    },
    {
     "data": {
      "text/html": [
       "\n",
       "<div id=\"altair-viz-63a8ae8c370d461baf8af873cfea8951\"></div>\n",
       "<script type=\"text/javascript\">\n",
       "  (function(spec, embedOpt){\n",
       "    let outputDiv = document.currentScript.previousElementSibling;\n",
       "    if (outputDiv.id !== \"altair-viz-63a8ae8c370d461baf8af873cfea8951\") {\n",
       "      outputDiv = document.getElementById(\"altair-viz-63a8ae8c370d461baf8af873cfea8951\");\n",
       "    }\n",
       "    const paths = {\n",
       "      \"vega\": \"https://cdn.jsdelivr.net/npm//vega@5?noext\",\n",
       "      \"vega-lib\": \"https://cdn.jsdelivr.net/npm//vega-lib?noext\",\n",
       "      \"vega-lite\": \"https://cdn.jsdelivr.net/npm//vega-lite@4.8.1?noext\",\n",
       "      \"vega-embed\": \"https://cdn.jsdelivr.net/npm//vega-embed@6?noext\",\n",
       "    };\n",
       "\n",
       "    function loadScript(lib) {\n",
       "      return new Promise(function(resolve, reject) {\n",
       "        var s = document.createElement('script');\n",
       "        s.src = paths[lib];\n",
       "        s.async = true;\n",
       "        s.onload = () => resolve(paths[lib]);\n",
       "        s.onerror = () => reject(`Error loading script: ${paths[lib]}`);\n",
       "        document.getElementsByTagName(\"head\")[0].appendChild(s);\n",
       "      });\n",
       "    }\n",
       "\n",
       "    function showError(err) {\n",
       "      outputDiv.innerHTML = `<div class=\"error\" style=\"color:red;\">${err}</div>`;\n",
       "      throw err;\n",
       "    }\n",
       "\n",
       "    function displayChart(vegaEmbed) {\n",
       "      vegaEmbed(outputDiv, spec, embedOpt)\n",
       "        .catch(err => showError(`Javascript Error: ${err.message}<br>This usually means there's a typo in your chart specification. See the javascript console for the full traceback.`));\n",
       "    }\n",
       "\n",
       "    if(typeof define === \"function\" && define.amd) {\n",
       "      requirejs.config({paths});\n",
       "      require([\"vega-embed\"], displayChart, err => showError(`Error loading script: ${err.message}`));\n",
       "    } else if (typeof vegaEmbed === \"function\") {\n",
       "      displayChart(vegaEmbed);\n",
       "    } else {\n",
       "      loadScript(\"vega\")\n",
       "        .then(() => loadScript(\"vega-lite\"))\n",
       "        .then(() => loadScript(\"vega-embed\"))\n",
       "        .catch(showError)\n",
       "        .then(() => displayChart(vegaEmbed));\n",
       "    }\n",
       "  })({\"config\": {\"axis\": {\"domain\": true, \"domainColor\": \"#666F89\", \"grid\": false, \"gridCap\": \"round\", \"gridColor\": \"#B3B7C4\", \"gridDash\": [2, 4], \"gridWidth\": 0.5, \"labelColor\": \"#666F89\", \"labelFont\": \"Roboto, Arial, sans-serif\", \"labelPadding\": 2, \"tickColor\": \"#666F89\", \"tickOpacity\": 0.5, \"tickSize\": 4, \"titleColor\": \"#19274E\", \"titleFont\": \"Roboto, Arial, sans-serif\", \"titleFontSize\": 12}, \"axisBand\": {\"domain\": true, \"labelPadding\": 4, \"ticks\": false}, \"axisY\": {\"domain\": false, \"titleAlign\": \"left\", \"titleAngle\": 0, \"titleX\": -20, \"titleY\": -10}, \"legend\": {\"labelColor\": \"#666F89\", \"labelFont\": \"Roboto, Arial, sans-serif\", \"labelFontSize\": 12, \"symbolSize\": 40, \"titleColor\": \"#19274E\", \"titleFont\": \"Roboto, Arial, sans-serif\", \"titleFontSize\": 12, \"titlePadding\": 4}, \"arc\": {\"stroke\": \"#FFFFFF\", \"strokeWidth\": 1}, \"bar\": {\"fill\": \"#2770EB\", \"stroke\": null}, \"line\": {\"stroke\": \"#2770EB\", \"strokeWidth\": 2}, \"path\": {\"stroke\": \"#2770EB\", \"strokeWidth\": 0.5}, \"point\": {\"fill\": \"#2770EB\", \"shape\": \"circle\", \"filled\": true}, \"rect\": {\"fill\": \"#2770EB\"}, \"rule\": {\"stroke\": \"#666F89\"}, \"shape\": {\"stroke\": \"#2770EB\"}, \"text\": {\"color\": \"#19274E\", \"font\": \"Roboto, Arial, sans-serif\", \"fontSize\": 12}, \"range\": {\"category\": [\"#2770EB\", \"#77B98A\", \"#DA5252\", \"#FFC400\", \"#A87AEA\", \"#00A39E\", \"#19274E\"], \"diverging\": [\"#006360\", \"#2BB3AE\", \"#96D9D7\", \"#FFFFFF\", \"#EDAAAA\", \"#DA5252\", \"#811D1D\"], \"heatmap\": [\"#18448F\", \"#1B4EA5\", \"#2770EB\", \"#4C88EE\", \"#82ACF3\", \"#A6C4F7\", \"#E9F1FD\"], \"ramp\": [\"#18448F\", \"#1B4EA5\", \"#2770EB\", \"#4C88EE\", \"#82ACF3\", \"#A6C4F7\", \"#E9F1FD\"]}, \"background\": \"#FFFFFF\", \"group\": {\"fill\": \"#FFFFFF\"}, \"header\": {\"labelColor\": \"#19274E\", \"labelFont\": \"Roboto, Arial, sans-serif\", \"labelFontSize\": 12, \"titleColor\": \"#19274E\", \"titleFont\": \"Roboto, Arial, sans-serif\", \"titleFontSize\": 16}, \"title\": {\"anchor\": \"start\", \"color\": \"#19274E\", \"font\": \"Roboto, Arial, sans-serif\", \"fontSize\": 20, \"fontWeight\": \"bold\", \"offset\": 20, \"subtitleColor\": \"#19274E\", \"subtitleFontSize\": 16}, \"view\": {\"continuousHeight\": 300, \"continuousWidth\": 400, \"stroke\": \"transparent\"}}, \"hconcat\": [{\"layer\": [{\"mark\": {\"type\": \"area\", \"opacity\": 0.5}, \"encoding\": {\"color\": {\"type\": \"nominal\", \"field\": \"Coalition\", \"legend\": {\"fillColor\": \"white\", \"labelFontSize\": 14, \"labelLimit\": 0, \"orient\": \"top-left\", \"symbolSize\": 50, \"symbolStrokeWidth\": 0, \"title\": null}, \"scale\": {\"domain\": [\"Sum of contribution of events \\u2264 t\"], \"range\": [\"#618FE0\"]}}, \"x\": {\"type\": \"quantitative\", \"axis\": {\"labelFontSize\": 15, \"title\": \"t (event index)\", \"titleFontSize\": 15}, \"field\": \"t (event index)\"}, \"y\": {\"type\": \"quantitative\", \"axis\": {\"grid\": true, \"labelFontSize\": 15, \"titleFontSize\": 15, \"titleX\": -28}, \"field\": \"Shapley Value\", \"scale\": {\"domain\": [-0.05, 1]}}}}, {\"mark\": \"line\", \"encoding\": {\"color\": {\"type\": \"nominal\", \"field\": \"Coalition\", \"legend\": {\"fillColor\": \"white\", \"labelFontSize\": 14, \"labelLimit\": 0, \"orient\": \"top-left\", \"symbolSize\": 50, \"symbolStrokeWidth\": 0, \"title\": null}, \"scale\": {\"domain\": [\"Sum of contribution of events \\u2264 t\"], \"range\": [\"#618FE0\"]}}, \"x\": {\"type\": \"quantitative\", \"axis\": {\"labelFontSize\": 15, \"title\": \"t (event index)\", \"titleFontSize\": 15}, \"field\": \"t (event index)\"}, \"y\": {\"type\": \"quantitative\", \"axis\": {\"grid\": true, \"labelFontSize\": 15, \"titleFontSize\": 15, \"titleX\": -28}, \"field\": \"Shapley Value\", \"scale\": {\"domain\": [-0.05, 1]}}}}, {\"data\": {\"name\": \"data-4da172a0ee14e02747c6e34fe238eb6c\"}, \"mark\": {\"type\": \"rule\", \"color\": \"#E17560\"}, \"encoding\": {\"x\": {\"type\": \"quantitative\", \"field\": \"x\"}}}, {\"data\": {\"name\": \"data-5caf32413302c8b0ee27c6c9ada61835\"}, \"mark\": {\"type\": \"text\", \"angle\": 270, \"color\": \"#E17560\", \"fontSize\": 15, \"fontWeight\": \"bold\", \"text\": \"Pruning\"}, \"encoding\": {\"x\": {\"type\": \"quantitative\", \"field\": \"x\"}}}], \"data\": {\"name\": \"data-f6d0617344d11d5d6eb381e8151136c9\"}, \"height\": 225, \"width\": 350}, {\"layer\": [{\"mark\": \"rect\", \"encoding\": {\"color\": {\"type\": \"quantitative\", \"field\": \"rounded\", \"legend\": {\"gradientLength\": 225, \"gradientThickness\": 10, \"labelFontSize\": 15, \"orient\": \"right\"}, \"scale\": {\"domain\": [-0.5, 0.5], \"range\": [\"#5f8fd6\", \"#99c3fb\", \"#f5f5f5\", \"#ffaa92\", \"#d16f5b\"]}, \"title\": null}, \"x\": {\"type\": \"ordinal\", \"axis\": {\"title\": \"Shapley Value\", \"titleFontSize\": 15}, \"field\": \"column\"}, \"y\": {\"type\": \"ordinal\", \"axis\": {\"domain\": false, \"labelFontSize\": 15, \"title\": \"Event\", \"titleFontSize\": 15, \"titleX\": -49}, \"field\": \"Feature\", \"sort\": [\"Event -1\", \"Event -2\", \"Event -3\", \"Event -4\", \"Event -5\", \"Event -6\", \"Event -7\", \"Event -8\", \"Event -9\", \"Event -10\", \"Event -11\", \"Pruned Events\"]}}}, {\"mark\": {\"type\": \"text\", \"align\": \"right\", \"baseline\": \"middle\", \"color\": \"#798184\", \"dx\": 18, \"fontSize\": 15}, \"encoding\": {\"text\": {\"type\": \"nominal\", \"field\": \"rounded_str\"}, \"x\": {\"type\": \"ordinal\", \"axis\": {\"domain\": false, \"labels\": false, \"title\": \"Shapley Value\", \"titleX\": 43}, \"field\": \"column\"}, \"y\": {\"type\": \"ordinal\", \"axis\": {\"domain\": false, \"labelFontSize\": 15, \"title\": \"Event\", \"titleFontSize\": 15, \"titleX\": -49}, \"field\": \"Feature\", \"sort\": [\"Event -1\", \"Event -2\", \"Event -3\", \"Event -4\", \"Event -5\", \"Event -6\", \"Event -7\", \"Event -8\", \"Event -9\", \"Event -10\", \"Event -11\", \"Pruned Events\"]}}}], \"data\": {\"name\": \"data-de4d03c341b285121e5d70d183e065c2\"}, \"height\": 225, \"width\": 60}, {\"layer\": [{\"data\": {\"name\": \"data-6bd6e116b1bbbe89b15cb6c368e69dea\"}, \"mark\": {\"type\": \"bar\", \"size\": 15, \"thickness\": 1}, \"encoding\": {\"x\": {\"type\": \"quantitative\", \"axis\": {\"grid\": true, \"labelFontSize\": 15, \"title\": \"Shapley Value\", \"titleFontSize\": 15}, \"field\": \"Shapley Value\", \"scale\": {\"domain\": [-0.1, 0.4]}}, \"y\": {\"type\": \"nominal\", \"axis\": {\"labelFontSize\": 15, \"title\": \"Feature\", \"titleFontSize\": 15, \"titleX\": -61}, \"field\": \"Feature\", \"sort\": {\"field\": \"sort_col\", \"order\": \"descending\"}}}}, {\"data\": {\"name\": \"data-9c00aa9dc2b1c1a0b4bf9b34ead12925\"}, \"mark\": {\"type\": \"rule\", \"color\": \"#798184\"}, \"encoding\": {\"x\": {\"type\": \"quantitative\", \"field\": \"x\"}}}], \"height\": 225, \"width\": 190}, {\"hconcat\": [{\"layer\": [{\"mark\": \"rect\", \"encoding\": {\"color\": {\"type\": \"quantitative\", \"field\": \"rounded\", \"legend\": null, \"scale\": {\"domain\": [-0.5, 0.5], \"range\": [\"#5f8fd6\", \"#99c3fb\", \"#f5f5f5\", \"#ffaa92\", \"#d16f5b\"]}, \"title\": null}, \"x\": {\"type\": \"nominal\", \"axis\": {\"titleFontSize\": 15}, \"field\": \"Event\"}, \"y\": {\"type\": \"nominal\", \"axis\": {\"domain\": false, \"labels\": false, \"title\": null}, \"field\": \"Feature\"}}}, {\"mark\": {\"type\": \"text\", \"align\": \"right\", \"baseline\": \"middle\", \"color\": \"#798184\", \"dx\": 18, \"fontSize\": 15}, \"encoding\": {\"text\": {\"type\": \"nominal\", \"field\": \"rounded_str\"}, \"x\": {\"type\": \"nominal\", \"axis\": {\"domain\": false, \"labelAngle\": 0, \"labelFontSize\": 15, \"labelOffset\": 24, \"labelPadding\": 30, \"orient\": \"top\", \"title\": null}, \"field\": \"Event\"}, \"y\": {\"type\": \"nominal\", \"axis\": {\"domain\": false, \"labels\": false, \"title\": null}, \"field\": \"Feature\"}}}], \"data\": {\"name\": \"data-495cc4f5c030f3712013cd8c3e270316\"}, \"height\": 225, \"width\": 66.66666666666667}, {\"layer\": [{\"mark\": \"rect\", \"encoding\": {\"color\": {\"type\": \"quantitative\", \"field\": \"rounded\", \"legend\": {\"gradientLength\": 225, \"gradientThickness\": 10, \"labelFontSize\": 15, \"orient\": \"right\"}, \"scale\": {\"domain\": [-0.5, 0.5], \"range\": [\"#5f8fd6\", \"#99c3fb\", \"#f5f5f5\", \"#ffaa92\", \"#d16f5b\"]}, \"title\": null}, \"x\": {\"type\": \"nominal\", \"axis\": {\"titleFontSize\": 15}, \"field\": \"Event\", \"sort\": [\"Event -3\", \"Event -2\"]}, \"y\": {\"type\": \"nominal\", \"axis\": {\"domain\": false, \"labelFontSize\": 15, \"title\": null}, \"field\": \"Feature\", \"sort\": [\"Mean Right Ankle <-> Left Ankle\", \"STD Right Ankle <-> Left Ankle\"]}}}, {\"mark\": {\"type\": \"text\", \"align\": \"right\", \"baseline\": \"middle\", \"color\": \"#798184\", \"dx\": 18, \"fontSize\": 15}, \"encoding\": {\"text\": {\"type\": \"nominal\", \"field\": \"rounded_str\"}, \"x\": {\"type\": \"nominal\", \"axis\": {\"domain\": false, \"labelAngle\": 30, \"labelFontSize\": 15, \"orient\": \"top\", \"title\": \"Shapley Value\", \"titleX\": 172, \"titleY\": 245}, \"field\": \"Event\", \"sort\": [\"Event -3\", \"Event -2\"]}, \"y\": {\"type\": \"nominal\", \"axis\": {\"domain\": false, \"labelFontSize\": 15, \"title\": null}, \"field\": \"Feature\", \"sort\": [\"Mean Right Ankle <-> Left Ankle\", \"STD Right Ankle <-> Left Ankle\"]}}}], \"data\": {\"name\": \"data-cee977377ab750f4606b74bc052de325\"}, \"height\": 225, \"width\": 160}], \"resolve\": {\"scale\": {\"color\": \"independent\"}}}], \"resolve\": {\"scale\": {\"color\": \"independent\"}}, \"$schema\": \"https://vega.github.io/schema/vega-lite/v4.8.1.json\", \"datasets\": {\"data-f6d0617344d11d5d6eb381e8151136c9\": [{\"Coalition\": \"Sum of contribution of events > t\", \"t (event index)\": 0, \"Shapley Value\": 0.0}, {\"Coalition\": \"Sum of contribution of events \\u2264 t\", \"t (event index)\": 0, \"Shapley Value\": 0.7107781693339348}, {\"Coalition\": \"Sum of contribution of events > t\", \"t (event index)\": -1, \"Shapley Value\": 0.057712833397090435}, {\"Coalition\": \"Sum of contribution of events \\u2264 t\", \"t (event index)\": -1, \"Shapley Value\": 0.6530653359368443}, {\"Coalition\": \"Sum of contribution of events > t\", \"t (event index)\": -2, \"Shapley Value\": 0.17809058539569378}, {\"Coalition\": \"Sum of contribution of events \\u2264 t\", \"t (event index)\": -2, \"Shapley Value\": 0.532687583938241}, {\"Coalition\": \"Sum of contribution of events > t\", \"t (event index)\": -3, \"Shapley Value\": 0.2974421586841345}, {\"Coalition\": \"Sum of contribution of events \\u2264 t\", \"t (event index)\": -3, \"Shapley Value\": 0.4133360106498003}, {\"Coalition\": \"Sum of contribution of events > t\", \"t (event index)\": -4, \"Shapley Value\": 0.37122948095202446}, {\"Coalition\": \"Sum of contribution of events \\u2264 t\", \"t (event index)\": -4, \"Shapley Value\": 0.3395486883819103}, {\"Coalition\": \"Sum of contribution of events > t\", \"t (event index)\": -5, \"Shapley Value\": 0.39915208518505096}, {\"Coalition\": \"Sum of contribution of events \\u2264 t\", \"t (event index)\": -5, \"Shapley Value\": 0.3116260841488838}, {\"Coalition\": \"Sum of contribution of events > t\", \"t (event index)\": -6, \"Shapley Value\": 0.4303387235850096}, {\"Coalition\": \"Sum of contribution of events \\u2264 t\", \"t (event index)\": -6, \"Shapley Value\": 0.2804394457489252}, {\"Coalition\": \"Sum of contribution of events > t\", \"t (event index)\": -7, \"Shapley Value\": 0.4784858925268054}, {\"Coalition\": \"Sum of contribution of events \\u2264 t\", \"t (event index)\": -7, \"Shapley Value\": 0.23229227680712938}, {\"Coalition\": \"Sum of contribution of events > t\", \"t (event index)\": -8, \"Shapley Value\": 0.5620398372411728}, {\"Coalition\": \"Sum of contribution of events \\u2264 t\", \"t (event index)\": -8, \"Shapley Value\": 0.148738332092762}, {\"Coalition\": \"Sum of contribution of events > t\", \"t (event index)\": -9, \"Shapley Value\": 0.605012415908277}, {\"Coalition\": \"Sum of contribution of events \\u2264 t\", \"t (event index)\": -9, \"Shapley Value\": 0.10576575342565775}, {\"Coalition\": \"Sum of contribution of events > t\", \"t (event index)\": -10, \"Shapley Value\": 0.6320168990641832}, {\"Coalition\": \"Sum of contribution of events \\u2264 t\", \"t (event index)\": -10, \"Shapley Value\": 0.07876127026975155}, {\"Coalition\": \"Sum of contribution of events > t\", \"t (event index)\": -11, \"Shapley Value\": 0.6398440385237336}, {\"Coalition\": \"Sum of contribution of events \\u2264 t\", \"t (event index)\": -11, \"Shapley Value\": 0.07093413081020117}, {\"Coalition\": \"Sum of contribution of events > t\", \"t (event index)\": -12, \"Shapley Value\": 0.6535957772284746}, {\"Coalition\": \"Sum of contribution of events \\u2264 t\", \"t (event index)\": -12, \"Shapley Value\": 0.05718239210546017}, {\"Coalition\": \"Sum of contribution of events > t\", \"t (event index)\": -13, \"Shapley Value\": 0.6625487552955747}, {\"Coalition\": \"Sum of contribution of events \\u2264 t\", \"t (event index)\": -13, \"Shapley Value\": 0.04822941403836012}, {\"Coalition\": \"Sum of contribution of events > t\", \"t (event index)\": -14, \"Shapley Value\": 0.6740840915590525}, {\"Coalition\": \"Sum of contribution of events \\u2264 t\", \"t (event index)\": -14, \"Shapley Value\": 0.03669407777488232}, {\"Coalition\": \"Sum of contribution of events > t\", \"t (event index)\": -15, \"Shapley Value\": 0.6845917971804738}, {\"Coalition\": \"Sum of contribution of events \\u2264 t\", \"t (event index)\": -15, \"Shapley Value\": 0.02618637215346098}, {\"Coalition\": \"Sum of contribution of events > t\", \"t (event index)\": -16, \"Shapley Value\": 0.6937809539958835}, {\"Coalition\": \"Sum of contribution of events \\u2264 t\", \"t (event index)\": -16, \"Shapley Value\": 0.01699721533805132}, {\"Coalition\": \"Sum of contribution of events > t\", \"t (event index)\": -17, \"Shapley Value\": 0.6962472945451736}, {\"Coalition\": \"Sum of contribution of events \\u2264 t\", \"t (event index)\": -17, \"Shapley Value\": 0.014530874788761139}, {\"Coalition\": \"Sum of contribution of events > t\", \"t (event index)\": -18, \"Shapley Value\": 0.6978941056877375}, {\"Coalition\": \"Sum of contribution of events \\u2264 t\", \"t (event index)\": -18, \"Shapley Value\": 0.012884063646197319}, {\"Coalition\": \"Sum of contribution of events > t\", \"t (event index)\": -19, \"Shapley Value\": 0.700493760406971}, {\"Coalition\": \"Sum of contribution of events \\u2264 t\", \"t (event index)\": -19, \"Shapley Value\": 0.010284408926963806}, {\"Coalition\": \"Sum of contribution of events > t\", \"t (event index)\": -20, \"Shapley Value\": 0.7035707738250494}, {\"Coalition\": \"Sum of contribution of events \\u2264 t\", \"t (event index)\": -20, \"Shapley Value\": 0.007207395508885384}, {\"Coalition\": \"Sum of contribution of events > t\", \"t (event index)\": -21, \"Shapley Value\": 0.7057067872956395}, {\"Coalition\": \"Sum of contribution of events \\u2264 t\", \"t (event index)\": -21, \"Shapley Value\": 0.005071382038295269}, {\"Coalition\": \"Sum of contribution of events > t\", \"t (event index)\": -22, \"Shapley Value\": 0.7066771052777767}, {\"Coalition\": \"Sum of contribution of events \\u2264 t\", \"t (event index)\": -22, \"Shapley Value\": 0.004101064056158066}, {\"Coalition\": \"Sum of contribution of events > t\", \"t (event index)\": -23, \"Shapley Value\": 0.7071699956431985}, {\"Coalition\": \"Sum of contribution of events \\u2264 t\", \"t (event index)\": -23, \"Shapley Value\": 0.003608173690736294}, {\"Coalition\": \"Sum of contribution of events > t\", \"t (event index)\": -24, \"Shapley Value\": 0.7083224253728986}, {\"Coalition\": \"Sum of contribution of events \\u2264 t\", \"t (event index)\": -24, \"Shapley Value\": 0.0024557439610362053}, {\"Coalition\": \"Sum of contribution of events > t\", \"t (event index)\": -25, \"Shapley Value\": 0.7086418839171529}, {\"Coalition\": \"Sum of contribution of events \\u2264 t\", \"t (event index)\": -25, \"Shapley Value\": 0.0021362854167819023}, {\"Coalition\": \"Sum of contribution of events > t\", \"t (event index)\": -26, \"Shapley Value\": 0.7090736972168088}, {\"Coalition\": \"Sum of contribution of events \\u2264 t\", \"t (event index)\": -26, \"Shapley Value\": 0.001704472117125988}, {\"Coalition\": \"Sum of contribution of events > t\", \"t (event index)\": -27, \"Shapley Value\": 0.7095956141129136}, {\"Coalition\": \"Sum of contribution of events \\u2264 t\", \"t (event index)\": -27, \"Shapley Value\": 0.0011825552210211754}, {\"Coalition\": \"Sum of contribution of events > t\", \"t (event index)\": -28, \"Shapley Value\": 0.7097701700404286}, {\"Coalition\": \"Sum of contribution of events \\u2264 t\", \"t (event index)\": -28, \"Shapley Value\": 0.0010079992935061455}, {\"Coalition\": \"Sum of contribution of events > t\", \"t (event index)\": -29, \"Shapley Value\": 0.7101138615980744}, {\"Coalition\": \"Sum of contribution of events \\u2264 t\", \"t (event index)\": -29, \"Shapley Value\": 0.0006643077358603477}, {\"Coalition\": \"Sum of contribution of events > t\", \"t (event index)\": -30, \"Shapley Value\": 0.7103128843009472}, {\"Coalition\": \"Sum of contribution of events \\u2264 t\", \"t (event index)\": -30, \"Shapley Value\": 0.0004652850329875946}, {\"Coalition\": \"Sum of contribution of events > t\", \"t (event index)\": -31, \"Shapley Value\": 0.7103166040033102}, {\"Coalition\": \"Sum of contribution of events \\u2264 t\", \"t (event index)\": -31, \"Shapley Value\": 0.0004615653306245804}, {\"Coalition\": \"Sum of contribution of events > t\", \"t (event index)\": -32, \"Shapley Value\": 0.7104071844369173}, {\"Coalition\": \"Sum of contribution of events \\u2264 t\", \"t (event index)\": -32, \"Shapley Value\": 0.00037098489701747894}, {\"Coalition\": \"Sum of contribution of events > t\", \"t (event index)\": -33, \"Shapley Value\": 0.7104718266054988}, {\"Coalition\": \"Sum of contribution of events \\u2264 t\", \"t (event index)\": -33, \"Shapley Value\": 0.0003063427284359932}, {\"Coalition\": \"Sum of contribution of events > t\", \"t (event index)\": -34, \"Shapley Value\": 0.710560436360538}, {\"Coalition\": \"Sum of contribution of events \\u2264 t\", \"t (event index)\": -34, \"Shapley Value\": 0.0002177329733967781}, {\"Coalition\": \"Sum of contribution of events > t\", \"t (event index)\": -35, \"Shapley Value\": 0.7106466190889478}, {\"Coalition\": \"Sum of contribution of events \\u2264 t\", \"t (event index)\": -35, \"Shapley Value\": 0.00013155024498701096}, {\"Coalition\": \"Sum of contribution of events > t\", \"t (event index)\": -36, \"Shapley Value\": 0.7106990283355117}, {\"Coalition\": \"Sum of contribution of events \\u2264 t\", \"t (event index)\": -36, \"Shapley Value\": 7.914099842309952e-05}, {\"Coalition\": \"Sum of contribution of events > t\", \"t (event index)\": -37, \"Shapley Value\": 0.7107058791443706}, {\"Coalition\": \"Sum of contribution of events \\u2264 t\", \"t (event index)\": -37, \"Shapley Value\": 7.229018956422806e-05}, {\"Coalition\": \"Sum of contribution of events > t\", \"t (event index)\": -38, \"Shapley Value\": 0.710717192851007}, {\"Coalition\": \"Sum of contribution of events \\u2264 t\", \"t (event index)\": -38, \"Shapley Value\": 6.0976482927799225e-05}, {\"Coalition\": \"Sum of contribution of events > t\", \"t (event index)\": -39, \"Shapley Value\": 0.7107428032904863}, {\"Coalition\": \"Sum of contribution of events \\u2264 t\", \"t (event index)\": -39, \"Shapley Value\": 3.536604344844818e-05}, {\"Coalition\": \"Sum of contribution of events > t\", \"t (event index)\": -40, \"Shapley Value\": 0.7107479805126786}, {\"Coalition\": \"Sum of contribution of events \\u2264 t\", \"t (event index)\": -40, \"Shapley Value\": 3.0188821256160736e-05}], \"data-4da172a0ee14e02747c6e34fe238eb6c\": [{\"x\": -11}], \"data-5caf32413302c8b0ee27c6c9ada61835\": [{\"x\": -13}], \"data-de4d03c341b285121e5d70d183e065c2\": [{\"Shapley Value\": 0.06449853085649349, \"Feature\": \"Event -1\", \"row\": 1, \"column\": 1, \"rounded\": 0.064, \"rounded_str\": \"0.064\"}, {\"Shapley Value\": 0.12024670021304756, \"Feature\": \"Event -2\", \"row\": 2, \"column\": 1, \"rounded\": 0.12, \"rounded_str\": \"0.120\"}, {\"Shapley Value\": 0.11044351324340973, \"Feature\": \"Event -3\", \"row\": 3, \"column\": 1, \"rounded\": 0.11, \"rounded_str\": \"0.110\"}, {\"Shapley Value\": 0.09179398497898472, \"Feature\": \"Event -4\", \"row\": 4, \"column\": 1, \"rounded\": 0.092, \"rounded_str\": \"0.092\"}, {\"Shapley Value\": 0.039485478619836645, \"Feature\": \"Event -5\", \"row\": 5, \"column\": 1, \"rounded\": 0.039, \"rounded_str\": \"0.039\"}, {\"Shapley Value\": 0.03863657128420628, \"Feature\": \"Event -6\", \"row\": 6, \"column\": 1, \"rounded\": 0.039, \"rounded_str\": \"0.039\"}, {\"Shapley Value\": 0.04125886313895433, \"Feature\": \"Event -7\", \"row\": 7, \"column\": 1, \"rounded\": 0.041, \"rounded_str\": \"0.041\"}, {\"Shapley Value\": 0.04534959938299177, \"Feature\": \"Event -8\", \"row\": 8, \"column\": 1, \"rounded\": 0.045, \"rounded_str\": \"0.045\"}, {\"Shapley Value\": 0.02839875772667988, \"Feature\": \"Event -9\", \"row\": 9, \"column\": 1, \"rounded\": 0.028, \"rounded_str\": \"0.028\"}, {\"Shapley Value\": 0.016468066004847626, \"Feature\": \"Event -10\", \"row\": 10, \"column\": 1, \"rounded\": 0.016, \"rounded_str\": \"0.016\"}, {\"Shapley Value\": 0.00857266137016266, \"Feature\": \"Event -11\", \"row\": 11, \"column\": 1, \"rounded\": 0.009, \"rounded_str\": \"0.009\"}, {\"Shapley Value\": 0.10562544251432016, \"Feature\": \"Pruned Events\", \"row\": 12, \"column\": 1, \"rounded\": 0.106, \"rounded_str\": \"0.106\"}], \"data-6bd6e116b1bbbe89b15cb6c368e69dea\": [{\"Random seed\": 42, \"NSamples\": 32000, \"Feature\": \"Mean Chest <-> Right Ankle\", \"Shapley Value\": 0.005215297133794927, \"sort_col\": 0.005215297133794927}, {\"Random seed\": 42, \"NSamples\": 32000, \"Feature\": \"STD Chest <-> Right Ankle\", \"Shapley Value\": 0.021076389858942918, \"sort_col\": 0.021076389858942918}, {\"Random seed\": 42, \"NSamples\": 32000, \"Feature\": \"Mean Chest <-> Left Ankle\", \"Shapley Value\": 0.1277575489044901, \"sort_col\": 0.1277575489044901}, {\"Random seed\": 42, \"NSamples\": 32000, \"Feature\": \"STD Chest <-> Left Ankle\", \"Shapley Value\": 0.10736302179949608, \"sort_col\": 0.10736302179949608}, {\"Random seed\": 42, \"NSamples\": 32000, \"Feature\": \"Mean Right Ankle <-> Left Ankle\", \"Shapley Value\": 0.12876788563139374, \"sort_col\": 0.12876788563139374}, {\"Random seed\": 42, \"NSamples\": 32000, \"Feature\": \"STD Right Ankle <-> Left Ankle\", \"Shapley Value\": 0.20970648557302465, \"sort_col\": 0.20970648557302465}, {\"Random seed\": 42, \"NSamples\": 32000, \"Feature\": \"Pruned Events\", \"Shapley Value\": 0.11089154043279237, \"sort_col\": 0.11089154043279237}], \"data-9c00aa9dc2b1c1a0b4bf9b34ead12925\": [{\"x\": 0}], \"data-495cc4f5c030f3712013cd8c3e270316\": [{\"Event\": [\"Pruned\", \"Events\"], \"Feature\": \"Other features\", \"rounded\": 0.108, \"rounded_str\": \"0.108\"}], \"data-cee977377ab750f4606b74bc052de325\": [{\"Event\": \"Other Events\", \"Feature\": \"Other Features\", \"Shapley Value\": 0.15484187567296104, \"rounded\": 0.155, \"rounded_str\": \"0.155\"}, {\"Event\": \"Other Events\", \"Feature\": \"STD Right Ankle <-> Left Ankle\", \"Shapley Value\": 0.12006539659027671, \"rounded\": 0.12, \"rounded_str\": \"0.120\"}, {\"Event\": \"Other Events\", \"Feature\": \"Mean Right Ankle <-> Left Ankle\", \"Shapley Value\": 0.11079034964140089, \"rounded\": 0.111, \"rounded_str\": \"0.111\"}, {\"Event\": \"Event -2\", \"Feature\": \"Other Features\", \"Shapley Value\": 0.07139038037700912, \"rounded\": 0.071, \"rounded_str\": \"0.071\"}, {\"Event\": \"Event -3\", \"Feature\": \"Other Features\", \"Shapley Value\": 0.05565698182372958, \"rounded\": 0.056, \"rounded_str\": \"0.056\"}, {\"Event\": \"Event -3\", \"Feature\": \"STD Right Ankle <-> Left Ankle\", \"Shapley Value\": 0.039160510165882845, \"rounded\": 0.039, \"rounded_str\": \"0.039\"}, {\"Event\": \"Event -2\", \"Feature\": \"STD Right Ankle <-> Left Ankle\", \"Shapley Value\": 0.031092715122929215, \"rounded\": 0.031, \"rounded_str\": \"0.031\"}, {\"Event\": \"Event -3\", \"Feature\": \"Mean Right Ankle <-> Left Ankle\", \"Shapley Value\": 0.00997876714220225, \"rounded\": 0.01, \"rounded_str\": \"0.010\"}, {\"Event\": \"Event -2\", \"Feature\": \"Mean Right Ankle <-> Left Ankle\", \"Shapley Value\": 0.009697876286707818, \"rounded\": 0.01, \"rounded_str\": \"0.010\"}]}}, {\"mode\": \"vega-lite\"});\n",
       "</script>"
      ],
      "text/plain": [
       "alt.HConcatChart(...)"
      ]
     },
     "execution_count": 16,
     "metadata": {},
     "output_type": "execute_result"
    }
   ],
   "source": [
    "# local report with numpy instance\n",
    "local_report(f_hs, pos_x_data, pruning_dict, event_dict, feature_dict, cell_dict=cell_dict, entity_uuid=positive_sequence_id, entity_col='all_id', baseline=average_event)"
   ]
  },
  {
   "cell_type": "code",
   "execution_count": 17,
   "id": "b8a8b06e",
   "metadata": {},
   "outputs": [
    {
     "data": {
      "text/html": [
       "\n",
       "<div id=\"altair-viz-8bace39c6a4247c4a5fe5556d4aa42f1\"></div>\n",
       "<script type=\"text/javascript\">\n",
       "  (function(spec, embedOpt){\n",
       "    let outputDiv = document.currentScript.previousElementSibling;\n",
       "    if (outputDiv.id !== \"altair-viz-8bace39c6a4247c4a5fe5556d4aa42f1\") {\n",
       "      outputDiv = document.getElementById(\"altair-viz-8bace39c6a4247c4a5fe5556d4aa42f1\");\n",
       "    }\n",
       "    const paths = {\n",
       "      \"vega\": \"https://cdn.jsdelivr.net/npm//vega@5?noext\",\n",
       "      \"vega-lib\": \"https://cdn.jsdelivr.net/npm//vega-lib?noext\",\n",
       "      \"vega-lite\": \"https://cdn.jsdelivr.net/npm//vega-lite@4.8.1?noext\",\n",
       "      \"vega-embed\": \"https://cdn.jsdelivr.net/npm//vega-embed@6?noext\",\n",
       "    };\n",
       "\n",
       "    function loadScript(lib) {\n",
       "      return new Promise(function(resolve, reject) {\n",
       "        var s = document.createElement('script');\n",
       "        s.src = paths[lib];\n",
       "        s.async = true;\n",
       "        s.onload = () => resolve(paths[lib]);\n",
       "        s.onerror = () => reject(`Error loading script: ${paths[lib]}`);\n",
       "        document.getElementsByTagName(\"head\")[0].appendChild(s);\n",
       "      });\n",
       "    }\n",
       "\n",
       "    function showError(err) {\n",
       "      outputDiv.innerHTML = `<div class=\"error\" style=\"color:red;\">${err}</div>`;\n",
       "      throw err;\n",
       "    }\n",
       "\n",
       "    function displayChart(vegaEmbed) {\n",
       "      vegaEmbed(outputDiv, spec, embedOpt)\n",
       "        .catch(err => showError(`Javascript Error: ${err.message}<br>This usually means there's a typo in your chart specification. See the javascript console for the full traceback.`));\n",
       "    }\n",
       "\n",
       "    if(typeof define === \"function\" && define.amd) {\n",
       "      requirejs.config({paths});\n",
       "      require([\"vega-embed\"], displayChart, err => showError(`Error loading script: ${err.message}`));\n",
       "    } else if (typeof vegaEmbed === \"function\") {\n",
       "      displayChart(vegaEmbed);\n",
       "    } else {\n",
       "      loadScript(\"vega\")\n",
       "        .then(() => loadScript(\"vega-lite\"))\n",
       "        .then(() => loadScript(\"vega-embed\"))\n",
       "        .catch(showError)\n",
       "        .then(() => displayChart(vegaEmbed));\n",
       "    }\n",
       "  })({\"config\": {\"axis\": {\"domain\": true, \"domainColor\": \"#666F89\", \"grid\": false, \"gridCap\": \"round\", \"gridColor\": \"#B3B7C4\", \"gridDash\": [2, 4], \"gridWidth\": 0.5, \"labelColor\": \"#666F89\", \"labelFont\": \"Roboto, Arial, sans-serif\", \"labelPadding\": 2, \"tickColor\": \"#666F89\", \"tickOpacity\": 0.5, \"tickSize\": 4, \"titleColor\": \"#19274E\", \"titleFont\": \"Roboto, Arial, sans-serif\", \"titleFontSize\": 12}, \"axisBand\": {\"domain\": true, \"labelPadding\": 4, \"ticks\": false}, \"axisY\": {\"domain\": false, \"titleAlign\": \"left\", \"titleAngle\": 0, \"titleX\": -20, \"titleY\": -10}, \"legend\": {\"labelColor\": \"#666F89\", \"labelFont\": \"Roboto, Arial, sans-serif\", \"labelFontSize\": 12, \"symbolSize\": 40, \"titleColor\": \"#19274E\", \"titleFont\": \"Roboto, Arial, sans-serif\", \"titleFontSize\": 12, \"titlePadding\": 4}, \"arc\": {\"stroke\": \"#FFFFFF\", \"strokeWidth\": 1}, \"bar\": {\"fill\": \"#2770EB\", \"stroke\": null}, \"line\": {\"stroke\": \"#2770EB\", \"strokeWidth\": 2}, \"path\": {\"stroke\": \"#2770EB\", \"strokeWidth\": 0.5}, \"point\": {\"fill\": \"#2770EB\", \"shape\": \"circle\", \"filled\": true}, \"rect\": {\"fill\": \"#2770EB\"}, \"rule\": {\"stroke\": \"#666F89\"}, \"shape\": {\"stroke\": \"#2770EB\"}, \"text\": {\"color\": \"#19274E\", \"font\": \"Roboto, Arial, sans-serif\", \"fontSize\": 12}, \"range\": {\"category\": [\"#2770EB\", \"#77B98A\", \"#DA5252\", \"#FFC400\", \"#A87AEA\", \"#00A39E\", \"#19274E\"], \"diverging\": [\"#006360\", \"#2BB3AE\", \"#96D9D7\", \"#FFFFFF\", \"#EDAAAA\", \"#DA5252\", \"#811D1D\"], \"heatmap\": [\"#18448F\", \"#1B4EA5\", \"#2770EB\", \"#4C88EE\", \"#82ACF3\", \"#A6C4F7\", \"#E9F1FD\"], \"ramp\": [\"#18448F\", \"#1B4EA5\", \"#2770EB\", \"#4C88EE\", \"#82ACF3\", \"#A6C4F7\", \"#E9F1FD\"]}, \"background\": \"#FFFFFF\", \"group\": {\"fill\": \"#FFFFFF\"}, \"header\": {\"labelColor\": \"#19274E\", \"labelFont\": \"Roboto, Arial, sans-serif\", \"labelFontSize\": 12, \"titleColor\": \"#19274E\", \"titleFont\": \"Roboto, Arial, sans-serif\", \"titleFontSize\": 16}, \"title\": {\"anchor\": \"start\", \"color\": \"#19274E\", \"font\": \"Roboto, Arial, sans-serif\", \"fontSize\": 20, \"fontWeight\": \"bold\", \"offset\": 20, \"subtitleColor\": \"#19274E\", \"subtitleFontSize\": 16}, \"view\": {\"continuousHeight\": 300, \"continuousWidth\": 400, \"stroke\": \"transparent\"}}, \"hconcat\": [{\"layer\": [{\"mark\": {\"type\": \"area\", \"opacity\": 0.5}, \"encoding\": {\"color\": {\"type\": \"nominal\", \"field\": \"Coalition\", \"legend\": {\"fillColor\": \"white\", \"labelFontSize\": 14, \"labelLimit\": 0, \"orient\": \"top-left\", \"symbolSize\": 50, \"symbolStrokeWidth\": 0, \"title\": null}, \"scale\": {\"domain\": [\"Sum of contribution of events \\u2264 t\"], \"range\": [\"#618FE0\"]}}, \"x\": {\"type\": \"quantitative\", \"axis\": {\"labelFontSize\": 15, \"title\": \"t (event index)\", \"titleFontSize\": 15}, \"field\": \"t (event index)\"}, \"y\": {\"type\": \"quantitative\", \"axis\": {\"grid\": true, \"labelFontSize\": 15, \"titleFontSize\": 15, \"titleX\": -28}, \"field\": \"Shapley Value\", \"scale\": {\"domain\": [-0.05, 1]}}}}, {\"mark\": \"line\", \"encoding\": {\"color\": {\"type\": \"nominal\", \"field\": \"Coalition\", \"legend\": {\"fillColor\": \"white\", \"labelFontSize\": 14, \"labelLimit\": 0, \"orient\": \"top-left\", \"symbolSize\": 50, \"symbolStrokeWidth\": 0, \"title\": null}, \"scale\": {\"domain\": [\"Sum of contribution of events \\u2264 t\"], \"range\": [\"#618FE0\"]}}, \"x\": {\"type\": \"quantitative\", \"axis\": {\"labelFontSize\": 15, \"title\": \"t (event index)\", \"titleFontSize\": 15}, \"field\": \"t (event index)\"}, \"y\": {\"type\": \"quantitative\", \"axis\": {\"grid\": true, \"labelFontSize\": 15, \"titleFontSize\": 15, \"titleX\": -28}, \"field\": \"Shapley Value\", \"scale\": {\"domain\": [-0.05, 1]}}}}, {\"data\": {\"name\": \"data-4da172a0ee14e02747c6e34fe238eb6c\"}, \"mark\": {\"type\": \"rule\", \"color\": \"#E17560\"}, \"encoding\": {\"x\": {\"type\": \"quantitative\", \"field\": \"x\"}}}, {\"data\": {\"name\": \"data-5caf32413302c8b0ee27c6c9ada61835\"}, \"mark\": {\"type\": \"text\", \"angle\": 270, \"color\": \"#E17560\", \"fontSize\": 15, \"fontWeight\": \"bold\", \"text\": \"Pruning\"}, \"encoding\": {\"x\": {\"type\": \"quantitative\", \"field\": \"x\"}}}], \"data\": {\"name\": \"data-f6d0617344d11d5d6eb381e8151136c9\"}, \"height\": 225, \"width\": 350}, {\"layer\": [{\"mark\": \"rect\", \"encoding\": {\"color\": {\"type\": \"quantitative\", \"field\": \"rounded\", \"legend\": {\"gradientLength\": 225, \"gradientThickness\": 10, \"labelFontSize\": 15, \"orient\": \"right\"}, \"scale\": {\"domain\": [-0.5, 0.5], \"range\": [\"#5f8fd6\", \"#99c3fb\", \"#f5f5f5\", \"#ffaa92\", \"#d16f5b\"]}, \"title\": null}, \"x\": {\"type\": \"ordinal\", \"axis\": {\"title\": \"Shapley Value\", \"titleFontSize\": 15}, \"field\": \"column\"}, \"y\": {\"type\": \"ordinal\", \"axis\": {\"domain\": false, \"labelFontSize\": 15, \"title\": \"Event\", \"titleFontSize\": 15, \"titleX\": -49}, \"field\": \"Feature\", \"sort\": [\"Event -1\", \"Event -2\", \"Event -3\", \"Event -4\", \"Event -5\", \"Event -6\", \"Event -7\", \"Event -8\", \"Event -9\", \"Event -10\", \"Event -11\", \"Pruned Events\"]}}}, {\"mark\": {\"type\": \"text\", \"align\": \"right\", \"baseline\": \"middle\", \"color\": \"#798184\", \"dx\": 18, \"fontSize\": 15}, \"encoding\": {\"text\": {\"type\": \"nominal\", \"field\": \"rounded_str\"}, \"x\": {\"type\": \"ordinal\", \"axis\": {\"domain\": false, \"labels\": false, \"title\": \"Shapley Value\", \"titleX\": 43}, \"field\": \"column\"}, \"y\": {\"type\": \"ordinal\", \"axis\": {\"domain\": false, \"labelFontSize\": 15, \"title\": \"Event\", \"titleFontSize\": 15, \"titleX\": -49}, \"field\": \"Feature\", \"sort\": [\"Event -1\", \"Event -2\", \"Event -3\", \"Event -4\", \"Event -5\", \"Event -6\", \"Event -7\", \"Event -8\", \"Event -9\", \"Event -10\", \"Event -11\", \"Pruned Events\"]}}}], \"data\": {\"name\": \"data-de4d03c341b285121e5d70d183e065c2\"}, \"height\": 225, \"width\": 60}, {\"layer\": [{\"data\": {\"name\": \"data-6bd6e116b1bbbe89b15cb6c368e69dea\"}, \"mark\": {\"type\": \"bar\", \"size\": 15, \"thickness\": 1}, \"encoding\": {\"x\": {\"type\": \"quantitative\", \"axis\": {\"grid\": true, \"labelFontSize\": 15, \"title\": \"Shapley Value\", \"titleFontSize\": 15}, \"field\": \"Shapley Value\", \"scale\": {\"domain\": [-0.1, 0.4]}}, \"y\": {\"type\": \"nominal\", \"axis\": {\"labelFontSize\": 15, \"title\": \"Feature\", \"titleFontSize\": 15, \"titleX\": -61}, \"field\": \"Feature\", \"sort\": {\"field\": \"sort_col\", \"order\": \"descending\"}}}}, {\"data\": {\"name\": \"data-9c00aa9dc2b1c1a0b4bf9b34ead12925\"}, \"mark\": {\"type\": \"rule\", \"color\": \"#798184\"}, \"encoding\": {\"x\": {\"type\": \"quantitative\", \"field\": \"x\"}}}], \"height\": 225, \"width\": 190}, {\"hconcat\": [{\"layer\": [{\"mark\": \"rect\", \"encoding\": {\"color\": {\"type\": \"quantitative\", \"field\": \"rounded\", \"legend\": null, \"scale\": {\"domain\": [-0.5, 0.5], \"range\": [\"#5f8fd6\", \"#99c3fb\", \"#f5f5f5\", \"#ffaa92\", \"#d16f5b\"]}, \"title\": null}, \"x\": {\"type\": \"nominal\", \"axis\": {\"titleFontSize\": 15}, \"field\": \"Event\"}, \"y\": {\"type\": \"nominal\", \"axis\": {\"domain\": false, \"labels\": false, \"title\": null}, \"field\": \"Feature\"}}}, {\"mark\": {\"type\": \"text\", \"align\": \"right\", \"baseline\": \"middle\", \"color\": \"#798184\", \"dx\": 18, \"fontSize\": 15}, \"encoding\": {\"text\": {\"type\": \"nominal\", \"field\": \"rounded_str\"}, \"x\": {\"type\": \"nominal\", \"axis\": {\"domain\": false, \"labelAngle\": 0, \"labelFontSize\": 15, \"labelOffset\": 24, \"labelPadding\": 30, \"orient\": \"top\", \"title\": null}, \"field\": \"Event\"}, \"y\": {\"type\": \"nominal\", \"axis\": {\"domain\": false, \"labels\": false, \"title\": null}, \"field\": \"Feature\"}}}], \"data\": {\"name\": \"data-495cc4f5c030f3712013cd8c3e270316\"}, \"height\": 225, \"width\": 66.66666666666667}, {\"layer\": [{\"mark\": \"rect\", \"encoding\": {\"color\": {\"type\": \"quantitative\", \"field\": \"rounded\", \"legend\": {\"gradientLength\": 225, \"gradientThickness\": 10, \"labelFontSize\": 15, \"orient\": \"right\"}, \"scale\": {\"domain\": [-0.5, 0.5], \"range\": [\"#5f8fd6\", \"#99c3fb\", \"#f5f5f5\", \"#ffaa92\", \"#d16f5b\"]}, \"title\": null}, \"x\": {\"type\": \"nominal\", \"axis\": {\"titleFontSize\": 15}, \"field\": \"Event\", \"sort\": [\"Event -3\", \"Event -2\"]}, \"y\": {\"type\": \"nominal\", \"axis\": {\"domain\": false, \"labelFontSize\": 15, \"title\": null}, \"field\": \"Feature\", \"sort\": [\"Mean Right Ankle <-> Left Ankle\", \"STD Right Ankle <-> Left Ankle\"]}}}, {\"mark\": {\"type\": \"text\", \"align\": \"right\", \"baseline\": \"middle\", \"color\": \"#798184\", \"dx\": 18, \"fontSize\": 15}, \"encoding\": {\"text\": {\"type\": \"nominal\", \"field\": \"rounded_str\"}, \"x\": {\"type\": \"nominal\", \"axis\": {\"domain\": false, \"labelAngle\": 30, \"labelFontSize\": 15, \"orient\": \"top\", \"title\": \"Shapley Value\", \"titleX\": 172, \"titleY\": 245}, \"field\": \"Event\", \"sort\": [\"Event -3\", \"Event -2\"]}, \"y\": {\"type\": \"nominal\", \"axis\": {\"domain\": false, \"labelFontSize\": 15, \"title\": null}, \"field\": \"Feature\", \"sort\": [\"Mean Right Ankle <-> Left Ankle\", \"STD Right Ankle <-> Left Ankle\"]}}}], \"data\": {\"name\": \"data-cee977377ab750f4606b74bc052de325\"}, \"height\": 225, \"width\": 160}], \"resolve\": {\"scale\": {\"color\": \"independent\"}}}], \"resolve\": {\"scale\": {\"color\": \"independent\"}}, \"$schema\": \"https://vega.github.io/schema/vega-lite/v4.8.1.json\", \"datasets\": {\"data-f6d0617344d11d5d6eb381e8151136c9\": [{\"Coalition\": \"Sum of contribution of events > t\", \"t (event index)\": 0, \"Shapley Value\": 0.0}, {\"Coalition\": \"Sum of contribution of events \\u2264 t\", \"t (event index)\": 0, \"Shapley Value\": 0.7107781693339348}, {\"Coalition\": \"Sum of contribution of events > t\", \"t (event index)\": -1, \"Shapley Value\": 0.057712833397090435}, {\"Coalition\": \"Sum of contribution of events \\u2264 t\", \"t (event index)\": -1, \"Shapley Value\": 0.6530653359368443}, {\"Coalition\": \"Sum of contribution of events > t\", \"t (event index)\": -2, \"Shapley Value\": 0.17809058539569378}, {\"Coalition\": \"Sum of contribution of events \\u2264 t\", \"t (event index)\": -2, \"Shapley Value\": 0.532687583938241}, {\"Coalition\": \"Sum of contribution of events > t\", \"t (event index)\": -3, \"Shapley Value\": 0.2974421586841345}, {\"Coalition\": \"Sum of contribution of events \\u2264 t\", \"t (event index)\": -3, \"Shapley Value\": 0.4133360106498003}, {\"Coalition\": \"Sum of contribution of events > t\", \"t (event index)\": -4, \"Shapley Value\": 0.37122948095202446}, {\"Coalition\": \"Sum of contribution of events \\u2264 t\", \"t (event index)\": -4, \"Shapley Value\": 0.3395486883819103}, {\"Coalition\": \"Sum of contribution of events > t\", \"t (event index)\": -5, \"Shapley Value\": 0.39915208518505096}, {\"Coalition\": \"Sum of contribution of events \\u2264 t\", \"t (event index)\": -5, \"Shapley Value\": 0.3116260841488838}, {\"Coalition\": \"Sum of contribution of events > t\", \"t (event index)\": -6, \"Shapley Value\": 0.4303387235850096}, {\"Coalition\": \"Sum of contribution of events \\u2264 t\", \"t (event index)\": -6, \"Shapley Value\": 0.2804394457489252}, {\"Coalition\": \"Sum of contribution of events > t\", \"t (event index)\": -7, \"Shapley Value\": 0.4784858925268054}, {\"Coalition\": \"Sum of contribution of events \\u2264 t\", \"t (event index)\": -7, \"Shapley Value\": 0.23229227680712938}, {\"Coalition\": \"Sum of contribution of events > t\", \"t (event index)\": -8, \"Shapley Value\": 0.5620398372411728}, {\"Coalition\": \"Sum of contribution of events \\u2264 t\", \"t (event index)\": -8, \"Shapley Value\": 0.148738332092762}, {\"Coalition\": \"Sum of contribution of events > t\", \"t (event index)\": -9, \"Shapley Value\": 0.605012415908277}, {\"Coalition\": \"Sum of contribution of events \\u2264 t\", \"t (event index)\": -9, \"Shapley Value\": 0.10576575342565775}, {\"Coalition\": \"Sum of contribution of events > t\", \"t (event index)\": -10, \"Shapley Value\": 0.6320168990641832}, {\"Coalition\": \"Sum of contribution of events \\u2264 t\", \"t (event index)\": -10, \"Shapley Value\": 0.07876127026975155}, {\"Coalition\": \"Sum of contribution of events > t\", \"t (event index)\": -11, \"Shapley Value\": 0.6398440385237336}, {\"Coalition\": \"Sum of contribution of events \\u2264 t\", \"t (event index)\": -11, \"Shapley Value\": 0.07093413081020117}, {\"Coalition\": \"Sum of contribution of events > t\", \"t (event index)\": -12, \"Shapley Value\": 0.6535957772284746}, {\"Coalition\": \"Sum of contribution of events \\u2264 t\", \"t (event index)\": -12, \"Shapley Value\": 0.05718239210546017}, {\"Coalition\": \"Sum of contribution of events > t\", \"t (event index)\": -13, \"Shapley Value\": 0.6625487552955747}, {\"Coalition\": \"Sum of contribution of events \\u2264 t\", \"t (event index)\": -13, \"Shapley Value\": 0.04822941403836012}, {\"Coalition\": \"Sum of contribution of events > t\", \"t (event index)\": -14, \"Shapley Value\": 0.6740840915590525}, {\"Coalition\": \"Sum of contribution of events \\u2264 t\", \"t (event index)\": -14, \"Shapley Value\": 0.03669407777488232}, {\"Coalition\": \"Sum of contribution of events > t\", \"t (event index)\": -15, \"Shapley Value\": 0.6845917971804738}, {\"Coalition\": \"Sum of contribution of events \\u2264 t\", \"t (event index)\": -15, \"Shapley Value\": 0.02618637215346098}, {\"Coalition\": \"Sum of contribution of events > t\", \"t (event index)\": -16, \"Shapley Value\": 0.6937809539958835}, {\"Coalition\": \"Sum of contribution of events \\u2264 t\", \"t (event index)\": -16, \"Shapley Value\": 0.01699721533805132}, {\"Coalition\": \"Sum of contribution of events > t\", \"t (event index)\": -17, \"Shapley Value\": 0.6962472945451736}, {\"Coalition\": \"Sum of contribution of events \\u2264 t\", \"t (event index)\": -17, \"Shapley Value\": 0.014530874788761139}, {\"Coalition\": \"Sum of contribution of events > t\", \"t (event index)\": -18, \"Shapley Value\": 0.6978941056877375}, {\"Coalition\": \"Sum of contribution of events \\u2264 t\", \"t (event index)\": -18, \"Shapley Value\": 0.012884063646197319}, {\"Coalition\": \"Sum of contribution of events > t\", \"t (event index)\": -19, \"Shapley Value\": 0.700493760406971}, {\"Coalition\": \"Sum of contribution of events \\u2264 t\", \"t (event index)\": -19, \"Shapley Value\": 0.010284408926963806}, {\"Coalition\": \"Sum of contribution of events > t\", \"t (event index)\": -20, \"Shapley Value\": 0.7035707738250494}, {\"Coalition\": \"Sum of contribution of events \\u2264 t\", \"t (event index)\": -20, \"Shapley Value\": 0.007207395508885384}, {\"Coalition\": \"Sum of contribution of events > t\", \"t (event index)\": -21, \"Shapley Value\": 0.7057067872956395}, {\"Coalition\": \"Sum of contribution of events \\u2264 t\", \"t (event index)\": -21, \"Shapley Value\": 0.005071382038295269}, {\"Coalition\": \"Sum of contribution of events > t\", \"t (event index)\": -22, \"Shapley Value\": 0.7066771052777767}, {\"Coalition\": \"Sum of contribution of events \\u2264 t\", \"t (event index)\": -22, \"Shapley Value\": 0.004101064056158066}, {\"Coalition\": \"Sum of contribution of events > t\", \"t (event index)\": -23, \"Shapley Value\": 0.7071699956431985}, {\"Coalition\": \"Sum of contribution of events \\u2264 t\", \"t (event index)\": -23, \"Shapley Value\": 0.003608173690736294}, {\"Coalition\": \"Sum of contribution of events > t\", \"t (event index)\": -24, \"Shapley Value\": 0.7083224253728986}, {\"Coalition\": \"Sum of contribution of events \\u2264 t\", \"t (event index)\": -24, \"Shapley Value\": 0.0024557439610362053}, {\"Coalition\": \"Sum of contribution of events > t\", \"t (event index)\": -25, \"Shapley Value\": 0.7086418839171529}, {\"Coalition\": \"Sum of contribution of events \\u2264 t\", \"t (event index)\": -25, \"Shapley Value\": 0.0021362854167819023}, {\"Coalition\": \"Sum of contribution of events > t\", \"t (event index)\": -26, \"Shapley Value\": 0.7090736972168088}, {\"Coalition\": \"Sum of contribution of events \\u2264 t\", \"t (event index)\": -26, \"Shapley Value\": 0.001704472117125988}, {\"Coalition\": \"Sum of contribution of events > t\", \"t (event index)\": -27, \"Shapley Value\": 0.7095956141129136}, {\"Coalition\": \"Sum of contribution of events \\u2264 t\", \"t (event index)\": -27, \"Shapley Value\": 0.0011825552210211754}, {\"Coalition\": \"Sum of contribution of events > t\", \"t (event index)\": -28, \"Shapley Value\": 0.7097701700404286}, {\"Coalition\": \"Sum of contribution of events \\u2264 t\", \"t (event index)\": -28, \"Shapley Value\": 0.0010079992935061455}, {\"Coalition\": \"Sum of contribution of events > t\", \"t (event index)\": -29, \"Shapley Value\": 0.7101138615980744}, {\"Coalition\": \"Sum of contribution of events \\u2264 t\", \"t (event index)\": -29, \"Shapley Value\": 0.0006643077358603477}, {\"Coalition\": \"Sum of contribution of events > t\", \"t (event index)\": -30, \"Shapley Value\": 0.7103128843009472}, {\"Coalition\": \"Sum of contribution of events \\u2264 t\", \"t (event index)\": -30, \"Shapley Value\": 0.0004652850329875946}, {\"Coalition\": \"Sum of contribution of events > t\", \"t (event index)\": -31, \"Shapley Value\": 0.7103166040033102}, {\"Coalition\": \"Sum of contribution of events \\u2264 t\", \"t (event index)\": -31, \"Shapley Value\": 0.0004615653306245804}, {\"Coalition\": \"Sum of contribution of events > t\", \"t (event index)\": -32, \"Shapley Value\": 0.7104071844369173}, {\"Coalition\": \"Sum of contribution of events \\u2264 t\", \"t (event index)\": -32, \"Shapley Value\": 0.00037098489701747894}, {\"Coalition\": \"Sum of contribution of events > t\", \"t (event index)\": -33, \"Shapley Value\": 0.7104718266054988}, {\"Coalition\": \"Sum of contribution of events \\u2264 t\", \"t (event index)\": -33, \"Shapley Value\": 0.0003063427284359932}, {\"Coalition\": \"Sum of contribution of events > t\", \"t (event index)\": -34, \"Shapley Value\": 0.710560436360538}, {\"Coalition\": \"Sum of contribution of events \\u2264 t\", \"t (event index)\": -34, \"Shapley Value\": 0.0002177329733967781}, {\"Coalition\": \"Sum of contribution of events > t\", \"t (event index)\": -35, \"Shapley Value\": 0.7106466190889478}, {\"Coalition\": \"Sum of contribution of events \\u2264 t\", \"t (event index)\": -35, \"Shapley Value\": 0.00013155024498701096}, {\"Coalition\": \"Sum of contribution of events > t\", \"t (event index)\": -36, \"Shapley Value\": 0.7106990283355117}, {\"Coalition\": \"Sum of contribution of events \\u2264 t\", \"t (event index)\": -36, \"Shapley Value\": 7.914099842309952e-05}, {\"Coalition\": \"Sum of contribution of events > t\", \"t (event index)\": -37, \"Shapley Value\": 0.7107058791443706}, {\"Coalition\": \"Sum of contribution of events \\u2264 t\", \"t (event index)\": -37, \"Shapley Value\": 7.229018956422806e-05}, {\"Coalition\": \"Sum of contribution of events > t\", \"t (event index)\": -38, \"Shapley Value\": 0.710717192851007}, {\"Coalition\": \"Sum of contribution of events \\u2264 t\", \"t (event index)\": -38, \"Shapley Value\": 6.0976482927799225e-05}, {\"Coalition\": \"Sum of contribution of events > t\", \"t (event index)\": -39, \"Shapley Value\": 0.7107428032904863}, {\"Coalition\": \"Sum of contribution of events \\u2264 t\", \"t (event index)\": -39, \"Shapley Value\": 3.536604344844818e-05}, {\"Coalition\": \"Sum of contribution of events > t\", \"t (event index)\": -40, \"Shapley Value\": 0.7107479805126786}, {\"Coalition\": \"Sum of contribution of events \\u2264 t\", \"t (event index)\": -40, \"Shapley Value\": 3.0188821256160736e-05}], \"data-4da172a0ee14e02747c6e34fe238eb6c\": [{\"x\": -11}], \"data-5caf32413302c8b0ee27c6c9ada61835\": [{\"x\": -13}], \"data-de4d03c341b285121e5d70d183e065c2\": [{\"Shapley Value\": 0.06449853085649349, \"Feature\": \"Event -1\", \"row\": 1, \"column\": 1, \"rounded\": 0.064, \"rounded_str\": \"0.064\"}, {\"Shapley Value\": 0.12024670021304756, \"Feature\": \"Event -2\", \"row\": 2, \"column\": 1, \"rounded\": 0.12, \"rounded_str\": \"0.120\"}, {\"Shapley Value\": 0.11044351324340973, \"Feature\": \"Event -3\", \"row\": 3, \"column\": 1, \"rounded\": 0.11, \"rounded_str\": \"0.110\"}, {\"Shapley Value\": 0.09179398497898472, \"Feature\": \"Event -4\", \"row\": 4, \"column\": 1, \"rounded\": 0.092, \"rounded_str\": \"0.092\"}, {\"Shapley Value\": 0.039485478619836645, \"Feature\": \"Event -5\", \"row\": 5, \"column\": 1, \"rounded\": 0.039, \"rounded_str\": \"0.039\"}, {\"Shapley Value\": 0.03863657128420628, \"Feature\": \"Event -6\", \"row\": 6, \"column\": 1, \"rounded\": 0.039, \"rounded_str\": \"0.039\"}, {\"Shapley Value\": 0.04125886313895433, \"Feature\": \"Event -7\", \"row\": 7, \"column\": 1, \"rounded\": 0.041, \"rounded_str\": \"0.041\"}, {\"Shapley Value\": 0.04534959938299177, \"Feature\": \"Event -8\", \"row\": 8, \"column\": 1, \"rounded\": 0.045, \"rounded_str\": \"0.045\"}, {\"Shapley Value\": 0.02839875772667988, \"Feature\": \"Event -9\", \"row\": 9, \"column\": 1, \"rounded\": 0.028, \"rounded_str\": \"0.028\"}, {\"Shapley Value\": 0.016468066004847626, \"Feature\": \"Event -10\", \"row\": 10, \"column\": 1, \"rounded\": 0.016, \"rounded_str\": \"0.016\"}, {\"Shapley Value\": 0.00857266137016266, \"Feature\": \"Event -11\", \"row\": 11, \"column\": 1, \"rounded\": 0.009, \"rounded_str\": \"0.009\"}, {\"Shapley Value\": 0.10562544251432016, \"Feature\": \"Pruned Events\", \"row\": 12, \"column\": 1, \"rounded\": 0.106, \"rounded_str\": \"0.106\"}], \"data-6bd6e116b1bbbe89b15cb6c368e69dea\": [{\"Random seed\": 42, \"NSamples\": 32000, \"Feature\": \"Mean Chest <-> Right Ankle\", \"Shapley Value\": 0.005215297133794927, \"sort_col\": 0.005215297133794927}, {\"Random seed\": 42, \"NSamples\": 32000, \"Feature\": \"STD Chest <-> Right Ankle\", \"Shapley Value\": 0.021076389858942918, \"sort_col\": 0.021076389858942918}, {\"Random seed\": 42, \"NSamples\": 32000, \"Feature\": \"Mean Chest <-> Left Ankle\", \"Shapley Value\": 0.1277575489044901, \"sort_col\": 0.1277575489044901}, {\"Random seed\": 42, \"NSamples\": 32000, \"Feature\": \"STD Chest <-> Left Ankle\", \"Shapley Value\": 0.10736302179949608, \"sort_col\": 0.10736302179949608}, {\"Random seed\": 42, \"NSamples\": 32000, \"Feature\": \"Mean Right Ankle <-> Left Ankle\", \"Shapley Value\": 0.12876788563139374, \"sort_col\": 0.12876788563139374}, {\"Random seed\": 42, \"NSamples\": 32000, \"Feature\": \"STD Right Ankle <-> Left Ankle\", \"Shapley Value\": 0.20970648557302465, \"sort_col\": 0.20970648557302465}, {\"Random seed\": 42, \"NSamples\": 32000, \"Feature\": \"Pruned Events\", \"Shapley Value\": 0.11089154043279237, \"sort_col\": 0.11089154043279237}], \"data-9c00aa9dc2b1c1a0b4bf9b34ead12925\": [{\"x\": 0}], \"data-495cc4f5c030f3712013cd8c3e270316\": [{\"Event\": [\"Pruned\", \"Events\"], \"Feature\": \"Other features\", \"rounded\": 0.108, \"rounded_str\": \"0.108\"}], \"data-cee977377ab750f4606b74bc052de325\": [{\"Event\": \"Other Events\", \"Feature\": \"Other Features\", \"Shapley Value\": 0.15484187567296104, \"rounded\": 0.155, \"rounded_str\": \"0.155\"}, {\"Event\": \"Other Events\", \"Feature\": \"STD Right Ankle <-> Left Ankle\", \"Shapley Value\": 0.12006539659027671, \"rounded\": 0.12, \"rounded_str\": \"0.120\"}, {\"Event\": \"Other Events\", \"Feature\": \"Mean Right Ankle <-> Left Ankle\", \"Shapley Value\": 0.11079034964140089, \"rounded\": 0.111, \"rounded_str\": \"0.111\"}, {\"Event\": \"Event -2\", \"Feature\": \"Other Features\", \"Shapley Value\": 0.07139038037700912, \"rounded\": 0.071, \"rounded_str\": \"0.071\"}, {\"Event\": \"Event -3\", \"Feature\": \"Other Features\", \"Shapley Value\": 0.05565698182372958, \"rounded\": 0.056, \"rounded_str\": \"0.056\"}, {\"Event\": \"Event -3\", \"Feature\": \"STD Right Ankle <-> Left Ankle\", \"Shapley Value\": 0.039160510165882845, \"rounded\": 0.039, \"rounded_str\": \"0.039\"}, {\"Event\": \"Event -2\", \"Feature\": \"STD Right Ankle <-> Left Ankle\", \"Shapley Value\": 0.031092715122929215, \"rounded\": 0.031, \"rounded_str\": \"0.031\"}, {\"Event\": \"Event -3\", \"Feature\": \"Mean Right Ankle <-> Left Ankle\", \"Shapley Value\": 0.00997876714220225, \"rounded\": 0.01, \"rounded_str\": \"0.010\"}, {\"Event\": \"Event -2\", \"Feature\": \"Mean Right Ankle <-> Left Ankle\", \"Shapley Value\": 0.009697876286707818, \"rounded\": 0.01, \"rounded_str\": \"0.010\"}]}}, {\"mode\": \"vega-lite\"});\n",
       "</script>"
      ],
      "text/plain": [
       "alt.HConcatChart(...)"
      ]
     },
     "execution_count": 17,
     "metadata": {},
     "output_type": "execute_result"
    }
   ],
   "source": [
    "# local report with pandas instance\n",
    "local_report(f_hs, pos_x_pd, pruning_dict, event_dict, feature_dict, cell_dict=cell_dict, model_features=model_features, entity_uuid=positive_sequence_id, entity_col='all_id', baseline=average_event)"
   ]
  },
  {
   "cell_type": "markdown",
   "id": "67ec22cd",
   "metadata": {},
   "source": [
    "### Average Event VS Average sequence"
   ]
  },
  {
   "cell_type": "code",
   "execution_count": 18,
   "id": "b6068bc2",
   "metadata": {},
   "outputs": [
    {
     "name": "stdout",
     "output_type": "stream",
     "text": [
      "Assuming all features are model features\n"
     ]
    },
    {
     "data": {
      "text/html": [
       "\n",
       "<div id=\"altair-viz-6efdea084b964020aebabb011920e63e\"></div>\n",
       "<script type=\"text/javascript\">\n",
       "  (function(spec, embedOpt){\n",
       "    let outputDiv = document.currentScript.previousElementSibling;\n",
       "    if (outputDiv.id !== \"altair-viz-6efdea084b964020aebabb011920e63e\") {\n",
       "      outputDiv = document.getElementById(\"altair-viz-6efdea084b964020aebabb011920e63e\");\n",
       "    }\n",
       "    const paths = {\n",
       "      \"vega\": \"https://cdn.jsdelivr.net/npm//vega@5?noext\",\n",
       "      \"vega-lib\": \"https://cdn.jsdelivr.net/npm//vega-lib?noext\",\n",
       "      \"vega-lite\": \"https://cdn.jsdelivr.net/npm//vega-lite@4.8.1?noext\",\n",
       "      \"vega-embed\": \"https://cdn.jsdelivr.net/npm//vega-embed@6?noext\",\n",
       "    };\n",
       "\n",
       "    function loadScript(lib) {\n",
       "      return new Promise(function(resolve, reject) {\n",
       "        var s = document.createElement('script');\n",
       "        s.src = paths[lib];\n",
       "        s.async = true;\n",
       "        s.onload = () => resolve(paths[lib]);\n",
       "        s.onerror = () => reject(`Error loading script: ${paths[lib]}`);\n",
       "        document.getElementsByTagName(\"head\")[0].appendChild(s);\n",
       "      });\n",
       "    }\n",
       "\n",
       "    function showError(err) {\n",
       "      outputDiv.innerHTML = `<div class=\"error\" style=\"color:red;\">${err}</div>`;\n",
       "      throw err;\n",
       "    }\n",
       "\n",
       "    function displayChart(vegaEmbed) {\n",
       "      vegaEmbed(outputDiv, spec, embedOpt)\n",
       "        .catch(err => showError(`Javascript Error: ${err.message}<br>This usually means there's a typo in your chart specification. See the javascript console for the full traceback.`));\n",
       "    }\n",
       "\n",
       "    if(typeof define === \"function\" && define.amd) {\n",
       "      requirejs.config({paths});\n",
       "      require([\"vega-embed\"], displayChart, err => showError(`Error loading script: ${err.message}`));\n",
       "    } else if (typeof vegaEmbed === \"function\") {\n",
       "      displayChart(vegaEmbed);\n",
       "    } else {\n",
       "      loadScript(\"vega\")\n",
       "        .then(() => loadScript(\"vega-lite\"))\n",
       "        .then(() => loadScript(\"vega-embed\"))\n",
       "        .catch(showError)\n",
       "        .then(() => displayChart(vegaEmbed));\n",
       "    }\n",
       "  })({\"config\": {\"axis\": {\"domain\": true, \"domainColor\": \"#666F89\", \"grid\": false, \"gridCap\": \"round\", \"gridColor\": \"#B3B7C4\", \"gridDash\": [2, 4], \"gridWidth\": 0.5, \"labelColor\": \"#666F89\", \"labelFont\": \"Roboto, Arial, sans-serif\", \"labelPadding\": 2, \"tickColor\": \"#666F89\", \"tickOpacity\": 0.5, \"tickSize\": 4, \"titleColor\": \"#19274E\", \"titleFont\": \"Roboto, Arial, sans-serif\", \"titleFontSize\": 12}, \"axisBand\": {\"domain\": true, \"labelPadding\": 4, \"ticks\": false}, \"axisY\": {\"domain\": false, \"titleAlign\": \"left\", \"titleAngle\": 0, \"titleX\": -20, \"titleY\": -10}, \"legend\": {\"labelColor\": \"#666F89\", \"labelFont\": \"Roboto, Arial, sans-serif\", \"labelFontSize\": 12, \"symbolSize\": 40, \"titleColor\": \"#19274E\", \"titleFont\": \"Roboto, Arial, sans-serif\", \"titleFontSize\": 12, \"titlePadding\": 4}, \"arc\": {\"stroke\": \"#FFFFFF\", \"strokeWidth\": 1}, \"bar\": {\"fill\": \"#2770EB\", \"stroke\": null}, \"line\": {\"stroke\": \"#2770EB\", \"strokeWidth\": 2}, \"path\": {\"stroke\": \"#2770EB\", \"strokeWidth\": 0.5}, \"point\": {\"fill\": \"#2770EB\", \"shape\": \"circle\", \"filled\": true}, \"rect\": {\"fill\": \"#2770EB\"}, \"rule\": {\"stroke\": \"#666F89\"}, \"shape\": {\"stroke\": \"#2770EB\"}, \"text\": {\"color\": \"#19274E\", \"font\": \"Roboto, Arial, sans-serif\", \"fontSize\": 12}, \"range\": {\"category\": [\"#2770EB\", \"#77B98A\", \"#DA5252\", \"#FFC400\", \"#A87AEA\", \"#00A39E\", \"#19274E\"], \"diverging\": [\"#006360\", \"#2BB3AE\", \"#96D9D7\", \"#FFFFFF\", \"#EDAAAA\", \"#DA5252\", \"#811D1D\"], \"heatmap\": [\"#18448F\", \"#1B4EA5\", \"#2770EB\", \"#4C88EE\", \"#82ACF3\", \"#A6C4F7\", \"#E9F1FD\"], \"ramp\": [\"#18448F\", \"#1B4EA5\", \"#2770EB\", \"#4C88EE\", \"#82ACF3\", \"#A6C4F7\", \"#E9F1FD\"]}, \"background\": \"#FFFFFF\", \"group\": {\"fill\": \"#FFFFFF\"}, \"header\": {\"labelColor\": \"#19274E\", \"labelFont\": \"Roboto, Arial, sans-serif\", \"labelFontSize\": 12, \"titleColor\": \"#19274E\", \"titleFont\": \"Roboto, Arial, sans-serif\", \"titleFontSize\": 16}, \"title\": {\"anchor\": \"start\", \"color\": \"#19274E\", \"font\": \"Roboto, Arial, sans-serif\", \"fontSize\": 20, \"fontWeight\": \"bold\", \"offset\": 20, \"subtitleColor\": \"#19274E\", \"subtitleFontSize\": 16}, \"view\": {\"continuousHeight\": 300, \"continuousWidth\": 400, \"stroke\": \"transparent\"}}, \"hconcat\": [{\"layer\": [{\"mark\": {\"type\": \"area\", \"opacity\": 0.5}, \"encoding\": {\"color\": {\"type\": \"nominal\", \"field\": \"Coalition\", \"legend\": {\"fillColor\": \"white\", \"labelFontSize\": 14, \"labelLimit\": 0, \"orient\": \"top-left\", \"symbolSize\": 50, \"symbolStrokeWidth\": 0, \"title\": null}, \"scale\": {\"domain\": [\"Sum of contribution of events \\u2264 t\"], \"range\": [\"#618FE0\"]}}, \"x\": {\"type\": \"quantitative\", \"axis\": {\"labelFontSize\": 15, \"title\": \"t (event index)\", \"titleFontSize\": 15}, \"field\": \"t (event index)\"}, \"y\": {\"type\": \"quantitative\", \"axis\": {\"grid\": true, \"labelFontSize\": 15, \"titleFontSize\": 15, \"titleX\": -28}, \"field\": \"Shapley Value\", \"scale\": {\"domain\": [-0.05, 1]}}}}, {\"mark\": \"line\", \"encoding\": {\"color\": {\"type\": \"nominal\", \"field\": \"Coalition\", \"legend\": {\"fillColor\": \"white\", \"labelFontSize\": 14, \"labelLimit\": 0, \"orient\": \"top-left\", \"symbolSize\": 50, \"symbolStrokeWidth\": 0, \"title\": null}, \"scale\": {\"domain\": [\"Sum of contribution of events \\u2264 t\"], \"range\": [\"#618FE0\"]}}, \"x\": {\"type\": \"quantitative\", \"axis\": {\"labelFontSize\": 15, \"title\": \"t (event index)\", \"titleFontSize\": 15}, \"field\": \"t (event index)\"}, \"y\": {\"type\": \"quantitative\", \"axis\": {\"grid\": true, \"labelFontSize\": 15, \"titleFontSize\": 15, \"titleX\": -28}, \"field\": \"Shapley Value\", \"scale\": {\"domain\": [-0.05, 1]}}}}, {\"data\": {\"name\": \"data-4da172a0ee14e02747c6e34fe238eb6c\"}, \"mark\": {\"type\": \"rule\", \"color\": \"#E17560\"}, \"encoding\": {\"x\": {\"type\": \"quantitative\", \"field\": \"x\"}}}, {\"data\": {\"name\": \"data-5caf32413302c8b0ee27c6c9ada61835\"}, \"mark\": {\"type\": \"text\", \"angle\": 270, \"color\": \"#E17560\", \"fontSize\": 15, \"fontWeight\": \"bold\", \"text\": \"Pruning\"}, \"encoding\": {\"x\": {\"type\": \"quantitative\", \"field\": \"x\"}}}], \"data\": {\"name\": \"data-f6d0617344d11d5d6eb381e8151136c9\"}, \"height\": 225, \"width\": 350}, {\"layer\": [{\"mark\": \"rect\", \"encoding\": {\"color\": {\"type\": \"quantitative\", \"field\": \"rounded\", \"legend\": {\"gradientLength\": 225, \"gradientThickness\": 10, \"labelFontSize\": 15, \"orient\": \"right\"}, \"scale\": {\"domain\": [-0.5, 0.5], \"range\": [\"#5f8fd6\", \"#99c3fb\", \"#f5f5f5\", \"#ffaa92\", \"#d16f5b\"]}, \"title\": null}, \"x\": {\"type\": \"ordinal\", \"axis\": {\"title\": \"Shapley Value\", \"titleFontSize\": 15}, \"field\": \"column\"}, \"y\": {\"type\": \"ordinal\", \"axis\": {\"domain\": false, \"labelFontSize\": 15, \"title\": \"Event\", \"titleFontSize\": 15, \"titleX\": -49}, \"field\": \"Feature\", \"sort\": [\"Event -1\", \"Event -2\", \"Event -3\", \"Event -4\", \"Event -5\", \"Event -6\", \"Event -7\", \"Event -8\", \"Event -9\", \"Event -10\", \"Event -11\", \"Pruned Events\"]}}}, {\"mark\": {\"type\": \"text\", \"align\": \"right\", \"baseline\": \"middle\", \"color\": \"#798184\", \"dx\": 18, \"fontSize\": 15}, \"encoding\": {\"text\": {\"type\": \"nominal\", \"field\": \"rounded_str\"}, \"x\": {\"type\": \"ordinal\", \"axis\": {\"domain\": false, \"labels\": false, \"title\": \"Shapley Value\", \"titleX\": 43}, \"field\": \"column\"}, \"y\": {\"type\": \"ordinal\", \"axis\": {\"domain\": false, \"labelFontSize\": 15, \"title\": \"Event\", \"titleFontSize\": 15, \"titleX\": -49}, \"field\": \"Feature\", \"sort\": [\"Event -1\", \"Event -2\", \"Event -3\", \"Event -4\", \"Event -5\", \"Event -6\", \"Event -7\", \"Event -8\", \"Event -9\", \"Event -10\", \"Event -11\", \"Pruned Events\"]}}}], \"data\": {\"name\": \"data-de4d03c341b285121e5d70d183e065c2\"}, \"height\": 225, \"width\": 60}, {\"layer\": [{\"data\": {\"name\": \"data-6bd6e116b1bbbe89b15cb6c368e69dea\"}, \"mark\": {\"type\": \"bar\", \"size\": 15, \"thickness\": 1}, \"encoding\": {\"x\": {\"type\": \"quantitative\", \"axis\": {\"grid\": true, \"labelFontSize\": 15, \"title\": \"Shapley Value\", \"titleFontSize\": 15}, \"field\": \"Shapley Value\", \"scale\": {\"domain\": [-0.1, 0.4]}}, \"y\": {\"type\": \"nominal\", \"axis\": {\"labelFontSize\": 15, \"title\": \"Feature\", \"titleFontSize\": 15, \"titleX\": -61}, \"field\": \"Feature\", \"sort\": {\"field\": \"sort_col\", \"order\": \"descending\"}}}}, {\"data\": {\"name\": \"data-9c00aa9dc2b1c1a0b4bf9b34ead12925\"}, \"mark\": {\"type\": \"rule\", \"color\": \"#798184\"}, \"encoding\": {\"x\": {\"type\": \"quantitative\", \"field\": \"x\"}}}], \"height\": 225, \"width\": 190}, {\"hconcat\": [{\"layer\": [{\"mark\": \"rect\", \"encoding\": {\"color\": {\"type\": \"quantitative\", \"field\": \"rounded\", \"legend\": null, \"scale\": {\"domain\": [-0.5, 0.5], \"range\": [\"#5f8fd6\", \"#99c3fb\", \"#f5f5f5\", \"#ffaa92\", \"#d16f5b\"]}, \"title\": null}, \"x\": {\"type\": \"nominal\", \"axis\": {\"titleFontSize\": 15}, \"field\": \"Event\"}, \"y\": {\"type\": \"nominal\", \"axis\": {\"domain\": false, \"labels\": false, \"title\": null}, \"field\": \"Feature\"}}}, {\"mark\": {\"type\": \"text\", \"align\": \"right\", \"baseline\": \"middle\", \"color\": \"#798184\", \"dx\": 18, \"fontSize\": 15}, \"encoding\": {\"text\": {\"type\": \"nominal\", \"field\": \"rounded_str\"}, \"x\": {\"type\": \"nominal\", \"axis\": {\"domain\": false, \"labelAngle\": 0, \"labelFontSize\": 15, \"labelOffset\": 24, \"labelPadding\": 30, \"orient\": \"top\", \"title\": null}, \"field\": \"Event\"}, \"y\": {\"type\": \"nominal\", \"axis\": {\"domain\": false, \"labels\": false, \"title\": null}, \"field\": \"Feature\"}}}], \"data\": {\"name\": \"data-495cc4f5c030f3712013cd8c3e270316\"}, \"height\": 225, \"width\": 66.66666666666667}, {\"layer\": [{\"mark\": \"rect\", \"encoding\": {\"color\": {\"type\": \"quantitative\", \"field\": \"rounded\", \"legend\": {\"gradientLength\": 225, \"gradientThickness\": 10, \"labelFontSize\": 15, \"orient\": \"right\"}, \"scale\": {\"domain\": [-0.5, 0.5], \"range\": [\"#5f8fd6\", \"#99c3fb\", \"#f5f5f5\", \"#ffaa92\", \"#d16f5b\"]}, \"title\": null}, \"x\": {\"type\": \"nominal\", \"axis\": {\"titleFontSize\": 15}, \"field\": \"Event\", \"sort\": [\"Event -3\", \"Event -2\"]}, \"y\": {\"type\": \"nominal\", \"axis\": {\"domain\": false, \"labelFontSize\": 15, \"title\": null}, \"field\": \"Feature\", \"sort\": [\"Mean Right Ankle <-> Left Ankle\", \"STD Right Ankle <-> Left Ankle\"]}}}, {\"mark\": {\"type\": \"text\", \"align\": \"right\", \"baseline\": \"middle\", \"color\": \"#798184\", \"dx\": 18, \"fontSize\": 15}, \"encoding\": {\"text\": {\"type\": \"nominal\", \"field\": \"rounded_str\"}, \"x\": {\"type\": \"nominal\", \"axis\": {\"domain\": false, \"labelAngle\": 30, \"labelFontSize\": 15, \"orient\": \"top\", \"title\": \"Shapley Value\", \"titleX\": 172, \"titleY\": 245}, \"field\": \"Event\", \"sort\": [\"Event -3\", \"Event -2\"]}, \"y\": {\"type\": \"nominal\", \"axis\": {\"domain\": false, \"labelFontSize\": 15, \"title\": null}, \"field\": \"Feature\", \"sort\": [\"Mean Right Ankle <-> Left Ankle\", \"STD Right Ankle <-> Left Ankle\"]}}}], \"data\": {\"name\": \"data-cee977377ab750f4606b74bc052de325\"}, \"height\": 225, \"width\": 160}], \"resolve\": {\"scale\": {\"color\": \"independent\"}}}], \"resolve\": {\"scale\": {\"color\": \"independent\"}}, \"$schema\": \"https://vega.github.io/schema/vega-lite/v4.8.1.json\", \"datasets\": {\"data-f6d0617344d11d5d6eb381e8151136c9\": [{\"Coalition\": \"Sum of contribution of events > t\", \"t (event index)\": 0, \"Shapley Value\": 0.0}, {\"Coalition\": \"Sum of contribution of events \\u2264 t\", \"t (event index)\": 0, \"Shapley Value\": 0.7107781693339348}, {\"Coalition\": \"Sum of contribution of events > t\", \"t (event index)\": -1, \"Shapley Value\": 0.057712833397090435}, {\"Coalition\": \"Sum of contribution of events \\u2264 t\", \"t (event index)\": -1, \"Shapley Value\": 0.6530653359368443}, {\"Coalition\": \"Sum of contribution of events > t\", \"t (event index)\": -2, \"Shapley Value\": 0.17809058539569378}, {\"Coalition\": \"Sum of contribution of events \\u2264 t\", \"t (event index)\": -2, \"Shapley Value\": 0.532687583938241}, {\"Coalition\": \"Sum of contribution of events > t\", \"t (event index)\": -3, \"Shapley Value\": 0.2974421586841345}, {\"Coalition\": \"Sum of contribution of events \\u2264 t\", \"t (event index)\": -3, \"Shapley Value\": 0.4133360106498003}, {\"Coalition\": \"Sum of contribution of events > t\", \"t (event index)\": -4, \"Shapley Value\": 0.37122948095202446}, {\"Coalition\": \"Sum of contribution of events \\u2264 t\", \"t (event index)\": -4, \"Shapley Value\": 0.3395486883819103}, {\"Coalition\": \"Sum of contribution of events > t\", \"t (event index)\": -5, \"Shapley Value\": 0.39915208518505096}, {\"Coalition\": \"Sum of contribution of events \\u2264 t\", \"t (event index)\": -5, \"Shapley Value\": 0.3116260841488838}, {\"Coalition\": \"Sum of contribution of events > t\", \"t (event index)\": -6, \"Shapley Value\": 0.4303387235850096}, {\"Coalition\": \"Sum of contribution of events \\u2264 t\", \"t (event index)\": -6, \"Shapley Value\": 0.2804394457489252}, {\"Coalition\": \"Sum of contribution of events > t\", \"t (event index)\": -7, \"Shapley Value\": 0.4784858925268054}, {\"Coalition\": \"Sum of contribution of events \\u2264 t\", \"t (event index)\": -7, \"Shapley Value\": 0.23229227680712938}, {\"Coalition\": \"Sum of contribution of events > t\", \"t (event index)\": -8, \"Shapley Value\": 0.5620398372411728}, {\"Coalition\": \"Sum of contribution of events \\u2264 t\", \"t (event index)\": -8, \"Shapley Value\": 0.148738332092762}, {\"Coalition\": \"Sum of contribution of events > t\", \"t (event index)\": -9, \"Shapley Value\": 0.605012415908277}, {\"Coalition\": \"Sum of contribution of events \\u2264 t\", \"t (event index)\": -9, \"Shapley Value\": 0.10576575342565775}, {\"Coalition\": \"Sum of contribution of events > t\", \"t (event index)\": -10, \"Shapley Value\": 0.6320168990641832}, {\"Coalition\": \"Sum of contribution of events \\u2264 t\", \"t (event index)\": -10, \"Shapley Value\": 0.07876127026975155}, {\"Coalition\": \"Sum of contribution of events > t\", \"t (event index)\": -11, \"Shapley Value\": 0.6398440385237336}, {\"Coalition\": \"Sum of contribution of events \\u2264 t\", \"t (event index)\": -11, \"Shapley Value\": 0.07093413081020117}, {\"Coalition\": \"Sum of contribution of events > t\", \"t (event index)\": -12, \"Shapley Value\": 0.6535957772284746}, {\"Coalition\": \"Sum of contribution of events \\u2264 t\", \"t (event index)\": -12, \"Shapley Value\": 0.05718239210546017}, {\"Coalition\": \"Sum of contribution of events > t\", \"t (event index)\": -13, \"Shapley Value\": 0.6625487552955747}, {\"Coalition\": \"Sum of contribution of events \\u2264 t\", \"t (event index)\": -13, \"Shapley Value\": 0.04822941403836012}, {\"Coalition\": \"Sum of contribution of events > t\", \"t (event index)\": -14, \"Shapley Value\": 0.6740840915590525}, {\"Coalition\": \"Sum of contribution of events \\u2264 t\", \"t (event index)\": -14, \"Shapley Value\": 0.03669407777488232}, {\"Coalition\": \"Sum of contribution of events > t\", \"t (event index)\": -15, \"Shapley Value\": 0.6845917971804738}, {\"Coalition\": \"Sum of contribution of events \\u2264 t\", \"t (event index)\": -15, \"Shapley Value\": 0.02618637215346098}, {\"Coalition\": \"Sum of contribution of events > t\", \"t (event index)\": -16, \"Shapley Value\": 0.6937809539958835}, {\"Coalition\": \"Sum of contribution of events \\u2264 t\", \"t (event index)\": -16, \"Shapley Value\": 0.01699721533805132}, {\"Coalition\": \"Sum of contribution of events > t\", \"t (event index)\": -17, \"Shapley Value\": 0.6962472945451736}, {\"Coalition\": \"Sum of contribution of events \\u2264 t\", \"t (event index)\": -17, \"Shapley Value\": 0.014530874788761139}, {\"Coalition\": \"Sum of contribution of events > t\", \"t (event index)\": -18, \"Shapley Value\": 0.6978941056877375}, {\"Coalition\": \"Sum of contribution of events \\u2264 t\", \"t (event index)\": -18, \"Shapley Value\": 0.012884063646197319}, {\"Coalition\": \"Sum of contribution of events > t\", \"t (event index)\": -19, \"Shapley Value\": 0.700493760406971}, {\"Coalition\": \"Sum of contribution of events \\u2264 t\", \"t (event index)\": -19, \"Shapley Value\": 0.010284408926963806}, {\"Coalition\": \"Sum of contribution of events > t\", \"t (event index)\": -20, \"Shapley Value\": 0.7035707738250494}, {\"Coalition\": \"Sum of contribution of events \\u2264 t\", \"t (event index)\": -20, \"Shapley Value\": 0.007207395508885384}, {\"Coalition\": \"Sum of contribution of events > t\", \"t (event index)\": -21, \"Shapley Value\": 0.7057067872956395}, {\"Coalition\": \"Sum of contribution of events \\u2264 t\", \"t (event index)\": -21, \"Shapley Value\": 0.005071382038295269}, {\"Coalition\": \"Sum of contribution of events > t\", \"t (event index)\": -22, \"Shapley Value\": 0.7066771052777767}, {\"Coalition\": \"Sum of contribution of events \\u2264 t\", \"t (event index)\": -22, \"Shapley Value\": 0.004101064056158066}, {\"Coalition\": \"Sum of contribution of events > t\", \"t (event index)\": -23, \"Shapley Value\": 0.7071699956431985}, {\"Coalition\": \"Sum of contribution of events \\u2264 t\", \"t (event index)\": -23, \"Shapley Value\": 0.003608173690736294}, {\"Coalition\": \"Sum of contribution of events > t\", \"t (event index)\": -24, \"Shapley Value\": 0.7083224253728986}, {\"Coalition\": \"Sum of contribution of events \\u2264 t\", \"t (event index)\": -24, \"Shapley Value\": 0.0024557439610362053}, {\"Coalition\": \"Sum of contribution of events > t\", \"t (event index)\": -25, \"Shapley Value\": 0.7086418839171529}, {\"Coalition\": \"Sum of contribution of events \\u2264 t\", \"t (event index)\": -25, \"Shapley Value\": 0.0021362854167819023}, {\"Coalition\": \"Sum of contribution of events > t\", \"t (event index)\": -26, \"Shapley Value\": 0.7090736972168088}, {\"Coalition\": \"Sum of contribution of events \\u2264 t\", \"t (event index)\": -26, \"Shapley Value\": 0.001704472117125988}, {\"Coalition\": \"Sum of contribution of events > t\", \"t (event index)\": -27, \"Shapley Value\": 0.7095956141129136}, {\"Coalition\": \"Sum of contribution of events \\u2264 t\", \"t (event index)\": -27, \"Shapley Value\": 0.0011825552210211754}, {\"Coalition\": \"Sum of contribution of events > t\", \"t (event index)\": -28, \"Shapley Value\": 0.7097701700404286}, {\"Coalition\": \"Sum of contribution of events \\u2264 t\", \"t (event index)\": -28, \"Shapley Value\": 0.0010079992935061455}, {\"Coalition\": \"Sum of contribution of events > t\", \"t (event index)\": -29, \"Shapley Value\": 0.7101138615980744}, {\"Coalition\": \"Sum of contribution of events \\u2264 t\", \"t (event index)\": -29, \"Shapley Value\": 0.0006643077358603477}, {\"Coalition\": \"Sum of contribution of events > t\", \"t (event index)\": -30, \"Shapley Value\": 0.7103128843009472}, {\"Coalition\": \"Sum of contribution of events \\u2264 t\", \"t (event index)\": -30, \"Shapley Value\": 0.0004652850329875946}, {\"Coalition\": \"Sum of contribution of events > t\", \"t (event index)\": -31, \"Shapley Value\": 0.7103166040033102}, {\"Coalition\": \"Sum of contribution of events \\u2264 t\", \"t (event index)\": -31, \"Shapley Value\": 0.0004615653306245804}, {\"Coalition\": \"Sum of contribution of events > t\", \"t (event index)\": -32, \"Shapley Value\": 0.7104071844369173}, {\"Coalition\": \"Sum of contribution of events \\u2264 t\", \"t (event index)\": -32, \"Shapley Value\": 0.00037098489701747894}, {\"Coalition\": \"Sum of contribution of events > t\", \"t (event index)\": -33, \"Shapley Value\": 0.7104718266054988}, {\"Coalition\": \"Sum of contribution of events \\u2264 t\", \"t (event index)\": -33, \"Shapley Value\": 0.0003063427284359932}, {\"Coalition\": \"Sum of contribution of events > t\", \"t (event index)\": -34, \"Shapley Value\": 0.710560436360538}, {\"Coalition\": \"Sum of contribution of events \\u2264 t\", \"t (event index)\": -34, \"Shapley Value\": 0.0002177329733967781}, {\"Coalition\": \"Sum of contribution of events > t\", \"t (event index)\": -35, \"Shapley Value\": 0.7106466190889478}, {\"Coalition\": \"Sum of contribution of events \\u2264 t\", \"t (event index)\": -35, \"Shapley Value\": 0.00013155024498701096}, {\"Coalition\": \"Sum of contribution of events > t\", \"t (event index)\": -36, \"Shapley Value\": 0.7106990283355117}, {\"Coalition\": \"Sum of contribution of events \\u2264 t\", \"t (event index)\": -36, \"Shapley Value\": 7.914099842309952e-05}, {\"Coalition\": \"Sum of contribution of events > t\", \"t (event index)\": -37, \"Shapley Value\": 0.7107058791443706}, {\"Coalition\": \"Sum of contribution of events \\u2264 t\", \"t (event index)\": -37, \"Shapley Value\": 7.229018956422806e-05}, {\"Coalition\": \"Sum of contribution of events > t\", \"t (event index)\": -38, \"Shapley Value\": 0.710717192851007}, {\"Coalition\": \"Sum of contribution of events \\u2264 t\", \"t (event index)\": -38, \"Shapley Value\": 6.0976482927799225e-05}, {\"Coalition\": \"Sum of contribution of events > t\", \"t (event index)\": -39, \"Shapley Value\": 0.7107428032904863}, {\"Coalition\": \"Sum of contribution of events \\u2264 t\", \"t (event index)\": -39, \"Shapley Value\": 3.536604344844818e-05}, {\"Coalition\": \"Sum of contribution of events > t\", \"t (event index)\": -40, \"Shapley Value\": 0.7107479805126786}, {\"Coalition\": \"Sum of contribution of events \\u2264 t\", \"t (event index)\": -40, \"Shapley Value\": 3.0188821256160736e-05}], \"data-4da172a0ee14e02747c6e34fe238eb6c\": [{\"x\": -11}], \"data-5caf32413302c8b0ee27c6c9ada61835\": [{\"x\": -13}], \"data-de4d03c341b285121e5d70d183e065c2\": [{\"Shapley Value\": 0.06449853085649349, \"Feature\": \"Event -1\", \"row\": 1, \"column\": 1, \"rounded\": 0.064, \"rounded_str\": \"0.064\"}, {\"Shapley Value\": 0.12024670021304756, \"Feature\": \"Event -2\", \"row\": 2, \"column\": 1, \"rounded\": 0.12, \"rounded_str\": \"0.120\"}, {\"Shapley Value\": 0.11044351324340973, \"Feature\": \"Event -3\", \"row\": 3, \"column\": 1, \"rounded\": 0.11, \"rounded_str\": \"0.110\"}, {\"Shapley Value\": 0.09179398497898472, \"Feature\": \"Event -4\", \"row\": 4, \"column\": 1, \"rounded\": 0.092, \"rounded_str\": \"0.092\"}, {\"Shapley Value\": 0.039485478619836645, \"Feature\": \"Event -5\", \"row\": 5, \"column\": 1, \"rounded\": 0.039, \"rounded_str\": \"0.039\"}, {\"Shapley Value\": 0.03863657128420628, \"Feature\": \"Event -6\", \"row\": 6, \"column\": 1, \"rounded\": 0.039, \"rounded_str\": \"0.039\"}, {\"Shapley Value\": 0.04125886313895433, \"Feature\": \"Event -7\", \"row\": 7, \"column\": 1, \"rounded\": 0.041, \"rounded_str\": \"0.041\"}, {\"Shapley Value\": 0.04534959938299177, \"Feature\": \"Event -8\", \"row\": 8, \"column\": 1, \"rounded\": 0.045, \"rounded_str\": \"0.045\"}, {\"Shapley Value\": 0.02839875772667988, \"Feature\": \"Event -9\", \"row\": 9, \"column\": 1, \"rounded\": 0.028, \"rounded_str\": \"0.028\"}, {\"Shapley Value\": 0.016468066004847626, \"Feature\": \"Event -10\", \"row\": 10, \"column\": 1, \"rounded\": 0.016, \"rounded_str\": \"0.016\"}, {\"Shapley Value\": 0.00857266137016266, \"Feature\": \"Event -11\", \"row\": 11, \"column\": 1, \"rounded\": 0.009, \"rounded_str\": \"0.009\"}, {\"Shapley Value\": 0.10562544251432016, \"Feature\": \"Pruned Events\", \"row\": 12, \"column\": 1, \"rounded\": 0.106, \"rounded_str\": \"0.106\"}], \"data-6bd6e116b1bbbe89b15cb6c368e69dea\": [{\"Random seed\": 42, \"NSamples\": 32000, \"Feature\": \"Mean Chest <-> Right Ankle\", \"Shapley Value\": 0.005215297133794927, \"sort_col\": 0.005215297133794927}, {\"Random seed\": 42, \"NSamples\": 32000, \"Feature\": \"STD Chest <-> Right Ankle\", \"Shapley Value\": 0.021076389858942918, \"sort_col\": 0.021076389858942918}, {\"Random seed\": 42, \"NSamples\": 32000, \"Feature\": \"Mean Chest <-> Left Ankle\", \"Shapley Value\": 0.1277575489044901, \"sort_col\": 0.1277575489044901}, {\"Random seed\": 42, \"NSamples\": 32000, \"Feature\": \"STD Chest <-> Left Ankle\", \"Shapley Value\": 0.10736302179949608, \"sort_col\": 0.10736302179949608}, {\"Random seed\": 42, \"NSamples\": 32000, \"Feature\": \"Mean Right Ankle <-> Left Ankle\", \"Shapley Value\": 0.12876788563139374, \"sort_col\": 0.12876788563139374}, {\"Random seed\": 42, \"NSamples\": 32000, \"Feature\": \"STD Right Ankle <-> Left Ankle\", \"Shapley Value\": 0.20970648557302465, \"sort_col\": 0.20970648557302465}, {\"Random seed\": 42, \"NSamples\": 32000, \"Feature\": \"Pruned Events\", \"Shapley Value\": 0.11089154043279237, \"sort_col\": 0.11089154043279237}], \"data-9c00aa9dc2b1c1a0b4bf9b34ead12925\": [{\"x\": 0}], \"data-495cc4f5c030f3712013cd8c3e270316\": [{\"Event\": [\"Pruned\", \"Events\"], \"Feature\": \"Other features\", \"rounded\": 0.108, \"rounded_str\": \"0.108\"}], \"data-cee977377ab750f4606b74bc052de325\": [{\"Event\": \"Other Events\", \"Feature\": \"Other Features\", \"Shapley Value\": 0.15484187567296104, \"rounded\": 0.155, \"rounded_str\": \"0.155\"}, {\"Event\": \"Other Events\", \"Feature\": \"STD Right Ankle <-> Left Ankle\", \"Shapley Value\": 0.12006539659027671, \"rounded\": 0.12, \"rounded_str\": \"0.120\"}, {\"Event\": \"Other Events\", \"Feature\": \"Mean Right Ankle <-> Left Ankle\", \"Shapley Value\": 0.11079034964140089, \"rounded\": 0.111, \"rounded_str\": \"0.111\"}, {\"Event\": \"Event -2\", \"Feature\": \"Other Features\", \"Shapley Value\": 0.07139038037700912, \"rounded\": 0.071, \"rounded_str\": \"0.071\"}, {\"Event\": \"Event -3\", \"Feature\": \"Other Features\", \"Shapley Value\": 0.05565698182372958, \"rounded\": 0.056, \"rounded_str\": \"0.056\"}, {\"Event\": \"Event -3\", \"Feature\": \"STD Right Ankle <-> Left Ankle\", \"Shapley Value\": 0.039160510165882845, \"rounded\": 0.039, \"rounded_str\": \"0.039\"}, {\"Event\": \"Event -2\", \"Feature\": \"STD Right Ankle <-> Left Ankle\", \"Shapley Value\": 0.031092715122929215, \"rounded\": 0.031, \"rounded_str\": \"0.031\"}, {\"Event\": \"Event -3\", \"Feature\": \"Mean Right Ankle <-> Left Ankle\", \"Shapley Value\": 0.00997876714220225, \"rounded\": 0.01, \"rounded_str\": \"0.010\"}, {\"Event\": \"Event -2\", \"Feature\": \"Mean Right Ankle <-> Left Ankle\", \"Shapley Value\": 0.009697876286707818, \"rounded\": 0.01, \"rounded_str\": \"0.010\"}]}}, {\"mode\": \"vega-lite\"});\n",
       "</script>"
      ],
      "text/plain": [
       "alt.HConcatChart(...)"
      ]
     },
     "execution_count": 18,
     "metadata": {},
     "output_type": "execute_result"
    }
   ],
   "source": [
    "# average event\n",
    "local_report(f_hs, pos_x_data, pruning_dict, event_dict, feature_dict, cell_dict=cell_dict, entity_uuid=positive_sequence_id, entity_col='all_id', baseline=average_event)"
   ]
  },
  {
   "cell_type": "code",
   "execution_count": 19,
   "id": "c8c4f8dd",
   "metadata": {},
   "outputs": [
    {
     "name": "stdout",
     "output_type": "stream",
     "text": [
      "Assuming all features are model features\n"
     ]
    },
    {
     "data": {
      "text/html": [
       "\n",
       "<div id=\"altair-viz-fd19aabb25634af99051a25140ecbe98\"></div>\n",
       "<script type=\"text/javascript\">\n",
       "  (function(spec, embedOpt){\n",
       "    let outputDiv = document.currentScript.previousElementSibling;\n",
       "    if (outputDiv.id !== \"altair-viz-fd19aabb25634af99051a25140ecbe98\") {\n",
       "      outputDiv = document.getElementById(\"altair-viz-fd19aabb25634af99051a25140ecbe98\");\n",
       "    }\n",
       "    const paths = {\n",
       "      \"vega\": \"https://cdn.jsdelivr.net/npm//vega@5?noext\",\n",
       "      \"vega-lib\": \"https://cdn.jsdelivr.net/npm//vega-lib?noext\",\n",
       "      \"vega-lite\": \"https://cdn.jsdelivr.net/npm//vega-lite@4.8.1?noext\",\n",
       "      \"vega-embed\": \"https://cdn.jsdelivr.net/npm//vega-embed@6?noext\",\n",
       "    };\n",
       "\n",
       "    function loadScript(lib) {\n",
       "      return new Promise(function(resolve, reject) {\n",
       "        var s = document.createElement('script');\n",
       "        s.src = paths[lib];\n",
       "        s.async = true;\n",
       "        s.onload = () => resolve(paths[lib]);\n",
       "        s.onerror = () => reject(`Error loading script: ${paths[lib]}`);\n",
       "        document.getElementsByTagName(\"head\")[0].appendChild(s);\n",
       "      });\n",
       "    }\n",
       "\n",
       "    function showError(err) {\n",
       "      outputDiv.innerHTML = `<div class=\"error\" style=\"color:red;\">${err}</div>`;\n",
       "      throw err;\n",
       "    }\n",
       "\n",
       "    function displayChart(vegaEmbed) {\n",
       "      vegaEmbed(outputDiv, spec, embedOpt)\n",
       "        .catch(err => showError(`Javascript Error: ${err.message}<br>This usually means there's a typo in your chart specification. See the javascript console for the full traceback.`));\n",
       "    }\n",
       "\n",
       "    if(typeof define === \"function\" && define.amd) {\n",
       "      requirejs.config({paths});\n",
       "      require([\"vega-embed\"], displayChart, err => showError(`Error loading script: ${err.message}`));\n",
       "    } else if (typeof vegaEmbed === \"function\") {\n",
       "      displayChart(vegaEmbed);\n",
       "    } else {\n",
       "      loadScript(\"vega\")\n",
       "        .then(() => loadScript(\"vega-lite\"))\n",
       "        .then(() => loadScript(\"vega-embed\"))\n",
       "        .catch(showError)\n",
       "        .then(() => displayChart(vegaEmbed));\n",
       "    }\n",
       "  })({\"config\": {\"axis\": {\"domain\": true, \"domainColor\": \"#666F89\", \"grid\": false, \"gridCap\": \"round\", \"gridColor\": \"#B3B7C4\", \"gridDash\": [2, 4], \"gridWidth\": 0.5, \"labelColor\": \"#666F89\", \"labelFont\": \"Roboto, Arial, sans-serif\", \"labelPadding\": 2, \"tickColor\": \"#666F89\", \"tickOpacity\": 0.5, \"tickSize\": 4, \"titleColor\": \"#19274E\", \"titleFont\": \"Roboto, Arial, sans-serif\", \"titleFontSize\": 12}, \"axisBand\": {\"domain\": true, \"labelPadding\": 4, \"ticks\": false}, \"axisY\": {\"domain\": false, \"titleAlign\": \"left\", \"titleAngle\": 0, \"titleX\": -20, \"titleY\": -10}, \"legend\": {\"labelColor\": \"#666F89\", \"labelFont\": \"Roboto, Arial, sans-serif\", \"labelFontSize\": 12, \"symbolSize\": 40, \"titleColor\": \"#19274E\", \"titleFont\": \"Roboto, Arial, sans-serif\", \"titleFontSize\": 12, \"titlePadding\": 4}, \"arc\": {\"stroke\": \"#FFFFFF\", \"strokeWidth\": 1}, \"bar\": {\"fill\": \"#2770EB\", \"stroke\": null}, \"line\": {\"stroke\": \"#2770EB\", \"strokeWidth\": 2}, \"path\": {\"stroke\": \"#2770EB\", \"strokeWidth\": 0.5}, \"point\": {\"fill\": \"#2770EB\", \"shape\": \"circle\", \"filled\": true}, \"rect\": {\"fill\": \"#2770EB\"}, \"rule\": {\"stroke\": \"#666F89\"}, \"shape\": {\"stroke\": \"#2770EB\"}, \"text\": {\"color\": \"#19274E\", \"font\": \"Roboto, Arial, sans-serif\", \"fontSize\": 12}, \"range\": {\"category\": [\"#2770EB\", \"#77B98A\", \"#DA5252\", \"#FFC400\", \"#A87AEA\", \"#00A39E\", \"#19274E\"], \"diverging\": [\"#006360\", \"#2BB3AE\", \"#96D9D7\", \"#FFFFFF\", \"#EDAAAA\", \"#DA5252\", \"#811D1D\"], \"heatmap\": [\"#18448F\", \"#1B4EA5\", \"#2770EB\", \"#4C88EE\", \"#82ACF3\", \"#A6C4F7\", \"#E9F1FD\"], \"ramp\": [\"#18448F\", \"#1B4EA5\", \"#2770EB\", \"#4C88EE\", \"#82ACF3\", \"#A6C4F7\", \"#E9F1FD\"]}, \"background\": \"#FFFFFF\", \"group\": {\"fill\": \"#FFFFFF\"}, \"header\": {\"labelColor\": \"#19274E\", \"labelFont\": \"Roboto, Arial, sans-serif\", \"labelFontSize\": 12, \"titleColor\": \"#19274E\", \"titleFont\": \"Roboto, Arial, sans-serif\", \"titleFontSize\": 16}, \"title\": {\"anchor\": \"start\", \"color\": \"#19274E\", \"font\": \"Roboto, Arial, sans-serif\", \"fontSize\": 20, \"fontWeight\": \"bold\", \"offset\": 20, \"subtitleColor\": \"#19274E\", \"subtitleFontSize\": 16}, \"view\": {\"continuousHeight\": 300, \"continuousWidth\": 400, \"stroke\": \"transparent\"}}, \"hconcat\": [{\"layer\": [{\"mark\": {\"type\": \"area\", \"opacity\": 0.5}, \"encoding\": {\"color\": {\"type\": \"nominal\", \"field\": \"Coalition\", \"legend\": {\"fillColor\": \"white\", \"labelFontSize\": 14, \"labelLimit\": 0, \"orient\": \"top-left\", \"symbolSize\": 50, \"symbolStrokeWidth\": 0, \"title\": null}, \"scale\": {\"domain\": [\"Sum of contribution of events \\u2264 t\"], \"range\": [\"#618FE0\"]}}, \"x\": {\"type\": \"quantitative\", \"axis\": {\"labelFontSize\": 15, \"title\": \"t (event index)\", \"titleFontSize\": 15}, \"field\": \"t (event index)\"}, \"y\": {\"type\": \"quantitative\", \"axis\": {\"grid\": true, \"labelFontSize\": 15, \"titleFontSize\": 15, \"titleX\": -28}, \"field\": \"Shapley Value\", \"scale\": {\"domain\": [-0.05, 1]}}}}, {\"mark\": \"line\", \"encoding\": {\"color\": {\"type\": \"nominal\", \"field\": \"Coalition\", \"legend\": {\"fillColor\": \"white\", \"labelFontSize\": 14, \"labelLimit\": 0, \"orient\": \"top-left\", \"symbolSize\": 50, \"symbolStrokeWidth\": 0, \"title\": null}, \"scale\": {\"domain\": [\"Sum of contribution of events \\u2264 t\"], \"range\": [\"#618FE0\"]}}, \"x\": {\"type\": \"quantitative\", \"axis\": {\"labelFontSize\": 15, \"title\": \"t (event index)\", \"titleFontSize\": 15}, \"field\": \"t (event index)\"}, \"y\": {\"type\": \"quantitative\", \"axis\": {\"grid\": true, \"labelFontSize\": 15, \"titleFontSize\": 15, \"titleX\": -28}, \"field\": \"Shapley Value\", \"scale\": {\"domain\": [-0.05, 1]}}}}, {\"data\": {\"name\": \"data-ea6fb2023c4926d86db045386cbe69c9\"}, \"mark\": {\"type\": \"rule\", \"color\": \"#E17560\"}, \"encoding\": {\"x\": {\"type\": \"quantitative\", \"field\": \"x\"}}}, {\"data\": {\"name\": \"data-f6e92330a9bf5f16bcc7fbdfb457f47c\"}, \"mark\": {\"type\": \"text\", \"angle\": 270, \"color\": \"#E17560\", \"fontSize\": 15, \"fontWeight\": \"bold\", \"text\": \"Pruning\"}, \"encoding\": {\"x\": {\"type\": \"quantitative\", \"field\": \"x\"}}}], \"data\": {\"name\": \"data-b993d0ea66f5e394a3e89cabcf34fa9d\"}, \"height\": 225, \"width\": 350}, {\"layer\": [{\"mark\": \"rect\", \"encoding\": {\"color\": {\"type\": \"quantitative\", \"field\": \"rounded\", \"legend\": {\"gradientLength\": 225, \"gradientThickness\": 10, \"labelFontSize\": 15, \"orient\": \"right\"}, \"scale\": {\"domain\": [-0.5, 0.5], \"range\": [\"#5f8fd6\", \"#99c3fb\", \"#f5f5f5\", \"#ffaa92\", \"#d16f5b\"]}, \"title\": null}, \"x\": {\"type\": \"ordinal\", \"axis\": {\"title\": \"Shapley Value\", \"titleFontSize\": 15}, \"field\": \"column\"}, \"y\": {\"type\": \"ordinal\", \"axis\": {\"domain\": false, \"labelFontSize\": 15, \"title\": \"Event\", \"titleFontSize\": 15, \"titleX\": -49}, \"field\": \"Feature\", \"sort\": [\"Event -1\", \"Event -2\", \"Event -3\", \"Event -4\", \"Event -5\", \"Event -6\", \"Event -7\", \"Event -8\", \"Event -9\", \"Event -10\", \"Pruned Events\"]}}}, {\"mark\": {\"type\": \"text\", \"align\": \"right\", \"baseline\": \"middle\", \"color\": \"#798184\", \"dx\": 18, \"fontSize\": 15}, \"encoding\": {\"text\": {\"type\": \"nominal\", \"field\": \"rounded_str\"}, \"x\": {\"type\": \"ordinal\", \"axis\": {\"domain\": false, \"labels\": false, \"title\": \"Shapley Value\", \"titleX\": 43}, \"field\": \"column\"}, \"y\": {\"type\": \"ordinal\", \"axis\": {\"domain\": false, \"labelFontSize\": 15, \"title\": \"Event\", \"titleFontSize\": 15, \"titleX\": -49}, \"field\": \"Feature\", \"sort\": [\"Event -1\", \"Event -2\", \"Event -3\", \"Event -4\", \"Event -5\", \"Event -6\", \"Event -7\", \"Event -8\", \"Event -9\", \"Event -10\", \"Pruned Events\"]}}}], \"data\": {\"name\": \"data-560074f8c2aa9db9ad66c4e3f7f15f20\"}, \"height\": 225, \"width\": 60}, {\"layer\": [{\"data\": {\"name\": \"data-419cf83a08153bb169b4c252342a0112\"}, \"mark\": {\"type\": \"bar\", \"size\": 15, \"thickness\": 1}, \"encoding\": {\"x\": {\"type\": \"quantitative\", \"axis\": {\"grid\": true, \"labelFontSize\": 15, \"title\": \"Shapley Value\", \"titleFontSize\": 15}, \"field\": \"Shapley Value\", \"scale\": {\"domain\": [-0.1, 0.4]}}, \"y\": {\"type\": \"nominal\", \"axis\": {\"labelFontSize\": 15, \"title\": \"Feature\", \"titleFontSize\": 15, \"titleX\": -61}, \"field\": \"Feature\", \"sort\": {\"field\": \"sort_col\", \"order\": \"descending\"}}}}, {\"data\": {\"name\": \"data-9c00aa9dc2b1c1a0b4bf9b34ead12925\"}, \"mark\": {\"type\": \"rule\", \"color\": \"#798184\"}, \"encoding\": {\"x\": {\"type\": \"quantitative\", \"field\": \"x\"}}}], \"height\": 225, \"width\": 190}, {\"hconcat\": [{\"layer\": [{\"mark\": \"rect\", \"encoding\": {\"color\": {\"type\": \"quantitative\", \"field\": \"rounded\", \"legend\": null, \"scale\": {\"domain\": [-0.5, 0.5], \"range\": [\"#5f8fd6\", \"#99c3fb\", \"#f5f5f5\", \"#ffaa92\", \"#d16f5b\"]}, \"title\": null}, \"x\": {\"type\": \"nominal\", \"axis\": {\"titleFontSize\": 15}, \"field\": \"Event\"}, \"y\": {\"type\": \"nominal\", \"axis\": {\"domain\": false, \"labels\": false, \"title\": null}, \"field\": \"Feature\"}}}, {\"mark\": {\"type\": \"text\", \"align\": \"right\", \"baseline\": \"middle\", \"color\": \"#798184\", \"dx\": 18, \"fontSize\": 15}, \"encoding\": {\"text\": {\"type\": \"nominal\", \"field\": \"rounded_str\"}, \"x\": {\"type\": \"nominal\", \"axis\": {\"domain\": false, \"labelAngle\": 0, \"labelFontSize\": 15, \"labelOffset\": 24, \"labelPadding\": 30, \"orient\": \"top\", \"title\": null}, \"field\": \"Event\"}, \"y\": {\"type\": \"nominal\", \"axis\": {\"domain\": false, \"labels\": false, \"title\": null}, \"field\": \"Feature\"}}}], \"data\": {\"name\": \"data-abd6c500c01efeb9861f962e72f0eb9e\"}, \"height\": 225, \"width\": 66.66666666666667}, {\"layer\": [{\"mark\": \"rect\", \"encoding\": {\"color\": {\"type\": \"quantitative\", \"field\": \"rounded\", \"legend\": {\"gradientLength\": 225, \"gradientThickness\": 10, \"labelFontSize\": 15, \"orient\": \"right\"}, \"scale\": {\"domain\": [-0.5, 0.5], \"range\": [\"#5f8fd6\", \"#99c3fb\", \"#f5f5f5\", \"#ffaa92\", \"#d16f5b\"]}, \"title\": null}, \"x\": {\"type\": \"nominal\", \"axis\": {\"titleFontSize\": 15}, \"field\": \"Event\", \"sort\": [\"Event -3\", \"Event -2\"]}, \"y\": {\"type\": \"nominal\", \"axis\": {\"domain\": false, \"labelFontSize\": 15, \"title\": null}, \"field\": \"Feature\", \"sort\": [\"Mean Chest <-> Right Ankle\", \"STD Chest <-> Right Ankle\"]}}}, {\"mark\": {\"type\": \"text\", \"align\": \"right\", \"baseline\": \"middle\", \"color\": \"#798184\", \"dx\": 18, \"fontSize\": 15}, \"encoding\": {\"text\": {\"type\": \"nominal\", \"field\": \"rounded_str\"}, \"x\": {\"type\": \"nominal\", \"axis\": {\"domain\": false, \"labelAngle\": 30, \"labelFontSize\": 15, \"orient\": \"top\", \"title\": \"Shapley Value\", \"titleX\": 172, \"titleY\": 245}, \"field\": \"Event\", \"sort\": [\"Event -3\", \"Event -2\"]}, \"y\": {\"type\": \"nominal\", \"axis\": {\"domain\": false, \"labelFontSize\": 15, \"title\": null}, \"field\": \"Feature\", \"sort\": [\"Mean Chest <-> Right Ankle\", \"STD Chest <-> Right Ankle\"]}}}], \"data\": {\"name\": \"data-e8407014c5ecb00015d27f4d2f1482d7\"}, \"height\": 225, \"width\": 160}], \"resolve\": {\"scale\": {\"color\": \"independent\"}}}], \"resolve\": {\"scale\": {\"color\": \"independent\"}}, \"$schema\": \"https://vega.github.io/schema/vega-lite/v4.8.1.json\", \"datasets\": {\"data-b993d0ea66f5e394a3e89cabcf34fa9d\": [{\"Coalition\": \"Sum of contribution of events > t\", \"t (event index)\": 0, \"Shapley Value\": 5.587935447692871e-09}, {\"Coalition\": \"Sum of contribution of events \\u2264 t\", \"t (event index)\": 0, \"Shapley Value\": 0.6820276100188494}, {\"Coalition\": \"Sum of contribution of events > t\", \"t (event index)\": -1, \"Shapley Value\": 0.07391722500324249}, {\"Coalition\": \"Sum of contribution of events \\u2264 t\", \"t (event index)\": -1, \"Shapley Value\": 0.6081103906035423}, {\"Coalition\": \"Sum of contribution of events > t\", \"t (event index)\": -2, \"Shapley Value\": 0.19263751804828644}, {\"Coalition\": \"Sum of contribution of events \\u2264 t\", \"t (event index)\": -2, \"Shapley Value\": 0.4893900975584984}, {\"Coalition\": \"Sum of contribution of events > t\", \"t (event index)\": -3, \"Shapley Value\": 0.3153843991458416}, {\"Coalition\": \"Sum of contribution of events \\u2264 t\", \"t (event index)\": -3, \"Shapley Value\": 0.3666432164609432}, {\"Coalition\": \"Sum of contribution of events > t\", \"t (event index)\": -4, \"Shapley Value\": 0.4341404400765896}, {\"Coalition\": \"Sum of contribution of events \\u2264 t\", \"t (event index)\": -4, \"Shapley Value\": 0.24788717553019524}, {\"Coalition\": \"Sum of contribution of events > t\", \"t (event index)\": -5, \"Shapley Value\": 0.44501763954758644}, {\"Coalition\": \"Sum of contribution of events \\u2264 t\", \"t (event index)\": -5, \"Shapley Value\": 0.23700997605919838}, {\"Coalition\": \"Sum of contribution of events > t\", \"t (event index)\": -6, \"Shapley Value\": 0.45224588736891747}, {\"Coalition\": \"Sum of contribution of events \\u2264 t\", \"t (event index)\": -6, \"Shapley Value\": 0.22978172823786736}, {\"Coalition\": \"Sum of contribution of events > t\", \"t (event index)\": -7, \"Shapley Value\": 0.4930413030087948}, {\"Coalition\": \"Sum of contribution of events \\u2264 t\", \"t (event index)\": -7, \"Shapley Value\": 0.18898631259799004}, {\"Coalition\": \"Sum of contribution of events > t\", \"t (event index)\": -8, \"Shapley Value\": 0.5545983947813511}, {\"Coalition\": \"Sum of contribution of events \\u2264 t\", \"t (event index)\": -8, \"Shapley Value\": 0.12742922082543373}, {\"Coalition\": \"Sum of contribution of events > t\", \"t (event index)\": -9, \"Shapley Value\": 0.5890806876122952}, {\"Coalition\": \"Sum of contribution of events \\u2264 t\", \"t (event index)\": -9, \"Shapley Value\": 0.09294692799448967}, {\"Coalition\": \"Sum of contribution of events > t\", \"t (event index)\": -10, \"Shapley Value\": 0.6130560822784901}, {\"Coalition\": \"Sum of contribution of events \\u2264 t\", \"t (event index)\": -10, \"Shapley Value\": 0.06897153332829475}, {\"Coalition\": \"Sum of contribution of events > t\", \"t (event index)\": -11, \"Shapley Value\": 0.6084863245487213}, {\"Coalition\": \"Sum of contribution of events \\u2264 t\", \"t (event index)\": -11, \"Shapley Value\": 0.07354129105806351}, {\"Coalition\": \"Sum of contribution of events > t\", \"t (event index)\": -12, \"Shapley Value\": 0.6097971759736538}, {\"Coalition\": \"Sum of contribution of events \\u2264 t\", \"t (event index)\": -12, \"Shapley Value\": 0.07223043963313103}, {\"Coalition\": \"Sum of contribution of events > t\", \"t (event index)\": -13, \"Shapley Value\": 0.6024953909218311}, {\"Coalition\": \"Sum of contribution of events \\u2264 t\", \"t (event index)\": -13, \"Shapley Value\": 0.07953222468495369}, {\"Coalition\": \"Sum of contribution of events > t\", \"t (event index)\": -14, \"Shapley Value\": 0.6107054017484188}, {\"Coalition\": \"Sum of contribution of events \\u2264 t\", \"t (event index)\": -14, \"Shapley Value\": 0.07132221385836601}, {\"Coalition\": \"Sum of contribution of events > t\", \"t (event index)\": -15, \"Shapley Value\": 0.6222825832664967}, {\"Coalition\": \"Sum of contribution of events \\u2264 t\", \"t (event index)\": -15, \"Shapley Value\": 0.05974503234028816}, {\"Coalition\": \"Sum of contribution of events > t\", \"t (event index)\": -16, \"Shapley Value\": 0.6478998698294163}, {\"Coalition\": \"Sum of contribution of events \\u2264 t\", \"t (event index)\": -16, \"Shapley Value\": 0.034127745777368546}, {\"Coalition\": \"Sum of contribution of events > t\", \"t (event index)\": -17, \"Shapley Value\": 0.6502018198370934}, {\"Coalition\": \"Sum of contribution of events \\u2264 t\", \"t (event index)\": -17, \"Shapley Value\": 0.03182579576969147}, {\"Coalition\": \"Sum of contribution of events > t\", \"t (event index)\": -18, \"Shapley Value\": 0.6418121084570885}, {\"Coalition\": \"Sum of contribution of events \\u2264 t\", \"t (event index)\": -18, \"Shapley Value\": 0.04021550714969635}, {\"Coalition\": \"Sum of contribution of events > t\", \"t (event index)\": -19, \"Shapley Value\": 0.6394437216222286}, {\"Coalition\": \"Sum of contribution of events \\u2264 t\", \"t (event index)\": -19, \"Shapley Value\": 0.0425838939845562}, {\"Coalition\": \"Sum of contribution of events > t\", \"t (event index)\": -20, \"Shapley Value\": 0.6480388715863228}, {\"Coalition\": \"Sum of contribution of events \\u2264 t\", \"t (event index)\": -20, \"Shapley Value\": 0.033988744020462036}, {\"Coalition\": \"Sum of contribution of events > t\", \"t (event index)\": -21, \"Shapley Value\": 0.6590591557323933}, {\"Coalition\": \"Sum of contribution of events \\u2264 t\", \"t (event index)\": -21, \"Shapley Value\": 0.022968459874391556}, {\"Coalition\": \"Sum of contribution of events > t\", \"t (event index)\": -22, \"Shapley Value\": 0.6510528735816479}, {\"Coalition\": \"Sum of contribution of events \\u2264 t\", \"t (event index)\": -22, \"Shapley Value\": 0.030974742025136948}, {\"Coalition\": \"Sum of contribution of events > t\", \"t (event index)\": -23, \"Shapley Value\": 0.6443623043596745}, {\"Coalition\": \"Sum of contribution of events \\u2264 t\", \"t (event index)\": -23, \"Shapley Value\": 0.03766531124711037}, {\"Coalition\": \"Sum of contribution of events > t\", \"t (event index)\": -24, \"Shapley Value\": 0.6606910564005375}, {\"Coalition\": \"Sum of contribution of events \\u2264 t\", \"t (event index)\": -24, \"Shapley Value\": 0.02133655920624733}, {\"Coalition\": \"Sum of contribution of events > t\", \"t (event index)\": -25, \"Shapley Value\": 0.6415404342114925}, {\"Coalition\": \"Sum of contribution of events \\u2264 t\", \"t (event index)\": -25, \"Shapley Value\": 0.04048718139529228}, {\"Coalition\": \"Sum of contribution of events > t\", \"t (event index)\": -26, \"Shapley Value\": 0.6361617557704449}, {\"Coalition\": \"Sum of contribution of events \\u2264 t\", \"t (event index)\": -26, \"Shapley Value\": 0.04586585983633995}, {\"Coalition\": \"Sum of contribution of events > t\", \"t (event index)\": -27, \"Shapley Value\": 0.6533829867839813}, {\"Coalition\": \"Sum of contribution of events \\u2264 t\", \"t (event index)\": -27, \"Shapley Value\": 0.028644628822803497}, {\"Coalition\": \"Sum of contribution of events > t\", \"t (event index)\": -28, \"Shapley Value\": 0.6433074809610844}, {\"Coalition\": \"Sum of contribution of events \\u2264 t\", \"t (event index)\": -28, \"Shapley Value\": 0.038720134645700455}, {\"Coalition\": \"Sum of contribution of events > t\", \"t (event index)\": -29, \"Shapley Value\": 0.65551732853055}, {\"Coalition\": \"Sum of contribution of events \\u2264 t\", \"t (event index)\": -29, \"Shapley Value\": 0.026510287076234818}, {\"Coalition\": \"Sum of contribution of events > t\", \"t (event index)\": -30, \"Shapley Value\": 0.6640646643936634}, {\"Coalition\": \"Sum of contribution of events \\u2264 t\", \"t (event index)\": -30, \"Shapley Value\": 0.017962951213121414}, {\"Coalition\": \"Sum of contribution of events > t\", \"t (event index)\": -31, \"Shapley Value\": 0.6436659768223763}, {\"Coalition\": \"Sum of contribution of events \\u2264 t\", \"t (event index)\": -31, \"Shapley Value\": 0.03836163878440857}, {\"Coalition\": \"Sum of contribution of events > t\", \"t (event index)\": -32, \"Shapley Value\": 0.6492616422474384}, {\"Coalition\": \"Sum of contribution of events \\u2264 t\", \"t (event index)\": -32, \"Shapley Value\": 0.03276597335934639}, {\"Coalition\": \"Sum of contribution of events > t\", \"t (event index)\": -33, \"Shapley Value\": 0.6480539627373219}, {\"Coalition\": \"Sum of contribution of events \\u2264 t\", \"t (event index)\": -33, \"Shapley Value\": 0.03397365286946297}, {\"Coalition\": \"Sum of contribution of events > t\", \"t (event index)\": -34, \"Shapley Value\": 0.6471077241003513}, {\"Coalition\": \"Sum of contribution of events \\u2264 t\", \"t (event index)\": -34, \"Shapley Value\": 0.03491989150643349}, {\"Coalition\": \"Sum of contribution of events > t\", \"t (event index)\": -35, \"Shapley Value\": 0.6644616536796093}, {\"Coalition\": \"Sum of contribution of events \\u2264 t\", \"t (event index)\": -35, \"Shapley Value\": 0.017565961927175522}, {\"Coalition\": \"Sum of contribution of events > t\", \"t (event index)\": -36, \"Shapley Value\": 0.6696314513683319}, {\"Coalition\": \"Sum of contribution of events \\u2264 t\", \"t (event index)\": -36, \"Shapley Value\": 0.012396164238452911}, {\"Coalition\": \"Sum of contribution of events > t\", \"t (event index)\": -37, \"Shapley Value\": 0.6565741077065468}, {\"Coalition\": \"Sum of contribution of events \\u2264 t\", \"t (event index)\": -37, \"Shapley Value\": 0.025453507900238037}, {\"Coalition\": \"Sum of contribution of events > t\", \"t (event index)\": -38, \"Shapley Value\": 0.6321906037628651}, {\"Coalition\": \"Sum of contribution of events \\u2264 t\", \"t (event index)\": -38, \"Shapley Value\": 0.049837011843919754}, {\"Coalition\": \"Sum of contribution of events > t\", \"t (event index)\": -39, \"Shapley Value\": 0.6500173732638359}, {\"Coalition\": \"Sum of contribution of events \\u2264 t\", \"t (event index)\": -39, \"Shapley Value\": 0.032010242342948914}, {\"Coalition\": \"Sum of contribution of events > t\", \"t (event index)\": -40, \"Shapley Value\": 0.6183974333107471}, {\"Coalition\": \"Sum of contribution of events \\u2264 t\", \"t (event index)\": -40, \"Shapley Value\": 0.06363018229603767}], \"data-ea6fb2023c4926d86db045386cbe69c9\": [{\"x\": -10}], \"data-f6e92330a9bf5f16bcc7fbdfb457f47c\": [{\"x\": -12}], \"data-560074f8c2aa9db9ad66c4e3f7f15f20\": [{\"Shapley Value\": 0.057913642270358945, \"Feature\": \"Event -1\", \"row\": 1, \"column\": 1, \"rounded\": 0.058, \"rounded_str\": \"0.058\"}, {\"Shapley Value\": 0.15512952395831753, \"Feature\": \"Event -2\", \"row\": 2, \"column\": 1, \"rounded\": 0.155, \"rounded_str\": \"0.155\"}, {\"Shapley Value\": 0.1299435039747014, \"Feature\": \"Event -3\", \"row\": 3, \"column\": 1, \"rounded\": 0.13, \"rounded_str\": \"0.130\"}, {\"Shapley Value\": 0.08280364648408078, \"Feature\": \"Event -4\", \"row\": 4, \"column\": 1, \"rounded\": 0.083, \"rounded_str\": \"0.083\"}, {\"Shapley Value\": 0.0186749450390698, \"Feature\": \"Event -5\", \"row\": 5, \"column\": 1, \"rounded\": 0.019, \"rounded_str\": \"0.019\"}, {\"Shapley Value\": 0.028816180404350467, \"Feature\": \"Event -6\", \"row\": 6, \"column\": 1, \"rounded\": 0.029, \"rounded_str\": \"0.029\"}, {\"Shapley Value\": 0.04312281544289409, \"Feature\": \"Event -7\", \"row\": 7, \"column\": 1, \"rounded\": 0.043, \"rounded_str\": \"0.043\"}, {\"Shapley Value\": 0.04688018015673229, \"Feature\": \"Event -8\", \"row\": 8, \"column\": 1, \"rounded\": 0.047, \"rounded_str\": \"0.047\"}, {\"Shapley Value\": 0.03311793390556644, \"Feature\": \"Event -9\", \"row\": 9, \"column\": 1, \"rounded\": 0.033, \"rounded_str\": \"0.033\"}, {\"Shapley Value\": 0.026021702148686654, \"Feature\": \"Event -10\", \"row\": 10, \"column\": 1, \"rounded\": 0.026, \"rounded_str\": \"0.026\"}, {\"Shapley Value\": 0.05960354182202643, \"Feature\": \"Pruned Events\", \"row\": 11, \"column\": 1, \"rounded\": 0.06, \"rounded_str\": \"0.060\"}], \"data-419cf83a08153bb169b4c252342a0112\": [{\"Random seed\": 42, \"NSamples\": 32000, \"Feature\": \"Mean Chest <-> Right Ankle\", \"Shapley Value\": 0.5000026747761734, \"sort_col\": 0.5000026747761734}, {\"Random seed\": 42, \"NSamples\": 32000, \"Feature\": \"STD Chest <-> Right Ankle\", \"Shapley Value\": 0.14475919096952383, \"sort_col\": 0.14475919096952383}, {\"Random seed\": 42, \"NSamples\": 32000, \"Feature\": \"Mean Chest <-> Left Ankle\", \"Shapley Value\": 0.017896405749378008, \"sort_col\": 0.017896405749378008}, {\"Random seed\": 42, \"NSamples\": 32000, \"Feature\": \"STD Chest <-> Left Ankle\", \"Shapley Value\": -0.05982560476376886, \"sort_col\": 0.05982560476376886}, {\"Random seed\": 42, \"NSamples\": 32000, \"Feature\": \"Mean Right Ankle <-> Left Ankle\", \"Shapley Value\": -0.022032956388734565, \"sort_col\": 0.022032956388734565}, {\"Random seed\": 42, \"NSamples\": 32000, \"Feature\": \"STD Right Ankle <-> Left Ankle\", \"Shapley Value\": 0.05854215064928642, \"sort_col\": 0.05854215064928642}, {\"Random seed\": 42, \"NSamples\": 32000, \"Feature\": \"Pruned Events\", \"Shapley Value\": 0.04268575461492663, \"sort_col\": 0.04268575461492663}], \"data-9c00aa9dc2b1c1a0b4bf9b34ead12925\": [{\"x\": 0}], \"data-abd6c500c01efeb9861f962e72f0eb9e\": [{\"Event\": [\"Pruned\", \"Events\"], \"Feature\": \"Other features\", \"rounded\": 0.066, \"rounded_str\": \"0.066\"}], \"data-e8407014c5ecb00015d27f4d2f1482d7\": [{\"Event\": \"Other Events\", \"Feature\": \"Mean Chest <-> Right Ankle\", \"Shapley Value\": 0.25113215268486055, \"rounded\": 0.251, \"rounded_str\": \"0.251\"}, {\"Event\": \"Event -2\", \"Feature\": \"Mean Chest <-> Right Ankle\", \"Shapley Value\": 0.12597401991250057, \"rounded\": 0.126, \"rounded_str\": \"0.126\"}, {\"Event\": \"Event -3\", \"Feature\": \"Mean Chest <-> Right Ankle\", \"Shapley Value\": 0.09327768159527622, \"rounded\": 0.093, \"rounded_str\": \"0.093\"}, {\"Event\": \"Other Events\", \"Feature\": \"STD Chest <-> Right Ankle\", \"Shapley Value\": 0.08629843609791865, \"rounded\": 0.086, \"rounded_str\": \"0.086\"}, {\"Event\": \"Event -3\", \"Feature\": \"STD Chest <-> Right Ankle\", \"Shapley Value\": 0.05149884091778878, \"rounded\": 0.051, \"rounded_str\": \"0.051\"}, {\"Event\": \"Event -2\", \"Feature\": \"STD Chest <-> Right Ankle\", \"Shapley Value\": 0.02645980945773535, \"rounded\": 0.026, \"rounded_str\": \"0.026\"}, {\"Event\": \"Event -2\", \"Feature\": \"Other Features\", \"Shapley Value\": 0.0074332609950076844, \"rounded\": 0.007, \"rounded_str\": \"0.007\"}, {\"Event\": \"Event -3\", \"Feature\": \"Other Features\", \"Shapley Value\": -0.001288334874524788, \"rounded\": -0.001, \"rounded_str\": \"-0.001\"}, {\"Event\": \"Other Events\", \"Feature\": \"Other Features\", \"Shapley Value\": -0.02449554089634204, \"rounded\": -0.024, \"rounded_str\": \"-0.024\"}]}}, {\"mode\": \"vega-lite\"});\n",
       "</script>"
      ],
      "text/plain": [
       "alt.HConcatChart(...)"
      ]
     },
     "execution_count": 19,
     "metadata": {},
     "output_type": "execute_result"
    }
   ],
   "source": [
    "# average sequence\n",
    "local_report(f_hs, pos_x_data, pruning_dict, event_dict, feature_dict, cell_dict=cell_dict, entity_uuid=positive_sequence_id, entity_col='all_id', baseline=average_sequence)"
   ]
  },
  {
   "cell_type": "markdown",
   "id": "e5495971",
   "metadata": {},
   "source": [
    "## 3.2 Global Explanations"
   ]
  },
  {
   "cell_type": "code",
   "execution_count": 20,
   "id": "c6632ec1",
   "metadata": {},
   "outputs": [],
   "source": [
    "from timeshap.explainer import global_report \n",
    "\n",
    "pos_dataset = d_test_normalized[d_test_normalized['label'] == 1]\n",
    "schema = schema = list(pos_dataset.columns)\n",
    "pruning_dict = {'tol': [0.05, 0.075]}\n",
    "event_dict = {'rs': [0, 42], 'nsamples': [16000, 32000]}\n",
    "feature_dict = {'rs': [0, 42], 'nsamples': [16000, 32000], 'feature_names': model_features, 'plot_features': plot_feats,}"
   ]
  },
  {
   "cell_type": "markdown",
   "id": "8cd4ab80",
   "metadata": {},
   "source": [
    "### Pandas Dataframe interface"
   ]
  },
  {
   "cell_type": "code",
   "execution_count": 21,
   "id": "d8067c4c",
   "metadata": {
    "scrolled": true
   },
   "outputs": [
    {
     "name": "stdout",
     "output_type": "stream",
     "text": [
      "No path to persist pruning data provided.\n",
      "No path to persist event explanations provided.\n",
      "No path to persist feature explanations provided.\n",
      "Calculating pruning algorithm\n",
      "Calculating event data\n",
      "Calculating feat data\n",
      "Calculating pruning indexes\n"
     ]
    }
   ],
   "source": [
    "# full call\n",
    "prun_stats, global_plot = global_report(f_hs, pos_dataset, pruning_dict, event_dict, feature_dict, average_event, model_features, schema, sequence_id_feat, time_feat)"
   ]
  },
  {
   "cell_type": "markdown",
   "id": "67505a6d",
   "metadata": {},
   "source": [
    "### Global report makes the crossproduct of parameters and plots them all"
   ]
  },
  {
   "cell_type": "code",
   "execution_count": 22,
   "id": "b5d9e8b6",
   "metadata": {},
   "outputs": [
    {
     "data": {
      "text/html": [
       "\n",
       "<div id=\"altair-viz-b9d1ebc90a1f40b28277a3c1f373f6a3\"></div>\n",
       "<script type=\"text/javascript\">\n",
       "  (function(spec, embedOpt){\n",
       "    let outputDiv = document.currentScript.previousElementSibling;\n",
       "    if (outputDiv.id !== \"altair-viz-b9d1ebc90a1f40b28277a3c1f373f6a3\") {\n",
       "      outputDiv = document.getElementById(\"altair-viz-b9d1ebc90a1f40b28277a3c1f373f6a3\");\n",
       "    }\n",
       "    const paths = {\n",
       "      \"vega\": \"https://cdn.jsdelivr.net/npm//vega@5?noext\",\n",
       "      \"vega-lib\": \"https://cdn.jsdelivr.net/npm//vega-lib?noext\",\n",
       "      \"vega-lite\": \"https://cdn.jsdelivr.net/npm//vega-lite@4.8.1?noext\",\n",
       "      \"vega-embed\": \"https://cdn.jsdelivr.net/npm//vega-embed@6?noext\",\n",
       "    };\n",
       "\n",
       "    function loadScript(lib) {\n",
       "      return new Promise(function(resolve, reject) {\n",
       "        var s = document.createElement('script');\n",
       "        s.src = paths[lib];\n",
       "        s.async = true;\n",
       "        s.onload = () => resolve(paths[lib]);\n",
       "        s.onerror = () => reject(`Error loading script: ${paths[lib]}`);\n",
       "        document.getElementsByTagName(\"head\")[0].appendChild(s);\n",
       "      });\n",
       "    }\n",
       "\n",
       "    function showError(err) {\n",
       "      outputDiv.innerHTML = `<div class=\"error\" style=\"color:red;\">${err}</div>`;\n",
       "      throw err;\n",
       "    }\n",
       "\n",
       "    function displayChart(vegaEmbed) {\n",
       "      vegaEmbed(outputDiv, spec, embedOpt)\n",
       "        .catch(err => showError(`Javascript Error: ${err.message}<br>This usually means there's a typo in your chart specification. See the javascript console for the full traceback.`));\n",
       "    }\n",
       "\n",
       "    if(typeof define === \"function\" && define.amd) {\n",
       "      requirejs.config({paths});\n",
       "      require([\"vega-embed\"], displayChart, err => showError(`Error loading script: ${err.message}`));\n",
       "    } else if (typeof vegaEmbed === \"function\") {\n",
       "      displayChart(vegaEmbed);\n",
       "    } else {\n",
       "      loadScript(\"vega\")\n",
       "        .then(() => loadScript(\"vega-lite\"))\n",
       "        .then(() => loadScript(\"vega-embed\"))\n",
       "        .catch(showError)\n",
       "        .then(() => displayChart(vegaEmbed));\n",
       "    }\n",
       "  })({\"config\": {\"axis\": {\"domain\": true, \"domainColor\": \"#666F89\", \"grid\": false, \"gridCap\": \"round\", \"gridColor\": \"#B3B7C4\", \"gridDash\": [2, 4], \"gridWidth\": 0.5, \"labelColor\": \"#666F89\", \"labelFont\": \"Roboto, Arial, sans-serif\", \"labelPadding\": 2, \"tickColor\": \"#666F89\", \"tickOpacity\": 0.5, \"tickSize\": 4, \"titleColor\": \"#19274E\", \"titleFont\": \"Roboto, Arial, sans-serif\", \"titleFontSize\": 12}, \"axisBand\": {\"domain\": true, \"labelPadding\": 4, \"ticks\": false}, \"axisY\": {\"domain\": false, \"titleAlign\": \"left\", \"titleAngle\": 0, \"titleX\": -20, \"titleY\": -10}, \"legend\": {\"labelColor\": \"#666F89\", \"labelFont\": \"Roboto, Arial, sans-serif\", \"labelFontSize\": 12, \"symbolSize\": 40, \"titleColor\": \"#19274E\", \"titleFont\": \"Roboto, Arial, sans-serif\", \"titleFontSize\": 12, \"titlePadding\": 4}, \"arc\": {\"stroke\": \"#FFFFFF\", \"strokeWidth\": 1}, \"bar\": {\"fill\": \"#2770EB\", \"stroke\": null}, \"line\": {\"stroke\": \"#2770EB\", \"strokeWidth\": 2}, \"path\": {\"stroke\": \"#2770EB\", \"strokeWidth\": 0.5}, \"point\": {\"fill\": \"#2770EB\", \"shape\": \"circle\", \"filled\": true}, \"rect\": {\"fill\": \"#2770EB\"}, \"rule\": {\"stroke\": \"#666F89\"}, \"shape\": {\"stroke\": \"#2770EB\"}, \"text\": {\"color\": \"#19274E\", \"font\": \"Roboto, Arial, sans-serif\", \"fontSize\": 12}, \"range\": {\"category\": [\"#2770EB\", \"#77B98A\", \"#DA5252\", \"#FFC400\", \"#A87AEA\", \"#00A39E\", \"#19274E\"], \"diverging\": [\"#006360\", \"#2BB3AE\", \"#96D9D7\", \"#FFFFFF\", \"#EDAAAA\", \"#DA5252\", \"#811D1D\"], \"heatmap\": [\"#18448F\", \"#1B4EA5\", \"#2770EB\", \"#4C88EE\", \"#82ACF3\", \"#A6C4F7\", \"#E9F1FD\"], \"ramp\": [\"#18448F\", \"#1B4EA5\", \"#2770EB\", \"#4C88EE\", \"#82ACF3\", \"#A6C4F7\", \"#E9F1FD\"]}, \"background\": \"#FFFFFF\", \"group\": {\"fill\": \"#FFFFFF\"}, \"header\": {\"labelColor\": \"#19274E\", \"labelFont\": \"Roboto, Arial, sans-serif\", \"labelFontSize\": 12, \"titleColor\": \"#19274E\", \"titleFont\": \"Roboto, Arial, sans-serif\", \"titleFontSize\": 16}, \"title\": {\"anchor\": \"start\", \"color\": \"#19274E\", \"font\": \"Roboto, Arial, sans-serif\", \"fontSize\": 20, \"fontWeight\": \"bold\", \"offset\": 20, \"subtitleColor\": \"#19274E\", \"subtitleFontSize\": 16}, \"view\": {\"continuousHeight\": 300, \"continuousWidth\": 400, \"stroke\": \"transparent\"}}, \"vconcat\": [{\"hconcat\": [{\"vconcat\": [{\"mark\": {\"type\": \"point\", \"stroke\": \"white\", \"strokeWidth\": 0.6}, \"encoding\": {\"color\": {\"type\": \"nominal\", \"field\": \"type\", \"legend\": {\"fillColor\": \"white\", \"orient\": \"top-left\", \"symbolSize\": 50, \"symbolStrokeWidth\": 0, \"title\": null}, \"scale\": {\"domain\": [\"Shapley Value\", \"Mean\"], \"range\": [\"#48caaa\", \"#d76d58\"]}}, \"opacity\": {\"condition\": {\"value\": 1.0, \"test\": \"(datum.type === 'Mean')\"}, \"value\": 0.2}, \"size\": {\"condition\": {\"value\": 70, \"test\": \"(datum.type === 'Mean')\"}, \"value\": 30}, \"x\": {\"type\": \"ordinal\", \"axis\": {\"labelAngle\": 0}, \"field\": \"t (event index)\"}, \"y\": {\"type\": \"quantitative\", \"axis\": {\"grid\": true, \"titleX\": -23}, \"field\": \"Shapley Value\", \"scale\": {\"domain\": [-0.3, 0.9]}, \"title\": \"Shapley Value\"}}, \"height\": 150, \"width\": 360}], \"data\": {\"name\": \"data-84308c8960af3f1fac8b296418759ad2\"}}, {\"vconcat\": [{\"mark\": {\"type\": \"point\", \"stroke\": \"white\", \"strokeWidth\": 0.6}, \"encoding\": {\"color\": {\"type\": \"nominal\", \"field\": \"type\", \"legend\": {\"fillColor\": \"white\", \"orient\": \"bottom-right\", \"symbolSize\": 50, \"symbolStrokeWidth\": 0, \"title\": null}, \"scale\": {\"domain\": [\"Shapley Value\", \"Mean\"], \"range\": [\"#618FE0\", \"#d76d58\"]}}, \"opacity\": {\"condition\": {\"value\": 1.0, \"test\": \"(datum.type === 'Mean')\"}, \"value\": 0.1}, \"size\": {\"condition\": {\"value\": 70, \"test\": \"(datum.type === 'Mean')\"}, \"value\": 30}, \"x\": {\"type\": \"quantitative\", \"axis\": {\"grid\": true, \"title\": \"Shapley Value\"}, \"field\": \"Shapley Value\", \"scale\": {\"domain\": [-0.2, 0.6]}}, \"y\": {\"type\": \"ordinal\", \"axis\": {\"labelFontSize\": 13, \"titleX\": -51}, \"field\": \"Feature\", \"sort\": [\"Mean Right Ankle <-> Left Ankle\", \"STD Chest <-> Left Ankle\", \"STD Right Ankle <-> Left Ankle\", \"Mean Chest <-> Left Ankle\", \"Pruned Events\", \"STD Chest <-> Right Ankle\", \"Mean Chest <-> Right Ankle\"]}}, \"height\": 280, \"width\": 288}], \"data\": {\"name\": \"data-55b1f2cb922e1d6b571e26a034954744\"}}], \"center\": true, \"title\": \"Parameters: NSamples=16000 | Random Seed=0 | Pruning Tol= 0.05\"}, {\"hconcat\": [{\"vconcat\": [{\"mark\": {\"type\": \"point\", \"stroke\": \"white\", \"strokeWidth\": 0.6}, \"encoding\": {\"color\": {\"type\": \"nominal\", \"field\": \"type\", \"legend\": {\"fillColor\": \"white\", \"orient\": \"top-left\", \"symbolSize\": 50, \"symbolStrokeWidth\": 0, \"title\": null}, \"scale\": {\"domain\": [\"Shapley Value\", \"Mean\"], \"range\": [\"#48caaa\", \"#d76d58\"]}}, \"opacity\": {\"condition\": {\"value\": 1.0, \"test\": \"(datum.type === 'Mean')\"}, \"value\": 0.2}, \"size\": {\"condition\": {\"value\": 70, \"test\": \"(datum.type === 'Mean')\"}, \"value\": 30}, \"x\": {\"type\": \"ordinal\", \"axis\": {\"labelAngle\": 0}, \"field\": \"t (event index)\"}, \"y\": {\"type\": \"quantitative\", \"axis\": {\"grid\": true, \"titleX\": -23}, \"field\": \"Shapley Value\", \"scale\": {\"domain\": [-0.3, 0.9]}, \"title\": \"Shapley Value\"}}, \"height\": 150, \"width\": 360}], \"data\": {\"name\": \"data-ef7fe34691f1fb1316ca2f0d67f41405\"}}, {\"vconcat\": [{\"mark\": {\"type\": \"point\", \"stroke\": \"white\", \"strokeWidth\": 0.6}, \"encoding\": {\"color\": {\"type\": \"nominal\", \"field\": \"type\", \"legend\": {\"fillColor\": \"white\", \"orient\": \"bottom-right\", \"symbolSize\": 50, \"symbolStrokeWidth\": 0, \"title\": null}, \"scale\": {\"domain\": [\"Shapley Value\", \"Mean\"], \"range\": [\"#618FE0\", \"#d76d58\"]}}, \"opacity\": {\"condition\": {\"value\": 1.0, \"test\": \"(datum.type === 'Mean')\"}, \"value\": 0.1}, \"size\": {\"condition\": {\"value\": 70, \"test\": \"(datum.type === 'Mean')\"}, \"value\": 30}, \"x\": {\"type\": \"quantitative\", \"axis\": {\"grid\": true, \"title\": \"Shapley Value\"}, \"field\": \"Shapley Value\", \"scale\": {\"domain\": [-0.2, 0.6]}}, \"y\": {\"type\": \"ordinal\", \"axis\": {\"labelFontSize\": 13, \"titleX\": -51}, \"field\": \"Feature\", \"sort\": [\"Mean Right Ankle <-> Left Ankle\", \"STD Chest <-> Left Ankle\", \"STD Right Ankle <-> Left Ankle\", \"Mean Chest <-> Left Ankle\", \"Pruned Events\", \"STD Chest <-> Right Ankle\", \"Mean Chest <-> Right Ankle\"]}}, \"height\": 280, \"width\": 288}], \"data\": {\"name\": \"data-55b1f2cb922e1d6b571e26a034954744\"}}], \"center\": true, \"title\": \"Parameters: NSamples=32000 | Random Seed=0 | Pruning Tol= 0.05\"}, {\"hconcat\": [{\"vconcat\": [{\"mark\": {\"type\": \"point\", \"stroke\": \"white\", \"strokeWidth\": 0.6}, \"encoding\": {\"color\": {\"type\": \"nominal\", \"field\": \"type\", \"legend\": {\"fillColor\": \"white\", \"orient\": \"top-left\", \"symbolSize\": 50, \"symbolStrokeWidth\": 0, \"title\": null}, \"scale\": {\"domain\": [\"Shapley Value\", \"Mean\"], \"range\": [\"#48caaa\", \"#d76d58\"]}}, \"opacity\": {\"condition\": {\"value\": 1.0, \"test\": \"(datum.type === 'Mean')\"}, \"value\": 0.2}, \"size\": {\"condition\": {\"value\": 70, \"test\": \"(datum.type === 'Mean')\"}, \"value\": 30}, \"x\": {\"type\": \"ordinal\", \"axis\": {\"labelAngle\": 0}, \"field\": \"t (event index)\"}, \"y\": {\"type\": \"quantitative\", \"axis\": {\"grid\": true, \"titleX\": -23}, \"field\": \"Shapley Value\", \"scale\": {\"domain\": [-0.3, 0.9]}, \"title\": \"Shapley Value\"}}, \"height\": 150, \"width\": 360}], \"data\": {\"name\": \"data-02bd3c915c12bf3fb1ac3f36d8573227\"}}, {\"vconcat\": [{\"mark\": {\"type\": \"point\", \"stroke\": \"white\", \"strokeWidth\": 0.6}, \"encoding\": {\"color\": {\"type\": \"nominal\", \"field\": \"type\", \"legend\": {\"fillColor\": \"white\", \"orient\": \"bottom-right\", \"symbolSize\": 50, \"symbolStrokeWidth\": 0, \"title\": null}, \"scale\": {\"domain\": [\"Shapley Value\", \"Mean\"], \"range\": [\"#618FE0\", \"#d76d58\"]}}, \"opacity\": {\"condition\": {\"value\": 1.0, \"test\": \"(datum.type === 'Mean')\"}, \"value\": 0.1}, \"size\": {\"condition\": {\"value\": 70, \"test\": \"(datum.type === 'Mean')\"}, \"value\": 30}, \"x\": {\"type\": \"quantitative\", \"axis\": {\"grid\": true, \"title\": \"Shapley Value\"}, \"field\": \"Shapley Value\", \"scale\": {\"domain\": [-0.2, 0.6]}}, \"y\": {\"type\": \"ordinal\", \"axis\": {\"labelFontSize\": 13, \"titleX\": -51}, \"field\": \"Feature\", \"sort\": [\"Mean Right Ankle <-> Left Ankle\", \"STD Chest <-> Left Ankle\", \"STD Right Ankle <-> Left Ankle\", \"Mean Chest <-> Left Ankle\", \"Pruned Events\", \"STD Chest <-> Right Ankle\", \"Mean Chest <-> Right Ankle\"]}}, \"height\": 280, \"width\": 288}], \"data\": {\"name\": \"data-55b1f2cb922e1d6b571e26a034954744\"}}], \"center\": true, \"title\": \"Parameters: NSamples=16000 | Random Seed=42 | Pruning Tol= 0.05\"}, {\"hconcat\": [{\"vconcat\": [{\"mark\": {\"type\": \"point\", \"stroke\": \"white\", \"strokeWidth\": 0.6}, \"encoding\": {\"color\": {\"type\": \"nominal\", \"field\": \"type\", \"legend\": {\"fillColor\": \"white\", \"orient\": \"top-left\", \"symbolSize\": 50, \"symbolStrokeWidth\": 0, \"title\": null}, \"scale\": {\"domain\": [\"Shapley Value\", \"Mean\"], \"range\": [\"#48caaa\", \"#d76d58\"]}}, \"opacity\": {\"condition\": {\"value\": 1.0, \"test\": \"(datum.type === 'Mean')\"}, \"value\": 0.2}, \"size\": {\"condition\": {\"value\": 70, \"test\": \"(datum.type === 'Mean')\"}, \"value\": 30}, \"x\": {\"type\": \"ordinal\", \"axis\": {\"labelAngle\": 0}, \"field\": \"t (event index)\"}, \"y\": {\"type\": \"quantitative\", \"axis\": {\"grid\": true, \"titleX\": -23}, \"field\": \"Shapley Value\", \"scale\": {\"domain\": [-0.3, 0.9]}, \"title\": \"Shapley Value\"}}, \"height\": 150, \"width\": 360}], \"data\": {\"name\": \"data-b7700950402d18965e560e5e57cdea82\"}}, {\"vconcat\": [{\"mark\": {\"type\": \"point\", \"stroke\": \"white\", \"strokeWidth\": 0.6}, \"encoding\": {\"color\": {\"type\": \"nominal\", \"field\": \"type\", \"legend\": {\"fillColor\": \"white\", \"orient\": \"bottom-right\", \"symbolSize\": 50, \"symbolStrokeWidth\": 0, \"title\": null}, \"scale\": {\"domain\": [\"Shapley Value\", \"Mean\"], \"range\": [\"#618FE0\", \"#d76d58\"]}}, \"opacity\": {\"condition\": {\"value\": 1.0, \"test\": \"(datum.type === 'Mean')\"}, \"value\": 0.1}, \"size\": {\"condition\": {\"value\": 70, \"test\": \"(datum.type === 'Mean')\"}, \"value\": 30}, \"x\": {\"type\": \"quantitative\", \"axis\": {\"grid\": true, \"title\": \"Shapley Value\"}, \"field\": \"Shapley Value\", \"scale\": {\"domain\": [-0.2, 0.6]}}, \"y\": {\"type\": \"ordinal\", \"axis\": {\"labelFontSize\": 13, \"titleX\": -51}, \"field\": \"Feature\", \"sort\": [\"Mean Right Ankle <-> Left Ankle\", \"STD Chest <-> Left Ankle\", \"STD Right Ankle <-> Left Ankle\", \"Mean Chest <-> Left Ankle\", \"Pruned Events\", \"STD Chest <-> Right Ankle\", \"Mean Chest <-> Right Ankle\"]}}, \"height\": 280, \"width\": 288}], \"data\": {\"name\": \"data-55b1f2cb922e1d6b571e26a034954744\"}}], \"center\": true, \"title\": \"Parameters: NSamples=32000 | Random Seed=42 | Pruning Tol= 0.05\"}, {\"hconcat\": [{\"vconcat\": [{\"mark\": {\"type\": \"point\", \"stroke\": \"white\", \"strokeWidth\": 0.6}, \"encoding\": {\"color\": {\"type\": \"nominal\", \"field\": \"type\", \"legend\": {\"fillColor\": \"white\", \"orient\": \"top-left\", \"symbolSize\": 50, \"symbolStrokeWidth\": 0, \"title\": null}, \"scale\": {\"domain\": [\"Shapley Value\", \"Mean\"], \"range\": [\"#48caaa\", \"#d76d58\"]}}, \"opacity\": {\"condition\": {\"value\": 1.0, \"test\": \"(datum.type === 'Mean')\"}, \"value\": 0.2}, \"size\": {\"condition\": {\"value\": 70, \"test\": \"(datum.type === 'Mean')\"}, \"value\": 30}, \"x\": {\"type\": \"ordinal\", \"axis\": {\"labelAngle\": 0}, \"field\": \"t (event index)\"}, \"y\": {\"type\": \"quantitative\", \"axis\": {\"grid\": true, \"titleX\": -23}, \"field\": \"Shapley Value\", \"scale\": {\"domain\": [-0.3, 0.9]}, \"title\": \"Shapley Value\"}}, \"height\": 150, \"width\": 360}], \"data\": {\"name\": \"data-743cad118e797fad89d166b27f181514\"}}, {\"vconcat\": [{\"mark\": {\"type\": \"point\", \"stroke\": \"white\", \"strokeWidth\": 0.6}, \"encoding\": {\"color\": {\"type\": \"nominal\", \"field\": \"type\", \"legend\": {\"fillColor\": \"white\", \"orient\": \"bottom-right\", \"symbolSize\": 50, \"symbolStrokeWidth\": 0, \"title\": null}, \"scale\": {\"domain\": [\"Shapley Value\", \"Mean\"], \"range\": [\"#618FE0\", \"#d76d58\"]}}, \"opacity\": {\"condition\": {\"value\": 1.0, \"test\": \"(datum.type === 'Mean')\"}, \"value\": 0.1}, \"size\": {\"condition\": {\"value\": 70, \"test\": \"(datum.type === 'Mean')\"}, \"value\": 30}, \"x\": {\"type\": \"quantitative\", \"axis\": {\"grid\": true, \"title\": \"Shapley Value\"}, \"field\": \"Shapley Value\", \"scale\": {\"domain\": [-0.2, 0.6]}}, \"y\": {\"type\": \"ordinal\", \"axis\": {\"labelFontSize\": 13, \"titleX\": -51}, \"field\": \"Feature\", \"sort\": [\"Mean Right Ankle <-> Left Ankle\", \"STD Chest <-> Left Ankle\", \"STD Right Ankle <-> Left Ankle\", \"Pruned Events\", \"Mean Chest <-> Left Ankle\", \"STD Chest <-> Right Ankle\", \"Mean Chest <-> Right Ankle\"]}}, \"height\": 280, \"width\": 288}], \"data\": {\"name\": \"data-85d09a1dcca23bed56fc34622b23eb3e\"}}], \"center\": true, \"title\": \"Parameters: NSamples=16000 | Random Seed=0 | Pruning Tol= 0.075\"}, {\"hconcat\": [{\"vconcat\": [{\"mark\": {\"type\": \"point\", \"stroke\": \"white\", \"strokeWidth\": 0.6}, \"encoding\": {\"color\": {\"type\": \"nominal\", \"field\": \"type\", \"legend\": {\"fillColor\": \"white\", \"orient\": \"top-left\", \"symbolSize\": 50, \"symbolStrokeWidth\": 0, \"title\": null}, \"scale\": {\"domain\": [\"Shapley Value\", \"Mean\"], \"range\": [\"#48caaa\", \"#d76d58\"]}}, \"opacity\": {\"condition\": {\"value\": 1.0, \"test\": \"(datum.type === 'Mean')\"}, \"value\": 0.2}, \"size\": {\"condition\": {\"value\": 70, \"test\": \"(datum.type === 'Mean')\"}, \"value\": 30}, \"x\": {\"type\": \"ordinal\", \"axis\": {\"labelAngle\": 0}, \"field\": \"t (event index)\"}, \"y\": {\"type\": \"quantitative\", \"axis\": {\"grid\": true, \"titleX\": -23}, \"field\": \"Shapley Value\", \"scale\": {\"domain\": [-0.3, 0.9]}, \"title\": \"Shapley Value\"}}, \"height\": 150, \"width\": 360}], \"data\": {\"name\": \"data-a56b3492c7489cb5e0b5bd899e678ea1\"}}, {\"vconcat\": [{\"mark\": {\"type\": \"point\", \"stroke\": \"white\", \"strokeWidth\": 0.6}, \"encoding\": {\"color\": {\"type\": \"nominal\", \"field\": \"type\", \"legend\": {\"fillColor\": \"white\", \"orient\": \"bottom-right\", \"symbolSize\": 50, \"symbolStrokeWidth\": 0, \"title\": null}, \"scale\": {\"domain\": [\"Shapley Value\", \"Mean\"], \"range\": [\"#618FE0\", \"#d76d58\"]}}, \"opacity\": {\"condition\": {\"value\": 1.0, \"test\": \"(datum.type === 'Mean')\"}, \"value\": 0.1}, \"size\": {\"condition\": {\"value\": 70, \"test\": \"(datum.type === 'Mean')\"}, \"value\": 30}, \"x\": {\"type\": \"quantitative\", \"axis\": {\"grid\": true, \"title\": \"Shapley Value\"}, \"field\": \"Shapley Value\", \"scale\": {\"domain\": [-0.2, 0.6]}}, \"y\": {\"type\": \"ordinal\", \"axis\": {\"labelFontSize\": 13, \"titleX\": -51}, \"field\": \"Feature\", \"sort\": [\"Mean Right Ankle <-> Left Ankle\", \"STD Chest <-> Left Ankle\", \"STD Right Ankle <-> Left Ankle\", \"Pruned Events\", \"Mean Chest <-> Left Ankle\", \"STD Chest <-> Right Ankle\", \"Mean Chest <-> Right Ankle\"]}}, \"height\": 280, \"width\": 288}], \"data\": {\"name\": \"data-85d09a1dcca23bed56fc34622b23eb3e\"}}], \"center\": true, \"title\": \"Parameters: NSamples=32000 | Random Seed=0 | Pruning Tol= 0.075\"}, {\"hconcat\": [{\"vconcat\": [{\"mark\": {\"type\": \"point\", \"stroke\": \"white\", \"strokeWidth\": 0.6}, \"encoding\": {\"color\": {\"type\": \"nominal\", \"field\": \"type\", \"legend\": {\"fillColor\": \"white\", \"orient\": \"top-left\", \"symbolSize\": 50, \"symbolStrokeWidth\": 0, \"title\": null}, \"scale\": {\"domain\": [\"Shapley Value\", \"Mean\"], \"range\": [\"#48caaa\", \"#d76d58\"]}}, \"opacity\": {\"condition\": {\"value\": 1.0, \"test\": \"(datum.type === 'Mean')\"}, \"value\": 0.2}, \"size\": {\"condition\": {\"value\": 70, \"test\": \"(datum.type === 'Mean')\"}, \"value\": 30}, \"x\": {\"type\": \"ordinal\", \"axis\": {\"labelAngle\": 0}, \"field\": \"t (event index)\"}, \"y\": {\"type\": \"quantitative\", \"axis\": {\"grid\": true, \"titleX\": -23}, \"field\": \"Shapley Value\", \"scale\": {\"domain\": [-0.3, 0.9]}, \"title\": \"Shapley Value\"}}, \"height\": 150, \"width\": 360}], \"data\": {\"name\": \"data-aebb847b4624f666f96a2bbebd051785\"}}, {\"vconcat\": [{\"mark\": {\"type\": \"point\", \"stroke\": \"white\", \"strokeWidth\": 0.6}, \"encoding\": {\"color\": {\"type\": \"nominal\", \"field\": \"type\", \"legend\": {\"fillColor\": \"white\", \"orient\": \"bottom-right\", \"symbolSize\": 50, \"symbolStrokeWidth\": 0, \"title\": null}, \"scale\": {\"domain\": [\"Shapley Value\", \"Mean\"], \"range\": [\"#618FE0\", \"#d76d58\"]}}, \"opacity\": {\"condition\": {\"value\": 1.0, \"test\": \"(datum.type === 'Mean')\"}, \"value\": 0.1}, \"size\": {\"condition\": {\"value\": 70, \"test\": \"(datum.type === 'Mean')\"}, \"value\": 30}, \"x\": {\"type\": \"quantitative\", \"axis\": {\"grid\": true, \"title\": \"Shapley Value\"}, \"field\": \"Shapley Value\", \"scale\": {\"domain\": [-0.2, 0.6]}}, \"y\": {\"type\": \"ordinal\", \"axis\": {\"labelFontSize\": 13, \"titleX\": -51}, \"field\": \"Feature\", \"sort\": [\"Mean Right Ankle <-> Left Ankle\", \"STD Chest <-> Left Ankle\", \"STD Right Ankle <-> Left Ankle\", \"Pruned Events\", \"Mean Chest <-> Left Ankle\", \"STD Chest <-> Right Ankle\", \"Mean Chest <-> Right Ankle\"]}}, \"height\": 280, \"width\": 288}], \"data\": {\"name\": \"data-85d09a1dcca23bed56fc34622b23eb3e\"}}], \"center\": true, \"title\": \"Parameters: NSamples=16000 | Random Seed=42 | Pruning Tol= 0.075\"}, {\"hconcat\": [{\"vconcat\": [{\"mark\": {\"type\": \"point\", \"stroke\": \"white\", \"strokeWidth\": 0.6}, \"encoding\": {\"color\": {\"type\": \"nominal\", \"field\": \"type\", \"legend\": {\"fillColor\": \"white\", \"orient\": \"top-left\", \"symbolSize\": 50, \"symbolStrokeWidth\": 0, \"title\": null}, \"scale\": {\"domain\": [\"Shapley Value\", \"Mean\"], \"range\": [\"#48caaa\", \"#d76d58\"]}}, \"opacity\": {\"condition\": {\"value\": 1.0, \"test\": \"(datum.type === 'Mean')\"}, \"value\": 0.2}, \"size\": {\"condition\": {\"value\": 70, \"test\": \"(datum.type === 'Mean')\"}, \"value\": 30}, \"x\": {\"type\": \"ordinal\", \"axis\": {\"labelAngle\": 0}, \"field\": \"t (event index)\"}, \"y\": {\"type\": \"quantitative\", \"axis\": {\"grid\": true, \"titleX\": -23}, \"field\": \"Shapley Value\", \"scale\": {\"domain\": [-0.3, 0.9]}, \"title\": \"Shapley Value\"}}, \"height\": 150, \"width\": 360}], \"data\": {\"name\": \"data-a56b3492c7489cb5e0b5bd899e678ea1\"}}, {\"vconcat\": [{\"mark\": {\"type\": \"point\", \"stroke\": \"white\", \"strokeWidth\": 0.6}, \"encoding\": {\"color\": {\"type\": \"nominal\", \"field\": \"type\", \"legend\": {\"fillColor\": \"white\", \"orient\": \"bottom-right\", \"symbolSize\": 50, \"symbolStrokeWidth\": 0, \"title\": null}, \"scale\": {\"domain\": [\"Shapley Value\", \"Mean\"], \"range\": [\"#618FE0\", \"#d76d58\"]}}, \"opacity\": {\"condition\": {\"value\": 1.0, \"test\": \"(datum.type === 'Mean')\"}, \"value\": 0.1}, \"size\": {\"condition\": {\"value\": 70, \"test\": \"(datum.type === 'Mean')\"}, \"value\": 30}, \"x\": {\"type\": \"quantitative\", \"axis\": {\"grid\": true, \"title\": \"Shapley Value\"}, \"field\": \"Shapley Value\", \"scale\": {\"domain\": [-0.2, 0.6]}}, \"y\": {\"type\": \"ordinal\", \"axis\": {\"labelFontSize\": 13, \"titleX\": -51}, \"field\": \"Feature\", \"sort\": [\"Mean Right Ankle <-> Left Ankle\", \"STD Chest <-> Left Ankle\", \"STD Right Ankle <-> Left Ankle\", \"Pruned Events\", \"Mean Chest <-> Left Ankle\", \"STD Chest <-> Right Ankle\", \"Mean Chest <-> Right Ankle\"]}}, \"height\": 280, \"width\": 288}], \"data\": {\"name\": \"data-85d09a1dcca23bed56fc34622b23eb3e\"}}], \"center\": true, \"title\": \"Parameters: NSamples=32000 | Random Seed=42 | Pruning Tol= 0.075\"}], \"$schema\": \"https://vega.github.io/schema/vega-lite/v4.8.1.json\", \"datasets\": {\"data-84308c8960af3f1fac8b296418759ad2\": [{\"Shapley Value\": 0.01936603559452152, \"t (event index)\": 0, \"type\": \"Shapley Value\"}, {\"Shapley Value\": 0.04403277069898187, \"t (event index)\": -1, \"type\": \"Shapley Value\"}, {\"Shapley Value\": 0.12836702938135763, \"t (event index)\": -2, \"type\": \"Shapley Value\"}, {\"Shapley Value\": 0.09235222887842981, \"t (event index)\": -3, \"type\": \"Shapley Value\"}, {\"Shapley Value\": 0.08270202079391117, \"t (event index)\": -4, \"type\": \"Shapley Value\"}, {\"Shapley Value\": 0.01704780690731253, \"t (event index)\": -5, \"type\": \"Shapley Value\"}, {\"Shapley Value\": 0.0061576169150073246, \"t (event index)\": -6, \"type\": \"Shapley Value\"}, {\"Shapley Value\": 0.038566253595092026, \"t (event index)\": -7, \"type\": \"Shapley Value\"}, {\"Shapley Value\": 0.04571630648289976, \"t (event index)\": -8, \"type\": \"Shapley Value\"}, {\"Shapley Value\": 0.01103656454160487, \"t (event index)\": -9, \"type\": \"Shapley Value\"}, {\"Shapley Value\": 0.015664789161487835, \"t (event index)\": -10, \"type\": \"Shapley Value\"}, {\"Shapley Value\": 0.000280504281556182, \"t (event index)\": -11, \"type\": \"Shapley Value\"}, {\"Shapley Value\": 0.01292818199088161, \"t (event index)\": -12, \"type\": \"Shapley Value\"}, {\"Shapley Value\": 0.010419329682183703, \"t (event index)\": -13, \"type\": \"Shapley Value\"}, {\"Shapley Value\": 0.08447351110811246, \"t (event index)\": 0, \"type\": \"Shapley Value\"}, {\"Shapley Value\": 0.13998051834454583, \"t (event index)\": -1, \"type\": \"Shapley Value\"}, {\"Shapley Value\": 0.07611984243970826, \"t (event index)\": -2, \"type\": \"Shapley Value\"}, {\"Shapley Value\": 0.020433740048649507, \"t (event index)\": -3, \"type\": \"Shapley Value\"}, {\"Shapley Value\": 0.10134460841445331, \"t (event index)\": -4, \"type\": \"Shapley Value\"}, {\"Shapley Value\": 0.03358262153927177, \"t (event index)\": -5, \"type\": \"Shapley Value\"}, {\"Shapley Value\": 0.06670333160617403, \"t (event index)\": -6, \"type\": \"Shapley Value\"}, {\"Shapley Value\": 0.06758077962975184, \"t (event index)\": -7, \"type\": \"Shapley Value\"}, {\"Shapley Value\": 0.03745423879047688, \"t (event index)\": -8, \"type\": \"Shapley Value\"}, {\"Shapley Value\": 0.018358119593882005, \"t (event index)\": -9, \"type\": \"Shapley Value\"}, {\"Shapley Value\": 0.014600506201029373, \"t (event index)\": -10, \"type\": \"Shapley Value\"}, {\"Shapley Value\": 0.010605559636798101, \"t (event index)\": -11, \"type\": \"Shapley Value\"}, {\"Shapley Value\": 0.015215875977573512, \"t (event index)\": -12, \"type\": \"Shapley Value\"}, {\"Shapley Value\": 0.12650692122450818, \"t (event index)\": 0, \"type\": \"Shapley Value\"}, {\"Shapley Value\": 0.1088482750155042, \"t (event index)\": -1, \"type\": \"Shapley Value\"}, {\"Shapley Value\": 0.058872777591143954, \"t (event index)\": -2, \"type\": \"Shapley Value\"}, {\"Shapley Value\": 0.11246365039800138, \"t (event index)\": -3, \"type\": \"Shapley Value\"}, {\"Shapley Value\": 0.0814399781028109, \"t (event index)\": -4, \"type\": \"Shapley Value\"}, {\"Shapley Value\": 0.057876138687187606, \"t (event index)\": -5, \"type\": \"Shapley Value\"}, {\"Shapley Value\": 0.058678364787925485, \"t (event index)\": -6, \"type\": \"Shapley Value\"}, {\"Shapley Value\": 0.015110559584868843, \"t (event index)\": -7, \"type\": \"Shapley Value\"}, {\"Shapley Value\": 0.030559149249168138, \"t (event index)\": -8, \"type\": \"Shapley Value\"}, {\"Shapley Value\": 0.021594407852311814, \"t (event index)\": -9, \"type\": \"Shapley Value\"}, {\"Shapley Value\": 0.02312842354367889, \"t (event index)\": -10, \"type\": \"Shapley Value\"}, {\"Shapley Value\": 0.06429694060757918, \"t (event index)\": 0, \"type\": \"Shapley Value\"}, {\"Shapley Value\": 0.12086430452785868, \"t (event index)\": -1, \"type\": \"Shapley Value\"}, {\"Shapley Value\": 0.11126641958474337, \"t (event index)\": -2, \"type\": \"Shapley Value\"}, {\"Shapley Value\": 0.09261802530127267, \"t (event index)\": -3, \"type\": \"Shapley Value\"}, {\"Shapley Value\": 0.040979605640871164, \"t (event index)\": -4, \"type\": \"Shapley Value\"}, {\"Shapley Value\": 0.038678416899977974, \"t (event index)\": -5, \"type\": \"Shapley Value\"}, {\"Shapley Value\": 0.04072563593091527, \"t (event index)\": -6, \"type\": \"Shapley Value\"}, {\"Shapley Value\": 0.0465887074672614, \"t (event index)\": -7, \"type\": \"Shapley Value\"}, {\"Shapley Value\": 0.029161611014482502, \"t (event index)\": -8, \"type\": \"Shapley Value\"}, {\"Shapley Value\": 0.017676255163105392, \"t (event index)\": -9, \"type\": \"Shapley Value\"}, {\"Shapley Value\": 0.00866703360661697, \"t (event index)\": -10, \"type\": \"Shapley Value\"}, {\"Shapley Value\": 0.014142264134063331, \"t (event index)\": -11, \"type\": \"Shapley Value\"}, {\"Shapley Value\": 0.0051011738473555335, \"t (event index)\": -12, \"type\": \"Shapley Value\"}, {\"Shapley Value\": 0.010419329682183703, \"t (event index)\": -13, \"type\": \"Mean\"}, {\"Shapley Value\": 0.011081743938603552, \"t (event index)\": -12, \"type\": \"Mean\"}, {\"Shapley Value\": 0.008342776017472539, \"t (event index)\": -11, \"type\": \"Mean\"}, {\"Shapley Value\": 0.015515188128203267, \"t (event index)\": -10, \"type\": \"Mean\"}, {\"Shapley Value\": 0.01716633678772602, \"t (event index)\": -9, \"type\": \"Mean\"}, {\"Shapley Value\": 0.03572282638425682, \"t (event index)\": -8, \"type\": \"Mean\"}, {\"Shapley Value\": 0.04196157506924353, \"t (event index)\": -7, \"type\": \"Mean\"}, {\"Shapley Value\": 0.04306623731000553, \"t (event index)\": -6, \"type\": \"Mean\"}, {\"Shapley Value\": 0.03679624600843747, \"t (event index)\": -5, \"type\": \"Mean\"}, {\"Shapley Value\": 0.07661655323801164, \"t (event index)\": -4, \"type\": \"Mean\"}, {\"Shapley Value\": 0.07946691115658834, \"t (event index)\": -3, \"type\": \"Mean\"}, {\"Shapley Value\": 0.0936565172492383, \"t (event index)\": -2, \"type\": \"Mean\"}, {\"Shapley Value\": 0.10343146714672265, \"t (event index)\": -1, \"type\": \"Mean\"}, {\"Shapley Value\": 0.07366085213368034, \"t (event index)\": 0, \"type\": \"Mean\"}], \"data-55b1f2cb922e1d6b571e26a034954744\": [{\"Shapley Value\": -0.0037315547466277854, \"Feature\": \"Mean Chest <-> Right Ankle\", \"type\": \"Shapley Value\"}, {\"Shapley Value\": 0.01633783628543231, \"Feature\": \"STD Chest <-> Right Ankle\", \"type\": \"Shapley Value\"}, {\"Shapley Value\": 0.1293645047272246, \"Feature\": \"Mean Chest <-> Left Ankle\", \"type\": \"Shapley Value\"}, {\"Shapley Value\": 0.174270825553685, \"Feature\": \"STD Chest <-> Left Ankle\", \"type\": \"Shapley Value\"}, {\"Shapley Value\": 0.10783071642120678, \"Feature\": \"Mean Right Ankle <-> Left Ankle\", \"type\": \"Shapley Value\"}, {\"Shapley Value\": 0.09607234075665452, \"Feature\": \"STD Right Ankle <-> Left Ankle\", \"type\": \"Shapley Value\"}, {\"Shapley Value\": 0.06787356209630813, \"Feature\": \"Pruned Events\", \"type\": \"Shapley Value\"}, {\"Shapley Value\": 0.007585326790632285, \"Feature\": \"Mean Chest <-> Right Ankle\", \"type\": \"Shapley Value\"}, {\"Shapley Value\": 0.02075335751952881, \"Feature\": \"STD Chest <-> Right Ankle\", \"type\": \"Shapley Value\"}, {\"Shapley Value\": 0.11734476386613801, \"Feature\": \"Mean Chest <-> Left Ankle\", \"type\": \"Shapley Value\"}, {\"Shapley Value\": 0.1336234157816284, \"Feature\": \"STD Chest <-> Left Ankle\", \"type\": \"Shapley Value\"}, {\"Shapley Value\": 0.2941462176452787, \"Feature\": \"Mean Right Ankle <-> Left Ankle\", \"type\": \"Shapley Value\"}, {\"Shapley Value\": 0.10895940322162845, \"Feature\": \"STD Right Ankle <-> Left Ankle\", \"type\": \"Shapley Value\"}, {\"Shapley Value\": 0.09619845247250958, \"Feature\": \"Pruned Events\", \"type\": \"Shapley Value\"}, {\"Shapley Value\": -0.0014964762276835908, \"Feature\": \"Mean Chest <-> Right Ankle\", \"type\": \"Shapley Value\"}, {\"Shapley Value\": 0.017125093333778207, \"Feature\": \"STD Chest <-> Right Ankle\", \"type\": \"Shapley Value\"}, {\"Shapley Value\": 0.12727875832379593, \"Feature\": \"Mean Chest <-> Left Ankle\", \"type\": \"Shapley Value\"}, {\"Shapley Value\": 0.19357564000944982, \"Feature\": \"STD Chest <-> Left Ankle\", \"type\": \"Shapley Value\"}, {\"Shapley Value\": 0.223270549860206, \"Feature\": \"Mean Right Ankle <-> Left Ankle\", \"type\": \"Shapley Value\"}, {\"Shapley Value\": 0.1319306850300302, \"Feature\": \"STD Right Ankle <-> Left Ankle\", \"type\": \"Shapley Value\"}, {\"Shapley Value\": 0.12314127704039945, \"Feature\": \"Pruned Events\", \"type\": \"Shapley Value\"}, {\"Shapley Value\": 0.0060589356525313776, \"Feature\": \"Mean Chest <-> Right Ankle\", \"type\": \"Shapley Value\"}, {\"Shapley Value\": 0.021010522624211908, \"Feature\": \"STD Chest <-> Right Ankle\", \"type\": \"Shapley Value\"}, {\"Shapley Value\": 0.12945202801908767, \"Feature\": \"Mean Chest <-> Left Ankle\", \"type\": \"Shapley Value\"}, {\"Shapley Value\": 0.12061520990516439, \"Feature\": \"STD Chest <-> Left Ankle\", \"type\": \"Shapley Value\"}, {\"Shapley Value\": 0.13400809856663842, \"Feature\": \"Mean Right Ankle <-> Left Ankle\", \"type\": \"Shapley Value\"}, {\"Shapley Value\": 0.21506464588677568, \"Feature\": \"STD Right Ankle <-> Left Ankle\", \"type\": \"Shapley Value\"}, {\"Shapley Value\": 0.08456872867952536, \"Feature\": \"Pruned Events\", \"type\": \"Shapley Value\"}, {\"Shapley Value\": 0.09294550507218563, \"Feature\": \"Pruned Events\", \"type\": \"Mean\"}, {\"Shapley Value\": 0.0021040578672130716, \"Feature\": \"Mean Chest <-> Right Ankle\", \"type\": \"Mean\"}, {\"Shapley Value\": 0.12586001373406155, \"Feature\": \"Mean Chest <-> Left Ankle\", \"type\": \"Mean\"}, {\"Shapley Value\": 0.18981389562333248, \"Feature\": \"Mean Right Ankle <-> Left Ankle\", \"type\": \"Mean\"}, {\"Shapley Value\": 0.01880670244073781, \"Feature\": \"STD Chest <-> Right Ankle\", \"type\": \"Mean\"}, {\"Shapley Value\": 0.1555212728124819, \"Feature\": \"STD Chest <-> Left Ankle\", \"type\": \"Mean\"}, {\"Shapley Value\": 0.1380067687237722, \"Feature\": \"STD Right Ankle <-> Left Ankle\", \"type\": \"Mean\"}], \"data-ef7fe34691f1fb1316ca2f0d67f41405\": [{\"Shapley Value\": 0.01938612754478719, \"t (event index)\": 0, \"type\": \"Shapley Value\"}, {\"Shapley Value\": 0.04383646473353464, \"t (event index)\": -1, \"type\": \"Shapley Value\"}, {\"Shapley Value\": 0.1284746645114922, \"t (event index)\": -2, \"type\": \"Shapley Value\"}, {\"Shapley Value\": 0.09241586245398076, \"t (event index)\": -3, \"type\": \"Shapley Value\"}, {\"Shapley Value\": 0.0830343827702294, \"t (event index)\": -4, \"type\": \"Shapley Value\"}, {\"Shapley Value\": 0.016655477704295762, \"t (event index)\": -5, \"type\": \"Shapley Value\"}, {\"Shapley Value\": 0.006331317901609512, \"t (event index)\": -6, \"type\": \"Shapley Value\"}, {\"Shapley Value\": 0.03813276522222259, \"t (event index)\": -7, \"type\": \"Shapley Value\"}, {\"Shapley Value\": 0.04571970773702638, \"t (event index)\": -8, \"type\": \"Shapley Value\"}, {\"Shapley Value\": 0.011115186035872637, \"t (event index)\": -9, \"type\": \"Shapley Value\"}, {\"Shapley Value\": 0.01548951476835092, \"t (event index)\": -10, \"type\": \"Shapley Value\"}, {\"Shapley Value\": 0.0005853007187232584, \"t (event index)\": -11, \"type\": \"Shapley Value\"}, {\"Shapley Value\": 0.013267105146182623, \"t (event index)\": -12, \"type\": \"Shapley Value\"}, {\"Shapley Value\": 0.010259866146539509, \"t (event index)\": -13, \"type\": \"Shapley Value\"}, {\"Shapley Value\": 0.0851269775334586, \"t (event index)\": 0, \"type\": \"Shapley Value\"}, {\"Shapley Value\": 0.1400278757753044, \"t (event index)\": -1, \"type\": \"Shapley Value\"}, {\"Shapley Value\": 0.07578232950717106, \"t (event index)\": -2, \"type\": \"Shapley Value\"}, {\"Shapley Value\": 0.019908951039661005, \"t (event index)\": -3, \"type\": \"Shapley Value\"}, {\"Shapley Value\": 0.09996260604495033, \"t (event index)\": -4, \"type\": \"Shapley Value\"}, {\"Shapley Value\": 0.03383466681433078, \"t (event index)\": -5, \"type\": \"Shapley Value\"}, {\"Shapley Value\": 0.06765654822587164, \"t (event index)\": -6, \"type\": \"Shapley Value\"}, {\"Shapley Value\": 0.06705258413266446, \"t (event index)\": -7, \"type\": \"Shapley Value\"}, {\"Shapley Value\": 0.03735566210667052, \"t (event index)\": -8, \"type\": \"Shapley Value\"}, {\"Shapley Value\": 0.018680224595211792, \"t (event index)\": -9, \"type\": \"Shapley Value\"}, {\"Shapley Value\": 0.014955840395839193, \"t (event index)\": -10, \"type\": \"Shapley Value\"}, {\"Shapley Value\": 0.010652439102321165, \"t (event index)\": -11, \"type\": \"Shapley Value\"}, {\"Shapley Value\": 0.01567375152782713, \"t (event index)\": -12, \"type\": \"Shapley Value\"}, {\"Shapley Value\": 0.12650692122450818, \"t (event index)\": 0, \"type\": \"Shapley Value\"}, {\"Shapley Value\": 0.1088482750155042, \"t (event index)\": -1, \"type\": \"Shapley Value\"}, {\"Shapley Value\": 0.058872777591143954, \"t (event index)\": -2, \"type\": \"Shapley Value\"}, {\"Shapley Value\": 0.11246365039800138, \"t (event index)\": -3, \"type\": \"Shapley Value\"}, {\"Shapley Value\": 0.0814399781028109, \"t (event index)\": -4, \"type\": \"Shapley Value\"}, {\"Shapley Value\": 0.057876138687187606, \"t (event index)\": -5, \"type\": \"Shapley Value\"}, {\"Shapley Value\": 0.058678364787925485, \"t (event index)\": -6, \"type\": \"Shapley Value\"}, {\"Shapley Value\": 0.015110559584868843, \"t (event index)\": -7, \"type\": \"Shapley Value\"}, {\"Shapley Value\": 0.030559149249168138, \"t (event index)\": -8, \"type\": \"Shapley Value\"}, {\"Shapley Value\": 0.021594407852311814, \"t (event index)\": -9, \"type\": \"Shapley Value\"}, {\"Shapley Value\": 0.02312842354367889, \"t (event index)\": -10, \"type\": \"Shapley Value\"}, {\"Shapley Value\": 0.06489060139324382, \"t (event index)\": 0, \"type\": \"Shapley Value\"}, {\"Shapley Value\": 0.12090442008626734, \"t (event index)\": -1, \"type\": \"Shapley Value\"}, {\"Shapley Value\": 0.11098521713359982, \"t (event index)\": -2, \"type\": \"Shapley Value\"}, {\"Shapley Value\": 0.09226102775695949, \"t (event index)\": -3, \"type\": \"Shapley Value\"}, {\"Shapley Value\": 0.03966507508504463, \"t (event index)\": -4, \"type\": \"Shapley Value\"}, {\"Shapley Value\": 0.03885128979431335, \"t (event index)\": -5, \"type\": \"Shapley Value\"}, {\"Shapley Value\": 0.04158488745709299, \"t (event index)\": -6, \"type\": \"Shapley Value\"}, {\"Shapley Value\": 0.046081388544596924, \"t (event index)\": -7, \"type\": \"Shapley Value\"}, {\"Shapley Value\": 0.02909856739128658, \"t (event index)\": -8, \"type\": \"Shapley Value\"}, {\"Shapley Value\": 0.018038658283094366, \"t (event index)\": -9, \"type\": \"Shapley Value\"}, {\"Shapley Value\": 0.00894592843766967, \"t (event index)\": -10, \"type\": \"Shapley Value\"}, {\"Shapley Value\": 0.0141545612874448, \"t (event index)\": -11, \"type\": \"Shapley Value\"}, {\"Shapley Value\": 0.005579673811366814, \"t (event index)\": -12, \"type\": \"Shapley Value\"}, {\"Shapley Value\": 0.010259866146539509, \"t (event index)\": -13, \"type\": \"Mean\"}, {\"Shapley Value\": 0.011506843495125521, \"t (event index)\": -12, \"type\": \"Mean\"}, {\"Shapley Value\": 0.008464100369496408, \"t (event index)\": -11, \"type\": \"Mean\"}, {\"Shapley Value\": 0.015629926786384668, \"t (event index)\": -10, \"type\": \"Mean\"}, {\"Shapley Value\": 0.017357119191622652, \"t (event index)\": -9, \"type\": \"Mean\"}, {\"Shapley Value\": 0.035683271621037904, \"t (event index)\": -8, \"type\": \"Mean\"}, {\"Shapley Value\": 0.041594324371088204, \"t (event index)\": -7, \"type\": \"Mean\"}, {\"Shapley Value\": 0.043562779593124906, \"t (event index)\": -6, \"type\": \"Mean\"}, {\"Shapley Value\": 0.036804393250031875, \"t (event index)\": -5, \"type\": \"Mean\"}, {\"Shapley Value\": 0.07602551050075881, \"t (event index)\": -4, \"type\": \"Mean\"}, {\"Shapley Value\": 0.07926237291215066, \"t (event index)\": -3, \"type\": \"Mean\"}, {\"Shapley Value\": 0.09352874718585176, \"t (event index)\": -2, \"type\": \"Mean\"}, {\"Shapley Value\": 0.10340425890265265, \"t (event index)\": -1, \"type\": \"Mean\"}, {\"Shapley Value\": 0.07397765692399945, \"t (event index)\": 0, \"type\": \"Mean\"}], \"data-02bd3c915c12bf3fb1ac3f36d8573227\": [{\"Shapley Value\": 0.0195638158355968, \"t (event index)\": 0, \"type\": \"Shapley Value\"}, {\"Shapley Value\": 0.04388157672480042, \"t (event index)\": -1, \"type\": \"Shapley Value\"}, {\"Shapley Value\": 0.12849918201238664, \"t (event index)\": -2, \"type\": \"Shapley Value\"}, {\"Shapley Value\": 0.09249816681475748, \"t (event index)\": -3, \"type\": \"Shapley Value\"}, {\"Shapley Value\": 0.08269692443504753, \"t (event index)\": -4, \"type\": \"Shapley Value\"}, {\"Shapley Value\": 0.016988364476479, \"t (event index)\": -5, \"type\": \"Shapley Value\"}, {\"Shapley Value\": 0.006441269205432143, \"t (event index)\": -6, \"type\": \"Shapley Value\"}, {\"Shapley Value\": 0.03831663393540863, \"t (event index)\": -7, \"type\": \"Shapley Value\"}, {\"Shapley Value\": 0.04583515132134791, \"t (event index)\": -8, \"type\": \"Shapley Value\"}, {\"Shapley Value\": 0.010824463904065024, \"t (event index)\": -9, \"type\": \"Shapley Value\"}, {\"Shapley Value\": 0.015470746606990882, \"t (event index)\": -10, \"type\": \"Shapley Value\"}, {\"Shapley Value\": 0.0002546006039284565, \"t (event index)\": -11, \"type\": \"Shapley Value\"}, {\"Shapley Value\": 0.01313085184666729, \"t (event index)\": -12, \"type\": \"Shapley Value\"}, {\"Shapley Value\": 0.01000651562388788, \"t (event index)\": -13, \"type\": \"Shapley Value\"}, {\"Shapley Value\": 0.0851190363303515, \"t (event index)\": 0, \"type\": \"Shapley Value\"}, {\"Shapley Value\": 0.1397717437014837, \"t (event index)\": -1, \"type\": \"Shapley Value\"}, {\"Shapley Value\": 0.07526186571888993, \"t (event index)\": -2, \"type\": \"Shapley Value\"}, {\"Shapley Value\": 0.020616713589003743, \"t (event index)\": -3, \"type\": \"Shapley Value\"}, {\"Shapley Value\": 0.0998925268899642, \"t (event index)\": -4, \"type\": \"Shapley Value\"}, {\"Shapley Value\": 0.03396884616377871, \"t (event index)\": -5, \"type\": \"Shapley Value\"}, {\"Shapley Value\": 0.06742596396746597, \"t (event index)\": -6, \"type\": \"Shapley Value\"}, {\"Shapley Value\": 0.06670577575146175, \"t (event index)\": -7, \"type\": \"Shapley Value\"}, {\"Shapley Value\": 0.03819515564092596, \"t (event index)\": -8, \"type\": \"Shapley Value\"}, {\"Shapley Value\": 0.01932809398547447, \"t (event index)\": -9, \"type\": \"Shapley Value\"}, {\"Shapley Value\": 0.014697263644896374, \"t (event index)\": -10, \"type\": \"Shapley Value\"}, {\"Shapley Value\": 0.010535184566936251, \"t (event index)\": -11, \"type\": \"Shapley Value\"}, {\"Shapley Value\": 0.015249525606895742, \"t (event index)\": -12, \"type\": \"Shapley Value\"}, {\"Shapley Value\": 0.12650692122450818, \"t (event index)\": 0, \"type\": \"Shapley Value\"}, {\"Shapley Value\": 0.1088482750155042, \"t (event index)\": -1, \"type\": \"Shapley Value\"}, {\"Shapley Value\": 0.058872777591143954, \"t (event index)\": -2, \"type\": \"Shapley Value\"}, {\"Shapley Value\": 0.11246365039800138, \"t (event index)\": -3, \"type\": \"Shapley Value\"}, {\"Shapley Value\": 0.0814399781028109, \"t (event index)\": -4, \"type\": \"Shapley Value\"}, {\"Shapley Value\": 0.057876138687187606, \"t (event index)\": -5, \"type\": \"Shapley Value\"}, {\"Shapley Value\": 0.058678364787925485, \"t (event index)\": -6, \"type\": \"Shapley Value\"}, {\"Shapley Value\": 0.015110559584868843, \"t (event index)\": -7, \"type\": \"Shapley Value\"}, {\"Shapley Value\": 0.030559149249168138, \"t (event index)\": -8, \"type\": \"Shapley Value\"}, {\"Shapley Value\": 0.021594407852311814, \"t (event index)\": -9, \"type\": \"Shapley Value\"}, {\"Shapley Value\": 0.02312842354367889, \"t (event index)\": -10, \"type\": \"Shapley Value\"}, {\"Shapley Value\": 0.06499582577006635, \"t (event index)\": 0, \"type\": \"Shapley Value\"}, {\"Shapley Value\": 0.12066013754930555, \"t (event index)\": -1, \"type\": \"Shapley Value\"}, {\"Shapley Value\": 0.11050848816409514, \"t (event index)\": -2, \"type\": \"Shapley Value\"}, {\"Shapley Value\": 0.09289033743162523, \"t (event index)\": -3, \"type\": \"Shapley Value\"}, {\"Shapley Value\": 0.03959168220489018, \"t (event index)\": -4, \"type\": \"Shapley Value\"}, {\"Shapley Value\": 0.03899380543521941, \"t (event index)\": -5, \"type\": \"Shapley Value\"}, {\"Shapley Value\": 0.04146713054701362, \"t (event index)\": -6, \"type\": \"Shapley Value\"}, {\"Shapley Value\": 0.04577367964580342, \"t (event index)\": -7, \"type\": \"Shapley Value\"}, {\"Shapley Value\": 0.030006380681652345, \"t (event index)\": -8, \"type\": \"Shapley Value\"}, {\"Shapley Value\": 0.01852749560138256, \"t (event index)\": -9, \"type\": \"Shapley Value\"}, {\"Shapley Value\": 0.008662523085180673, \"t (event index)\": -10, \"type\": \"Shapley Value\"}, {\"Shapley Value\": 0.013947834520247893, \"t (event index)\": -11, \"type\": \"Shapley Value\"}, {\"Shapley Value\": 0.00513371049957273, \"t (event index)\": -12, \"type\": \"Shapley Value\"}, {\"Shapley Value\": 0.01000651562388788, \"t (event index)\": -13, \"type\": \"Mean\"}, {\"Shapley Value\": 0.011171362651045255, \"t (event index)\": -12, \"type\": \"Mean\"}, {\"Shapley Value\": 0.008245873230370867, \"t (event index)\": -11, \"type\": \"Mean\"}, {\"Shapley Value\": 0.015489739220186705, \"t (event index)\": -10, \"type\": \"Mean\"}, {\"Shapley Value\": 0.017568615335808467, \"t (event index)\": -9, \"type\": \"Mean\"}, {\"Shapley Value\": 0.03614895922327359, \"t (event index)\": -8, \"type\": \"Mean\"}, {\"Shapley Value\": 0.04147666222938566, \"t (event index)\": -7, \"type\": \"Mean\"}, {\"Shapley Value\": 0.043503182126959306, \"t (event index)\": -6, \"type\": \"Mean\"}, {\"Shapley Value\": 0.03695678869066618, \"t (event index)\": -5, \"type\": \"Mean\"}, {\"Shapley Value\": 0.07590527790817819, \"t (event index)\": -4, \"type\": \"Mean\"}, {\"Shapley Value\": 0.07961721705834696, \"t (event index)\": -3, \"type\": \"Mean\"}, {\"Shapley Value\": 0.09328557837162892, \"t (event index)\": -2, \"type\": \"Mean\"}, {\"Shapley Value\": 0.10329043324777347, \"t (event index)\": -1, \"type\": \"Mean\"}, {\"Shapley Value\": 0.07404639979013071, \"t (event index)\": 0, \"type\": \"Mean\"}], \"data-b7700950402d18965e560e5e57cdea82\": [{\"Shapley Value\": 0.019402304710257473, \"t (event index)\": 0, \"type\": \"Shapley Value\"}, {\"Shapley Value\": 0.043738853888248386, \"t (event index)\": -1, \"type\": \"Shapley Value\"}, {\"Shapley Value\": 0.12852143608657796, \"t (event index)\": -2, \"type\": \"Shapley Value\"}, {\"Shapley Value\": 0.09251658021157089, \"t (event index)\": -3, \"type\": \"Shapley Value\"}, {\"Shapley Value\": 0.08310059630637867, \"t (event index)\": -4, \"type\": \"Shapley Value\"}, {\"Shapley Value\": 0.01668571955509715, \"t (event index)\": -5, \"type\": \"Shapley Value\"}, {\"Shapley Value\": 0.006386219441038343, \"t (event index)\": -6, \"type\": \"Shapley Value\"}, {\"Shapley Value\": 0.03812236393540952, \"t (event index)\": -7, \"type\": \"Shapley Value\"}, {\"Shapley Value\": 0.045712996818473434, \"t (event index)\": -8, \"type\": \"Shapley Value\"}, {\"Shapley Value\": 0.01114939870808243, \"t (event index)\": -9, \"type\": \"Shapley Value\"}, {\"Shapley Value\": 0.015518639229934239, \"t (event index)\": -10, \"type\": \"Shapley Value\"}, {\"Shapley Value\": 0.0005340755800938846, \"t (event index)\": -11, \"type\": \"Shapley Value\"}, {\"Shapley Value\": 0.013144310168296758, \"t (event index)\": -12, \"type\": \"Shapley Value\"}, {\"Shapley Value\": 0.010192737131525298, \"t (event index)\": -13, \"type\": \"Shapley Value\"}, {\"Shapley Value\": 0.0851269775334586, \"t (event index)\": 0, \"type\": \"Shapley Value\"}, {\"Shapley Value\": 0.1400278757753044, \"t (event index)\": -1, \"type\": \"Shapley Value\"}, {\"Shapley Value\": 0.07578232950717106, \"t (event index)\": -2, \"type\": \"Shapley Value\"}, {\"Shapley Value\": 0.019908951039661005, \"t (event index)\": -3, \"type\": \"Shapley Value\"}, {\"Shapley Value\": 0.09996260604495033, \"t (event index)\": -4, \"type\": \"Shapley Value\"}, {\"Shapley Value\": 0.03383466681433078, \"t (event index)\": -5, \"type\": \"Shapley Value\"}, {\"Shapley Value\": 0.06765654822587164, \"t (event index)\": -6, \"type\": \"Shapley Value\"}, {\"Shapley Value\": 0.06705258413266446, \"t (event index)\": -7, \"type\": \"Shapley Value\"}, {\"Shapley Value\": 0.03735566210667052, \"t (event index)\": -8, \"type\": \"Shapley Value\"}, {\"Shapley Value\": 0.018680224595211792, \"t (event index)\": -9, \"type\": \"Shapley Value\"}, {\"Shapley Value\": 0.014955840395839193, \"t (event index)\": -10, \"type\": \"Shapley Value\"}, {\"Shapley Value\": 0.010652439102321165, \"t (event index)\": -11, \"type\": \"Shapley Value\"}, {\"Shapley Value\": 0.01567375152782713, \"t (event index)\": -12, \"type\": \"Shapley Value\"}, {\"Shapley Value\": 0.12650692122450818, \"t (event index)\": 0, \"type\": \"Shapley Value\"}, {\"Shapley Value\": 0.1088482750155042, \"t (event index)\": -1, \"type\": \"Shapley Value\"}, {\"Shapley Value\": 0.058872777591143954, \"t (event index)\": -2, \"type\": \"Shapley Value\"}, {\"Shapley Value\": 0.11246365039800138, \"t (event index)\": -3, \"type\": \"Shapley Value\"}, {\"Shapley Value\": 0.0814399781028109, \"t (event index)\": -4, \"type\": \"Shapley Value\"}, {\"Shapley Value\": 0.057876138687187606, \"t (event index)\": -5, \"type\": \"Shapley Value\"}, {\"Shapley Value\": 0.058678364787925485, \"t (event index)\": -6, \"type\": \"Shapley Value\"}, {\"Shapley Value\": 0.015110559584868843, \"t (event index)\": -7, \"type\": \"Shapley Value\"}, {\"Shapley Value\": 0.030559149249168138, \"t (event index)\": -8, \"type\": \"Shapley Value\"}, {\"Shapley Value\": 0.021594407852311814, \"t (event index)\": -9, \"type\": \"Shapley Value\"}, {\"Shapley Value\": 0.02312842354367889, \"t (event index)\": -10, \"type\": \"Shapley Value\"}, {\"Shapley Value\": 0.06489060139324382, \"t (event index)\": 0, \"type\": \"Shapley Value\"}, {\"Shapley Value\": 0.12090442008626734, \"t (event index)\": -1, \"type\": \"Shapley Value\"}, {\"Shapley Value\": 0.11098521713359982, \"t (event index)\": -2, \"type\": \"Shapley Value\"}, {\"Shapley Value\": 0.09226102775695949, \"t (event index)\": -3, \"type\": \"Shapley Value\"}, {\"Shapley Value\": 0.03966507508504463, \"t (event index)\": -4, \"type\": \"Shapley Value\"}, {\"Shapley Value\": 0.03885128979431335, \"t (event index)\": -5, \"type\": \"Shapley Value\"}, {\"Shapley Value\": 0.04158488745709299, \"t (event index)\": -6, \"type\": \"Shapley Value\"}, {\"Shapley Value\": 0.046081388544596924, \"t (event index)\": -7, \"type\": \"Shapley Value\"}, {\"Shapley Value\": 0.02909856739128658, \"t (event index)\": -8, \"type\": \"Shapley Value\"}, {\"Shapley Value\": 0.018038658283094366, \"t (event index)\": -9, \"type\": \"Shapley Value\"}, {\"Shapley Value\": 0.00894592843766967, \"t (event index)\": -10, \"type\": \"Shapley Value\"}, {\"Shapley Value\": 0.0141545612874448, \"t (event index)\": -11, \"type\": \"Shapley Value\"}, {\"Shapley Value\": 0.005579673811366814, \"t (event index)\": -12, \"type\": \"Shapley Value\"}, {\"Shapley Value\": 0.010192737131525298, \"t (event index)\": -13, \"type\": \"Mean\"}, {\"Shapley Value\": 0.011465911835830234, \"t (event index)\": -12, \"type\": \"Mean\"}, {\"Shapley Value\": 0.008447025323286617, \"t (event index)\": -11, \"type\": \"Mean\"}, {\"Shapley Value\": 0.015637207901780498, \"t (event index)\": -10, \"type\": \"Mean\"}, {\"Shapley Value\": 0.0173656723596751, \"t (event index)\": -9, \"type\": \"Mean\"}, {\"Shapley Value\": 0.03568159389139967, \"t (event index)\": -8, \"type\": \"Mean\"}, {\"Shapley Value\": 0.04159172404938494, \"t (event index)\": -7, \"type\": \"Mean\"}, {\"Shapley Value\": 0.043576504977982114, \"t (event index)\": -6, \"type\": \"Mean\"}, {\"Shapley Value\": 0.03681195371273222, \"t (event index)\": -5, \"type\": \"Mean\"}, {\"Shapley Value\": 0.07604206388479613, \"t (event index)\": -4, \"type\": \"Mean\"}, {\"Shapley Value\": 0.07928755235154819, \"t (event index)\": -3, \"type\": \"Mean\"}, {\"Shapley Value\": 0.0935404400796232, \"t (event index)\": -2, \"type\": \"Mean\"}, {\"Shapley Value\": 0.10337985619133108, \"t (event index)\": -1, \"type\": \"Mean\"}, {\"Shapley Value\": 0.07398170121536701, \"t (event index)\": 0, \"type\": \"Mean\"}], \"data-743cad118e797fad89d166b27f181514\": [{\"Shapley Value\": 0.018590065912331838, \"t (event index)\": 0, \"type\": \"Shapley Value\"}, {\"Shapley Value\": 0.04333168690803288, \"t (event index)\": -1, \"type\": \"Shapley Value\"}, {\"Shapley Value\": 0.12722848933718534, \"t (event index)\": -2, \"type\": \"Shapley Value\"}, {\"Shapley Value\": 0.09167919613895381, \"t (event index)\": -3, \"type\": \"Shapley Value\"}, {\"Shapley Value\": 0.08335011742588558, \"t (event index)\": -4, \"type\": \"Shapley Value\"}, {\"Shapley Value\": 0.016303369150261537, \"t (event index)\": -5, \"type\": \"Shapley Value\"}, {\"Shapley Value\": 0.005641850016192995, \"t (event index)\": -6, \"type\": \"Shapley Value\"}, {\"Shapley Value\": 0.03808306307694165, \"t (event index)\": -7, \"type\": \"Shapley Value\"}, {\"Shapley Value\": 0.045051151314518256, \"t (event index)\": -8, \"type\": \"Shapley Value\"}, {\"Shapley Value\": 0.010596797253989293, \"t (event index)\": -9, \"type\": \"Shapley Value\"}, {\"Shapley Value\": 0.014952067087550425, \"t (event index)\": -10, \"type\": \"Shapley Value\"}, {\"Shapley Value\": 0.0005318342999561798, \"t (event index)\": -11, \"type\": \"Shapley Value\"}, {\"Shapley Value\": 0.011081623265929541, \"t (event index)\": -12, \"type\": \"Shapley Value\"}, {\"Shapley Value\": 0.08429238496336144, \"t (event index)\": 0, \"type\": \"Shapley Value\"}, {\"Shapley Value\": 0.13860792027367114, \"t (event index)\": -1, \"type\": \"Shapley Value\"}, {\"Shapley Value\": 0.07504328940276062, \"t (event index)\": -2, \"type\": \"Shapley Value\"}, {\"Shapley Value\": 0.019738348910429027, \"t (event index)\": -3, \"type\": \"Shapley Value\"}, {\"Shapley Value\": 0.09880805731392173, \"t (event index)\": -4, \"type\": \"Shapley Value\"}, {\"Shapley Value\": 0.03355130695409986, \"t (event index)\": -5, \"type\": \"Shapley Value\"}, {\"Shapley Value\": 0.06668802964330356, \"t (event index)\": -6, \"type\": \"Shapley Value\"}, {\"Shapley Value\": 0.06549198864099115, \"t (event index)\": -7, \"type\": \"Shapley Value\"}, {\"Shapley Value\": 0.03617410796095066, \"t (event index)\": -8, \"type\": \"Shapley Value\"}, {\"Shapley Value\": 0.01765007798971191, \"t (event index)\": -9, \"type\": \"Shapley Value\"}, {\"Shapley Value\": 0.012260058792818551, \"t (event index)\": -10, \"type\": \"Shapley Value\"}, {\"Shapley Value\": 0.12459898502216565, \"t (event index)\": 0, \"type\": \"Shapley Value\"}, {\"Shapley Value\": 0.10735943549820637, \"t (event index)\": -1, \"type\": \"Shapley Value\"}, {\"Shapley Value\": 0.058065401292090035, \"t (event index)\": -2, \"type\": \"Shapley Value\"}, {\"Shapley Value\": 0.1107897395225752, \"t (event index)\": -3, \"type\": \"Shapley Value\"}, {\"Shapley Value\": 0.08068177192639908, \"t (event index)\": -4, \"type\": \"Shapley Value\"}, {\"Shapley Value\": 0.057464832988665504, \"t (event index)\": -5, \"type\": \"Shapley Value\"}, {\"Shapley Value\": 0.05778801556002039, \"t (event index)\": -6, \"type\": \"Shapley Value\"}, {\"Shapley Value\": 0.014619088965477867, \"t (event index)\": -7, \"type\": \"Shapley Value\"}, {\"Shapley Value\": 0.02884597383341375, \"t (event index)\": -8, \"type\": \"Shapley Value\"}, {\"Shapley Value\": 0.019488786413934922, \"t (event index)\": -9, \"type\": \"Shapley Value\"}, {\"Shapley Value\": 0.06449853085649349, \"t (event index)\": 0, \"type\": \"Shapley Value\"}, {\"Shapley Value\": 0.12024670021304756, \"t (event index)\": -1, \"type\": \"Shapley Value\"}, {\"Shapley Value\": 0.11044351324340973, \"t (event index)\": -2, \"type\": \"Shapley Value\"}, {\"Shapley Value\": 0.09179398497898472, \"t (event index)\": -3, \"type\": \"Shapley Value\"}, {\"Shapley Value\": 0.039485478619836645, \"t (event index)\": -4, \"type\": \"Shapley Value\"}, {\"Shapley Value\": 0.03863657128420628, \"t (event index)\": -5, \"type\": \"Shapley Value\"}, {\"Shapley Value\": 0.04125886313895433, \"t (event index)\": -6, \"type\": \"Shapley Value\"}, {\"Shapley Value\": 0.04534959938299177, \"t (event index)\": -7, \"type\": \"Shapley Value\"}, {\"Shapley Value\": 0.02839875772667988, \"t (event index)\": -8, \"type\": \"Shapley Value\"}, {\"Shapley Value\": 0.016468066004847626, \"t (event index)\": -9, \"type\": \"Shapley Value\"}, {\"Shapley Value\": 0.00857266137016266, \"t (event index)\": -10, \"type\": \"Shapley Value\"}, {\"Shapley Value\": 0.011081623265929541, \"t (event index)\": -12, \"type\": \"Mean\"}, {\"Shapley Value\": 0.0005318342999561798, \"t (event index)\": -11, \"type\": \"Mean\"}, {\"Shapley Value\": 0.011928262416843879, \"t (event index)\": -10, \"type\": \"Mean\"}, {\"Shapley Value\": 0.016050931915620938, \"t (event index)\": -9, \"type\": \"Mean\"}, {\"Shapley Value\": 0.03461749770889064, \"t (event index)\": -8, \"type\": \"Mean\"}, {\"Shapley Value\": 0.04088593501660061, \"t (event index)\": -7, \"type\": \"Mean\"}, {\"Shapley Value\": 0.04284418958961782, \"t (event index)\": -6, \"type\": \"Mean\"}, {\"Shapley Value\": 0.036489020094308294, \"t (event index)\": -5, \"type\": \"Mean\"}, {\"Shapley Value\": 0.07558135632151075, \"t (event index)\": -4, \"type\": \"Mean\"}, {\"Shapley Value\": 0.07850031738773569, \"t (event index)\": -3, \"type\": \"Mean\"}, {\"Shapley Value\": 0.09269517331886143, \"t (event index)\": -2, \"type\": \"Mean\"}, {\"Shapley Value\": 0.1023864357232395, \"t (event index)\": -1, \"type\": \"Mean\"}, {\"Shapley Value\": 0.07299499168858811, \"t (event index)\": 0, \"type\": \"Mean\"}], \"data-85d09a1dcca23bed56fc34622b23eb3e\": [{\"Shapley Value\": -0.004014672330092756, \"Feature\": \"Mean Chest <-> Right Ankle\", \"type\": \"Shapley Value\"}, {\"Shapley Value\": 0.01673108271899701, \"Feature\": \"STD Chest <-> Right Ankle\", \"type\": \"Shapley Value\"}, {\"Shapley Value\": 0.12161281019715331, \"Feature\": \"Mean Chest <-> Left Ankle\", \"type\": \"Shapley Value\"}, {\"Shapley Value\": 0.17110818094529534, \"Feature\": \"STD Chest <-> Left Ankle\", \"type\": \"Shapley Value\"}, {\"Shapley Value\": 0.10551456865810194, \"Feature\": \"Mean Right Ankle <-> Left Ankle\", \"type\": \"Shapley Value\"}, {\"Shapley Value\": 0.09012381748872841, \"Feature\": \"STD Right Ankle <-> Left Ankle\", \"type\": \"Shapley Value\"}, {\"Shapley Value\": 0.08694244341570023, \"Feature\": \"Pruned Events\", \"type\": \"Shapley Value\"}, {\"Shapley Value\": 0.007424981927587809, \"Feature\": \"Mean Chest <-> Right Ankle\", \"type\": \"Shapley Value\"}, {\"Shapley Value\": 0.020968332891131036, \"Feature\": \"STD Chest <-> Right Ankle\", \"type\": \"Shapley Value\"}, {\"Shapley Value\": 0.1188345970940734, \"Feature\": \"Mean Chest <-> Left Ankle\", \"type\": \"Shapley Value\"}, {\"Shapley Value\": 0.11785696506322829, \"Feature\": \"STD Chest <-> Left Ankle\", \"type\": \"Shapley Value\"}, {\"Shapley Value\": 0.2718007732537528, \"Feature\": \"Mean Right Ankle <-> Left Ankle\", \"type\": \"Shapley Value\"}, {\"Shapley Value\": 0.10620734266759368, \"Feature\": \"STD Right Ankle <-> Left Ankle\", \"type\": \"Shapley Value\"}, {\"Shapley Value\": 0.1355179443999771, \"Feature\": \"Pruned Events\", \"type\": \"Shapley Value\"}, {\"Shapley Value\": -0.0011185600821460306, \"Feature\": \"Mean Chest <-> Right Ankle\", \"type\": \"Shapley Value\"}, {\"Shapley Value\": 0.018624582381121108, \"Feature\": \"STD Chest <-> Right Ankle\", \"type\": \"Shapley Value\"}, {\"Shapley Value\": 0.11751547485944769, \"Feature\": \"Mean Chest <-> Left Ankle\", \"type\": \"Shapley Value\"}, {\"Shapley Value\": 0.1733627506443074, \"Feature\": \"STD Chest <-> Left Ankle\", \"type\": \"Shapley Value\"}, {\"Shapley Value\": 0.21963249558937675, \"Feature\": \"Mean Right Ankle <-> Left Ankle\", \"type\": \"Shapley Value\"}, {\"Shapley Value\": 0.12674347121002405, \"Feature\": \"STD Right Ankle <-> Left Ankle\", \"type\": \"Shapley Value\"}, {\"Shapley Value\": 0.16006531276784508, \"Feature\": \"Pruned Events\", \"type\": \"Shapley Value\"}, {\"Shapley Value\": 0.005215297133794927, \"Feature\": \"Mean Chest <-> Right Ankle\", \"type\": \"Shapley Value\"}, {\"Shapley Value\": 0.021076389858942918, \"Feature\": \"STD Chest <-> Right Ankle\", \"type\": \"Shapley Value\"}, {\"Shapley Value\": 0.1277575489044901, \"Feature\": \"Mean Chest <-> Left Ankle\", \"type\": \"Shapley Value\"}, {\"Shapley Value\": 0.10736302179949608, \"Feature\": \"STD Chest <-> Left Ankle\", \"type\": \"Shapley Value\"}, {\"Shapley Value\": 0.12876788563139374, \"Feature\": \"Mean Right Ankle <-> Left Ankle\", \"type\": \"Shapley Value\"}, {\"Shapley Value\": 0.20970648557302465, \"Feature\": \"STD Right Ankle <-> Left Ankle\", \"type\": \"Shapley Value\"}, {\"Shapley Value\": 0.11089154043279237, \"Feature\": \"Pruned Events\", \"type\": \"Shapley Value\"}, {\"Shapley Value\": 0.1233543102540787, \"Feature\": \"Pruned Events\", \"type\": \"Mean\"}, {\"Shapley Value\": 0.0018767616622859876, \"Feature\": \"Mean Chest <-> Right Ankle\", \"type\": \"Mean\"}, {\"Shapley Value\": 0.12143010776379112, \"Feature\": \"Mean Chest <-> Left Ankle\", \"type\": \"Mean\"}, {\"Shapley Value\": 0.1814289307831563, \"Feature\": \"Mean Right Ankle <-> Left Ankle\", \"type\": \"Mean\"}, {\"Shapley Value\": 0.019350096962548018, \"Feature\": \"STD Chest <-> Right Ankle\", \"type\": \"Mean\"}, {\"Shapley Value\": 0.14242272961308178, \"Feature\": \"STD Chest <-> Left Ankle\", \"type\": \"Mean\"}, {\"Shapley Value\": 0.1331952792348427, \"Feature\": \"STD Right Ankle <-> Left Ankle\", \"type\": \"Mean\"}], \"data-a56b3492c7489cb5e0b5bd899e678ea1\": [{\"Shapley Value\": 0.019114430811086963, \"t (event index)\": 0, \"type\": \"Shapley Value\"}, {\"Shapley Value\": 0.043333159827879636, \"t (event index)\": -1, \"type\": \"Shapley Value\"}, {\"Shapley Value\": 0.12705625437145468, \"t (event index)\": -2, \"type\": \"Shapley Value\"}, {\"Shapley Value\": 0.09140596558162178, \"t (event index)\": -3, \"type\": \"Shapley Value\"}, {\"Shapley Value\": 0.08217769713104445, \"t (event index)\": -4, \"type\": \"Shapley Value\"}, {\"Shapley Value\": 0.016478854681696575, \"t (event index)\": -5, \"type\": \"Shapley Value\"}, {\"Shapley Value\": 0.006328163569571443, \"t (event index)\": -6, \"type\": \"Shapley Value\"}, {\"Shapley Value\": 0.037645712655275665, \"t (event index)\": -7, \"type\": \"Shapley Value\"}, {\"Shapley Value\": 0.04502363077631896, \"t (event index)\": -8, \"type\": \"Shapley Value\"}, {\"Shapley Value\": 0.010878177861367577, \"t (event index)\": -9, \"type\": \"Shapley Value\"}, {\"Shapley Value\": 0.01505499414068201, \"t (event index)\": -10, \"type\": \"Shapley Value\"}, {\"Shapley Value\": 0.0005119721491836926, \"t (event index)\": -11, \"type\": \"Shapley Value\"}, {\"Shapley Value\": 0.011523685414471824, \"t (event index)\": -12, \"type\": \"Shapley Value\"}, {\"Shapley Value\": 0.08429238496336144, \"t (event index)\": 0, \"type\": \"Shapley Value\"}, {\"Shapley Value\": 0.13860792027367114, \"t (event index)\": -1, \"type\": \"Shapley Value\"}, {\"Shapley Value\": 0.07504328940276062, \"t (event index)\": -2, \"type\": \"Shapley Value\"}, {\"Shapley Value\": 0.019738348910429027, \"t (event index)\": -3, \"type\": \"Shapley Value\"}, {\"Shapley Value\": 0.09880805731392173, \"t (event index)\": -4, \"type\": \"Shapley Value\"}, {\"Shapley Value\": 0.03355130695409986, \"t (event index)\": -5, \"type\": \"Shapley Value\"}, {\"Shapley Value\": 0.06668802964330356, \"t (event index)\": -6, \"type\": \"Shapley Value\"}, {\"Shapley Value\": 0.06549198864099115, \"t (event index)\": -7, \"type\": \"Shapley Value\"}, {\"Shapley Value\": 0.03617410796095066, \"t (event index)\": -8, \"type\": \"Shapley Value\"}, {\"Shapley Value\": 0.01765007798971191, \"t (event index)\": -9, \"type\": \"Shapley Value\"}, {\"Shapley Value\": 0.012260058792818551, \"t (event index)\": -10, \"type\": \"Shapley Value\"}, {\"Shapley Value\": 0.12459898502216565, \"t (event index)\": 0, \"type\": \"Shapley Value\"}, {\"Shapley Value\": 0.10735943549820637, \"t (event index)\": -1, \"type\": \"Shapley Value\"}, {\"Shapley Value\": 0.058065401292090035, \"t (event index)\": -2, \"type\": \"Shapley Value\"}, {\"Shapley Value\": 0.1107897395225752, \"t (event index)\": -3, \"type\": \"Shapley Value\"}, {\"Shapley Value\": 0.08068177192639908, \"t (event index)\": -4, \"type\": \"Shapley Value\"}, {\"Shapley Value\": 0.057464832988665504, \"t (event index)\": -5, \"type\": \"Shapley Value\"}, {\"Shapley Value\": 0.05778801556002039, \"t (event index)\": -6, \"type\": \"Shapley Value\"}, {\"Shapley Value\": 0.014619088965477867, \"t (event index)\": -7, \"type\": \"Shapley Value\"}, {\"Shapley Value\": 0.02884597383341375, \"t (event index)\": -8, \"type\": \"Shapley Value\"}, {\"Shapley Value\": 0.019488786413934922, \"t (event index)\": -9, \"type\": \"Shapley Value\"}, {\"Shapley Value\": 0.06449853085649349, \"t (event index)\": 0, \"type\": \"Shapley Value\"}, {\"Shapley Value\": 0.12024670021304756, \"t (event index)\": -1, \"type\": \"Shapley Value\"}, {\"Shapley Value\": 0.11044351324340973, \"t (event index)\": -2, \"type\": \"Shapley Value\"}, {\"Shapley Value\": 0.09179398497898472, \"t (event index)\": -3, \"type\": \"Shapley Value\"}, {\"Shapley Value\": 0.039485478619836645, \"t (event index)\": -4, \"type\": \"Shapley Value\"}, {\"Shapley Value\": 0.03863657128420628, \"t (event index)\": -5, \"type\": \"Shapley Value\"}, {\"Shapley Value\": 0.04125886313895433, \"t (event index)\": -6, \"type\": \"Shapley Value\"}, {\"Shapley Value\": 0.04534959938299177, \"t (event index)\": -7, \"type\": \"Shapley Value\"}, {\"Shapley Value\": 0.02839875772667988, \"t (event index)\": -8, \"type\": \"Shapley Value\"}, {\"Shapley Value\": 0.016468066004847626, \"t (event index)\": -9, \"type\": \"Shapley Value\"}, {\"Shapley Value\": 0.00857266137016266, \"t (event index)\": -10, \"type\": \"Shapley Value\"}, {\"Shapley Value\": 0.011523685414471824, \"t (event index)\": -12, \"type\": \"Mean\"}, {\"Shapley Value\": 0.0005119721491836926, \"t (event index)\": -11, \"type\": \"Mean\"}, {\"Shapley Value\": 0.011962571434554406, \"t (event index)\": -10, \"type\": \"Mean\"}, {\"Shapley Value\": 0.01612127706746551, \"t (event index)\": -9, \"type\": \"Mean\"}, {\"Shapley Value\": 0.034610617574340814, \"t (event index)\": -8, \"type\": \"Mean\"}, {\"Shapley Value\": 0.04077659741118411, \"t (event index)\": -7, \"type\": \"Mean\"}, {\"Shapley Value\": 0.04301576797796243, \"t (event index)\": -6, \"type\": \"Mean\"}, {\"Shapley Value\": 0.036532891477167054, \"t (event index)\": -5, \"type\": \"Mean\"}, {\"Shapley Value\": 0.07528825124780048, \"t (event index)\": -4, \"type\": \"Mean\"}, {\"Shapley Value\": 0.07843200974840268, \"t (event index)\": -3, \"type\": \"Mean\"}, {\"Shapley Value\": 0.09265211457742877, \"t (event index)\": -2, \"type\": \"Mean\"}, {\"Shapley Value\": 0.10238680395320118, \"t (event index)\": -1, \"type\": \"Mean\"}, {\"Shapley Value\": 0.07312608291327688, \"t (event index)\": 0, \"type\": \"Mean\"}], \"data-aebb847b4624f666f96a2bbebd051785\": [{\"Shapley Value\": 0.01922164956315936, \"t (event index)\": 0, \"type\": \"Shapley Value\"}, {\"Shapley Value\": 0.043154646912504924, \"t (event index)\": -1, \"type\": \"Shapley Value\"}, {\"Shapley Value\": 0.12665545277408213, \"t (event index)\": -2, \"type\": \"Shapley Value\"}, {\"Shapley Value\": 0.09201823237252865, \"t (event index)\": -3, \"type\": \"Shapley Value\"}, {\"Shapley Value\": 0.0821544807250687, \"t (event index)\": -4, \"type\": \"Shapley Value\"}, {\"Shapley Value\": 0.01653129687108701, \"t (event index)\": -5, \"type\": \"Shapley Value\"}, {\"Shapley Value\": 0.0063464483975055885, \"t (event index)\": -6, \"type\": \"Shapley Value\"}, {\"Shapley Value\": 0.037367012330198957, \"t (event index)\": -7, \"type\": \"Shapley Value\"}, {\"Shapley Value\": 0.045760092730142365, \"t (event index)\": -8, \"type\": \"Shapley Value\"}, {\"Shapley Value\": 0.01121597736559582, \"t (event index)\": -9, \"type\": \"Shapley Value\"}, {\"Shapley Value\": 0.014804046231891022, \"t (event index)\": -10, \"type\": \"Shapley Value\"}, {\"Shapley Value\": 0.00021969972323349074, \"t (event index)\": -11, \"type\": \"Shapley Value\"}, {\"Shapley Value\": 0.011085174002282011, \"t (event index)\": -12, \"type\": \"Shapley Value\"}, {\"Shapley Value\": 0.08429238496336144, \"t (event index)\": 0, \"type\": \"Shapley Value\"}, {\"Shapley Value\": 0.13860792027367114, \"t (event index)\": -1, \"type\": \"Shapley Value\"}, {\"Shapley Value\": 0.07504328940276062, \"t (event index)\": -2, \"type\": \"Shapley Value\"}, {\"Shapley Value\": 0.019738348910429027, \"t (event index)\": -3, \"type\": \"Shapley Value\"}, {\"Shapley Value\": 0.09880805731392173, \"t (event index)\": -4, \"type\": \"Shapley Value\"}, {\"Shapley Value\": 0.03355130695409986, \"t (event index)\": -5, \"type\": \"Shapley Value\"}, {\"Shapley Value\": 0.06668802964330356, \"t (event index)\": -6, \"type\": \"Shapley Value\"}, {\"Shapley Value\": 0.06549198864099115, \"t (event index)\": -7, \"type\": \"Shapley Value\"}, {\"Shapley Value\": 0.03617410796095066, \"t (event index)\": -8, \"type\": \"Shapley Value\"}, {\"Shapley Value\": 0.01765007798971191, \"t (event index)\": -9, \"type\": \"Shapley Value\"}, {\"Shapley Value\": 0.012260058792818551, \"t (event index)\": -10, \"type\": \"Shapley Value\"}, {\"Shapley Value\": 0.12459898502216565, \"t (event index)\": 0, \"type\": \"Shapley Value\"}, {\"Shapley Value\": 0.10735943549820637, \"t (event index)\": -1, \"type\": \"Shapley Value\"}, {\"Shapley Value\": 0.058065401292090035, \"t (event index)\": -2, \"type\": \"Shapley Value\"}, {\"Shapley Value\": 0.1107897395225752, \"t (event index)\": -3, \"type\": \"Shapley Value\"}, {\"Shapley Value\": 0.08068177192639908, \"t (event index)\": -4, \"type\": \"Shapley Value\"}, {\"Shapley Value\": 0.057464832988665504, \"t (event index)\": -5, \"type\": \"Shapley Value\"}, {\"Shapley Value\": 0.05778801556002039, \"t (event index)\": -6, \"type\": \"Shapley Value\"}, {\"Shapley Value\": 0.014619088965477867, \"t (event index)\": -7, \"type\": \"Shapley Value\"}, {\"Shapley Value\": 0.02884597383341375, \"t (event index)\": -8, \"type\": \"Shapley Value\"}, {\"Shapley Value\": 0.019488786413934922, \"t (event index)\": -9, \"type\": \"Shapley Value\"}, {\"Shapley Value\": 0.06449853085649349, \"t (event index)\": 0, \"type\": \"Shapley Value\"}, {\"Shapley Value\": 0.12024670021304756, \"t (event index)\": -1, \"type\": \"Shapley Value\"}, {\"Shapley Value\": 0.11044351324340973, \"t (event index)\": -2, \"type\": \"Shapley Value\"}, {\"Shapley Value\": 0.09179398497898472, \"t (event index)\": -3, \"type\": \"Shapley Value\"}, {\"Shapley Value\": 0.039485478619836645, \"t (event index)\": -4, \"type\": \"Shapley Value\"}, {\"Shapley Value\": 0.03863657128420628, \"t (event index)\": -5, \"type\": \"Shapley Value\"}, {\"Shapley Value\": 0.04125886313895433, \"t (event index)\": -6, \"type\": \"Shapley Value\"}, {\"Shapley Value\": 0.04534959938299177, \"t (event index)\": -7, \"type\": \"Shapley Value\"}, {\"Shapley Value\": 0.02839875772667988, \"t (event index)\": -8, \"type\": \"Shapley Value\"}, {\"Shapley Value\": 0.016468066004847626, \"t (event index)\": -9, \"type\": \"Shapley Value\"}, {\"Shapley Value\": 0.00857266137016266, \"t (event index)\": -10, \"type\": \"Shapley Value\"}, {\"Shapley Value\": 0.011085174002282011, \"t (event index)\": -12, \"type\": \"Mean\"}, {\"Shapley Value\": 0.00021969972323349074, \"t (event index)\": -11, \"type\": \"Mean\"}, {\"Shapley Value\": 0.011878922131624078, \"t (event index)\": -10, \"type\": \"Mean\"}, {\"Shapley Value\": 0.01620572694352257, \"t (event index)\": -9, \"type\": \"Mean\"}, {\"Shapley Value\": 0.034794733062796665, \"t (event index)\": -8, \"type\": \"Mean\"}, {\"Shapley Value\": 0.040706922329914935, \"t (event index)\": -7, \"type\": \"Mean\"}, {\"Shapley Value\": 0.043020339184945966, \"t (event index)\": -6, \"type\": \"Mean\"}, {\"Shapley Value\": 0.03654600202451466, \"t (event index)\": -5, \"type\": \"Mean\"}, {\"Shapley Value\": 0.07528244714630654, \"t (event index)\": -4, \"type\": \"Mean\"}, {\"Shapley Value\": 0.0785850764461294, \"t (event index)\": -3, \"type\": \"Mean\"}, {\"Shapley Value\": 0.09255191417808563, \"t (event index)\": -2, \"type\": \"Mean\"}, {\"Shapley Value\": 0.1023421757243575, \"t (event index)\": -1, \"type\": \"Mean\"}, {\"Shapley Value\": 0.07315288760129499, \"t (event index)\": 0, \"type\": \"Mean\"}]}}, {\"mode\": \"vega-lite\"});\n",
       "</script>"
      ],
      "text/plain": [
       "alt.VConcatChart(...)"
      ]
     },
     "execution_count": 22,
     "metadata": {},
     "output_type": "execute_result"
    }
   ],
   "source": [
    "global_plot"
   ]
  },
  {
   "cell_type": "code",
   "execution_count": 23,
   "id": "e3ae0bdc",
   "metadata": {},
   "outputs": [],
   "source": [
    "pruning_dict = {'tol': 0.05}\n",
    "event_dict = {'rs': 42, 'nsamples': 16000}\n",
    "feature_dict = {'rs': 42, 'nsamples': 16000, 'feature_names': model_features, 'plot_features': plot_feats,}"
   ]
  },
  {
   "cell_type": "code",
   "execution_count": 24,
   "id": "bb0dfc6c",
   "metadata": {},
   "outputs": [
    {
     "name": "stdout",
     "output_type": "stream",
     "text": [
      "No path to persist pruning data provided.\n",
      "No path to persist event explanations provided.\n",
      "No path to persist feature explanations provided.\n",
      "Calculating pruning algorithm\n",
      "Calculating event data\n",
      "Calculating feat data\n",
      "Calculating pruning indexes\n"
     ]
    }
   ],
   "source": [
    "# when using dataframes, schema is implicit\n",
    "prun_stats, global_plot = global_report(f_hs, pos_dataset, pruning_dict, event_dict, feature_dict, average_event, model_features, None, sequence_id_feat, time_feat)"
   ]
  },
  {
   "cell_type": "code",
   "execution_count": 25,
   "id": "c8202fd9",
   "metadata": {},
   "outputs": [
    {
     "data": {
      "text/html": [
       "\n",
       "<div id=\"altair-viz-cf19e682530841e59d69e4394a2000a9\"></div>\n",
       "<script type=\"text/javascript\">\n",
       "  (function(spec, embedOpt){\n",
       "    let outputDiv = document.currentScript.previousElementSibling;\n",
       "    if (outputDiv.id !== \"altair-viz-cf19e682530841e59d69e4394a2000a9\") {\n",
       "      outputDiv = document.getElementById(\"altair-viz-cf19e682530841e59d69e4394a2000a9\");\n",
       "    }\n",
       "    const paths = {\n",
       "      \"vega\": \"https://cdn.jsdelivr.net/npm//vega@5?noext\",\n",
       "      \"vega-lib\": \"https://cdn.jsdelivr.net/npm//vega-lib?noext\",\n",
       "      \"vega-lite\": \"https://cdn.jsdelivr.net/npm//vega-lite@4.8.1?noext\",\n",
       "      \"vega-embed\": \"https://cdn.jsdelivr.net/npm//vega-embed@6?noext\",\n",
       "    };\n",
       "\n",
       "    function loadScript(lib) {\n",
       "      return new Promise(function(resolve, reject) {\n",
       "        var s = document.createElement('script');\n",
       "        s.src = paths[lib];\n",
       "        s.async = true;\n",
       "        s.onload = () => resolve(paths[lib]);\n",
       "        s.onerror = () => reject(`Error loading script: ${paths[lib]}`);\n",
       "        document.getElementsByTagName(\"head\")[0].appendChild(s);\n",
       "      });\n",
       "    }\n",
       "\n",
       "    function showError(err) {\n",
       "      outputDiv.innerHTML = `<div class=\"error\" style=\"color:red;\">${err}</div>`;\n",
       "      throw err;\n",
       "    }\n",
       "\n",
       "    function displayChart(vegaEmbed) {\n",
       "      vegaEmbed(outputDiv, spec, embedOpt)\n",
       "        .catch(err => showError(`Javascript Error: ${err.message}<br>This usually means there's a typo in your chart specification. See the javascript console for the full traceback.`));\n",
       "    }\n",
       "\n",
       "    if(typeof define === \"function\" && define.amd) {\n",
       "      requirejs.config({paths});\n",
       "      require([\"vega-embed\"], displayChart, err => showError(`Error loading script: ${err.message}`));\n",
       "    } else if (typeof vegaEmbed === \"function\") {\n",
       "      displayChart(vegaEmbed);\n",
       "    } else {\n",
       "      loadScript(\"vega\")\n",
       "        .then(() => loadScript(\"vega-lite\"))\n",
       "        .then(() => loadScript(\"vega-embed\"))\n",
       "        .catch(showError)\n",
       "        .then(() => displayChart(vegaEmbed));\n",
       "    }\n",
       "  })({\"config\": {\"axis\": {\"domain\": true, \"domainColor\": \"#666F89\", \"grid\": false, \"gridCap\": \"round\", \"gridColor\": \"#B3B7C4\", \"gridDash\": [2, 4], \"gridWidth\": 0.5, \"labelColor\": \"#666F89\", \"labelFont\": \"Roboto, Arial, sans-serif\", \"labelPadding\": 2, \"tickColor\": \"#666F89\", \"tickOpacity\": 0.5, \"tickSize\": 4, \"titleColor\": \"#19274E\", \"titleFont\": \"Roboto, Arial, sans-serif\", \"titleFontSize\": 12}, \"axisBand\": {\"domain\": true, \"labelPadding\": 4, \"ticks\": false}, \"axisY\": {\"domain\": false, \"titleAlign\": \"left\", \"titleAngle\": 0, \"titleX\": -20, \"titleY\": -10}, \"legend\": {\"labelColor\": \"#666F89\", \"labelFont\": \"Roboto, Arial, sans-serif\", \"labelFontSize\": 12, \"symbolSize\": 40, \"titleColor\": \"#19274E\", \"titleFont\": \"Roboto, Arial, sans-serif\", \"titleFontSize\": 12, \"titlePadding\": 4}, \"arc\": {\"stroke\": \"#FFFFFF\", \"strokeWidth\": 1}, \"bar\": {\"fill\": \"#2770EB\", \"stroke\": null}, \"line\": {\"stroke\": \"#2770EB\", \"strokeWidth\": 2}, \"path\": {\"stroke\": \"#2770EB\", \"strokeWidth\": 0.5}, \"point\": {\"fill\": \"#2770EB\", \"shape\": \"circle\", \"filled\": true}, \"rect\": {\"fill\": \"#2770EB\"}, \"rule\": {\"stroke\": \"#666F89\"}, \"shape\": {\"stroke\": \"#2770EB\"}, \"text\": {\"color\": \"#19274E\", \"font\": \"Roboto, Arial, sans-serif\", \"fontSize\": 12}, \"range\": {\"category\": [\"#2770EB\", \"#77B98A\", \"#DA5252\", \"#FFC400\", \"#A87AEA\", \"#00A39E\", \"#19274E\"], \"diverging\": [\"#006360\", \"#2BB3AE\", \"#96D9D7\", \"#FFFFFF\", \"#EDAAAA\", \"#DA5252\", \"#811D1D\"], \"heatmap\": [\"#18448F\", \"#1B4EA5\", \"#2770EB\", \"#4C88EE\", \"#82ACF3\", \"#A6C4F7\", \"#E9F1FD\"], \"ramp\": [\"#18448F\", \"#1B4EA5\", \"#2770EB\", \"#4C88EE\", \"#82ACF3\", \"#A6C4F7\", \"#E9F1FD\"]}, \"background\": \"#FFFFFF\", \"group\": {\"fill\": \"#FFFFFF\"}, \"header\": {\"labelColor\": \"#19274E\", \"labelFont\": \"Roboto, Arial, sans-serif\", \"labelFontSize\": 12, \"titleColor\": \"#19274E\", \"titleFont\": \"Roboto, Arial, sans-serif\", \"titleFontSize\": 16}, \"title\": {\"anchor\": \"start\", \"color\": \"#19274E\", \"font\": \"Roboto, Arial, sans-serif\", \"fontSize\": 20, \"fontWeight\": \"bold\", \"offset\": 20, \"subtitleColor\": \"#19274E\", \"subtitleFontSize\": 16}, \"view\": {\"continuousHeight\": 300, \"continuousWidth\": 400, \"stroke\": \"transparent\"}}, \"vconcat\": [{\"hconcat\": [{\"vconcat\": [{\"mark\": {\"type\": \"point\", \"stroke\": \"white\", \"strokeWidth\": 0.6}, \"encoding\": {\"color\": {\"type\": \"nominal\", \"field\": \"type\", \"legend\": {\"fillColor\": \"white\", \"orient\": \"top-left\", \"symbolSize\": 50, \"symbolStrokeWidth\": 0, \"title\": null}, \"scale\": {\"domain\": [\"Shapley Value\", \"Mean\"], \"range\": [\"#48caaa\", \"#d76d58\"]}}, \"opacity\": {\"condition\": {\"value\": 1.0, \"test\": \"(datum.type === 'Mean')\"}, \"value\": 0.2}, \"size\": {\"condition\": {\"value\": 70, \"test\": \"(datum.type === 'Mean')\"}, \"value\": 30}, \"x\": {\"type\": \"ordinal\", \"axis\": {\"labelAngle\": 0}, \"field\": \"t (event index)\"}, \"y\": {\"type\": \"quantitative\", \"axis\": {\"grid\": true, \"titleX\": -23}, \"field\": \"Shapley Value\", \"scale\": {\"domain\": [-0.3, 0.9]}, \"title\": \"Shapley Value\"}}, \"height\": 150, \"width\": 360}], \"data\": {\"name\": \"data-02bd3c915c12bf3fb1ac3f36d8573227\"}}, {\"vconcat\": [{\"mark\": {\"type\": \"point\", \"stroke\": \"white\", \"strokeWidth\": 0.6}, \"encoding\": {\"color\": {\"type\": \"nominal\", \"field\": \"type\", \"legend\": {\"fillColor\": \"white\", \"orient\": \"bottom-right\", \"symbolSize\": 50, \"symbolStrokeWidth\": 0, \"title\": null}, \"scale\": {\"domain\": [\"Shapley Value\", \"Mean\"], \"range\": [\"#618FE0\", \"#d76d58\"]}}, \"opacity\": {\"condition\": {\"value\": 1.0, \"test\": \"(datum.type === 'Mean')\"}, \"value\": 0.1}, \"size\": {\"condition\": {\"value\": 70, \"test\": \"(datum.type === 'Mean')\"}, \"value\": 30}, \"x\": {\"type\": \"quantitative\", \"axis\": {\"grid\": true, \"title\": \"Shapley Value\"}, \"field\": \"Shapley Value\", \"scale\": {\"domain\": [-0.2, 0.6]}}, \"y\": {\"type\": \"ordinal\", \"axis\": {\"labelFontSize\": 13, \"titleX\": -51}, \"field\": \"Feature\", \"sort\": [\"Mean Right Ankle <-> Left Ankle\", \"STD Chest <-> Left Ankle\", \"STD Right Ankle <-> Left Ankle\", \"Mean Chest <-> Left Ankle\", \"Pruned Events\", \"STD Chest <-> Right Ankle\", \"Mean Chest <-> Right Ankle\"]}}, \"height\": 280, \"width\": 288}], \"data\": {\"name\": \"data-55b1f2cb922e1d6b571e26a034954744\"}}], \"center\": true, \"title\": \"Parameters: NSamples=16000 | Random Seed=42 | Pruning Tol= 0.05\"}], \"$schema\": \"https://vega.github.io/schema/vega-lite/v4.8.1.json\", \"datasets\": {\"data-02bd3c915c12bf3fb1ac3f36d8573227\": [{\"Shapley Value\": 0.0195638158355968, \"t (event index)\": 0, \"type\": \"Shapley Value\"}, {\"Shapley Value\": 0.04388157672480042, \"t (event index)\": -1, \"type\": \"Shapley Value\"}, {\"Shapley Value\": 0.12849918201238664, \"t (event index)\": -2, \"type\": \"Shapley Value\"}, {\"Shapley Value\": 0.09249816681475748, \"t (event index)\": -3, \"type\": \"Shapley Value\"}, {\"Shapley Value\": 0.08269692443504753, \"t (event index)\": -4, \"type\": \"Shapley Value\"}, {\"Shapley Value\": 0.016988364476479, \"t (event index)\": -5, \"type\": \"Shapley Value\"}, {\"Shapley Value\": 0.006441269205432143, \"t (event index)\": -6, \"type\": \"Shapley Value\"}, {\"Shapley Value\": 0.03831663393540863, \"t (event index)\": -7, \"type\": \"Shapley Value\"}, {\"Shapley Value\": 0.04583515132134791, \"t (event index)\": -8, \"type\": \"Shapley Value\"}, {\"Shapley Value\": 0.010824463904065024, \"t (event index)\": -9, \"type\": \"Shapley Value\"}, {\"Shapley Value\": 0.015470746606990882, \"t (event index)\": -10, \"type\": \"Shapley Value\"}, {\"Shapley Value\": 0.0002546006039284565, \"t (event index)\": -11, \"type\": \"Shapley Value\"}, {\"Shapley Value\": 0.01313085184666729, \"t (event index)\": -12, \"type\": \"Shapley Value\"}, {\"Shapley Value\": 0.01000651562388788, \"t (event index)\": -13, \"type\": \"Shapley Value\"}, {\"Shapley Value\": 0.0851190363303515, \"t (event index)\": 0, \"type\": \"Shapley Value\"}, {\"Shapley Value\": 0.1397717437014837, \"t (event index)\": -1, \"type\": \"Shapley Value\"}, {\"Shapley Value\": 0.07526186571888993, \"t (event index)\": -2, \"type\": \"Shapley Value\"}, {\"Shapley Value\": 0.020616713589003743, \"t (event index)\": -3, \"type\": \"Shapley Value\"}, {\"Shapley Value\": 0.0998925268899642, \"t (event index)\": -4, \"type\": \"Shapley Value\"}, {\"Shapley Value\": 0.03396884616377871, \"t (event index)\": -5, \"type\": \"Shapley Value\"}, {\"Shapley Value\": 0.06742596396746597, \"t (event index)\": -6, \"type\": \"Shapley Value\"}, {\"Shapley Value\": 0.06670577575146175, \"t (event index)\": -7, \"type\": \"Shapley Value\"}, {\"Shapley Value\": 0.03819515564092596, \"t (event index)\": -8, \"type\": \"Shapley Value\"}, {\"Shapley Value\": 0.01932809398547447, \"t (event index)\": -9, \"type\": \"Shapley Value\"}, {\"Shapley Value\": 0.014697263644896374, \"t (event index)\": -10, \"type\": \"Shapley Value\"}, {\"Shapley Value\": 0.010535184566936251, \"t (event index)\": -11, \"type\": \"Shapley Value\"}, {\"Shapley Value\": 0.015249525606895742, \"t (event index)\": -12, \"type\": \"Shapley Value\"}, {\"Shapley Value\": 0.12650692122450818, \"t (event index)\": 0, \"type\": \"Shapley Value\"}, {\"Shapley Value\": 0.1088482750155042, \"t (event index)\": -1, \"type\": \"Shapley Value\"}, {\"Shapley Value\": 0.058872777591143954, \"t (event index)\": -2, \"type\": \"Shapley Value\"}, {\"Shapley Value\": 0.11246365039800138, \"t (event index)\": -3, \"type\": \"Shapley Value\"}, {\"Shapley Value\": 0.0814399781028109, \"t (event index)\": -4, \"type\": \"Shapley Value\"}, {\"Shapley Value\": 0.057876138687187606, \"t (event index)\": -5, \"type\": \"Shapley Value\"}, {\"Shapley Value\": 0.058678364787925485, \"t (event index)\": -6, \"type\": \"Shapley Value\"}, {\"Shapley Value\": 0.015110559584868843, \"t (event index)\": -7, \"type\": \"Shapley Value\"}, {\"Shapley Value\": 0.030559149249168138, \"t (event index)\": -8, \"type\": \"Shapley Value\"}, {\"Shapley Value\": 0.021594407852311814, \"t (event index)\": -9, \"type\": \"Shapley Value\"}, {\"Shapley Value\": 0.02312842354367889, \"t (event index)\": -10, \"type\": \"Shapley Value\"}, {\"Shapley Value\": 0.06499582577006635, \"t (event index)\": 0, \"type\": \"Shapley Value\"}, {\"Shapley Value\": 0.12066013754930555, \"t (event index)\": -1, \"type\": \"Shapley Value\"}, {\"Shapley Value\": 0.11050848816409514, \"t (event index)\": -2, \"type\": \"Shapley Value\"}, {\"Shapley Value\": 0.09289033743162523, \"t (event index)\": -3, \"type\": \"Shapley Value\"}, {\"Shapley Value\": 0.03959168220489018, \"t (event index)\": -4, \"type\": \"Shapley Value\"}, {\"Shapley Value\": 0.03899380543521941, \"t (event index)\": -5, \"type\": \"Shapley Value\"}, {\"Shapley Value\": 0.04146713054701362, \"t (event index)\": -6, \"type\": \"Shapley Value\"}, {\"Shapley Value\": 0.04577367964580342, \"t (event index)\": -7, \"type\": \"Shapley Value\"}, {\"Shapley Value\": 0.030006380681652345, \"t (event index)\": -8, \"type\": \"Shapley Value\"}, {\"Shapley Value\": 0.01852749560138256, \"t (event index)\": -9, \"type\": \"Shapley Value\"}, {\"Shapley Value\": 0.008662523085180673, \"t (event index)\": -10, \"type\": \"Shapley Value\"}, {\"Shapley Value\": 0.013947834520247893, \"t (event index)\": -11, \"type\": \"Shapley Value\"}, {\"Shapley Value\": 0.00513371049957273, \"t (event index)\": -12, \"type\": \"Shapley Value\"}, {\"Shapley Value\": 0.01000651562388788, \"t (event index)\": -13, \"type\": \"Mean\"}, {\"Shapley Value\": 0.011171362651045255, \"t (event index)\": -12, \"type\": \"Mean\"}, {\"Shapley Value\": 0.008245873230370867, \"t (event index)\": -11, \"type\": \"Mean\"}, {\"Shapley Value\": 0.015489739220186705, \"t (event index)\": -10, \"type\": \"Mean\"}, {\"Shapley Value\": 0.017568615335808467, \"t (event index)\": -9, \"type\": \"Mean\"}, {\"Shapley Value\": 0.03614895922327359, \"t (event index)\": -8, \"type\": \"Mean\"}, {\"Shapley Value\": 0.04147666222938566, \"t (event index)\": -7, \"type\": \"Mean\"}, {\"Shapley Value\": 0.043503182126959306, \"t (event index)\": -6, \"type\": \"Mean\"}, {\"Shapley Value\": 0.03695678869066618, \"t (event index)\": -5, \"type\": \"Mean\"}, {\"Shapley Value\": 0.07590527790817819, \"t (event index)\": -4, \"type\": \"Mean\"}, {\"Shapley Value\": 0.07961721705834696, \"t (event index)\": -3, \"type\": \"Mean\"}, {\"Shapley Value\": 0.09328557837162892, \"t (event index)\": -2, \"type\": \"Mean\"}, {\"Shapley Value\": 0.10329043324777347, \"t (event index)\": -1, \"type\": \"Mean\"}, {\"Shapley Value\": 0.07404639979013071, \"t (event index)\": 0, \"type\": \"Mean\"}], \"data-55b1f2cb922e1d6b571e26a034954744\": [{\"Shapley Value\": -0.0037315547466277854, \"Feature\": \"Mean Chest <-> Right Ankle\", \"type\": \"Shapley Value\"}, {\"Shapley Value\": 0.01633783628543231, \"Feature\": \"STD Chest <-> Right Ankle\", \"type\": \"Shapley Value\"}, {\"Shapley Value\": 0.1293645047272246, \"Feature\": \"Mean Chest <-> Left Ankle\", \"type\": \"Shapley Value\"}, {\"Shapley Value\": 0.174270825553685, \"Feature\": \"STD Chest <-> Left Ankle\", \"type\": \"Shapley Value\"}, {\"Shapley Value\": 0.10783071642120678, \"Feature\": \"Mean Right Ankle <-> Left Ankle\", \"type\": \"Shapley Value\"}, {\"Shapley Value\": 0.09607234075665452, \"Feature\": \"STD Right Ankle <-> Left Ankle\", \"type\": \"Shapley Value\"}, {\"Shapley Value\": 0.06787356209630813, \"Feature\": \"Pruned Events\", \"type\": \"Shapley Value\"}, {\"Shapley Value\": 0.007585326790632285, \"Feature\": \"Mean Chest <-> Right Ankle\", \"type\": \"Shapley Value\"}, {\"Shapley Value\": 0.02075335751952881, \"Feature\": \"STD Chest <-> Right Ankle\", \"type\": \"Shapley Value\"}, {\"Shapley Value\": 0.11734476386613801, \"Feature\": \"Mean Chest <-> Left Ankle\", \"type\": \"Shapley Value\"}, {\"Shapley Value\": 0.1336234157816284, \"Feature\": \"STD Chest <-> Left Ankle\", \"type\": \"Shapley Value\"}, {\"Shapley Value\": 0.2941462176452787, \"Feature\": \"Mean Right Ankle <-> Left Ankle\", \"type\": \"Shapley Value\"}, {\"Shapley Value\": 0.10895940322162845, \"Feature\": \"STD Right Ankle <-> Left Ankle\", \"type\": \"Shapley Value\"}, {\"Shapley Value\": 0.09619845247250958, \"Feature\": \"Pruned Events\", \"type\": \"Shapley Value\"}, {\"Shapley Value\": -0.0014964762276835908, \"Feature\": \"Mean Chest <-> Right Ankle\", \"type\": \"Shapley Value\"}, {\"Shapley Value\": 0.017125093333778207, \"Feature\": \"STD Chest <-> Right Ankle\", \"type\": \"Shapley Value\"}, {\"Shapley Value\": 0.12727875832379593, \"Feature\": \"Mean Chest <-> Left Ankle\", \"type\": \"Shapley Value\"}, {\"Shapley Value\": 0.19357564000944982, \"Feature\": \"STD Chest <-> Left Ankle\", \"type\": \"Shapley Value\"}, {\"Shapley Value\": 0.223270549860206, \"Feature\": \"Mean Right Ankle <-> Left Ankle\", \"type\": \"Shapley Value\"}, {\"Shapley Value\": 0.1319306850300302, \"Feature\": \"STD Right Ankle <-> Left Ankle\", \"type\": \"Shapley Value\"}, {\"Shapley Value\": 0.12314127704039945, \"Feature\": \"Pruned Events\", \"type\": \"Shapley Value\"}, {\"Shapley Value\": 0.0060589356525313776, \"Feature\": \"Mean Chest <-> Right Ankle\", \"type\": \"Shapley Value\"}, {\"Shapley Value\": 0.021010522624211908, \"Feature\": \"STD Chest <-> Right Ankle\", \"type\": \"Shapley Value\"}, {\"Shapley Value\": 0.12945202801908767, \"Feature\": \"Mean Chest <-> Left Ankle\", \"type\": \"Shapley Value\"}, {\"Shapley Value\": 0.12061520990516439, \"Feature\": \"STD Chest <-> Left Ankle\", \"type\": \"Shapley Value\"}, {\"Shapley Value\": 0.13400809856663842, \"Feature\": \"Mean Right Ankle <-> Left Ankle\", \"type\": \"Shapley Value\"}, {\"Shapley Value\": 0.21506464588677568, \"Feature\": \"STD Right Ankle <-> Left Ankle\", \"type\": \"Shapley Value\"}, {\"Shapley Value\": 0.08456872867952536, \"Feature\": \"Pruned Events\", \"type\": \"Shapley Value\"}, {\"Shapley Value\": 0.09294550507218563, \"Feature\": \"Pruned Events\", \"type\": \"Mean\"}, {\"Shapley Value\": 0.0021040578672130716, \"Feature\": \"Mean Chest <-> Right Ankle\", \"type\": \"Mean\"}, {\"Shapley Value\": 0.12586001373406155, \"Feature\": \"Mean Chest <-> Left Ankle\", \"type\": \"Mean\"}, {\"Shapley Value\": 0.18981389562333248, \"Feature\": \"Mean Right Ankle <-> Left Ankle\", \"type\": \"Mean\"}, {\"Shapley Value\": 0.01880670244073781, \"Feature\": \"STD Chest <-> Right Ankle\", \"type\": \"Mean\"}, {\"Shapley Value\": 0.1555212728124819, \"Feature\": \"STD Chest <-> Left Ankle\", \"type\": \"Mean\"}, {\"Shapley Value\": 0.1380067687237722, \"Feature\": \"STD Right Ankle <-> Left Ankle\", \"type\": \"Mean\"}]}}, {\"mode\": \"vega-lite\"});\n",
       "</script>"
      ],
      "text/plain": [
       "alt.VConcatChart(...)"
      ]
     },
     "execution_count": 25,
     "metadata": {},
     "output_type": "execute_result"
    }
   ],
   "source": [
    "global_plot"
   ]
  },
  {
   "cell_type": "markdown",
   "id": "7a20d7e6",
   "metadata": {},
   "source": [
    "### Numpy dataset Dataframe interface"
   ]
  },
  {
   "cell_type": "code",
   "execution_count": 26,
   "id": "cc6b7125",
   "metadata": {},
   "outputs": [],
   "source": [
    "def pandasdf_to_numpy(df, group_by_feat, timestamp_Feat):\n",
    "    sequence_length = len(df[timestamp_Feat].unique())\n",
    "    data_tensor = np.zeros((len(df[group_by_feat].unique()), sequence_length, len(df.columns)))\n",
    "\n",
    "    for i, name in enumerate(df[group_by_feat].unique()):\n",
    "        name_data = df[df[group_by_feat] == name]\n",
    "        sorted_data = name_data.sort_values(timestamp_Feat)\n",
    "        try:\n",
    "            data_tensor[i, :, :] = sorted_data.values\n",
    "        except ValueError:\n",
    "            data_tensor = data_tensor.astype(np.object)\n",
    "            data_tensor[i, :, :] = sorted_data.values\n",
    "\n",
    "    return data_tensor\n",
    "\n",
    "pos_dataset_numpy = pandasdf_to_numpy(pos_dataset, sequence_id_feat, time_feat)"
   ]
  },
  {
   "cell_type": "code",
   "execution_count": 27,
   "id": "f0409f47",
   "metadata": {},
   "outputs": [
    {
     "name": "stdout",
     "output_type": "stream",
     "text": [
      "No path to persist pruning data provided.\n",
      "No path to persist event explanations provided.\n",
      "No path to persist feature explanations provided.\n",
      "Calculating pruning algorithm\n",
      "Calculating event data\n",
      "Calculating feat data\n",
      "Calculating pruning indexes\n"
     ]
    }
   ],
   "source": [
    "# when using numpy arrays, no schema is implicit. Provide the schema so TimeSHAP inferes the indexes\n",
    "prun_stats, global_plot = global_report(f_hs, pos_dataset_numpy, pruning_dict,\n",
    "                                        event_dict, feature_dict, average_sequence, model_features, schema,\n",
    "                                        sequence_id_feat, time_feat)\n"
   ]
  },
  {
   "cell_type": "code",
   "execution_count": 28,
   "id": "fa3f1d0e",
   "metadata": {},
   "outputs": [
    {
     "data": {
      "text/html": [
       "\n",
       "<div id=\"altair-viz-ebc8140adaac4a2181cb948c7e4716fe\"></div>\n",
       "<script type=\"text/javascript\">\n",
       "  (function(spec, embedOpt){\n",
       "    let outputDiv = document.currentScript.previousElementSibling;\n",
       "    if (outputDiv.id !== \"altair-viz-ebc8140adaac4a2181cb948c7e4716fe\") {\n",
       "      outputDiv = document.getElementById(\"altair-viz-ebc8140adaac4a2181cb948c7e4716fe\");\n",
       "    }\n",
       "    const paths = {\n",
       "      \"vega\": \"https://cdn.jsdelivr.net/npm//vega@5?noext\",\n",
       "      \"vega-lib\": \"https://cdn.jsdelivr.net/npm//vega-lib?noext\",\n",
       "      \"vega-lite\": \"https://cdn.jsdelivr.net/npm//vega-lite@4.8.1?noext\",\n",
       "      \"vega-embed\": \"https://cdn.jsdelivr.net/npm//vega-embed@6?noext\",\n",
       "    };\n",
       "\n",
       "    function loadScript(lib) {\n",
       "      return new Promise(function(resolve, reject) {\n",
       "        var s = document.createElement('script');\n",
       "        s.src = paths[lib];\n",
       "        s.async = true;\n",
       "        s.onload = () => resolve(paths[lib]);\n",
       "        s.onerror = () => reject(`Error loading script: ${paths[lib]}`);\n",
       "        document.getElementsByTagName(\"head\")[0].appendChild(s);\n",
       "      });\n",
       "    }\n",
       "\n",
       "    function showError(err) {\n",
       "      outputDiv.innerHTML = `<div class=\"error\" style=\"color:red;\">${err}</div>`;\n",
       "      throw err;\n",
       "    }\n",
       "\n",
       "    function displayChart(vegaEmbed) {\n",
       "      vegaEmbed(outputDiv, spec, embedOpt)\n",
       "        .catch(err => showError(`Javascript Error: ${err.message}<br>This usually means there's a typo in your chart specification. See the javascript console for the full traceback.`));\n",
       "    }\n",
       "\n",
       "    if(typeof define === \"function\" && define.amd) {\n",
       "      requirejs.config({paths});\n",
       "      require([\"vega-embed\"], displayChart, err => showError(`Error loading script: ${err.message}`));\n",
       "    } else if (typeof vegaEmbed === \"function\") {\n",
       "      displayChart(vegaEmbed);\n",
       "    } else {\n",
       "      loadScript(\"vega\")\n",
       "        .then(() => loadScript(\"vega-lite\"))\n",
       "        .then(() => loadScript(\"vega-embed\"))\n",
       "        .catch(showError)\n",
       "        .then(() => displayChart(vegaEmbed));\n",
       "    }\n",
       "  })({\"config\": {\"axis\": {\"domain\": true, \"domainColor\": \"#666F89\", \"grid\": false, \"gridCap\": \"round\", \"gridColor\": \"#B3B7C4\", \"gridDash\": [2, 4], \"gridWidth\": 0.5, \"labelColor\": \"#666F89\", \"labelFont\": \"Roboto, Arial, sans-serif\", \"labelPadding\": 2, \"tickColor\": \"#666F89\", \"tickOpacity\": 0.5, \"tickSize\": 4, \"titleColor\": \"#19274E\", \"titleFont\": \"Roboto, Arial, sans-serif\", \"titleFontSize\": 12}, \"axisBand\": {\"domain\": true, \"labelPadding\": 4, \"ticks\": false}, \"axisY\": {\"domain\": false, \"titleAlign\": \"left\", \"titleAngle\": 0, \"titleX\": -20, \"titleY\": -10}, \"legend\": {\"labelColor\": \"#666F89\", \"labelFont\": \"Roboto, Arial, sans-serif\", \"labelFontSize\": 12, \"symbolSize\": 40, \"titleColor\": \"#19274E\", \"titleFont\": \"Roboto, Arial, sans-serif\", \"titleFontSize\": 12, \"titlePadding\": 4}, \"arc\": {\"stroke\": \"#FFFFFF\", \"strokeWidth\": 1}, \"bar\": {\"fill\": \"#2770EB\", \"stroke\": null}, \"line\": {\"stroke\": \"#2770EB\", \"strokeWidth\": 2}, \"path\": {\"stroke\": \"#2770EB\", \"strokeWidth\": 0.5}, \"point\": {\"fill\": \"#2770EB\", \"shape\": \"circle\", \"filled\": true}, \"rect\": {\"fill\": \"#2770EB\"}, \"rule\": {\"stroke\": \"#666F89\"}, \"shape\": {\"stroke\": \"#2770EB\"}, \"text\": {\"color\": \"#19274E\", \"font\": \"Roboto, Arial, sans-serif\", \"fontSize\": 12}, \"range\": {\"category\": [\"#2770EB\", \"#77B98A\", \"#DA5252\", \"#FFC400\", \"#A87AEA\", \"#00A39E\", \"#19274E\"], \"diverging\": [\"#006360\", \"#2BB3AE\", \"#96D9D7\", \"#FFFFFF\", \"#EDAAAA\", \"#DA5252\", \"#811D1D\"], \"heatmap\": [\"#18448F\", \"#1B4EA5\", \"#2770EB\", \"#4C88EE\", \"#82ACF3\", \"#A6C4F7\", \"#E9F1FD\"], \"ramp\": [\"#18448F\", \"#1B4EA5\", \"#2770EB\", \"#4C88EE\", \"#82ACF3\", \"#A6C4F7\", \"#E9F1FD\"]}, \"background\": \"#FFFFFF\", \"group\": {\"fill\": \"#FFFFFF\"}, \"header\": {\"labelColor\": \"#19274E\", \"labelFont\": \"Roboto, Arial, sans-serif\", \"labelFontSize\": 12, \"titleColor\": \"#19274E\", \"titleFont\": \"Roboto, Arial, sans-serif\", \"titleFontSize\": 16}, \"title\": {\"anchor\": \"start\", \"color\": \"#19274E\", \"font\": \"Roboto, Arial, sans-serif\", \"fontSize\": 20, \"fontWeight\": \"bold\", \"offset\": 20, \"subtitleColor\": \"#19274E\", \"subtitleFontSize\": 16}, \"view\": {\"continuousHeight\": 300, \"continuousWidth\": 400, \"stroke\": \"transparent\"}}, \"vconcat\": [{\"hconcat\": [{\"vconcat\": [{\"mark\": {\"type\": \"point\", \"stroke\": \"white\", \"strokeWidth\": 0.6}, \"encoding\": {\"color\": {\"type\": \"nominal\", \"field\": \"type\", \"legend\": {\"fillColor\": \"white\", \"orient\": \"top-left\", \"symbolSize\": 50, \"symbolStrokeWidth\": 0, \"title\": null}, \"scale\": {\"domain\": [\"Shapley Value\", \"Mean\"], \"range\": [\"#48caaa\", \"#d76d58\"]}}, \"opacity\": {\"condition\": {\"value\": 1.0, \"test\": \"(datum.type === 'Mean')\"}, \"value\": 0.2}, \"size\": {\"condition\": {\"value\": 70, \"test\": \"(datum.type === 'Mean')\"}, \"value\": 30}, \"x\": {\"type\": \"ordinal\", \"axis\": {\"labelAngle\": 0}, \"field\": \"t (event index)\"}, \"y\": {\"type\": \"quantitative\", \"axis\": {\"grid\": true, \"titleX\": -23}, \"field\": \"Shapley Value\", \"scale\": {\"domain\": [-0.3, 0.9]}, \"title\": \"Shapley Value\"}}, \"height\": 150, \"width\": 360}], \"data\": {\"name\": \"data-abad49f3d1be73bb0a3b9161e98fab29\"}}, {\"vconcat\": [{\"mark\": {\"type\": \"point\", \"stroke\": \"white\", \"strokeWidth\": 0.6}, \"encoding\": {\"color\": {\"type\": \"nominal\", \"field\": \"type\", \"legend\": {\"fillColor\": \"white\", \"orient\": \"bottom-right\", \"symbolSize\": 50, \"symbolStrokeWidth\": 0, \"title\": null}, \"scale\": {\"domain\": [\"Shapley Value\", \"Mean\"], \"range\": [\"#618FE0\", \"#d76d58\"]}}, \"opacity\": {\"condition\": {\"value\": 1.0, \"test\": \"(datum.type === 'Mean')\"}, \"value\": 0.1}, \"size\": {\"condition\": {\"value\": 70, \"test\": \"(datum.type === 'Mean')\"}, \"value\": 30}, \"x\": {\"type\": \"quantitative\", \"axis\": {\"grid\": true, \"title\": \"Shapley Value\"}, \"field\": \"Shapley Value\", \"scale\": {\"domain\": [-0.2, 0.6]}}, \"y\": {\"type\": \"ordinal\", \"axis\": {\"labelFontSize\": 13, \"titleX\": -51}, \"field\": \"Feature\", \"sort\": [\"Mean Chest <-> Right Ankle\", \"STD Chest <-> Right Ankle\", \"Pruned Events\", \"STD Right Ankle <-> Left Ankle\", \"Mean Chest <-> Left Ankle\", \"Mean Right Ankle <-> Left Ankle\", \"STD Chest <-> Left Ankle\"]}}, \"height\": 280, \"width\": 288}], \"data\": {\"name\": \"data-989f313f545ed270884f000d366ed934\"}}], \"center\": true, \"title\": \"Parameters: NSamples=16000 | Random Seed=42 | Pruning Tol= 0.05\"}], \"$schema\": \"https://vega.github.io/schema/vega-lite/v4.8.1.json\", \"datasets\": {\"data-abad49f3d1be73bb0a3b9161e98fab29\": [{\"Shapley Value\": 0.0, \"t (event index)\": 0, \"type\": \"Shapley Value\"}, {\"Shapley Value\": 0.04081648330059784, \"t (event index)\": -1, \"type\": \"Shapley Value\"}, {\"Shapley Value\": 0.12654113539838677, \"t (event index)\": -2, \"type\": \"Shapley Value\"}, {\"Shapley Value\": 0.09677862403412552, \"t (event index)\": -3, \"type\": \"Shapley Value\"}, {\"Shapley Value\": 0.08184068792638644, \"t (event index)\": -4, \"type\": \"Shapley Value\"}, {\"Shapley Value\": 0.015518223734232839, \"t (event index)\": -5, \"type\": \"Shapley Value\"}, {\"Shapley Value\": 0.011026800305997286, \"t (event index)\": -6, \"type\": \"Shapley Value\"}, {\"Shapley Value\": 0.04631108918120219, \"t (event index)\": -7, \"type\": \"Shapley Value\"}, {\"Shapley Value\": 0.04089511827362691, \"t (event index)\": -8, \"type\": \"Shapley Value\"}, {\"Shapley Value\": 0.01007934292320567, \"t (event index)\": -9, \"type\": \"Shapley Value\"}, {\"Shapley Value\": 0.011634272829025627, \"t (event index)\": -10, \"type\": \"Shapley Value\"}, {\"Shapley Value\": 0.0, \"t (event index)\": -11, \"type\": \"Shapley Value\"}, {\"Shapley Value\": 0.017371487496872562, \"t (event index)\": -12, \"type\": \"Shapley Value\"}, {\"Shapley Value\": 0.0117298389644106, \"t (event index)\": -13, \"type\": \"Shapley Value\"}, {\"Shapley Value\": 0.012364330241079025, \"t (event index)\": -14, \"type\": \"Shapley Value\"}, {\"Shapley Value\": 0.0043184145140905406, \"t (event index)\": -15, \"type\": \"Shapley Value\"}, {\"Shapley Value\": 0.006607111476168881, \"t (event index)\": -16, \"type\": \"Shapley Value\"}, {\"Shapley Value\": 0.0023800463014124196, \"t (event index)\": -17, \"type\": \"Shapley Value\"}, {\"Shapley Value\": 0.0006376568318484654, \"t (event index)\": -18, \"type\": \"Shapley Value\"}, {\"Shapley Value\": 0.004900490740194219, \"t (event index)\": -19, \"type\": \"Shapley Value\"}, {\"Shapley Value\": 0.0, \"t (event index)\": -20, \"type\": \"Shapley Value\"}, {\"Shapley Value\": 0.07002508352922632, \"t (event index)\": 0, \"type\": \"Shapley Value\"}, {\"Shapley Value\": 0.1180539483838905, \"t (event index)\": -1, \"type\": \"Shapley Value\"}, {\"Shapley Value\": 0.07535363418401914, \"t (event index)\": -2, \"type\": \"Shapley Value\"}, {\"Shapley Value\": 0.02758975606932218, \"t (event index)\": -3, \"type\": \"Shapley Value\"}, {\"Shapley Value\": 0.09657527624987056, \"t (event index)\": -4, \"type\": \"Shapley Value\"}, {\"Shapley Value\": 0.03360755543107097, \"t (event index)\": -5, \"type\": \"Shapley Value\"}, {\"Shapley Value\": 0.06404418951241503, \"t (event index)\": -6, \"type\": \"Shapley Value\"}, {\"Shapley Value\": 0.0790279568848617, \"t (event index)\": -7, \"type\": \"Shapley Value\"}, {\"Shapley Value\": 0.045255974702817725, \"t (event index)\": -8, \"type\": \"Shapley Value\"}, {\"Shapley Value\": 0.019179804202227202, \"t (event index)\": -9, \"type\": \"Shapley Value\"}, {\"Shapley Value\": 0.009657856405339782, \"t (event index)\": -10, \"type\": \"Shapley Value\"}, {\"Shapley Value\": 0.007973040741781179, \"t (event index)\": -11, \"type\": \"Shapley Value\"}, {\"Shapley Value\": 0.016911253039345042, \"t (event index)\": -12, \"type\": \"Shapley Value\"}, {\"Shapley Value\": 0.012183470507117933, \"t (event index)\": -13, \"type\": \"Shapley Value\"}, {\"Shapley Value\": 0.003134334583920151, \"t (event index)\": -14, \"type\": \"Shapley Value\"}, {\"Shapley Value\": 0.004399687836421751, \"t (event index)\": -15, \"type\": \"Shapley Value\"}, {\"Shapley Value\": 0.0007640302045343605, \"t (event index)\": -16, \"type\": \"Shapley Value\"}, {\"Shapley Value\": 0.0033324899562088284, \"t (event index)\": -17, \"type\": \"Shapley Value\"}, {\"Shapley Value\": 0.005236747374447237, \"t (event index)\": -18, \"type\": \"Shapley Value\"}, {\"Shapley Value\": 0.0031455305384409105, \"t (event index)\": -19, \"type\": \"Shapley Value\"}, {\"Shapley Value\": 0.000889985536140836, \"t (event index)\": -20, \"type\": \"Shapley Value\"}, {\"Shapley Value\": 0.12542819156976265, \"t (event index)\": 0, \"type\": \"Shapley Value\"}, {\"Shapley Value\": 0.11426748699493228, \"t (event index)\": -1, \"type\": \"Shapley Value\"}, {\"Shapley Value\": 0.034883632329011593, \"t (event index)\": -2, \"type\": \"Shapley Value\"}, {\"Shapley Value\": 0.11888202276245796, \"t (event index)\": -3, \"type\": \"Shapley Value\"}, {\"Shapley Value\": 0.08790923035049847, \"t (event index)\": -4, \"type\": \"Shapley Value\"}, {\"Shapley Value\": 0.049467869301934475, \"t (event index)\": -5, \"type\": \"Shapley Value\"}, {\"Shapley Value\": 0.06262301242695467, \"t (event index)\": -6, \"type\": \"Shapley Value\"}, {\"Shapley Value\": 0.008875492330663981, \"t (event index)\": -7, \"type\": \"Shapley Value\"}, {\"Shapley Value\": 0.019248840866437134, \"t (event index)\": -8, \"type\": \"Shapley Value\"}, {\"Shapley Value\": 0.020828055424111702, \"t (event index)\": -9, \"type\": \"Shapley Value\"}, {\"Shapley Value\": 0.027383364348919248, \"t (event index)\": -10, \"type\": \"Shapley Value\"}, {\"Shapley Value\": 0.009317828871787115, \"t (event index)\": -11, \"type\": \"Shapley Value\"}, {\"Shapley Value\": 0.029877616786363415, \"t (event index)\": -12, \"type\": \"Shapley Value\"}, {\"Shapley Value\": 0.010529974072881976, \"t (event index)\": -13, \"type\": \"Shapley Value\"}, {\"Shapley Value\": 0.003197076787529729, \"t (event index)\": -14, \"type\": \"Shapley Value\"}, {\"Shapley Value\": 0.005877848769375527, \"t (event index)\": -15, \"type\": \"Shapley Value\"}, {\"Shapley Value\": 0.004516149430115746, \"t (event index)\": -16, \"type\": \"Shapley Value\"}, {\"Shapley Value\": 0.002482437444854657, \"t (event index)\": -17, \"type\": \"Shapley Value\"}, {\"Shapley Value\": 0.004109970042753375, \"t (event index)\": -18, \"type\": \"Shapley Value\"}, {\"Shapley Value\": 0.012392920303703647, \"t (event index)\": -19, \"type\": \"Shapley Value\"}, {\"Shapley Value\": 0.0022611994845144756, \"t (event index)\": -20, \"type\": \"Shapley Value\"}, {\"Shapley Value\": 0.056784473111632094, \"t (event index)\": 0, \"type\": \"Shapley Value\"}, {\"Shapley Value\": 0.14998315442763444, \"t (event index)\": -1, \"type\": \"Shapley Value\"}, {\"Shapley Value\": 0.1278361547808038, \"t (event index)\": -2, \"type\": \"Shapley Value\"}, {\"Shapley Value\": 0.0828748137749113, \"t (event index)\": -3, \"type\": \"Shapley Value\"}, {\"Shapley Value\": 0.018913898717759337, \"t (event index)\": -4, \"type\": \"Shapley Value\"}, {\"Shapley Value\": 0.029381179888080422, \"t (event index)\": -5, \"type\": \"Shapley Value\"}, {\"Shapley Value\": 0.0442349956822386, \"t (event index)\": -6, \"type\": \"Shapley Value\"}, {\"Shapley Value\": 0.04839118637922635, \"t (event index)\": -7, \"type\": \"Shapley Value\"}, {\"Shapley Value\": 0.031613984482237345, \"t (event index)\": -8, \"type\": \"Shapley Value\"}, {\"Shapley Value\": 0.01814945958833053, \"t (event index)\": -9, \"type\": \"Shapley Value\"}, {\"Shapley Value\": 0.006027730669861231, \"t (event index)\": -10, \"type\": \"Shapley Value\"}, {\"Shapley Value\": 0.01311785168784918, \"t (event index)\": -11, \"type\": \"Shapley Value\"}, {\"Shapley Value\": 0.0062615099674867, \"t (event index)\": -12, \"type\": \"Shapley Value\"}, {\"Shapley Value\": 0.007998623938184735, \"t (event index)\": -13, \"type\": \"Shapley Value\"}, {\"Shapley Value\": 0.010124696392796617, \"t (event index)\": -14, \"type\": \"Shapley Value\"}, {\"Shapley Value\": 0.011020979937764908, \"t (event index)\": -15, \"type\": \"Shapley Value\"}, {\"Shapley Value\": 0.0010503950068851038, \"t (event index)\": -20, \"type\": \"Mean\"}, {\"Shapley Value\": 0.006812980527446259, \"t (event index)\": -19, \"type\": \"Mean\"}, {\"Shapley Value\": 0.0033281247496830257, \"t (event index)\": -18, \"type\": \"Mean\"}, {\"Shapley Value\": 0.0027316579008253017, \"t (event index)\": -17, \"type\": \"Mean\"}, {\"Shapley Value\": 0.003962430370272996, \"t (event index)\": -16, \"type\": \"Mean\"}, {\"Shapley Value\": 0.006404232764413181, \"t (event index)\": -15, \"type\": \"Mean\"}, {\"Shapley Value\": 0.00720510950133138, \"t (event index)\": -14, \"type\": \"Mean\"}, {\"Shapley Value\": 0.01061047687064881, \"t (event index)\": -13, \"type\": \"Mean\"}, {\"Shapley Value\": 0.01760546682251693, \"t (event index)\": -12, \"type\": \"Mean\"}, {\"Shapley Value\": 0.0076021803253543685, \"t (event index)\": -11, \"type\": \"Mean\"}, {\"Shapley Value\": 0.013675806063286472, \"t (event index)\": -10, \"type\": \"Mean\"}, {\"Shapley Value\": 0.017059165534468776, \"t (event index)\": -9, \"type\": \"Mean\"}, {\"Shapley Value\": 0.03425347958127978, \"t (event index)\": -8, \"type\": \"Mean\"}, {\"Shapley Value\": 0.045651431193988554, \"t (event index)\": -7, \"type\": \"Mean\"}, {\"Shapley Value\": 0.045482249481901396, \"t (event index)\": -6, \"type\": \"Mean\"}, {\"Shapley Value\": 0.031993707088829676, \"t (event index)\": -5, \"type\": \"Mean\"}, {\"Shapley Value\": 0.0713097733111287, \"t (event index)\": -4, \"type\": \"Mean\"}, {\"Shapley Value\": 0.08153130416020424, \"t (event index)\": -3, \"type\": \"Mean\"}, {\"Shapley Value\": 0.09115363917305533, \"t (event index)\": -2, \"type\": \"Mean\"}, {\"Shapley Value\": 0.10578026827676376, \"t (event index)\": -1, \"type\": \"Mean\"}, {\"Shapley Value\": 0.06305943705265526, \"t (event index)\": 0, \"type\": \"Mean\"}], \"data-989f313f545ed270884f000d366ed934\": [{\"Shapley Value\": 0.5291109152670412, \"Feature\": \"Mean Chest <-> Right Ankle\", \"type\": \"Shapley Value\"}, {\"Shapley Value\": 0.08609733201918152, \"Feature\": \"STD Chest <-> Right Ankle\", \"type\": \"Shapley Value\"}, {\"Shapley Value\": 0.015532654701244486, \"Feature\": \"Mean Chest <-> Left Ankle\", \"type\": \"Shapley Value\"}, {\"Shapley Value\": -0.09101187469703792, \"Feature\": \"STD Chest <-> Left Ankle\", \"type\": \"Shapley Value\"}, {\"Shapley Value\": -0.04121238323194634, \"Feature\": \"Mean Right Ankle <-> Left Ankle\", \"type\": \"Shapley Value\"}, {\"Shapley Value\": 0.007343848723740776, \"Feature\": \"STD Right Ankle <-> Left Ankle\", \"type\": \"Shapley Value\"}, {\"Shapley Value\": 0.05340718458450966, \"Feature\": \"Pruned Events\", \"type\": \"Shapley Value\"}, {\"Shapley Value\": 0.6273333588703753, \"Feature\": \"Mean Chest <-> Right Ankle\", \"type\": \"Shapley Value\"}, {\"Shapley Value\": 0.13205441169085957, \"Feature\": \"STD Chest <-> Right Ankle\", \"type\": \"Shapley Value\"}, {\"Shapley Value\": 0.009068952323425639, \"Feature\": \"Mean Chest <-> Left Ankle\", \"type\": \"Shapley Value\"}, {\"Shapley Value\": -0.055651854156028746, \"Feature\": \"STD Chest <-> Left Ankle\", \"type\": \"Shapley Value\"}, {\"Shapley Value\": 0.0013252122416382572, \"Feature\": \"Mean Right Ankle <-> Left Ankle\", \"type\": \"Shapley Value\"}, {\"Shapley Value\": 0.005661305111079151, \"Feature\": \"STD Right Ankle <-> Left Ankle\", \"type\": \"Shapley Value\"}, {\"Shapley Value\": 0.030068997488845062, \"Feature\": \"Pruned Events\", \"type\": \"Shapley Value\"}, {\"Shapley Value\": 0.5842126701736727, \"Feature\": \"Mean Chest <-> Right Ankle\", \"type\": \"Shapley Value\"}, {\"Shapley Value\": 0.1295346685463476, \"Feature\": \"STD Chest <-> Right Ankle\", \"type\": \"Shapley Value\"}, {\"Shapley Value\": 0.013718802304495181, \"Feature\": \"Mean Chest <-> Left Ankle\", \"type\": \"Shapley Value\"}, {\"Shapley Value\": -0.04429547878957929, \"Feature\": \"STD Chest <-> Left Ankle\", \"type\": \"Shapley Value\"}, {\"Shapley Value\": -0.001954442440044335, \"Feature\": \"Mean Right Ankle <-> Left Ankle\", \"type\": \"Shapley Value\"}, {\"Shapley Value\": 0.0549166044309026, \"Feature\": \"STD Right Ankle <-> Left Ankle\", \"type\": \"Shapley Value\"}, {\"Shapley Value\": 0.04994214941703157, \"Feature\": \"Pruned Events\", \"type\": \"Shapley Value\"}, {\"Shapley Value\": 0.5400002871418275, \"Feature\": \"Mean Chest <-> Right Ankle\", \"type\": \"Shapley Value\"}, {\"Shapley Value\": 0.1305043169075535, \"Feature\": \"STD Chest <-> Right Ankle\", \"type\": \"Shapley Value\"}, {\"Shapley Value\": 0.01707744133614375, \"Feature\": \"Mean Chest <-> Left Ankle\", \"type\": \"Shapley Value\"}, {\"Shapley Value\": -0.06392995087163783, \"Feature\": \"STD Chest <-> Left Ankle\", \"type\": \"Shapley Value\"}, {\"Shapley Value\": -0.023644670524767347, \"Feature\": \"Mean Right Ankle <-> Left Ankle\", \"type\": \"Shapley Value\"}, {\"Shapley Value\": 0.055059373698064296, \"Feature\": \"STD Right Ankle <-> Left Ankle\", \"type\": \"Shapley Value\"}, {\"Shapley Value\": 0.026960817919601032, \"Feature\": \"Pruned Events\", \"type\": \"Shapley Value\"}, {\"Shapley Value\": 0.04009478735249683, \"Feature\": \"Pruned Events\", \"type\": \"Mean\"}, {\"Shapley Value\": 0.5701643078632292, \"Feature\": \"Mean Chest <-> Right Ankle\", \"type\": \"Mean\"}, {\"Shapley Value\": 0.013849462666327264, \"Feature\": \"Mean Chest <-> Left Ankle\", \"type\": \"Mean\"}, {\"Shapley Value\": -0.016371570988779942, \"Feature\": \"Mean Right Ankle <-> Left Ankle\", \"type\": \"Mean\"}, {\"Shapley Value\": 0.11954768229098556, \"Feature\": \"STD Chest <-> Right Ankle\", \"type\": \"Mean\"}, {\"Shapley Value\": -0.06372228962857095, \"Feature\": \"STD Chest <-> Left Ankle\", \"type\": \"Mean\"}, {\"Shapley Value\": 0.030745282990946705, \"Feature\": \"STD Right Ankle <-> Left Ankle\", \"type\": \"Mean\"}]}}, {\"mode\": \"vega-lite\"});\n",
       "</script>"
      ],
      "text/plain": [
       "alt.VConcatChart(...)"
      ]
     },
     "execution_count": 28,
     "metadata": {},
     "output_type": "execute_result"
    }
   ],
   "source": [
    "global_plot"
   ]
  },
  {
   "cell_type": "code",
   "execution_count": 29,
   "id": "2f85451d",
   "metadata": {},
   "outputs": [
    {
     "name": "stdout",
     "output_type": "stream",
     "text": [
      "No path to persist pruning data provided.\n",
      "No path to persist event explanations provided.\n",
      "No path to persist feature explanations provided.\n",
      "Calculating pruning algorithm\n",
      "Calculating event data\n",
      "Calculating feat data\n",
      "Calculating pruning indexes\n"
     ]
    }
   ],
   "source": [
    "# Provide indexes for the features\n",
    "prun_stats, global_plot = global_report(f_hs, pos_dataset_numpy, pruning_dict,\n",
    "                                        event_dict, feature_dict, average_sequence, model_features=[schema.index(x) for x in model_features],\n",
    "                                        entity_col=schema.index(sequence_id_feat), time_col=schema.index(time_feat))"
   ]
  },
  {
   "cell_type": "code",
   "execution_count": 30,
   "id": "0e8a1dab",
   "metadata": {},
   "outputs": [
    {
     "data": {
      "text/html": [
       "\n",
       "<div id=\"altair-viz-38792a1d44f84050b844e2fbc07baa8c\"></div>\n",
       "<script type=\"text/javascript\">\n",
       "  (function(spec, embedOpt){\n",
       "    let outputDiv = document.currentScript.previousElementSibling;\n",
       "    if (outputDiv.id !== \"altair-viz-38792a1d44f84050b844e2fbc07baa8c\") {\n",
       "      outputDiv = document.getElementById(\"altair-viz-38792a1d44f84050b844e2fbc07baa8c\");\n",
       "    }\n",
       "    const paths = {\n",
       "      \"vega\": \"https://cdn.jsdelivr.net/npm//vega@5?noext\",\n",
       "      \"vega-lib\": \"https://cdn.jsdelivr.net/npm//vega-lib?noext\",\n",
       "      \"vega-lite\": \"https://cdn.jsdelivr.net/npm//vega-lite@4.8.1?noext\",\n",
       "      \"vega-embed\": \"https://cdn.jsdelivr.net/npm//vega-embed@6?noext\",\n",
       "    };\n",
       "\n",
       "    function loadScript(lib) {\n",
       "      return new Promise(function(resolve, reject) {\n",
       "        var s = document.createElement('script');\n",
       "        s.src = paths[lib];\n",
       "        s.async = true;\n",
       "        s.onload = () => resolve(paths[lib]);\n",
       "        s.onerror = () => reject(`Error loading script: ${paths[lib]}`);\n",
       "        document.getElementsByTagName(\"head\")[0].appendChild(s);\n",
       "      });\n",
       "    }\n",
       "\n",
       "    function showError(err) {\n",
       "      outputDiv.innerHTML = `<div class=\"error\" style=\"color:red;\">${err}</div>`;\n",
       "      throw err;\n",
       "    }\n",
       "\n",
       "    function displayChart(vegaEmbed) {\n",
       "      vegaEmbed(outputDiv, spec, embedOpt)\n",
       "        .catch(err => showError(`Javascript Error: ${err.message}<br>This usually means there's a typo in your chart specification. See the javascript console for the full traceback.`));\n",
       "    }\n",
       "\n",
       "    if(typeof define === \"function\" && define.amd) {\n",
       "      requirejs.config({paths});\n",
       "      require([\"vega-embed\"], displayChart, err => showError(`Error loading script: ${err.message}`));\n",
       "    } else if (typeof vegaEmbed === \"function\") {\n",
       "      displayChart(vegaEmbed);\n",
       "    } else {\n",
       "      loadScript(\"vega\")\n",
       "        .then(() => loadScript(\"vega-lite\"))\n",
       "        .then(() => loadScript(\"vega-embed\"))\n",
       "        .catch(showError)\n",
       "        .then(() => displayChart(vegaEmbed));\n",
       "    }\n",
       "  })({\"config\": {\"axis\": {\"domain\": true, \"domainColor\": \"#666F89\", \"grid\": false, \"gridCap\": \"round\", \"gridColor\": \"#B3B7C4\", \"gridDash\": [2, 4], \"gridWidth\": 0.5, \"labelColor\": \"#666F89\", \"labelFont\": \"Roboto, Arial, sans-serif\", \"labelPadding\": 2, \"tickColor\": \"#666F89\", \"tickOpacity\": 0.5, \"tickSize\": 4, \"titleColor\": \"#19274E\", \"titleFont\": \"Roboto, Arial, sans-serif\", \"titleFontSize\": 12}, \"axisBand\": {\"domain\": true, \"labelPadding\": 4, \"ticks\": false}, \"axisY\": {\"domain\": false, \"titleAlign\": \"left\", \"titleAngle\": 0, \"titleX\": -20, \"titleY\": -10}, \"legend\": {\"labelColor\": \"#666F89\", \"labelFont\": \"Roboto, Arial, sans-serif\", \"labelFontSize\": 12, \"symbolSize\": 40, \"titleColor\": \"#19274E\", \"titleFont\": \"Roboto, Arial, sans-serif\", \"titleFontSize\": 12, \"titlePadding\": 4}, \"arc\": {\"stroke\": \"#FFFFFF\", \"strokeWidth\": 1}, \"bar\": {\"fill\": \"#2770EB\", \"stroke\": null}, \"line\": {\"stroke\": \"#2770EB\", \"strokeWidth\": 2}, \"path\": {\"stroke\": \"#2770EB\", \"strokeWidth\": 0.5}, \"point\": {\"fill\": \"#2770EB\", \"shape\": \"circle\", \"filled\": true}, \"rect\": {\"fill\": \"#2770EB\"}, \"rule\": {\"stroke\": \"#666F89\"}, \"shape\": {\"stroke\": \"#2770EB\"}, \"text\": {\"color\": \"#19274E\", \"font\": \"Roboto, Arial, sans-serif\", \"fontSize\": 12}, \"range\": {\"category\": [\"#2770EB\", \"#77B98A\", \"#DA5252\", \"#FFC400\", \"#A87AEA\", \"#00A39E\", \"#19274E\"], \"diverging\": [\"#006360\", \"#2BB3AE\", \"#96D9D7\", \"#FFFFFF\", \"#EDAAAA\", \"#DA5252\", \"#811D1D\"], \"heatmap\": [\"#18448F\", \"#1B4EA5\", \"#2770EB\", \"#4C88EE\", \"#82ACF3\", \"#A6C4F7\", \"#E9F1FD\"], \"ramp\": [\"#18448F\", \"#1B4EA5\", \"#2770EB\", \"#4C88EE\", \"#82ACF3\", \"#A6C4F7\", \"#E9F1FD\"]}, \"background\": \"#FFFFFF\", \"group\": {\"fill\": \"#FFFFFF\"}, \"header\": {\"labelColor\": \"#19274E\", \"labelFont\": \"Roboto, Arial, sans-serif\", \"labelFontSize\": 12, \"titleColor\": \"#19274E\", \"titleFont\": \"Roboto, Arial, sans-serif\", \"titleFontSize\": 16}, \"title\": {\"anchor\": \"start\", \"color\": \"#19274E\", \"font\": \"Roboto, Arial, sans-serif\", \"fontSize\": 20, \"fontWeight\": \"bold\", \"offset\": 20, \"subtitleColor\": \"#19274E\", \"subtitleFontSize\": 16}, \"view\": {\"continuousHeight\": 300, \"continuousWidth\": 400, \"stroke\": \"transparent\"}}, \"vconcat\": [{\"hconcat\": [{\"vconcat\": [{\"mark\": {\"type\": \"point\", \"stroke\": \"white\", \"strokeWidth\": 0.6}, \"encoding\": {\"color\": {\"type\": \"nominal\", \"field\": \"type\", \"legend\": {\"fillColor\": \"white\", \"orient\": \"top-left\", \"symbolSize\": 50, \"symbolStrokeWidth\": 0, \"title\": null}, \"scale\": {\"domain\": [\"Shapley Value\", \"Mean\"], \"range\": [\"#48caaa\", \"#d76d58\"]}}, \"opacity\": {\"condition\": {\"value\": 1.0, \"test\": \"(datum.type === 'Mean')\"}, \"value\": 0.2}, \"size\": {\"condition\": {\"value\": 70, \"test\": \"(datum.type === 'Mean')\"}, \"value\": 30}, \"x\": {\"type\": \"ordinal\", \"axis\": {\"labelAngle\": 0}, \"field\": \"t (event index)\"}, \"y\": {\"type\": \"quantitative\", \"axis\": {\"grid\": true, \"titleX\": -23}, \"field\": \"Shapley Value\", \"scale\": {\"domain\": [-0.3, 0.9]}, \"title\": \"Shapley Value\"}}, \"height\": 150, \"width\": 360}], \"data\": {\"name\": \"data-abad49f3d1be73bb0a3b9161e98fab29\"}}, {\"vconcat\": [{\"mark\": {\"type\": \"point\", \"stroke\": \"white\", \"strokeWidth\": 0.6}, \"encoding\": {\"color\": {\"type\": \"nominal\", \"field\": \"type\", \"legend\": {\"fillColor\": \"white\", \"orient\": \"bottom-right\", \"symbolSize\": 50, \"symbolStrokeWidth\": 0, \"title\": null}, \"scale\": {\"domain\": [\"Shapley Value\", \"Mean\"], \"range\": [\"#618FE0\", \"#d76d58\"]}}, \"opacity\": {\"condition\": {\"value\": 1.0, \"test\": \"(datum.type === 'Mean')\"}, \"value\": 0.1}, \"size\": {\"condition\": {\"value\": 70, \"test\": \"(datum.type === 'Mean')\"}, \"value\": 30}, \"x\": {\"type\": \"quantitative\", \"axis\": {\"grid\": true, \"title\": \"Shapley Value\"}, \"field\": \"Shapley Value\", \"scale\": {\"domain\": [-0.2, 0.6]}}, \"y\": {\"type\": \"ordinal\", \"axis\": {\"labelFontSize\": 13, \"titleX\": -51}, \"field\": \"Feature\", \"sort\": [\"Mean Chest <-> Right Ankle\", \"STD Chest <-> Right Ankle\", \"Pruned Events\", \"STD Right Ankle <-> Left Ankle\", \"Mean Chest <-> Left Ankle\", \"Mean Right Ankle <-> Left Ankle\", \"STD Chest <-> Left Ankle\"]}}, \"height\": 280, \"width\": 288}], \"data\": {\"name\": \"data-989f313f545ed270884f000d366ed934\"}}], \"center\": true, \"title\": \"Parameters: NSamples=16000 | Random Seed=42 | Pruning Tol= 0.05\"}], \"$schema\": \"https://vega.github.io/schema/vega-lite/v4.8.1.json\", \"datasets\": {\"data-abad49f3d1be73bb0a3b9161e98fab29\": [{\"Shapley Value\": 0.0, \"t (event index)\": 0, \"type\": \"Shapley Value\"}, {\"Shapley Value\": 0.04081648330059784, \"t (event index)\": -1, \"type\": \"Shapley Value\"}, {\"Shapley Value\": 0.12654113539838677, \"t (event index)\": -2, \"type\": \"Shapley Value\"}, {\"Shapley Value\": 0.09677862403412552, \"t (event index)\": -3, \"type\": \"Shapley Value\"}, {\"Shapley Value\": 0.08184068792638644, \"t (event index)\": -4, \"type\": \"Shapley Value\"}, {\"Shapley Value\": 0.015518223734232839, \"t (event index)\": -5, \"type\": \"Shapley Value\"}, {\"Shapley Value\": 0.011026800305997286, \"t (event index)\": -6, \"type\": \"Shapley Value\"}, {\"Shapley Value\": 0.04631108918120219, \"t (event index)\": -7, \"type\": \"Shapley Value\"}, {\"Shapley Value\": 0.04089511827362691, \"t (event index)\": -8, \"type\": \"Shapley Value\"}, {\"Shapley Value\": 0.01007934292320567, \"t (event index)\": -9, \"type\": \"Shapley Value\"}, {\"Shapley Value\": 0.011634272829025627, \"t (event index)\": -10, \"type\": \"Shapley Value\"}, {\"Shapley Value\": 0.0, \"t (event index)\": -11, \"type\": \"Shapley Value\"}, {\"Shapley Value\": 0.017371487496872562, \"t (event index)\": -12, \"type\": \"Shapley Value\"}, {\"Shapley Value\": 0.0117298389644106, \"t (event index)\": -13, \"type\": \"Shapley Value\"}, {\"Shapley Value\": 0.012364330241079025, \"t (event index)\": -14, \"type\": \"Shapley Value\"}, {\"Shapley Value\": 0.0043184145140905406, \"t (event index)\": -15, \"type\": \"Shapley Value\"}, {\"Shapley Value\": 0.006607111476168881, \"t (event index)\": -16, \"type\": \"Shapley Value\"}, {\"Shapley Value\": 0.0023800463014124196, \"t (event index)\": -17, \"type\": \"Shapley Value\"}, {\"Shapley Value\": 0.0006376568318484654, \"t (event index)\": -18, \"type\": \"Shapley Value\"}, {\"Shapley Value\": 0.004900490740194219, \"t (event index)\": -19, \"type\": \"Shapley Value\"}, {\"Shapley Value\": 0.0, \"t (event index)\": -20, \"type\": \"Shapley Value\"}, {\"Shapley Value\": 0.07002508352922632, \"t (event index)\": 0, \"type\": \"Shapley Value\"}, {\"Shapley Value\": 0.1180539483838905, \"t (event index)\": -1, \"type\": \"Shapley Value\"}, {\"Shapley Value\": 0.07535363418401914, \"t (event index)\": -2, \"type\": \"Shapley Value\"}, {\"Shapley Value\": 0.02758975606932218, \"t (event index)\": -3, \"type\": \"Shapley Value\"}, {\"Shapley Value\": 0.09657527624987056, \"t (event index)\": -4, \"type\": \"Shapley Value\"}, {\"Shapley Value\": 0.03360755543107097, \"t (event index)\": -5, \"type\": \"Shapley Value\"}, {\"Shapley Value\": 0.06404418951241503, \"t (event index)\": -6, \"type\": \"Shapley Value\"}, {\"Shapley Value\": 0.0790279568848617, \"t (event index)\": -7, \"type\": \"Shapley Value\"}, {\"Shapley Value\": 0.045255974702817725, \"t (event index)\": -8, \"type\": \"Shapley Value\"}, {\"Shapley Value\": 0.019179804202227202, \"t (event index)\": -9, \"type\": \"Shapley Value\"}, {\"Shapley Value\": 0.009657856405339782, \"t (event index)\": -10, \"type\": \"Shapley Value\"}, {\"Shapley Value\": 0.007973040741781179, \"t (event index)\": -11, \"type\": \"Shapley Value\"}, {\"Shapley Value\": 0.016911253039345042, \"t (event index)\": -12, \"type\": \"Shapley Value\"}, {\"Shapley Value\": 0.012183470507117933, \"t (event index)\": -13, \"type\": \"Shapley Value\"}, {\"Shapley Value\": 0.003134334583920151, \"t (event index)\": -14, \"type\": \"Shapley Value\"}, {\"Shapley Value\": 0.004399687836421751, \"t (event index)\": -15, \"type\": \"Shapley Value\"}, {\"Shapley Value\": 0.0007640302045343605, \"t (event index)\": -16, \"type\": \"Shapley Value\"}, {\"Shapley Value\": 0.0033324899562088284, \"t (event index)\": -17, \"type\": \"Shapley Value\"}, {\"Shapley Value\": 0.005236747374447237, \"t (event index)\": -18, \"type\": \"Shapley Value\"}, {\"Shapley Value\": 0.0031455305384409105, \"t (event index)\": -19, \"type\": \"Shapley Value\"}, {\"Shapley Value\": 0.000889985536140836, \"t (event index)\": -20, \"type\": \"Shapley Value\"}, {\"Shapley Value\": 0.12542819156976265, \"t (event index)\": 0, \"type\": \"Shapley Value\"}, {\"Shapley Value\": 0.11426748699493228, \"t (event index)\": -1, \"type\": \"Shapley Value\"}, {\"Shapley Value\": 0.034883632329011593, \"t (event index)\": -2, \"type\": \"Shapley Value\"}, {\"Shapley Value\": 0.11888202276245796, \"t (event index)\": -3, \"type\": \"Shapley Value\"}, {\"Shapley Value\": 0.08790923035049847, \"t (event index)\": -4, \"type\": \"Shapley Value\"}, {\"Shapley Value\": 0.049467869301934475, \"t (event index)\": -5, \"type\": \"Shapley Value\"}, {\"Shapley Value\": 0.06262301242695467, \"t (event index)\": -6, \"type\": \"Shapley Value\"}, {\"Shapley Value\": 0.008875492330663981, \"t (event index)\": -7, \"type\": \"Shapley Value\"}, {\"Shapley Value\": 0.019248840866437134, \"t (event index)\": -8, \"type\": \"Shapley Value\"}, {\"Shapley Value\": 0.020828055424111702, \"t (event index)\": -9, \"type\": \"Shapley Value\"}, {\"Shapley Value\": 0.027383364348919248, \"t (event index)\": -10, \"type\": \"Shapley Value\"}, {\"Shapley Value\": 0.009317828871787115, \"t (event index)\": -11, \"type\": \"Shapley Value\"}, {\"Shapley Value\": 0.029877616786363415, \"t (event index)\": -12, \"type\": \"Shapley Value\"}, {\"Shapley Value\": 0.010529974072881976, \"t (event index)\": -13, \"type\": \"Shapley Value\"}, {\"Shapley Value\": 0.003197076787529729, \"t (event index)\": -14, \"type\": \"Shapley Value\"}, {\"Shapley Value\": 0.005877848769375527, \"t (event index)\": -15, \"type\": \"Shapley Value\"}, {\"Shapley Value\": 0.004516149430115746, \"t (event index)\": -16, \"type\": \"Shapley Value\"}, {\"Shapley Value\": 0.002482437444854657, \"t (event index)\": -17, \"type\": \"Shapley Value\"}, {\"Shapley Value\": 0.004109970042753375, \"t (event index)\": -18, \"type\": \"Shapley Value\"}, {\"Shapley Value\": 0.012392920303703647, \"t (event index)\": -19, \"type\": \"Shapley Value\"}, {\"Shapley Value\": 0.0022611994845144756, \"t (event index)\": -20, \"type\": \"Shapley Value\"}, {\"Shapley Value\": 0.056784473111632094, \"t (event index)\": 0, \"type\": \"Shapley Value\"}, {\"Shapley Value\": 0.14998315442763444, \"t (event index)\": -1, \"type\": \"Shapley Value\"}, {\"Shapley Value\": 0.1278361547808038, \"t (event index)\": -2, \"type\": \"Shapley Value\"}, {\"Shapley Value\": 0.0828748137749113, \"t (event index)\": -3, \"type\": \"Shapley Value\"}, {\"Shapley Value\": 0.018913898717759337, \"t (event index)\": -4, \"type\": \"Shapley Value\"}, {\"Shapley Value\": 0.029381179888080422, \"t (event index)\": -5, \"type\": \"Shapley Value\"}, {\"Shapley Value\": 0.0442349956822386, \"t (event index)\": -6, \"type\": \"Shapley Value\"}, {\"Shapley Value\": 0.04839118637922635, \"t (event index)\": -7, \"type\": \"Shapley Value\"}, {\"Shapley Value\": 0.031613984482237345, \"t (event index)\": -8, \"type\": \"Shapley Value\"}, {\"Shapley Value\": 0.01814945958833053, \"t (event index)\": -9, \"type\": \"Shapley Value\"}, {\"Shapley Value\": 0.006027730669861231, \"t (event index)\": -10, \"type\": \"Shapley Value\"}, {\"Shapley Value\": 0.01311785168784918, \"t (event index)\": -11, \"type\": \"Shapley Value\"}, {\"Shapley Value\": 0.0062615099674867, \"t (event index)\": -12, \"type\": \"Shapley Value\"}, {\"Shapley Value\": 0.007998623938184735, \"t (event index)\": -13, \"type\": \"Shapley Value\"}, {\"Shapley Value\": 0.010124696392796617, \"t (event index)\": -14, \"type\": \"Shapley Value\"}, {\"Shapley Value\": 0.011020979937764908, \"t (event index)\": -15, \"type\": \"Shapley Value\"}, {\"Shapley Value\": 0.0010503950068851038, \"t (event index)\": -20, \"type\": \"Mean\"}, {\"Shapley Value\": 0.006812980527446259, \"t (event index)\": -19, \"type\": \"Mean\"}, {\"Shapley Value\": 0.0033281247496830257, \"t (event index)\": -18, \"type\": \"Mean\"}, {\"Shapley Value\": 0.0027316579008253017, \"t (event index)\": -17, \"type\": \"Mean\"}, {\"Shapley Value\": 0.003962430370272996, \"t (event index)\": -16, \"type\": \"Mean\"}, {\"Shapley Value\": 0.006404232764413181, \"t (event index)\": -15, \"type\": \"Mean\"}, {\"Shapley Value\": 0.00720510950133138, \"t (event index)\": -14, \"type\": \"Mean\"}, {\"Shapley Value\": 0.01061047687064881, \"t (event index)\": -13, \"type\": \"Mean\"}, {\"Shapley Value\": 0.01760546682251693, \"t (event index)\": -12, \"type\": \"Mean\"}, {\"Shapley Value\": 0.0076021803253543685, \"t (event index)\": -11, \"type\": \"Mean\"}, {\"Shapley Value\": 0.013675806063286472, \"t (event index)\": -10, \"type\": \"Mean\"}, {\"Shapley Value\": 0.017059165534468776, \"t (event index)\": -9, \"type\": \"Mean\"}, {\"Shapley Value\": 0.03425347958127978, \"t (event index)\": -8, \"type\": \"Mean\"}, {\"Shapley Value\": 0.045651431193988554, \"t (event index)\": -7, \"type\": \"Mean\"}, {\"Shapley Value\": 0.045482249481901396, \"t (event index)\": -6, \"type\": \"Mean\"}, {\"Shapley Value\": 0.031993707088829676, \"t (event index)\": -5, \"type\": \"Mean\"}, {\"Shapley Value\": 0.0713097733111287, \"t (event index)\": -4, \"type\": \"Mean\"}, {\"Shapley Value\": 0.08153130416020424, \"t (event index)\": -3, \"type\": \"Mean\"}, {\"Shapley Value\": 0.09115363917305533, \"t (event index)\": -2, \"type\": \"Mean\"}, {\"Shapley Value\": 0.10578026827676376, \"t (event index)\": -1, \"type\": \"Mean\"}, {\"Shapley Value\": 0.06305943705265526, \"t (event index)\": 0, \"type\": \"Mean\"}], \"data-989f313f545ed270884f000d366ed934\": [{\"Shapley Value\": 0.5291109152670412, \"Feature\": \"Mean Chest <-> Right Ankle\", \"type\": \"Shapley Value\"}, {\"Shapley Value\": 0.08609733201918152, \"Feature\": \"STD Chest <-> Right Ankle\", \"type\": \"Shapley Value\"}, {\"Shapley Value\": 0.015532654701244486, \"Feature\": \"Mean Chest <-> Left Ankle\", \"type\": \"Shapley Value\"}, {\"Shapley Value\": -0.09101187469703792, \"Feature\": \"STD Chest <-> Left Ankle\", \"type\": \"Shapley Value\"}, {\"Shapley Value\": -0.04121238323194634, \"Feature\": \"Mean Right Ankle <-> Left Ankle\", \"type\": \"Shapley Value\"}, {\"Shapley Value\": 0.007343848723740776, \"Feature\": \"STD Right Ankle <-> Left Ankle\", \"type\": \"Shapley Value\"}, {\"Shapley Value\": 0.05340718458450966, \"Feature\": \"Pruned Events\", \"type\": \"Shapley Value\"}, {\"Shapley Value\": 0.6273333588703753, \"Feature\": \"Mean Chest <-> Right Ankle\", \"type\": \"Shapley Value\"}, {\"Shapley Value\": 0.13205441169085957, \"Feature\": \"STD Chest <-> Right Ankle\", \"type\": \"Shapley Value\"}, {\"Shapley Value\": 0.009068952323425639, \"Feature\": \"Mean Chest <-> Left Ankle\", \"type\": \"Shapley Value\"}, {\"Shapley Value\": -0.055651854156028746, \"Feature\": \"STD Chest <-> Left Ankle\", \"type\": \"Shapley Value\"}, {\"Shapley Value\": 0.0013252122416382572, \"Feature\": \"Mean Right Ankle <-> Left Ankle\", \"type\": \"Shapley Value\"}, {\"Shapley Value\": 0.005661305111079151, \"Feature\": \"STD Right Ankle <-> Left Ankle\", \"type\": \"Shapley Value\"}, {\"Shapley Value\": 0.030068997488845062, \"Feature\": \"Pruned Events\", \"type\": \"Shapley Value\"}, {\"Shapley Value\": 0.5842126701736727, \"Feature\": \"Mean Chest <-> Right Ankle\", \"type\": \"Shapley Value\"}, {\"Shapley Value\": 0.1295346685463476, \"Feature\": \"STD Chest <-> Right Ankle\", \"type\": \"Shapley Value\"}, {\"Shapley Value\": 0.013718802304495181, \"Feature\": \"Mean Chest <-> Left Ankle\", \"type\": \"Shapley Value\"}, {\"Shapley Value\": -0.04429547878957929, \"Feature\": \"STD Chest <-> Left Ankle\", \"type\": \"Shapley Value\"}, {\"Shapley Value\": -0.001954442440044335, \"Feature\": \"Mean Right Ankle <-> Left Ankle\", \"type\": \"Shapley Value\"}, {\"Shapley Value\": 0.0549166044309026, \"Feature\": \"STD Right Ankle <-> Left Ankle\", \"type\": \"Shapley Value\"}, {\"Shapley Value\": 0.04994214941703157, \"Feature\": \"Pruned Events\", \"type\": \"Shapley Value\"}, {\"Shapley Value\": 0.5400002871418275, \"Feature\": \"Mean Chest <-> Right Ankle\", \"type\": \"Shapley Value\"}, {\"Shapley Value\": 0.1305043169075535, \"Feature\": \"STD Chest <-> Right Ankle\", \"type\": \"Shapley Value\"}, {\"Shapley Value\": 0.01707744133614375, \"Feature\": \"Mean Chest <-> Left Ankle\", \"type\": \"Shapley Value\"}, {\"Shapley Value\": -0.06392995087163783, \"Feature\": \"STD Chest <-> Left Ankle\", \"type\": \"Shapley Value\"}, {\"Shapley Value\": -0.023644670524767347, \"Feature\": \"Mean Right Ankle <-> Left Ankle\", \"type\": \"Shapley Value\"}, {\"Shapley Value\": 0.055059373698064296, \"Feature\": \"STD Right Ankle <-> Left Ankle\", \"type\": \"Shapley Value\"}, {\"Shapley Value\": 0.026960817919601032, \"Feature\": \"Pruned Events\", \"type\": \"Shapley Value\"}, {\"Shapley Value\": 0.04009478735249683, \"Feature\": \"Pruned Events\", \"type\": \"Mean\"}, {\"Shapley Value\": 0.5701643078632292, \"Feature\": \"Mean Chest <-> Right Ankle\", \"type\": \"Mean\"}, {\"Shapley Value\": 0.013849462666327264, \"Feature\": \"Mean Chest <-> Left Ankle\", \"type\": \"Mean\"}, {\"Shapley Value\": -0.016371570988779942, \"Feature\": \"Mean Right Ankle <-> Left Ankle\", \"type\": \"Mean\"}, {\"Shapley Value\": 0.11954768229098556, \"Feature\": \"STD Chest <-> Right Ankle\", \"type\": \"Mean\"}, {\"Shapley Value\": -0.06372228962857095, \"Feature\": \"STD Chest <-> Left Ankle\", \"type\": \"Mean\"}, {\"Shapley Value\": 0.030745282990946705, \"Feature\": \"STD Right Ankle <-> Left Ankle\", \"type\": \"Mean\"}]}}, {\"mode\": \"vega-lite\"});\n",
       "</script>"
      ],
      "text/plain": [
       "alt.VConcatChart(...)"
      ]
     },
     "execution_count": 30,
     "metadata": {},
     "output_type": "execute_result"
    }
   ],
   "source": [
    "global_plot"
   ]
  },
  {
   "cell_type": "code",
   "execution_count": null,
   "id": "33be0e45",
   "metadata": {},
   "outputs": [],
   "source": []
  }
 ],
 "metadata": {
  "kernelspec": {
   "display_name": "Python 3",
   "language": "python",
   "name": "python3"
  },
  "language_info": {
   "codemirror_mode": {
    "name": "ipython",
    "version": 3
   },
   "file_extension": ".py",
   "mimetype": "text/x-python",
   "name": "python",
   "nbconvert_exporter": "python",
   "pygments_lexer": "ipython3",
   "version": "3.7.7"
  }
 },
 "nbformat": 4,
 "nbformat_minor": 5
}
